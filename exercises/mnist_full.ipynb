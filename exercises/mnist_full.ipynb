{
  "nbformat": 4,
  "nbformat_minor": 0,
  "metadata": {
    "kernelspec": {
      "display_name": "Python 3",
      "language": "python",
      "name": "python3"
    },
    "language_info": {
      "codemirror_mode": {
        "name": "ipython",
        "version": 3
      },
      "file_extension": ".py",
      "mimetype": "text/x-python",
      "name": "python",
      "nbconvert_exporter": "python",
      "pygments_lexer": "ipython3",
      "version": "3.6.8"
    },
    "colab": {
      "name": "mnist_full.ipynb",
      "provenance": []
    },
    "accelerator": "GPU"
  },
  "cells": [
    {
      "cell_type": "markdown",
      "metadata": {
        "id": "4Fdg4uRdgnlp"
      },
      "source": [
        "# Full MNIST exercise\n",
        "Here is where I try to run the full exercise of classifying the MNIST dataset!"
      ]
    },
    {
      "cell_type": "code",
      "metadata": {
        "id": "PyDHGbGXgXOF",
        "outputId": "6b0f1b63-0036-4fd7-c613-58c473c17f70",
        "colab": {
          "base_uri": "https://localhost:8080/"
        }
      },
      "source": [
        "!pip install -Uqq fastbook\n",
        "import fastbook\n",
        "fastbook.setup_book()"
      ],
      "execution_count": 1,
      "outputs": [
        {
          "output_type": "stream",
          "text": [
            "\u001b[K     |████████████████████████████████| 727kB 11.0MB/s \n",
            "\u001b[K     |████████████████████████████████| 51kB 8.3MB/s \n",
            "\u001b[K     |████████████████████████████████| 1.1MB 54.5MB/s \n",
            "\u001b[K     |████████████████████████████████| 194kB 51.6MB/s \n",
            "\u001b[K     |████████████████████████████████| 61kB 9.6MB/s \n",
            "\u001b[?25hMounted at /content/gdrive\n"
          ],
          "name": "stdout"
        }
      ]
    },
    {
      "cell_type": "code",
      "metadata": {
        "id": "5WWOwAXCgY83"
      },
      "source": [
        "from fastai.vision.all import *\n",
        "from fastbook import *\n",
        "\n",
        "matplotlib.rc('image', cmap='Greys')"
      ],
      "execution_count": 2,
      "outputs": []
    },
    {
      "cell_type": "markdown",
      "metadata": {
        "id": "754YI8x7hDn8"
      },
      "source": [
        "## Get the data\n",
        "Should be fairly simple to get the data from the built in tools :)"
      ]
    },
    {
      "cell_type": "code",
      "metadata": {
        "id": "zR_XVkQmglhN",
        "outputId": "00b6e2e0-1d0f-48c1-f52c-6d31a0bffc09",
        "colab": {
          "base_uri": "https://localhost:8080/",
          "height": 17
        }
      },
      "source": [
        "path = untar_data(URLs.MNIST)"
      ],
      "execution_count": 3,
      "outputs": [
        {
          "output_type": "display_data",
          "data": {
            "text/html": [
              ""
            ],
            "text/plain": [
              "<IPython.core.display.HTML object>"
            ]
          },
          "metadata": {
            "tags": []
          }
        }
      ]
    },
    {
      "cell_type": "code",
      "metadata": {
        "id": "FG6H_HhCg9k0",
        "outputId": "7468bd58-2591-4fe9-9b15-1c2c50d9234b",
        "colab": {
          "base_uri": "https://localhost:8080/"
        }
      },
      "source": [
        "path.ls()"
      ],
      "execution_count": 28,
      "outputs": [
        {
          "output_type": "execute_result",
          "data": {
            "text/plain": [
              "(#2) [Path('/root/.fastai/data/mnist_png/testing'),Path('/root/.fastai/data/mnist_png/training')]"
            ]
          },
          "metadata": {
            "tags": []
          },
          "execution_count": 28
        }
      ]
    },
    {
      "cell_type": "code",
      "metadata": {
        "id": "Wxan8w9phC6c",
        "outputId": "6d5f40b9-4a54-437f-805d-40fb5c44217e",
        "colab": {
          "base_uri": "https://localhost:8080/"
        }
      },
      "source": [
        "(path/'training'/'9').ls()"
      ],
      "execution_count": 10,
      "outputs": [
        {
          "output_type": "execute_result",
          "data": {
            "text/plain": [
              "(#5949) [Path('/root/.fastai/data/mnist_png/training/9/26612.png'),Path('/root/.fastai/data/mnist_png/training/9/36181.png'),Path('/root/.fastai/data/mnist_png/training/9/23617.png'),Path('/root/.fastai/data/mnist_png/training/9/5874.png'),Path('/root/.fastai/data/mnist_png/training/9/58112.png'),Path('/root/.fastai/data/mnist_png/training/9/53370.png'),Path('/root/.fastai/data/mnist_png/training/9/32878.png'),Path('/root/.fastai/data/mnist_png/training/9/31325.png'),Path('/root/.fastai/data/mnist_png/training/9/23329.png'),Path('/root/.fastai/data/mnist_png/training/9/30987.png')...]"
            ]
          },
          "metadata": {
            "tags": []
          },
          "execution_count": 10
        }
      ]
    },
    {
      "cell_type": "code",
      "metadata": {
        "id": "t2-H0bq8hSH_",
        "outputId": "fba13c0f-2fcd-4a63-cfb0-8351ab0f0cb5",
        "colab": {
          "base_uri": "https://localhost:8080/",
          "height": 45
        }
      },
      "source": [
        "Image.open((path/'training'/'5').ls().sorted()[0])"
      ],
      "execution_count": 8,
      "outputs": [
        {
          "output_type": "execute_result",
          "data": {
            "image/png": "[encoded data removed]",
            "text/plain": [
              "<PIL.PngImagePlugin.PngImageFile image mode=L size=28x28 at 0x7FB9FB99E898>"
            ]
          },
          "metadata": {
            "tags": []
          },
          "execution_count": 8
        }
      ]
    },
    {
      "cell_type": "markdown",
      "metadata": {
        "id": "E3MMCuLkh-EM"
      },
      "source": [
        "## Baseline\n",
        "As suggested in the `04_mnist_basics` notebook, we need a baseline model. I will use the same \"pixel similarity\" approach as used there."
      ]
    },
    {
      "cell_type": "code",
      "metadata": {
        "id": "tBq-QJ9_i8Ld"
      },
      "source": [
        "def loadData(kind, number):\n",
        "  '''\n",
        "  load data of a given kind (training/validation) for a given number\n",
        "  '''\n",
        "\n",
        "  data = (path/kind/str(number)).ls().sorted()\n",
        "\n",
        "  tensors = [ tensor(Image.open(o)) for o in data ]\n",
        "\n",
        "  stack = torch.stack(tensors).float()/225\n",
        "\n",
        "  return stack"
      ],
      "execution_count": 18,
      "outputs": []
    },
    {
      "cell_type": "code",
      "metadata": {
        "id": "WfylShxgiZ43"
      },
      "source": [
        "numbers = range(10)"
      ],
      "execution_count": 19,
      "outputs": []
    },
    {
      "cell_type": "code",
      "metadata": {
        "id": "yQ2cJNgziqD5"
      },
      "source": [
        "train_data = {}\n",
        "valid_data = {}\n",
        "for k in numbers:\n",
        "  train_data[k] = loadData('training', k)\n",
        "  valid_data[k] = loadData('testing', k)"
      ],
      "execution_count": 29,
      "outputs": []
    },
    {
      "cell_type": "code",
      "metadata": {
        "id": "9olecbh_j3au",
        "outputId": "7d89693c-07ef-4511-9b37-e93b9c6309ce",
        "colab": {
          "base_uri": "https://localhost:8080/"
        }
      },
      "source": [
        "train_data.keys()"
      ],
      "execution_count": 21,
      "outputs": [
        {
          "output_type": "execute_result",
          "data": {
            "text/plain": [
              "dict_keys([0, 1, 2, 3, 4, 5, 6, 7, 8, 9])"
            ]
          },
          "metadata": {
            "tags": []
          },
          "execution_count": 21
        }
      ]
    },
    {
      "cell_type": "code",
      "metadata": {
        "id": "noL9_soIkbgb",
        "outputId": "742f389c-eadf-4f02-e16a-cdf557b1844d",
        "colab": {
          "base_uri": "https://localhost:8080/",
          "height": 628
        }
      },
      "source": [
        "pd.DataFrame((train_data[8][0]*255).int()).style.set_properties(**{'font_size': '6pt'}).background_gradient('Greys')"
      ],
      "execution_count": 144,
      "outputs": [
        {
          "output_type": "execute_result",
          "data": {
            "text/html": [
              "<style  type=\"text/css\" >\n",
              "#T_444b327a_49e2_11eb_8483_0242ac1c0002row0_col0,#T_444b327a_49e2_11eb_8483_0242ac1c0002row0_col1,#T_444b327a_49e2_11eb_8483_0242ac1c0002row0_col2,#T_444b327a_49e2_11eb_8483_0242ac1c0002row0_col3,#T_444b327a_49e2_11eb_8483_0242ac1c0002row0_col4,#T_444b327a_49e2_11eb_8483_0242ac1c0002row0_col5,#T_444b327a_49e2_11eb_8483_0242ac1c0002row0_col6,#T_444b327a_49e2_11eb_8483_0242ac1c0002row0_col7,#T_444b327a_49e2_11eb_8483_0242ac1c0002row0_col8,#T_444b327a_49e2_11eb_8483_0242ac1c0002row0_col9,#T_444b327a_49e2_11eb_8483_0242ac1c0002row0_col10,#T_444b327a_49e2_11eb_8483_0242ac1c0002row0_col11,#T_444b327a_49e2_11eb_8483_0242ac1c0002row0_col12,#T_444b327a_49e2_11eb_8483_0242ac1c0002row0_col13,#T_444b327a_49e2_11eb_8483_0242ac1c0002row0_col14,#T_444b327a_49e2_11eb_8483_0242ac1c0002row0_col15,#T_444b327a_49e2_11eb_8483_0242ac1c0002row0_col16,#T_444b327a_49e2_11eb_8483_0242ac1c0002row0_col17,#T_444b327a_49e2_11eb_8483_0242ac1c0002row0_col18,#T_444b327a_49e2_11eb_8483_0242ac1c0002row0_col19,#T_444b327a_49e2_11eb_8483_0242ac1c0002row0_col20,#T_444b327a_49e2_11eb_8483_0242ac1c0002row0_col21,#T_444b327a_49e2_11eb_8483_0242ac1c0002row0_col22,#T_444b327a_49e2_11eb_8483_0242ac1c0002row0_col23,#T_444b327a_49e2_11eb_8483_0242ac1c0002row0_col24,#T_444b327a_49e2_11eb_8483_0242ac1c0002row0_col25,#T_444b327a_49e2_11eb_8483_0242ac1c0002row0_col26,#T_444b327a_49e2_11eb_8483_0242ac1c0002row0_col27,#T_444b327a_49e2_11eb_8483_0242ac1c0002row1_col0,#T_444b327a_49e2_11eb_8483_0242ac1c0002row1_col1,#T_444b327a_49e2_11eb_8483_0242ac1c0002row1_col2,#T_444b327a_49e2_11eb_8483_0242ac1c0002row1_col3,#T_444b327a_49e2_11eb_8483_0242ac1c0002row1_col4,#T_444b327a_49e2_11eb_8483_0242ac1c0002row1_col5,#T_444b327a_49e2_11eb_8483_0242ac1c0002row1_col6,#T_444b327a_49e2_11eb_8483_0242ac1c0002row1_col7,#T_444b327a_49e2_11eb_8483_0242ac1c0002row1_col8,#T_444b327a_49e2_11eb_8483_0242ac1c0002row1_col9,#T_444b327a_49e2_11eb_8483_0242ac1c0002row1_col10,#T_444b327a_49e2_11eb_8483_0242ac1c0002row1_col11,#T_444b327a_49e2_11eb_8483_0242ac1c0002row1_col12,#T_444b327a_49e2_11eb_8483_0242ac1c0002row1_col13,#T_444b327a_49e2_11eb_8483_0242ac1c0002row1_col14,#T_444b327a_49e2_11eb_8483_0242ac1c0002row1_col15,#T_444b327a_49e2_11eb_8483_0242ac1c0002row1_col16,#T_444b327a_49e2_11eb_8483_0242ac1c0002row1_col17,#T_444b327a_49e2_11eb_8483_0242ac1c0002row1_col18,#T_444b327a_49e2_11eb_8483_0242ac1c0002row1_col19,#T_444b327a_49e2_11eb_8483_0242ac1c0002row1_col20,#T_444b327a_49e2_11eb_8483_0242ac1c0002row1_col21,#T_444b327a_49e2_11eb_8483_0242ac1c0002row1_col22,#T_444b327a_49e2_11eb_8483_0242ac1c0002row1_col23,#T_444b327a_49e2_11eb_8483_0242ac1c0002row1_col24,#T_444b327a_49e2_11eb_8483_0242ac1c0002row1_col25,#T_444b327a_49e2_11eb_8483_0242ac1c0002row1_col26,#T_444b327a_49e2_11eb_8483_0242ac1c0002row1_col27,#T_444b327a_49e2_11eb_8483_0242ac1c0002row2_col0,#T_444b327a_49e2_11eb_8483_0242ac1c0002row2_col1,#T_444b327a_49e2_11eb_8483_0242ac1c0002row2_col2,#T_444b327a_49e2_11eb_8483_0242ac1c0002row2_col3,#T_444b327a_49e2_11eb_8483_0242ac1c0002row2_col4,#T_444b327a_49e2_11eb_8483_0242ac1c0002row2_col5,#T_444b327a_49e2_11eb_8483_0242ac1c0002row2_col6,#T_444b327a_49e2_11eb_8483_0242ac1c0002row2_col7,#T_444b327a_49e2_11eb_8483_0242ac1c0002row2_col8,#T_444b327a_49e2_11eb_8483_0242ac1c0002row2_col9,#T_444b327a_49e2_11eb_8483_0242ac1c0002row2_col10,#T_444b327a_49e2_11eb_8483_0242ac1c0002row2_col11,#T_444b327a_49e2_11eb_8483_0242ac1c0002row2_col12,#T_444b327a_49e2_11eb_8483_0242ac1c0002row2_col13,#T_444b327a_49e2_11eb_8483_0242ac1c0002row2_col14,#T_444b327a_49e2_11eb_8483_0242ac1c0002row2_col15,#T_444b327a_49e2_11eb_8483_0242ac1c0002row2_col16,#T_444b327a_49e2_11eb_8483_0242ac1c0002row2_col17,#T_444b327a_49e2_11eb_8483_0242ac1c0002row2_col18,#T_444b327a_49e2_11eb_8483_0242ac1c0002row2_col19,#T_444b327a_49e2_11eb_8483_0242ac1c0002row2_col20,#T_444b327a_49e2_11eb_8483_0242ac1c0002row2_col21,#T_444b327a_49e2_11eb_8483_0242ac1c0002row2_col22,#T_444b327a_49e2_11eb_8483_0242ac1c0002row2_col23,#T_444b327a_49e2_11eb_8483_0242ac1c0002row2_col24,#T_444b327a_49e2_11eb_8483_0242ac1c0002row2_col25,#T_444b327a_49e2_11eb_8483_0242ac1c0002row2_col26,#T_444b327a_49e2_11eb_8483_0242ac1c0002row2_col27,#T_444b327a_49e2_11eb_8483_0242ac1c0002row3_col0,#T_444b327a_49e2_11eb_8483_0242ac1c0002row3_col1,#T_444b327a_49e2_11eb_8483_0242ac1c0002row3_col2,#T_444b327a_49e2_11eb_8483_0242ac1c0002row3_col3,#T_444b327a_49e2_11eb_8483_0242ac1c0002row3_col4,#T_444b327a_49e2_11eb_8483_0242ac1c0002row3_col5,#T_444b327a_49e2_11eb_8483_0242ac1c0002row3_col6,#T_444b327a_49e2_11eb_8483_0242ac1c0002row3_col7,#T_444b327a_49e2_11eb_8483_0242ac1c0002row3_col8,#T_444b327a_49e2_11eb_8483_0242ac1c0002row3_col9,#T_444b327a_49e2_11eb_8483_0242ac1c0002row3_col10,#T_444b327a_49e2_11eb_8483_0242ac1c0002row3_col11,#T_444b327a_49e2_11eb_8483_0242ac1c0002row3_col12,#T_444b327a_49e2_11eb_8483_0242ac1c0002row3_col13,#T_444b327a_49e2_11eb_8483_0242ac1c0002row3_col14,#T_444b327a_49e2_11eb_8483_0242ac1c0002row3_col15,#T_444b327a_49e2_11eb_8483_0242ac1c0002row3_col16,#T_444b327a_49e2_11eb_8483_0242ac1c0002row3_col17,#T_444b327a_49e2_11eb_8483_0242ac1c0002row3_col18,#T_444b327a_49e2_11eb_8483_0242ac1c0002row3_col19,#T_444b327a_49e2_11eb_8483_0242ac1c0002row3_col20,#T_444b327a_49e2_11eb_8483_0242ac1c0002row3_col21,#T_444b327a_49e2_11eb_8483_0242ac1c0002row3_col22,#T_444b327a_49e2_11eb_8483_0242ac1c0002row3_col23,#T_444b327a_49e2_11eb_8483_0242ac1c0002row3_col24,#T_444b327a_49e2_11eb_8483_0242ac1c0002row3_col25,#T_444b327a_49e2_11eb_8483_0242ac1c0002row3_col26,#T_444b327a_49e2_11eb_8483_0242ac1c0002row3_col27,#T_444b327a_49e2_11eb_8483_0242ac1c0002row4_col0,#T_444b327a_49e2_11eb_8483_0242ac1c0002row4_col1,#T_444b327a_49e2_11eb_8483_0242ac1c0002row4_col2,#T_444b327a_49e2_11eb_8483_0242ac1c0002row4_col3,#T_444b327a_49e2_11eb_8483_0242ac1c0002row4_col4,#T_444b327a_49e2_11eb_8483_0242ac1c0002row4_col5,#T_444b327a_49e2_11eb_8483_0242ac1c0002row4_col6,#T_444b327a_49e2_11eb_8483_0242ac1c0002row4_col7,#T_444b327a_49e2_11eb_8483_0242ac1c0002row4_col8,#T_444b327a_49e2_11eb_8483_0242ac1c0002row4_col9,#T_444b327a_49e2_11eb_8483_0242ac1c0002row4_col10,#T_444b327a_49e2_11eb_8483_0242ac1c0002row4_col11,#T_444b327a_49e2_11eb_8483_0242ac1c0002row4_col12,#T_444b327a_49e2_11eb_8483_0242ac1c0002row4_col13,#T_444b327a_49e2_11eb_8483_0242ac1c0002row4_col14,#T_444b327a_49e2_11eb_8483_0242ac1c0002row4_col15,#T_444b327a_49e2_11eb_8483_0242ac1c0002row4_col16,#T_444b327a_49e2_11eb_8483_0242ac1c0002row4_col21,#T_444b327a_49e2_11eb_8483_0242ac1c0002row4_col22,#T_444b327a_49e2_11eb_8483_0242ac1c0002row4_col23,#T_444b327a_49e2_11eb_8483_0242ac1c0002row4_col24,#T_444b327a_49e2_11eb_8483_0242ac1c0002row4_col25,#T_444b327a_49e2_11eb_8483_0242ac1c0002row4_col26,#T_444b327a_49e2_11eb_8483_0242ac1c0002row4_col27,#T_444b327a_49e2_11eb_8483_0242ac1c0002row5_col0,#T_444b327a_49e2_11eb_8483_0242ac1c0002row5_col1,#T_444b327a_49e2_11eb_8483_0242ac1c0002row5_col2,#T_444b327a_49e2_11eb_8483_0242ac1c0002row5_col3,#T_444b327a_49e2_11eb_8483_0242ac1c0002row5_col4,#T_444b327a_49e2_11eb_8483_0242ac1c0002row5_col5,#T_444b327a_49e2_11eb_8483_0242ac1c0002row5_col6,#T_444b327a_49e2_11eb_8483_0242ac1c0002row5_col7,#T_444b327a_49e2_11eb_8483_0242ac1c0002row5_col8,#T_444b327a_49e2_11eb_8483_0242ac1c0002row5_col9,#T_444b327a_49e2_11eb_8483_0242ac1c0002row5_col10,#T_444b327a_49e2_11eb_8483_0242ac1c0002row5_col11,#T_444b327a_49e2_11eb_8483_0242ac1c0002row5_col12,#T_444b327a_49e2_11eb_8483_0242ac1c0002row5_col13,#T_444b327a_49e2_11eb_8483_0242ac1c0002row5_col14,#T_444b327a_49e2_11eb_8483_0242ac1c0002row5_col15,#T_444b327a_49e2_11eb_8483_0242ac1c0002row5_col21,#T_444b327a_49e2_11eb_8483_0242ac1c0002row5_col22,#T_444b327a_49e2_11eb_8483_0242ac1c0002row5_col23,#T_444b327a_49e2_11eb_8483_0242ac1c0002row5_col24,#T_444b327a_49e2_11eb_8483_0242ac1c0002row5_col25,#T_444b327a_49e2_11eb_8483_0242ac1c0002row5_col26,#T_444b327a_49e2_11eb_8483_0242ac1c0002row5_col27,#T_444b327a_49e2_11eb_8483_0242ac1c0002row6_col0,#T_444b327a_49e2_11eb_8483_0242ac1c0002row6_col1,#T_444b327a_49e2_11eb_8483_0242ac1c0002row6_col2,#T_444b327a_49e2_11eb_8483_0242ac1c0002row6_col3,#T_444b327a_49e2_11eb_8483_0242ac1c0002row6_col4,#T_444b327a_49e2_11eb_8483_0242ac1c0002row6_col5,#T_444b327a_49e2_11eb_8483_0242ac1c0002row6_col6,#T_444b327a_49e2_11eb_8483_0242ac1c0002row6_col7,#T_444b327a_49e2_11eb_8483_0242ac1c0002row6_col8,#T_444b327a_49e2_11eb_8483_0242ac1c0002row6_col9,#T_444b327a_49e2_11eb_8483_0242ac1c0002row6_col10,#T_444b327a_49e2_11eb_8483_0242ac1c0002row6_col11,#T_444b327a_49e2_11eb_8483_0242ac1c0002row6_col12,#T_444b327a_49e2_11eb_8483_0242ac1c0002row6_col13,#T_444b327a_49e2_11eb_8483_0242ac1c0002row6_col14,#T_444b327a_49e2_11eb_8483_0242ac1c0002row6_col20,#T_444b327a_49e2_11eb_8483_0242ac1c0002row6_col22,#T_444b327a_49e2_11eb_8483_0242ac1c0002row6_col23,#T_444b327a_49e2_11eb_8483_0242ac1c0002row6_col24,#T_444b327a_49e2_11eb_8483_0242ac1c0002row6_col25,#T_444b327a_49e2_11eb_8483_0242ac1c0002row6_col26,#T_444b327a_49e2_11eb_8483_0242ac1c0002row6_col27,#T_444b327a_49e2_11eb_8483_0242ac1c0002row7_col0,#T_444b327a_49e2_11eb_8483_0242ac1c0002row7_col1,#T_444b327a_49e2_11eb_8483_0242ac1c0002row7_col2,#T_444b327a_49e2_11eb_8483_0242ac1c0002row7_col3,#T_444b327a_49e2_11eb_8483_0242ac1c0002row7_col4,#T_444b327a_49e2_11eb_8483_0242ac1c0002row7_col5,#T_444b327a_49e2_11eb_8483_0242ac1c0002row7_col6,#T_444b327a_49e2_11eb_8483_0242ac1c0002row7_col7,#T_444b327a_49e2_11eb_8483_0242ac1c0002row7_col8,#T_444b327a_49e2_11eb_8483_0242ac1c0002row7_col9,#T_444b327a_49e2_11eb_8483_0242ac1c0002row7_col10,#T_444b327a_49e2_11eb_8483_0242ac1c0002row7_col11,#T_444b327a_49e2_11eb_8483_0242ac1c0002row7_col12,#T_444b327a_49e2_11eb_8483_0242ac1c0002row7_col13,#T_444b327a_49e2_11eb_8483_0242ac1c0002row7_col23,#T_444b327a_49e2_11eb_8483_0242ac1c0002row7_col24,#T_444b327a_49e2_11eb_8483_0242ac1c0002row7_col25,#T_444b327a_49e2_11eb_8483_0242ac1c0002row7_col26,#T_444b327a_49e2_11eb_8483_0242ac1c0002row7_col27,#T_444b327a_49e2_11eb_8483_0242ac1c0002row8_col0,#T_444b327a_49e2_11eb_8483_0242ac1c0002row8_col1,#T_444b327a_49e2_11eb_8483_0242ac1c0002row8_col2,#T_444b327a_49e2_11eb_8483_0242ac1c0002row8_col3,#T_444b327a_49e2_11eb_8483_0242ac1c0002row8_col4,#T_444b327a_49e2_11eb_8483_0242ac1c0002row8_col5,#T_444b327a_49e2_11eb_8483_0242ac1c0002row8_col6,#T_444b327a_49e2_11eb_8483_0242ac1c0002row8_col7,#T_444b327a_49e2_11eb_8483_0242ac1c0002row8_col8,#T_444b327a_49e2_11eb_8483_0242ac1c0002row8_col9,#T_444b327a_49e2_11eb_8483_0242ac1c0002row8_col10,#T_444b327a_49e2_11eb_8483_0242ac1c0002row8_col11,#T_444b327a_49e2_11eb_8483_0242ac1c0002row8_col12,#T_444b327a_49e2_11eb_8483_0242ac1c0002row8_col13,#T_444b327a_49e2_11eb_8483_0242ac1c0002row8_col23,#T_444b327a_49e2_11eb_8483_0242ac1c0002row8_col24,#T_444b327a_49e2_11eb_8483_0242ac1c0002row8_col25,#T_444b327a_49e2_11eb_8483_0242ac1c0002row8_col26,#T_444b327a_49e2_11eb_8483_0242ac1c0002row8_col27,#T_444b327a_49e2_11eb_8483_0242ac1c0002row9_col0,#T_444b327a_49e2_11eb_8483_0242ac1c0002row9_col1,#T_444b327a_49e2_11eb_8483_0242ac1c0002row9_col2,#T_444b327a_49e2_11eb_8483_0242ac1c0002row9_col3,#T_444b327a_49e2_11eb_8483_0242ac1c0002row9_col4,#T_444b327a_49e2_11eb_8483_0242ac1c0002row9_col5,#T_444b327a_49e2_11eb_8483_0242ac1c0002row9_col6,#T_444b327a_49e2_11eb_8483_0242ac1c0002row9_col7,#T_444b327a_49e2_11eb_8483_0242ac1c0002row9_col8,#T_444b327a_49e2_11eb_8483_0242ac1c0002row9_col9,#T_444b327a_49e2_11eb_8483_0242ac1c0002row9_col10,#T_444b327a_49e2_11eb_8483_0242ac1c0002row9_col11,#T_444b327a_49e2_11eb_8483_0242ac1c0002row9_col12,#T_444b327a_49e2_11eb_8483_0242ac1c0002row9_col17,#T_444b327a_49e2_11eb_8483_0242ac1c0002row9_col23,#T_444b327a_49e2_11eb_8483_0242ac1c0002row9_col24,#T_444b327a_49e2_11eb_8483_0242ac1c0002row9_col25,#T_444b327a_49e2_11eb_8483_0242ac1c0002row9_col26,#T_444b327a_49e2_11eb_8483_0242ac1c0002row9_col27,#T_444b327a_49e2_11eb_8483_0242ac1c0002row10_col0,#T_444b327a_49e2_11eb_8483_0242ac1c0002row10_col1,#T_444b327a_49e2_11eb_8483_0242ac1c0002row10_col2,#T_444b327a_49e2_11eb_8483_0242ac1c0002row10_col3,#T_444b327a_49e2_11eb_8483_0242ac1c0002row10_col4,#T_444b327a_49e2_11eb_8483_0242ac1c0002row10_col5,#T_444b327a_49e2_11eb_8483_0242ac1c0002row10_col6,#T_444b327a_49e2_11eb_8483_0242ac1c0002row10_col7,#T_444b327a_49e2_11eb_8483_0242ac1c0002row10_col8,#T_444b327a_49e2_11eb_8483_0242ac1c0002row10_col9,#T_444b327a_49e2_11eb_8483_0242ac1c0002row10_col10,#T_444b327a_49e2_11eb_8483_0242ac1c0002row10_col11,#T_444b327a_49e2_11eb_8483_0242ac1c0002row10_col16,#T_444b327a_49e2_11eb_8483_0242ac1c0002row10_col23,#T_444b327a_49e2_11eb_8483_0242ac1c0002row10_col24,#T_444b327a_49e2_11eb_8483_0242ac1c0002row10_col25,#T_444b327a_49e2_11eb_8483_0242ac1c0002row10_col26,#T_444b327a_49e2_11eb_8483_0242ac1c0002row10_col27,#T_444b327a_49e2_11eb_8483_0242ac1c0002row11_col0,#T_444b327a_49e2_11eb_8483_0242ac1c0002row11_col1,#T_444b327a_49e2_11eb_8483_0242ac1c0002row11_col2,#T_444b327a_49e2_11eb_8483_0242ac1c0002row11_col3,#T_444b327a_49e2_11eb_8483_0242ac1c0002row11_col4,#T_444b327a_49e2_11eb_8483_0242ac1c0002row11_col5,#T_444b327a_49e2_11eb_8483_0242ac1c0002row11_col6,#T_444b327a_49e2_11eb_8483_0242ac1c0002row11_col7,#T_444b327a_49e2_11eb_8483_0242ac1c0002row11_col8,#T_444b327a_49e2_11eb_8483_0242ac1c0002row11_col9,#T_444b327a_49e2_11eb_8483_0242ac1c0002row11_col10,#T_444b327a_49e2_11eb_8483_0242ac1c0002row11_col11,#T_444b327a_49e2_11eb_8483_0242ac1c0002row11_col22,#T_444b327a_49e2_11eb_8483_0242ac1c0002row11_col23,#T_444b327a_49e2_11eb_8483_0242ac1c0002row11_col24,#T_444b327a_49e2_11eb_8483_0242ac1c0002row11_col25,#T_444b327a_49e2_11eb_8483_0242ac1c0002row11_col26,#T_444b327a_49e2_11eb_8483_0242ac1c0002row11_col27,#T_444b327a_49e2_11eb_8483_0242ac1c0002row12_col0,#T_444b327a_49e2_11eb_8483_0242ac1c0002row12_col1,#T_444b327a_49e2_11eb_8483_0242ac1c0002row12_col2,#T_444b327a_49e2_11eb_8483_0242ac1c0002row12_col3,#T_444b327a_49e2_11eb_8483_0242ac1c0002row12_col4,#T_444b327a_49e2_11eb_8483_0242ac1c0002row12_col5,#T_444b327a_49e2_11eb_8483_0242ac1c0002row12_col6,#T_444b327a_49e2_11eb_8483_0242ac1c0002row12_col7,#T_444b327a_49e2_11eb_8483_0242ac1c0002row12_col8,#T_444b327a_49e2_11eb_8483_0242ac1c0002row12_col9,#T_444b327a_49e2_11eb_8483_0242ac1c0002row12_col10,#T_444b327a_49e2_11eb_8483_0242ac1c0002row12_col11,#T_444b327a_49e2_11eb_8483_0242ac1c0002row12_col21,#T_444b327a_49e2_11eb_8483_0242ac1c0002row12_col22,#T_444b327a_49e2_11eb_8483_0242ac1c0002row12_col23,#T_444b327a_49e2_11eb_8483_0242ac1c0002row12_col24,#T_444b327a_49e2_11eb_8483_0242ac1c0002row12_col25,#T_444b327a_49e2_11eb_8483_0242ac1c0002row12_col26,#T_444b327a_49e2_11eb_8483_0242ac1c0002row12_col27,#T_444b327a_49e2_11eb_8483_0242ac1c0002row13_col0,#T_444b327a_49e2_11eb_8483_0242ac1c0002row13_col1,#T_444b327a_49e2_11eb_8483_0242ac1c0002row13_col2,#T_444b327a_49e2_11eb_8483_0242ac1c0002row13_col3,#T_444b327a_49e2_11eb_8483_0242ac1c0002row13_col4,#T_444b327a_49e2_11eb_8483_0242ac1c0002row13_col5,#T_444b327a_49e2_11eb_8483_0242ac1c0002row13_col6,#T_444b327a_49e2_11eb_8483_0242ac1c0002row13_col7,#T_444b327a_49e2_11eb_8483_0242ac1c0002row13_col8,#T_444b327a_49e2_11eb_8483_0242ac1c0002row13_col9,#T_444b327a_49e2_11eb_8483_0242ac1c0002row13_col10,#T_444b327a_49e2_11eb_8483_0242ac1c0002row13_col11,#T_444b327a_49e2_11eb_8483_0242ac1c0002row13_col20,#T_444b327a_49e2_11eb_8483_0242ac1c0002row13_col21,#T_444b327a_49e2_11eb_8483_0242ac1c0002row13_col22,#T_444b327a_49e2_11eb_8483_0242ac1c0002row13_col23,#T_444b327a_49e2_11eb_8483_0242ac1c0002row13_col24,#T_444b327a_49e2_11eb_8483_0242ac1c0002row13_col25,#T_444b327a_49e2_11eb_8483_0242ac1c0002row13_col26,#T_444b327a_49e2_11eb_8483_0242ac1c0002row13_col27,#T_444b327a_49e2_11eb_8483_0242ac1c0002row14_col0,#T_444b327a_49e2_11eb_8483_0242ac1c0002row14_col1,#T_444b327a_49e2_11eb_8483_0242ac1c0002row14_col2,#T_444b327a_49e2_11eb_8483_0242ac1c0002row14_col3,#T_444b327a_49e2_11eb_8483_0242ac1c0002row14_col4,#T_444b327a_49e2_11eb_8483_0242ac1c0002row14_col5,#T_444b327a_49e2_11eb_8483_0242ac1c0002row14_col6,#T_444b327a_49e2_11eb_8483_0242ac1c0002row14_col7,#T_444b327a_49e2_11eb_8483_0242ac1c0002row14_col8,#T_444b327a_49e2_11eb_8483_0242ac1c0002row14_col9,#T_444b327a_49e2_11eb_8483_0242ac1c0002row14_col10,#T_444b327a_49e2_11eb_8483_0242ac1c0002row14_col11,#T_444b327a_49e2_11eb_8483_0242ac1c0002row14_col18,#T_444b327a_49e2_11eb_8483_0242ac1c0002row14_col19,#T_444b327a_49e2_11eb_8483_0242ac1c0002row14_col20,#T_444b327a_49e2_11eb_8483_0242ac1c0002row14_col21,#T_444b327a_49e2_11eb_8483_0242ac1c0002row14_col22,#T_444b327a_49e2_11eb_8483_0242ac1c0002row14_col23,#T_444b327a_49e2_11eb_8483_0242ac1c0002row14_col24,#T_444b327a_49e2_11eb_8483_0242ac1c0002row14_col25,#T_444b327a_49e2_11eb_8483_0242ac1c0002row14_col26,#T_444b327a_49e2_11eb_8483_0242ac1c0002row14_col27,#T_444b327a_49e2_11eb_8483_0242ac1c0002row15_col0,#T_444b327a_49e2_11eb_8483_0242ac1c0002row15_col1,#T_444b327a_49e2_11eb_8483_0242ac1c0002row15_col2,#T_444b327a_49e2_11eb_8483_0242ac1c0002row15_col3,#T_444b327a_49e2_11eb_8483_0242ac1c0002row15_col4,#T_444b327a_49e2_11eb_8483_0242ac1c0002row15_col5,#T_444b327a_49e2_11eb_8483_0242ac1c0002row15_col6,#T_444b327a_49e2_11eb_8483_0242ac1c0002row15_col7,#T_444b327a_49e2_11eb_8483_0242ac1c0002row15_col8,#T_444b327a_49e2_11eb_8483_0242ac1c0002row15_col9,#T_444b327a_49e2_11eb_8483_0242ac1c0002row15_col10,#T_444b327a_49e2_11eb_8483_0242ac1c0002row15_col17,#T_444b327a_49e2_11eb_8483_0242ac1c0002row15_col18,#T_444b327a_49e2_11eb_8483_0242ac1c0002row15_col19,#T_444b327a_49e2_11eb_8483_0242ac1c0002row15_col20,#T_444b327a_49e2_11eb_8483_0242ac1c0002row15_col21,#T_444b327a_49e2_11eb_8483_0242ac1c0002row15_col22,#T_444b327a_49e2_11eb_8483_0242ac1c0002row15_col23,#T_444b327a_49e2_11eb_8483_0242ac1c0002row15_col24,#T_444b327a_49e2_11eb_8483_0242ac1c0002row15_col25,#T_444b327a_49e2_11eb_8483_0242ac1c0002row15_col26,#T_444b327a_49e2_11eb_8483_0242ac1c0002row15_col27,#T_444b327a_49e2_11eb_8483_0242ac1c0002row16_col0,#T_444b327a_49e2_11eb_8483_0242ac1c0002row16_col1,#T_444b327a_49e2_11eb_8483_0242ac1c0002row16_col2,#T_444b327a_49e2_11eb_8483_0242ac1c0002row16_col3,#T_444b327a_49e2_11eb_8483_0242ac1c0002row16_col4,#T_444b327a_49e2_11eb_8483_0242ac1c0002row16_col5,#T_444b327a_49e2_11eb_8483_0242ac1c0002row16_col6,#T_444b327a_49e2_11eb_8483_0242ac1c0002row16_col7,#T_444b327a_49e2_11eb_8483_0242ac1c0002row16_col8,#T_444b327a_49e2_11eb_8483_0242ac1c0002row16_col16,#T_444b327a_49e2_11eb_8483_0242ac1c0002row16_col17,#T_444b327a_49e2_11eb_8483_0242ac1c0002row16_col18,#T_444b327a_49e2_11eb_8483_0242ac1c0002row16_col19,#T_444b327a_49e2_11eb_8483_0242ac1c0002row16_col20,#T_444b327a_49e2_11eb_8483_0242ac1c0002row16_col21,#T_444b327a_49e2_11eb_8483_0242ac1c0002row16_col22,#T_444b327a_49e2_11eb_8483_0242ac1c0002row16_col23,#T_444b327a_49e2_11eb_8483_0242ac1c0002row16_col24,#T_444b327a_49e2_11eb_8483_0242ac1c0002row16_col25,#T_444b327a_49e2_11eb_8483_0242ac1c0002row16_col26,#T_444b327a_49e2_11eb_8483_0242ac1c0002row16_col27,#T_444b327a_49e2_11eb_8483_0242ac1c0002row17_col0,#T_444b327a_49e2_11eb_8483_0242ac1c0002row17_col1,#T_444b327a_49e2_11eb_8483_0242ac1c0002row17_col2,#T_444b327a_49e2_11eb_8483_0242ac1c0002row17_col3,#T_444b327a_49e2_11eb_8483_0242ac1c0002row17_col4,#T_444b327a_49e2_11eb_8483_0242ac1c0002row17_col5,#T_444b327a_49e2_11eb_8483_0242ac1c0002row17_col6,#T_444b327a_49e2_11eb_8483_0242ac1c0002row17_col7,#T_444b327a_49e2_11eb_8483_0242ac1c0002row17_col16,#T_444b327a_49e2_11eb_8483_0242ac1c0002row17_col17,#T_444b327a_49e2_11eb_8483_0242ac1c0002row17_col18,#T_444b327a_49e2_11eb_8483_0242ac1c0002row17_col19,#T_444b327a_49e2_11eb_8483_0242ac1c0002row17_col20,#T_444b327a_49e2_11eb_8483_0242ac1c0002row17_col21,#T_444b327a_49e2_11eb_8483_0242ac1c0002row17_col22,#T_444b327a_49e2_11eb_8483_0242ac1c0002row17_col23,#T_444b327a_49e2_11eb_8483_0242ac1c0002row17_col24,#T_444b327a_49e2_11eb_8483_0242ac1c0002row17_col25,#T_444b327a_49e2_11eb_8483_0242ac1c0002row17_col26,#T_444b327a_49e2_11eb_8483_0242ac1c0002row17_col27,#T_444b327a_49e2_11eb_8483_0242ac1c0002row18_col0,#T_444b327a_49e2_11eb_8483_0242ac1c0002row18_col1,#T_444b327a_49e2_11eb_8483_0242ac1c0002row18_col2,#T_444b327a_49e2_11eb_8483_0242ac1c0002row18_col3,#T_444b327a_49e2_11eb_8483_0242ac1c0002row18_col4,#T_444b327a_49e2_11eb_8483_0242ac1c0002row18_col5,#T_444b327a_49e2_11eb_8483_0242ac1c0002row18_col6,#T_444b327a_49e2_11eb_8483_0242ac1c0002row18_col7,#T_444b327a_49e2_11eb_8483_0242ac1c0002row18_col17,#T_444b327a_49e2_11eb_8483_0242ac1c0002row18_col18,#T_444b327a_49e2_11eb_8483_0242ac1c0002row18_col19,#T_444b327a_49e2_11eb_8483_0242ac1c0002row18_col20,#T_444b327a_49e2_11eb_8483_0242ac1c0002row18_col21,#T_444b327a_49e2_11eb_8483_0242ac1c0002row18_col22,#T_444b327a_49e2_11eb_8483_0242ac1c0002row18_col23,#T_444b327a_49e2_11eb_8483_0242ac1c0002row18_col24,#T_444b327a_49e2_11eb_8483_0242ac1c0002row18_col25,#T_444b327a_49e2_11eb_8483_0242ac1c0002row18_col26,#T_444b327a_49e2_11eb_8483_0242ac1c0002row18_col27,#T_444b327a_49e2_11eb_8483_0242ac1c0002row19_col0,#T_444b327a_49e2_11eb_8483_0242ac1c0002row19_col1,#T_444b327a_49e2_11eb_8483_0242ac1c0002row19_col2,#T_444b327a_49e2_11eb_8483_0242ac1c0002row19_col3,#T_444b327a_49e2_11eb_8483_0242ac1c0002row19_col4,#T_444b327a_49e2_11eb_8483_0242ac1c0002row19_col5,#T_444b327a_49e2_11eb_8483_0242ac1c0002row19_col6,#T_444b327a_49e2_11eb_8483_0242ac1c0002row19_col12,#T_444b327a_49e2_11eb_8483_0242ac1c0002row19_col13,#T_444b327a_49e2_11eb_8483_0242ac1c0002row19_col17,#T_444b327a_49e2_11eb_8483_0242ac1c0002row19_col18,#T_444b327a_49e2_11eb_8483_0242ac1c0002row19_col19,#T_444b327a_49e2_11eb_8483_0242ac1c0002row19_col20,#T_444b327a_49e2_11eb_8483_0242ac1c0002row19_col21,#T_444b327a_49e2_11eb_8483_0242ac1c0002row19_col22,#T_444b327a_49e2_11eb_8483_0242ac1c0002row19_col23,#T_444b327a_49e2_11eb_8483_0242ac1c0002row19_col24,#T_444b327a_49e2_11eb_8483_0242ac1c0002row19_col25,#T_444b327a_49e2_11eb_8483_0242ac1c0002row19_col26,#T_444b327a_49e2_11eb_8483_0242ac1c0002row19_col27,#T_444b327a_49e2_11eb_8483_0242ac1c0002row20_col0,#T_444b327a_49e2_11eb_8483_0242ac1c0002row20_col1,#T_444b327a_49e2_11eb_8483_0242ac1c0002row20_col2,#T_444b327a_49e2_11eb_8483_0242ac1c0002row20_col3,#T_444b327a_49e2_11eb_8483_0242ac1c0002row20_col4,#T_444b327a_49e2_11eb_8483_0242ac1c0002row20_col5,#T_444b327a_49e2_11eb_8483_0242ac1c0002row20_col6,#T_444b327a_49e2_11eb_8483_0242ac1c0002row20_col11,#T_444b327a_49e2_11eb_8483_0242ac1c0002row20_col12,#T_444b327a_49e2_11eb_8483_0242ac1c0002row20_col17,#T_444b327a_49e2_11eb_8483_0242ac1c0002row20_col18,#T_444b327a_49e2_11eb_8483_0242ac1c0002row20_col19,#T_444b327a_49e2_11eb_8483_0242ac1c0002row20_col20,#T_444b327a_49e2_11eb_8483_0242ac1c0002row20_col21,#T_444b327a_49e2_11eb_8483_0242ac1c0002row20_col22,#T_444b327a_49e2_11eb_8483_0242ac1c0002row20_col23,#T_444b327a_49e2_11eb_8483_0242ac1c0002row20_col24,#T_444b327a_49e2_11eb_8483_0242ac1c0002row20_col25,#T_444b327a_49e2_11eb_8483_0242ac1c0002row20_col26,#T_444b327a_49e2_11eb_8483_0242ac1c0002row20_col27,#T_444b327a_49e2_11eb_8483_0242ac1c0002row21_col0,#T_444b327a_49e2_11eb_8483_0242ac1c0002row21_col1,#T_444b327a_49e2_11eb_8483_0242ac1c0002row21_col2,#T_444b327a_49e2_11eb_8483_0242ac1c0002row21_col3,#T_444b327a_49e2_11eb_8483_0242ac1c0002row21_col4,#T_444b327a_49e2_11eb_8483_0242ac1c0002row21_col5,#T_444b327a_49e2_11eb_8483_0242ac1c0002row21_col6,#T_444b327a_49e2_11eb_8483_0242ac1c0002row21_col17,#T_444b327a_49e2_11eb_8483_0242ac1c0002row21_col18,#T_444b327a_49e2_11eb_8483_0242ac1c0002row21_col19,#T_444b327a_49e2_11eb_8483_0242ac1c0002row21_col20,#T_444b327a_49e2_11eb_8483_0242ac1c0002row21_col21,#T_444b327a_49e2_11eb_8483_0242ac1c0002row21_col22,#T_444b327a_49e2_11eb_8483_0242ac1c0002row21_col23,#T_444b327a_49e2_11eb_8483_0242ac1c0002row21_col24,#T_444b327a_49e2_11eb_8483_0242ac1c0002row21_col25,#T_444b327a_49e2_11eb_8483_0242ac1c0002row21_col26,#T_444b327a_49e2_11eb_8483_0242ac1c0002row21_col27,#T_444b327a_49e2_11eb_8483_0242ac1c0002row22_col0,#T_444b327a_49e2_11eb_8483_0242ac1c0002row22_col1,#T_444b327a_49e2_11eb_8483_0242ac1c0002row22_col2,#T_444b327a_49e2_11eb_8483_0242ac1c0002row22_col3,#T_444b327a_49e2_11eb_8483_0242ac1c0002row22_col4,#T_444b327a_49e2_11eb_8483_0242ac1c0002row22_col5,#T_444b327a_49e2_11eb_8483_0242ac1c0002row22_col6,#T_444b327a_49e2_11eb_8483_0242ac1c0002row22_col17,#T_444b327a_49e2_11eb_8483_0242ac1c0002row22_col18,#T_444b327a_49e2_11eb_8483_0242ac1c0002row22_col19,#T_444b327a_49e2_11eb_8483_0242ac1c0002row22_col20,#T_444b327a_49e2_11eb_8483_0242ac1c0002row22_col21,#T_444b327a_49e2_11eb_8483_0242ac1c0002row22_col22,#T_444b327a_49e2_11eb_8483_0242ac1c0002row22_col23,#T_444b327a_49e2_11eb_8483_0242ac1c0002row22_col24,#T_444b327a_49e2_11eb_8483_0242ac1c0002row22_col25,#T_444b327a_49e2_11eb_8483_0242ac1c0002row22_col26,#T_444b327a_49e2_11eb_8483_0242ac1c0002row22_col27,#T_444b327a_49e2_11eb_8483_0242ac1c0002row23_col0,#T_444b327a_49e2_11eb_8483_0242ac1c0002row23_col1,#T_444b327a_49e2_11eb_8483_0242ac1c0002row23_col2,#T_444b327a_49e2_11eb_8483_0242ac1c0002row23_col3,#T_444b327a_49e2_11eb_8483_0242ac1c0002row23_col4,#T_444b327a_49e2_11eb_8483_0242ac1c0002row23_col5,#T_444b327a_49e2_11eb_8483_0242ac1c0002row23_col6,#T_444b327a_49e2_11eb_8483_0242ac1c0002row23_col7,#T_444b327a_49e2_11eb_8483_0242ac1c0002row23_col16,#T_444b327a_49e2_11eb_8483_0242ac1c0002row23_col17,#T_444b327a_49e2_11eb_8483_0242ac1c0002row23_col18,#T_444b327a_49e2_11eb_8483_0242ac1c0002row23_col19,#T_444b327a_49e2_11eb_8483_0242ac1c0002row23_col20,#T_444b327a_49e2_11eb_8483_0242ac1c0002row23_col21,#T_444b327a_49e2_11eb_8483_0242ac1c0002row23_col22,#T_444b327a_49e2_11eb_8483_0242ac1c0002row23_col23,#T_444b327a_49e2_11eb_8483_0242ac1c0002row23_col24,#T_444b327a_49e2_11eb_8483_0242ac1c0002row23_col25,#T_444b327a_49e2_11eb_8483_0242ac1c0002row23_col26,#T_444b327a_49e2_11eb_8483_0242ac1c0002row23_col27,#T_444b327a_49e2_11eb_8483_0242ac1c0002row24_col0,#T_444b327a_49e2_11eb_8483_0242ac1c0002row24_col1,#T_444b327a_49e2_11eb_8483_0242ac1c0002row24_col2,#T_444b327a_49e2_11eb_8483_0242ac1c0002row24_col3,#T_444b327a_49e2_11eb_8483_0242ac1c0002row24_col4,#T_444b327a_49e2_11eb_8483_0242ac1c0002row24_col5,#T_444b327a_49e2_11eb_8483_0242ac1c0002row24_col6,#T_444b327a_49e2_11eb_8483_0242ac1c0002row24_col7,#T_444b327a_49e2_11eb_8483_0242ac1c0002row24_col8,#T_444b327a_49e2_11eb_8483_0242ac1c0002row24_col9,#T_444b327a_49e2_11eb_8483_0242ac1c0002row24_col10,#T_444b327a_49e2_11eb_8483_0242ac1c0002row24_col11,#T_444b327a_49e2_11eb_8483_0242ac1c0002row24_col12,#T_444b327a_49e2_11eb_8483_0242ac1c0002row24_col13,#T_444b327a_49e2_11eb_8483_0242ac1c0002row24_col14,#T_444b327a_49e2_11eb_8483_0242ac1c0002row24_col15,#T_444b327a_49e2_11eb_8483_0242ac1c0002row24_col16,#T_444b327a_49e2_11eb_8483_0242ac1c0002row24_col17,#T_444b327a_49e2_11eb_8483_0242ac1c0002row24_col18,#T_444b327a_49e2_11eb_8483_0242ac1c0002row24_col19,#T_444b327a_49e2_11eb_8483_0242ac1c0002row24_col20,#T_444b327a_49e2_11eb_8483_0242ac1c0002row24_col21,#T_444b327a_49e2_11eb_8483_0242ac1c0002row24_col22,#T_444b327a_49e2_11eb_8483_0242ac1c0002row24_col23,#T_444b327a_49e2_11eb_8483_0242ac1c0002row24_col24,#T_444b327a_49e2_11eb_8483_0242ac1c0002row24_col25,#T_444b327a_49e2_11eb_8483_0242ac1c0002row24_col26,#T_444b327a_49e2_11eb_8483_0242ac1c0002row24_col27,#T_444b327a_49e2_11eb_8483_0242ac1c0002row25_col0,#T_444b327a_49e2_11eb_8483_0242ac1c0002row25_col1,#T_444b327a_49e2_11eb_8483_0242ac1c0002row25_col2,#T_444b327a_49e2_11eb_8483_0242ac1c0002row25_col3,#T_444b327a_49e2_11eb_8483_0242ac1c0002row25_col4,#T_444b327a_49e2_11eb_8483_0242ac1c0002row25_col5,#T_444b327a_49e2_11eb_8483_0242ac1c0002row25_col6,#T_444b327a_49e2_11eb_8483_0242ac1c0002row25_col7,#T_444b327a_49e2_11eb_8483_0242ac1c0002row25_col8,#T_444b327a_49e2_11eb_8483_0242ac1c0002row25_col9,#T_444b327a_49e2_11eb_8483_0242ac1c0002row25_col10,#T_444b327a_49e2_11eb_8483_0242ac1c0002row25_col11,#T_444b327a_49e2_11eb_8483_0242ac1c0002row25_col12,#T_444b327a_49e2_11eb_8483_0242ac1c0002row25_col13,#T_444b327a_49e2_11eb_8483_0242ac1c0002row25_col14,#T_444b327a_49e2_11eb_8483_0242ac1c0002row25_col15,#T_444b327a_49e2_11eb_8483_0242ac1c0002row25_col16,#T_444b327a_49e2_11eb_8483_0242ac1c0002row25_col17,#T_444b327a_49e2_11eb_8483_0242ac1c0002row25_col18,#T_444b327a_49e2_11eb_8483_0242ac1c0002row25_col19,#T_444b327a_49e2_11eb_8483_0242ac1c0002row25_col20,#T_444b327a_49e2_11eb_8483_0242ac1c0002row25_col21,#T_444b327a_49e2_11eb_8483_0242ac1c0002row25_col22,#T_444b327a_49e2_11eb_8483_0242ac1c0002row25_col23,#T_444b327a_49e2_11eb_8483_0242ac1c0002row25_col24,#T_444b327a_49e2_11eb_8483_0242ac1c0002row25_col25,#T_444b327a_49e2_11eb_8483_0242ac1c0002row25_col26,#T_444b327a_49e2_11eb_8483_0242ac1c0002row25_col27,#T_444b327a_49e2_11eb_8483_0242ac1c0002row26_col0,#T_444b327a_49e2_11eb_8483_0242ac1c0002row26_col1,#T_444b327a_49e2_11eb_8483_0242ac1c0002row26_col2,#T_444b327a_49e2_11eb_8483_0242ac1c0002row26_col3,#T_444b327a_49e2_11eb_8483_0242ac1c0002row26_col4,#T_444b327a_49e2_11eb_8483_0242ac1c0002row26_col5,#T_444b327a_49e2_11eb_8483_0242ac1c0002row26_col6,#T_444b327a_49e2_11eb_8483_0242ac1c0002row26_col7,#T_444b327a_49e2_11eb_8483_0242ac1c0002row26_col8,#T_444b327a_49e2_11eb_8483_0242ac1c0002row26_col9,#T_444b327a_49e2_11eb_8483_0242ac1c0002row26_col10,#T_444b327a_49e2_11eb_8483_0242ac1c0002row26_col11,#T_444b327a_49e2_11eb_8483_0242ac1c0002row26_col12,#T_444b327a_49e2_11eb_8483_0242ac1c0002row26_col13,#T_444b327a_49e2_11eb_8483_0242ac1c0002row26_col14,#T_444b327a_49e2_11eb_8483_0242ac1c0002row26_col15,#T_444b327a_49e2_11eb_8483_0242ac1c0002row26_col16,#T_444b327a_49e2_11eb_8483_0242ac1c0002row26_col17,#T_444b327a_49e2_11eb_8483_0242ac1c0002row26_col18,#T_444b327a_49e2_11eb_8483_0242ac1c0002row26_col19,#T_444b327a_49e2_11eb_8483_0242ac1c0002row26_col20,#T_444b327a_49e2_11eb_8483_0242ac1c0002row26_col21,#T_444b327a_49e2_11eb_8483_0242ac1c0002row26_col22,#T_444b327a_49e2_11eb_8483_0242ac1c0002row26_col23,#T_444b327a_49e2_11eb_8483_0242ac1c0002row26_col24,#T_444b327a_49e2_11eb_8483_0242ac1c0002row26_col25,#T_444b327a_49e2_11eb_8483_0242ac1c0002row26_col26,#T_444b327a_49e2_11eb_8483_0242ac1c0002row26_col27,#T_444b327a_49e2_11eb_8483_0242ac1c0002row27_col0,#T_444b327a_49e2_11eb_8483_0242ac1c0002row27_col1,#T_444b327a_49e2_11eb_8483_0242ac1c0002row27_col2,#T_444b327a_49e2_11eb_8483_0242ac1c0002row27_col3,#T_444b327a_49e2_11eb_8483_0242ac1c0002row27_col4,#T_444b327a_49e2_11eb_8483_0242ac1c0002row27_col5,#T_444b327a_49e2_11eb_8483_0242ac1c0002row27_col6,#T_444b327a_49e2_11eb_8483_0242ac1c0002row27_col7,#T_444b327a_49e2_11eb_8483_0242ac1c0002row27_col8,#T_444b327a_49e2_11eb_8483_0242ac1c0002row27_col9,#T_444b327a_49e2_11eb_8483_0242ac1c0002row27_col10,#T_444b327a_49e2_11eb_8483_0242ac1c0002row27_col11,#T_444b327a_49e2_11eb_8483_0242ac1c0002row27_col12,#T_444b327a_49e2_11eb_8483_0242ac1c0002row27_col13,#T_444b327a_49e2_11eb_8483_0242ac1c0002row27_col14,#T_444b327a_49e2_11eb_8483_0242ac1c0002row27_col15,#T_444b327a_49e2_11eb_8483_0242ac1c0002row27_col16,#T_444b327a_49e2_11eb_8483_0242ac1c0002row27_col17,#T_444b327a_49e2_11eb_8483_0242ac1c0002row27_col18,#T_444b327a_49e2_11eb_8483_0242ac1c0002row27_col19,#T_444b327a_49e2_11eb_8483_0242ac1c0002row27_col20,#T_444b327a_49e2_11eb_8483_0242ac1c0002row27_col21,#T_444b327a_49e2_11eb_8483_0242ac1c0002row27_col22,#T_444b327a_49e2_11eb_8483_0242ac1c0002row27_col23,#T_444b327a_49e2_11eb_8483_0242ac1c0002row27_col24,#T_444b327a_49e2_11eb_8483_0242ac1c0002row27_col25,#T_444b327a_49e2_11eb_8483_0242ac1c0002row27_col26,#T_444b327a_49e2_11eb_8483_0242ac1c0002row27_col27{\n",
              "            font_size:  6pt;\n",
              "            background-color:  #ffffff;\n",
              "            color:  #000000;\n",
              "        }#T_444b327a_49e2_11eb_8483_0242ac1c0002row4_col17,#T_444b327a_49e2_11eb_8483_0242ac1c0002row5_col16{\n",
              "            font_size:  6pt;\n",
              "            background-color:  #f3f3f3;\n",
              "            color:  #000000;\n",
              "        }#T_444b327a_49e2_11eb_8483_0242ac1c0002row4_col18{\n",
              "            font_size:  6pt;\n",
              "            background-color:  #2f2f2f;\n",
              "            color:  #f1f1f1;\n",
              "        }#T_444b327a_49e2_11eb_8483_0242ac1c0002row4_col19{\n",
              "            font_size:  6pt;\n",
              "            background-color:  #484848;\n",
              "            color:  #f1f1f1;\n",
              "        }#T_444b327a_49e2_11eb_8483_0242ac1c0002row4_col20{\n",
              "            font_size:  6pt;\n",
              "            background-color:  #fefefe;\n",
              "            color:  #000000;\n",
              "        }#T_444b327a_49e2_11eb_8483_0242ac1c0002row5_col17,#T_444b327a_49e2_11eb_8483_0242ac1c0002row6_col16{\n",
              "            font_size:  6pt;\n",
              "            background-color:  #323232;\n",
              "            color:  #f1f1f1;\n",
              "        }#T_444b327a_49e2_11eb_8483_0242ac1c0002row5_col18,#T_444b327a_49e2_11eb_8483_0242ac1c0002row6_col17,#T_444b327a_49e2_11eb_8483_0242ac1c0002row6_col18,#T_444b327a_49e2_11eb_8483_0242ac1c0002row7_col16,#T_444b327a_49e2_11eb_8483_0242ac1c0002row7_col17,#T_444b327a_49e2_11eb_8483_0242ac1c0002row8_col21,#T_444b327a_49e2_11eb_8483_0242ac1c0002row8_col22,#T_444b327a_49e2_11eb_8483_0242ac1c0002row9_col20,#T_444b327a_49e2_11eb_8483_0242ac1c0002row9_col21,#T_444b327a_49e2_11eb_8483_0242ac1c0002row9_col22,#T_444b327a_49e2_11eb_8483_0242ac1c0002row10_col14,#T_444b327a_49e2_11eb_8483_0242ac1c0002row10_col19,#T_444b327a_49e2_11eb_8483_0242ac1c0002row10_col20,#T_444b327a_49e2_11eb_8483_0242ac1c0002row11_col13,#T_444b327a_49e2_11eb_8483_0242ac1c0002row11_col14,#T_444b327a_49e2_11eb_8483_0242ac1c0002row11_col18,#T_444b327a_49e2_11eb_8483_0242ac1c0002row11_col19,#T_444b327a_49e2_11eb_8483_0242ac1c0002row12_col13,#T_444b327a_49e2_11eb_8483_0242ac1c0002row12_col17,#T_444b327a_49e2_11eb_8483_0242ac1c0002row12_col18,#T_444b327a_49e2_11eb_8483_0242ac1c0002row13_col13,#T_444b327a_49e2_11eb_8483_0242ac1c0002row13_col16,#T_444b327a_49e2_11eb_8483_0242ac1c0002row13_col17,#T_444b327a_49e2_11eb_8483_0242ac1c0002row14_col13,#T_444b327a_49e2_11eb_8483_0242ac1c0002row14_col14,#T_444b327a_49e2_11eb_8483_0242ac1c0002row14_col15,#T_444b327a_49e2_11eb_8483_0242ac1c0002row14_col16,#T_444b327a_49e2_11eb_8483_0242ac1c0002row15_col13,#T_444b327a_49e2_11eb_8483_0242ac1c0002row15_col14,#T_444b327a_49e2_11eb_8483_0242ac1c0002row16_col12,#T_444b327a_49e2_11eb_8483_0242ac1c0002row16_col13,#T_444b327a_49e2_11eb_8483_0242ac1c0002row16_col14,#T_444b327a_49e2_11eb_8483_0242ac1c0002row17_col10,#T_444b327a_49e2_11eb_8483_0242ac1c0002row17_col11,#T_444b327a_49e2_11eb_8483_0242ac1c0002row17_col12,#T_444b327a_49e2_11eb_8483_0242ac1c0002row17_col13,#T_444b327a_49e2_11eb_8483_0242ac1c0002row17_col14,#T_444b327a_49e2_11eb_8483_0242ac1c0002row18_col9,#T_444b327a_49e2_11eb_8483_0242ac1c0002row18_col10,#T_444b327a_49e2_11eb_8483_0242ac1c0002row19_col9,#T_444b327a_49e2_11eb_8483_0242ac1c0002row20_col7,#T_444b327a_49e2_11eb_8483_0242ac1c0002row20_col8,#T_444b327a_49e2_11eb_8483_0242ac1c0002row20_col9,#T_444b327a_49e2_11eb_8483_0242ac1c0002row21_col8,#T_444b327a_49e2_11eb_8483_0242ac1c0002row21_col9,#T_444b327a_49e2_11eb_8483_0242ac1c0002row21_col14,#T_444b327a_49e2_11eb_8483_0242ac1c0002row22_col9,#T_444b327a_49e2_11eb_8483_0242ac1c0002row22_col10,#T_444b327a_49e2_11eb_8483_0242ac1c0002row22_col11,#T_444b327a_49e2_11eb_8483_0242ac1c0002row22_col12,#T_444b327a_49e2_11eb_8483_0242ac1c0002row22_col13,#T_444b327a_49e2_11eb_8483_0242ac1c0002row22_col14,#T_444b327a_49e2_11eb_8483_0242ac1c0002row23_col12{\n",
              "            font_size:  6pt;\n",
              "            background-color:  #000000;\n",
              "            color:  #f1f1f1;\n",
              "        }#T_444b327a_49e2_11eb_8483_0242ac1c0002row5_col19,#T_444b327a_49e2_11eb_8483_0242ac1c0002row8_col16,#T_444b327a_49e2_11eb_8483_0242ac1c0002row13_col14{\n",
              "            font_size:  6pt;\n",
              "            background-color:  #070707;\n",
              "            color:  #f1f1f1;\n",
              "        }#T_444b327a_49e2_11eb_8483_0242ac1c0002row5_col20{\n",
              "            font_size:  6pt;\n",
              "            background-color:  #e0e0e0;\n",
              "            color:  #000000;\n",
              "        }#T_444b327a_49e2_11eb_8483_0242ac1c0002row6_col15{\n",
              "            font_size:  6pt;\n",
              "            background-color:  #c8c8c8;\n",
              "            color:  #000000;\n",
              "        }#T_444b327a_49e2_11eb_8483_0242ac1c0002row6_col19{\n",
              "            font_size:  6pt;\n",
              "            background-color:  #626262;\n",
              "            color:  #f1f1f1;\n",
              "        }#T_444b327a_49e2_11eb_8483_0242ac1c0002row6_col21,#T_444b327a_49e2_11eb_8483_0242ac1c0002row12_col20{\n",
              "            font_size:  6pt;\n",
              "            background-color:  #f7f7f7;\n",
              "            color:  #000000;\n",
              "        }#T_444b327a_49e2_11eb_8483_0242ac1c0002row7_col14,#T_444b327a_49e2_11eb_8483_0242ac1c0002row7_col19,#T_444b327a_49e2_11eb_8483_0242ac1c0002row8_col18{\n",
              "            font_size:  6pt;\n",
              "            background-color:  #f4f4f4;\n",
              "            color:  #000000;\n",
              "        }#T_444b327a_49e2_11eb_8483_0242ac1c0002row7_col15{\n",
              "            font_size:  6pt;\n",
              "            background-color:  #333333;\n",
              "            color:  #f1f1f1;\n",
              "        }#T_444b327a_49e2_11eb_8483_0242ac1c0002row7_col18,#T_444b327a_49e2_11eb_8483_0242ac1c0002row10_col18,#T_444b327a_49e2_11eb_8483_0242ac1c0002row12_col19{\n",
              "            font_size:  6pt;\n",
              "            background-color:  #464646;\n",
              "            color:  #f1f1f1;\n",
              "        }#T_444b327a_49e2_11eb_8483_0242ac1c0002row7_col20,#T_444b327a_49e2_11eb_8483_0242ac1c0002row9_col18,#T_444b327a_49e2_11eb_8483_0242ac1c0002row18_col13{\n",
              "            font_size:  6pt;\n",
              "            background-color:  #d2d2d2;\n",
              "            color:  #000000;\n",
              "        }#T_444b327a_49e2_11eb_8483_0242ac1c0002row7_col21,#T_444b327a_49e2_11eb_8483_0242ac1c0002row21_col7{\n",
              "            font_size:  6pt;\n",
              "            background-color:  #363636;\n",
              "            color:  #f1f1f1;\n",
              "        }#T_444b327a_49e2_11eb_8483_0242ac1c0002row7_col22{\n",
              "            font_size:  6pt;\n",
              "            background-color:  #cdcdcd;\n",
              "            color:  #000000;\n",
              "        }#T_444b327a_49e2_11eb_8483_0242ac1c0002row8_col14{\n",
              "            font_size:  6pt;\n",
              "            background-color:  #393939;\n",
              "            color:  #f1f1f1;\n",
              "        }#T_444b327a_49e2_11eb_8483_0242ac1c0002row8_col15,#T_444b327a_49e2_11eb_8483_0242ac1c0002row9_col14,#T_444b327a_49e2_11eb_8483_0242ac1c0002row13_col15,#T_444b327a_49e2_11eb_8483_0242ac1c0002row19_col15,#T_444b327a_49e2_11eb_8483_0242ac1c0002row20_col15,#T_444b327a_49e2_11eb_8483_0242ac1c0002row21_col15{\n",
              "            font_size:  6pt;\n",
              "            background-color:  #020202;\n",
              "            color:  #f1f1f1;\n",
              "        }#T_444b327a_49e2_11eb_8483_0242ac1c0002row8_col17{\n",
              "            font_size:  6pt;\n",
              "            background-color:  #a2a2a2;\n",
              "            color:  #000000;\n",
              "        }#T_444b327a_49e2_11eb_8483_0242ac1c0002row8_col19{\n",
              "            font_size:  6pt;\n",
              "            background-color:  #e7e7e7;\n",
              "            color:  #000000;\n",
              "        }#T_444b327a_49e2_11eb_8483_0242ac1c0002row8_col20,#T_444b327a_49e2_11eb_8483_0242ac1c0002row16_col11{\n",
              "            font_size:  6pt;\n",
              "            background-color:  #141414;\n",
              "            color:  #f1f1f1;\n",
              "        }#T_444b327a_49e2_11eb_8483_0242ac1c0002row9_col13{\n",
              "            font_size:  6pt;\n",
              "            background-color:  #c6c6c6;\n",
              "            color:  #000000;\n",
              "        }#T_444b327a_49e2_11eb_8483_0242ac1c0002row9_col15,#T_444b327a_49e2_11eb_8483_0242ac1c0002row18_col15{\n",
              "            font_size:  6pt;\n",
              "            background-color:  #060606;\n",
              "            color:  #f1f1f1;\n",
              "        }#T_444b327a_49e2_11eb_8483_0242ac1c0002row9_col16{\n",
              "            font_size:  6pt;\n",
              "            background-color:  #afafaf;\n",
              "            color:  #000000;\n",
              "        }#T_444b327a_49e2_11eb_8483_0242ac1c0002row9_col19{\n",
              "            font_size:  6pt;\n",
              "            background-color:  #383838;\n",
              "            color:  #f1f1f1;\n",
              "        }#T_444b327a_49e2_11eb_8483_0242ac1c0002row10_col12,#T_444b327a_49e2_11eb_8483_0242ac1c0002row18_col16{\n",
              "            font_size:  6pt;\n",
              "            background-color:  #cccccc;\n",
              "            color:  #000000;\n",
              "        }#T_444b327a_49e2_11eb_8483_0242ac1c0002row10_col13{\n",
              "            font_size:  6pt;\n",
              "            background-color:  #1f1f1f;\n",
              "            color:  #f1f1f1;\n",
              "        }#T_444b327a_49e2_11eb_8483_0242ac1c0002row10_col15{\n",
              "            font_size:  6pt;\n",
              "            background-color:  #444444;\n",
              "            color:  #f1f1f1;\n",
              "        }#T_444b327a_49e2_11eb_8483_0242ac1c0002row10_col17{\n",
              "            font_size:  6pt;\n",
              "            background-color:  #f9f9f9;\n",
              "            color:  #000000;\n",
              "        }#T_444b327a_49e2_11eb_8483_0242ac1c0002row10_col21,#T_444b327a_49e2_11eb_8483_0242ac1c0002row11_col20{\n",
              "            font_size:  6pt;\n",
              "            background-color:  #212121;\n",
              "            color:  #f1f1f1;\n",
              "        }#T_444b327a_49e2_11eb_8483_0242ac1c0002row10_col22{\n",
              "            font_size:  6pt;\n",
              "            background-color:  #676767;\n",
              "            color:  #f1f1f1;\n",
              "        }#T_444b327a_49e2_11eb_8483_0242ac1c0002row11_col12{\n",
              "            font_size:  6pt;\n",
              "            background-color:  #bbbbbb;\n",
              "            color:  #000000;\n",
              "        }#T_444b327a_49e2_11eb_8483_0242ac1c0002row11_col15,#T_444b327a_49e2_11eb_8483_0242ac1c0002row16_col15{\n",
              "            font_size:  6pt;\n",
              "            background-color:  #9e9e9e;\n",
              "            color:  #000000;\n",
              "        }#T_444b327a_49e2_11eb_8483_0242ac1c0002row11_col16{\n",
              "            font_size:  6pt;\n",
              "            background-color:  #d4d4d4;\n",
              "            color:  #000000;\n",
              "        }#T_444b327a_49e2_11eb_8483_0242ac1c0002row11_col17{\n",
              "            font_size:  6pt;\n",
              "            background-color:  #232323;\n",
              "            color:  #f1f1f1;\n",
              "        }#T_444b327a_49e2_11eb_8483_0242ac1c0002row11_col21{\n",
              "            font_size:  6pt;\n",
              "            background-color:  #e6e6e6;\n",
              "            color:  #000000;\n",
              "        }#T_444b327a_49e2_11eb_8483_0242ac1c0002row12_col12,#T_444b327a_49e2_11eb_8483_0242ac1c0002row14_col17,#T_444b327a_49e2_11eb_8483_0242ac1c0002row15_col16{\n",
              "            font_size:  6pt;\n",
              "            background-color:  #7d7d7d;\n",
              "            color:  #000000;\n",
              "        }#T_444b327a_49e2_11eb_8483_0242ac1c0002row12_col14,#T_444b327a_49e2_11eb_8483_0242ac1c0002row17_col15,#T_444b327a_49e2_11eb_8483_0242ac1c0002row23_col13{\n",
              "            font_size:  6pt;\n",
              "            background-color:  #858585;\n",
              "            color:  #000000;\n",
              "        }#T_444b327a_49e2_11eb_8483_0242ac1c0002row12_col15{\n",
              "            font_size:  6pt;\n",
              "            background-color:  #5b5b5b;\n",
              "            color:  #f1f1f1;\n",
              "        }#T_444b327a_49e2_11eb_8483_0242ac1c0002row12_col16{\n",
              "            font_size:  6pt;\n",
              "            background-color:  #0a0a0a;\n",
              "            color:  #f1f1f1;\n",
              "        }#T_444b327a_49e2_11eb_8483_0242ac1c0002row13_col12,#T_444b327a_49e2_11eb_8483_0242ac1c0002row21_col12,#T_444b327a_49e2_11eb_8483_0242ac1c0002row23_col10{\n",
              "            font_size:  6pt;\n",
              "            background-color:  #292929;\n",
              "            color:  #f1f1f1;\n",
              "        }#T_444b327a_49e2_11eb_8483_0242ac1c0002row13_col18{\n",
              "            font_size:  6pt;\n",
              "            background-color:  #656565;\n",
              "            color:  #f1f1f1;\n",
              "        }#T_444b327a_49e2_11eb_8483_0242ac1c0002row13_col19{\n",
              "            font_size:  6pt;\n",
              "            background-color:  #e8e8e8;\n",
              "            color:  #000000;\n",
              "        }#T_444b327a_49e2_11eb_8483_0242ac1c0002row14_col12,#T_444b327a_49e2_11eb_8483_0242ac1c0002row23_col9{\n",
              "            font_size:  6pt;\n",
              "            background-color:  #282828;\n",
              "            color:  #f1f1f1;\n",
              "        }#T_444b327a_49e2_11eb_8483_0242ac1c0002row15_col11{\n",
              "            font_size:  6pt;\n",
              "            background-color:  #dbdbdb;\n",
              "            color:  #000000;\n",
              "        }#T_444b327a_49e2_11eb_8483_0242ac1c0002row15_col12{\n",
              "            font_size:  6pt;\n",
              "            background-color:  #111111;\n",
              "            color:  #f1f1f1;\n",
              "        }#T_444b327a_49e2_11eb_8483_0242ac1c0002row15_col15{\n",
              "            font_size:  6pt;\n",
              "            background-color:  #101010;\n",
              "            color:  #f1f1f1;\n",
              "        }#T_444b327a_49e2_11eb_8483_0242ac1c0002row16_col9,#T_444b327a_49e2_11eb_8483_0242ac1c0002row17_col8{\n",
              "            font_size:  6pt;\n",
              "            background-color:  #fbfbfb;\n",
              "            color:  #000000;\n",
              "        }#T_444b327a_49e2_11eb_8483_0242ac1c0002row16_col10{\n",
              "            font_size:  6pt;\n",
              "            background-color:  #d3d3d3;\n",
              "            color:  #000000;\n",
              "        }#T_444b327a_49e2_11eb_8483_0242ac1c0002row17_col9{\n",
              "            font_size:  6pt;\n",
              "            background-color:  #767676;\n",
              "            color:  #000000;\n",
              "        }#T_444b327a_49e2_11eb_8483_0242ac1c0002row18_col8{\n",
              "            font_size:  6pt;\n",
              "            background-color:  #8c8c8c;\n",
              "            color:  #000000;\n",
              "        }#T_444b327a_49e2_11eb_8483_0242ac1c0002row18_col11{\n",
              "            font_size:  6pt;\n",
              "            background-color:  #171717;\n",
              "            color:  #f1f1f1;\n",
              "        }#T_444b327a_49e2_11eb_8483_0242ac1c0002row18_col12{\n",
              "            font_size:  6pt;\n",
              "            background-color:  #818181;\n",
              "            color:  #000000;\n",
              "        }#T_444b327a_49e2_11eb_8483_0242ac1c0002row18_col14{\n",
              "            font_size:  6pt;\n",
              "            background-color:  #2e2e2e;\n",
              "            color:  #f1f1f1;\n",
              "        }#T_444b327a_49e2_11eb_8483_0242ac1c0002row19_col7{\n",
              "            font_size:  6pt;\n",
              "            background-color:  #e1e1e1;\n",
              "            color:  #000000;\n",
              "        }#T_444b327a_49e2_11eb_8483_0242ac1c0002row19_col8{\n",
              "            font_size:  6pt;\n",
              "            background-color:  #151515;\n",
              "            color:  #f1f1f1;\n",
              "        }#T_444b327a_49e2_11eb_8483_0242ac1c0002row19_col10,#T_444b327a_49e2_11eb_8483_0242ac1c0002row21_col13{\n",
              "            font_size:  6pt;\n",
              "            background-color:  #181818;\n",
              "            color:  #f1f1f1;\n",
              "        }#T_444b327a_49e2_11eb_8483_0242ac1c0002row19_col11{\n",
              "            font_size:  6pt;\n",
              "            background-color:  #dadada;\n",
              "            color:  #000000;\n",
              "        }#T_444b327a_49e2_11eb_8483_0242ac1c0002row19_col14{\n",
              "            font_size:  6pt;\n",
              "            background-color:  #f2f2f2;\n",
              "            color:  #000000;\n",
              "        }#T_444b327a_49e2_11eb_8483_0242ac1c0002row19_col16{\n",
              "            font_size:  6pt;\n",
              "            background-color:  #414141;\n",
              "            color:  #f1f1f1;\n",
              "        }#T_444b327a_49e2_11eb_8483_0242ac1c0002row20_col10{\n",
              "            font_size:  6pt;\n",
              "            background-color:  #878787;\n",
              "            color:  #000000;\n",
              "        }#T_444b327a_49e2_11eb_8483_0242ac1c0002row20_col13{\n",
              "            font_size:  6pt;\n",
              "            background-color:  #ededed;\n",
              "            color:  #000000;\n",
              "        }#T_444b327a_49e2_11eb_8483_0242ac1c0002row20_col14{\n",
              "            font_size:  6pt;\n",
              "            background-color:  #434343;\n",
              "            color:  #f1f1f1;\n",
              "        }#T_444b327a_49e2_11eb_8483_0242ac1c0002row20_col16,#T_444b327a_49e2_11eb_8483_0242ac1c0002row21_col16{\n",
              "            font_size:  6pt;\n",
              "            background-color:  #1c1c1c;\n",
              "            color:  #f1f1f1;\n",
              "        }#T_444b327a_49e2_11eb_8483_0242ac1c0002row21_col10{\n",
              "            font_size:  6pt;\n",
              "            background-color:  #4e4e4e;\n",
              "            color:  #f1f1f1;\n",
              "        }#T_444b327a_49e2_11eb_8483_0242ac1c0002row21_col11,#T_444b327a_49e2_11eb_8483_0242ac1c0002row22_col15{\n",
              "            font_size:  6pt;\n",
              "            background-color:  #4b4b4b;\n",
              "            color:  #f1f1f1;\n",
              "        }#T_444b327a_49e2_11eb_8483_0242ac1c0002row22_col7{\n",
              "            font_size:  6pt;\n",
              "            background-color:  #ececec;\n",
              "            color:  #000000;\n",
              "        }#T_444b327a_49e2_11eb_8483_0242ac1c0002row22_col8{\n",
              "            font_size:  6pt;\n",
              "            background-color:  #2b2b2b;\n",
              "            color:  #f1f1f1;\n",
              "        }#T_444b327a_49e2_11eb_8483_0242ac1c0002row22_col16{\n",
              "            font_size:  6pt;\n",
              "            background-color:  #d1d1d1;\n",
              "            color:  #000000;\n",
              "        }#T_444b327a_49e2_11eb_8483_0242ac1c0002row23_col8{\n",
              "            font_size:  6pt;\n",
              "            background-color:  #c3c3c3;\n",
              "            color:  #000000;\n",
              "        }#T_444b327a_49e2_11eb_8483_0242ac1c0002row23_col11{\n",
              "            font_size:  6pt;\n",
              "            background-color:  #1a1a1a;\n",
              "            color:  #f1f1f1;\n",
              "        }#T_444b327a_49e2_11eb_8483_0242ac1c0002row23_col14{\n",
              "            font_size:  6pt;\n",
              "            background-color:  #919191;\n",
              "            color:  #000000;\n",
              "        }#T_444b327a_49e2_11eb_8483_0242ac1c0002row23_col15{\n",
              "            font_size:  6pt;\n",
              "            background-color:  #fdfdfd;\n",
              "            color:  #000000;\n",
              "        }</style><table id=\"T_444b327a_49e2_11eb_8483_0242ac1c0002\" ><thead>    <tr>        <th class=\"blank level0\" ></th>        <th class=\"col_heading level0 col0\" >0</th>        <th class=\"col_heading level0 col1\" >1</th>        <th class=\"col_heading level0 col2\" >2</th>        <th class=\"col_heading level0 col3\" >3</th>        <th class=\"col_heading level0 col4\" >4</th>        <th class=\"col_heading level0 col5\" >5</th>        <th class=\"col_heading level0 col6\" >6</th>        <th class=\"col_heading level0 col7\" >7</th>        <th class=\"col_heading level0 col8\" >8</th>        <th class=\"col_heading level0 col9\" >9</th>        <th class=\"col_heading level0 col10\" >10</th>        <th class=\"col_heading level0 col11\" >11</th>        <th class=\"col_heading level0 col12\" >12</th>        <th class=\"col_heading level0 col13\" >13</th>        <th class=\"col_heading level0 col14\" >14</th>        <th class=\"col_heading level0 col15\" >15</th>        <th class=\"col_heading level0 col16\" >16</th>        <th class=\"col_heading level0 col17\" >17</th>        <th class=\"col_heading level0 col18\" >18</th>        <th class=\"col_heading level0 col19\" >19</th>        <th class=\"col_heading level0 col20\" >20</th>        <th class=\"col_heading level0 col21\" >21</th>        <th class=\"col_heading level0 col22\" >22</th>        <th class=\"col_heading level0 col23\" >23</th>        <th class=\"col_heading level0 col24\" >24</th>        <th class=\"col_heading level0 col25\" >25</th>        <th class=\"col_heading level0 col26\" >26</th>        <th class=\"col_heading level0 col27\" >27</th>    </tr></thead><tbody>\n",
              "                <tr>\n",
              "                        <th id=\"T_444b327a_49e2_11eb_8483_0242ac1c0002level0_row0\" class=\"row_heading level0 row0\" >0</th>\n",
              "                        <td id=\"T_444b327a_49e2_11eb_8483_0242ac1c0002row0_col0\" class=\"data row0 col0\" >0</td>\n",
              "                        <td id=\"T_444b327a_49e2_11eb_8483_0242ac1c0002row0_col1\" class=\"data row0 col1\" >0</td>\n",
              "                        <td id=\"T_444b327a_49e2_11eb_8483_0242ac1c0002row0_col2\" class=\"data row0 col2\" >0</td>\n",
              "                        <td id=\"T_444b327a_49e2_11eb_8483_0242ac1c0002row0_col3\" class=\"data row0 col3\" >0</td>\n",
              "                        <td id=\"T_444b327a_49e2_11eb_8483_0242ac1c0002row0_col4\" class=\"data row0 col4\" >0</td>\n",
              "                        <td id=\"T_444b327a_49e2_11eb_8483_0242ac1c0002row0_col5\" class=\"data row0 col5\" >0</td>\n",
              "                        <td id=\"T_444b327a_49e2_11eb_8483_0242ac1c0002row0_col6\" class=\"data row0 col6\" >0</td>\n",
              "                        <td id=\"T_444b327a_49e2_11eb_8483_0242ac1c0002row0_col7\" class=\"data row0 col7\" >0</td>\n",
              "                        <td id=\"T_444b327a_49e2_11eb_8483_0242ac1c0002row0_col8\" class=\"data row0 col8\" >0</td>\n",
              "                        <td id=\"T_444b327a_49e2_11eb_8483_0242ac1c0002row0_col9\" class=\"data row0 col9\" >0</td>\n",
              "                        <td id=\"T_444b327a_49e2_11eb_8483_0242ac1c0002row0_col10\" class=\"data row0 col10\" >0</td>\n",
              "                        <td id=\"T_444b327a_49e2_11eb_8483_0242ac1c0002row0_col11\" class=\"data row0 col11\" >0</td>\n",
              "                        <td id=\"T_444b327a_49e2_11eb_8483_0242ac1c0002row0_col12\" class=\"data row0 col12\" >0</td>\n",
              "                        <td id=\"T_444b327a_49e2_11eb_8483_0242ac1c0002row0_col13\" class=\"data row0 col13\" >0</td>\n",
              "                        <td id=\"T_444b327a_49e2_11eb_8483_0242ac1c0002row0_col14\" class=\"data row0 col14\" >0</td>\n",
              "                        <td id=\"T_444b327a_49e2_11eb_8483_0242ac1c0002row0_col15\" class=\"data row0 col15\" >0</td>\n",
              "                        <td id=\"T_444b327a_49e2_11eb_8483_0242ac1c0002row0_col16\" class=\"data row0 col16\" >0</td>\n",
              "                        <td id=\"T_444b327a_49e2_11eb_8483_0242ac1c0002row0_col17\" class=\"data row0 col17\" >0</td>\n",
              "                        <td id=\"T_444b327a_49e2_11eb_8483_0242ac1c0002row0_col18\" class=\"data row0 col18\" >0</td>\n",
              "                        <td id=\"T_444b327a_49e2_11eb_8483_0242ac1c0002row0_col19\" class=\"data row0 col19\" >0</td>\n",
              "                        <td id=\"T_444b327a_49e2_11eb_8483_0242ac1c0002row0_col20\" class=\"data row0 col20\" >0</td>\n",
              "                        <td id=\"T_444b327a_49e2_11eb_8483_0242ac1c0002row0_col21\" class=\"data row0 col21\" >0</td>\n",
              "                        <td id=\"T_444b327a_49e2_11eb_8483_0242ac1c0002row0_col22\" class=\"data row0 col22\" >0</td>\n",
              "                        <td id=\"T_444b327a_49e2_11eb_8483_0242ac1c0002row0_col23\" class=\"data row0 col23\" >0</td>\n",
              "                        <td id=\"T_444b327a_49e2_11eb_8483_0242ac1c0002row0_col24\" class=\"data row0 col24\" >0</td>\n",
              "                        <td id=\"T_444b327a_49e2_11eb_8483_0242ac1c0002row0_col25\" class=\"data row0 col25\" >0</td>\n",
              "                        <td id=\"T_444b327a_49e2_11eb_8483_0242ac1c0002row0_col26\" class=\"data row0 col26\" >0</td>\n",
              "                        <td id=\"T_444b327a_49e2_11eb_8483_0242ac1c0002row0_col27\" class=\"data row0 col27\" >0</td>\n",
              "            </tr>\n",
              "            <tr>\n",
              "                        <th id=\"T_444b327a_49e2_11eb_8483_0242ac1c0002level0_row1\" class=\"row_heading level0 row1\" >1</th>\n",
              "                        <td id=\"T_444b327a_49e2_11eb_8483_0242ac1c0002row1_col0\" class=\"data row1 col0\" >0</td>\n",
              "                        <td id=\"T_444b327a_49e2_11eb_8483_0242ac1c0002row1_col1\" class=\"data row1 col1\" >0</td>\n",
              "                        <td id=\"T_444b327a_49e2_11eb_8483_0242ac1c0002row1_col2\" class=\"data row1 col2\" >0</td>\n",
              "                        <td id=\"T_444b327a_49e2_11eb_8483_0242ac1c0002row1_col3\" class=\"data row1 col3\" >0</td>\n",
              "                        <td id=\"T_444b327a_49e2_11eb_8483_0242ac1c0002row1_col4\" class=\"data row1 col4\" >0</td>\n",
              "                        <td id=\"T_444b327a_49e2_11eb_8483_0242ac1c0002row1_col5\" class=\"data row1 col5\" >0</td>\n",
              "                        <td id=\"T_444b327a_49e2_11eb_8483_0242ac1c0002row1_col6\" class=\"data row1 col6\" >0</td>\n",
              "                        <td id=\"T_444b327a_49e2_11eb_8483_0242ac1c0002row1_col7\" class=\"data row1 col7\" >0</td>\n",
              "                        <td id=\"T_444b327a_49e2_11eb_8483_0242ac1c0002row1_col8\" class=\"data row1 col8\" >0</td>\n",
              "                        <td id=\"T_444b327a_49e2_11eb_8483_0242ac1c0002row1_col9\" class=\"data row1 col9\" >0</td>\n",
              "                        <td id=\"T_444b327a_49e2_11eb_8483_0242ac1c0002row1_col10\" class=\"data row1 col10\" >0</td>\n",
              "                        <td id=\"T_444b327a_49e2_11eb_8483_0242ac1c0002row1_col11\" class=\"data row1 col11\" >0</td>\n",
              "                        <td id=\"T_444b327a_49e2_11eb_8483_0242ac1c0002row1_col12\" class=\"data row1 col12\" >0</td>\n",
              "                        <td id=\"T_444b327a_49e2_11eb_8483_0242ac1c0002row1_col13\" class=\"data row1 col13\" >0</td>\n",
              "                        <td id=\"T_444b327a_49e2_11eb_8483_0242ac1c0002row1_col14\" class=\"data row1 col14\" >0</td>\n",
              "                        <td id=\"T_444b327a_49e2_11eb_8483_0242ac1c0002row1_col15\" class=\"data row1 col15\" >0</td>\n",
              "                        <td id=\"T_444b327a_49e2_11eb_8483_0242ac1c0002row1_col16\" class=\"data row1 col16\" >0</td>\n",
              "                        <td id=\"T_444b327a_49e2_11eb_8483_0242ac1c0002row1_col17\" class=\"data row1 col17\" >0</td>\n",
              "                        <td id=\"T_444b327a_49e2_11eb_8483_0242ac1c0002row1_col18\" class=\"data row1 col18\" >0</td>\n",
              "                        <td id=\"T_444b327a_49e2_11eb_8483_0242ac1c0002row1_col19\" class=\"data row1 col19\" >0</td>\n",
              "                        <td id=\"T_444b327a_49e2_11eb_8483_0242ac1c0002row1_col20\" class=\"data row1 col20\" >0</td>\n",
              "                        <td id=\"T_444b327a_49e2_11eb_8483_0242ac1c0002row1_col21\" class=\"data row1 col21\" >0</td>\n",
              "                        <td id=\"T_444b327a_49e2_11eb_8483_0242ac1c0002row1_col22\" class=\"data row1 col22\" >0</td>\n",
              "                        <td id=\"T_444b327a_49e2_11eb_8483_0242ac1c0002row1_col23\" class=\"data row1 col23\" >0</td>\n",
              "                        <td id=\"T_444b327a_49e2_11eb_8483_0242ac1c0002row1_col24\" class=\"data row1 col24\" >0</td>\n",
              "                        <td id=\"T_444b327a_49e2_11eb_8483_0242ac1c0002row1_col25\" class=\"data row1 col25\" >0</td>\n",
              "                        <td id=\"T_444b327a_49e2_11eb_8483_0242ac1c0002row1_col26\" class=\"data row1 col26\" >0</td>\n",
              "                        <td id=\"T_444b327a_49e2_11eb_8483_0242ac1c0002row1_col27\" class=\"data row1 col27\" >0</td>\n",
              "            </tr>\n",
              "            <tr>\n",
              "                        <th id=\"T_444b327a_49e2_11eb_8483_0242ac1c0002level0_row2\" class=\"row_heading level0 row2\" >2</th>\n",
              "                        <td id=\"T_444b327a_49e2_11eb_8483_0242ac1c0002row2_col0\" class=\"data row2 col0\" >0</td>\n",
              "                        <td id=\"T_444b327a_49e2_11eb_8483_0242ac1c0002row2_col1\" class=\"data row2 col1\" >0</td>\n",
              "                        <td id=\"T_444b327a_49e2_11eb_8483_0242ac1c0002row2_col2\" class=\"data row2 col2\" >0</td>\n",
              "                        <td id=\"T_444b327a_49e2_11eb_8483_0242ac1c0002row2_col3\" class=\"data row2 col3\" >0</td>\n",
              "                        <td id=\"T_444b327a_49e2_11eb_8483_0242ac1c0002row2_col4\" class=\"data row2 col4\" >0</td>\n",
              "                        <td id=\"T_444b327a_49e2_11eb_8483_0242ac1c0002row2_col5\" class=\"data row2 col5\" >0</td>\n",
              "                        <td id=\"T_444b327a_49e2_11eb_8483_0242ac1c0002row2_col6\" class=\"data row2 col6\" >0</td>\n",
              "                        <td id=\"T_444b327a_49e2_11eb_8483_0242ac1c0002row2_col7\" class=\"data row2 col7\" >0</td>\n",
              "                        <td id=\"T_444b327a_49e2_11eb_8483_0242ac1c0002row2_col8\" class=\"data row2 col8\" >0</td>\n",
              "                        <td id=\"T_444b327a_49e2_11eb_8483_0242ac1c0002row2_col9\" class=\"data row2 col9\" >0</td>\n",
              "                        <td id=\"T_444b327a_49e2_11eb_8483_0242ac1c0002row2_col10\" class=\"data row2 col10\" >0</td>\n",
              "                        <td id=\"T_444b327a_49e2_11eb_8483_0242ac1c0002row2_col11\" class=\"data row2 col11\" >0</td>\n",
              "                        <td id=\"T_444b327a_49e2_11eb_8483_0242ac1c0002row2_col12\" class=\"data row2 col12\" >0</td>\n",
              "                        <td id=\"T_444b327a_49e2_11eb_8483_0242ac1c0002row2_col13\" class=\"data row2 col13\" >0</td>\n",
              "                        <td id=\"T_444b327a_49e2_11eb_8483_0242ac1c0002row2_col14\" class=\"data row2 col14\" >0</td>\n",
              "                        <td id=\"T_444b327a_49e2_11eb_8483_0242ac1c0002row2_col15\" class=\"data row2 col15\" >0</td>\n",
              "                        <td id=\"T_444b327a_49e2_11eb_8483_0242ac1c0002row2_col16\" class=\"data row2 col16\" >0</td>\n",
              "                        <td id=\"T_444b327a_49e2_11eb_8483_0242ac1c0002row2_col17\" class=\"data row2 col17\" >0</td>\n",
              "                        <td id=\"T_444b327a_49e2_11eb_8483_0242ac1c0002row2_col18\" class=\"data row2 col18\" >0</td>\n",
              "                        <td id=\"T_444b327a_49e2_11eb_8483_0242ac1c0002row2_col19\" class=\"data row2 col19\" >0</td>\n",
              "                        <td id=\"T_444b327a_49e2_11eb_8483_0242ac1c0002row2_col20\" class=\"data row2 col20\" >0</td>\n",
              "                        <td id=\"T_444b327a_49e2_11eb_8483_0242ac1c0002row2_col21\" class=\"data row2 col21\" >0</td>\n",
              "                        <td id=\"T_444b327a_49e2_11eb_8483_0242ac1c0002row2_col22\" class=\"data row2 col22\" >0</td>\n",
              "                        <td id=\"T_444b327a_49e2_11eb_8483_0242ac1c0002row2_col23\" class=\"data row2 col23\" >0</td>\n",
              "                        <td id=\"T_444b327a_49e2_11eb_8483_0242ac1c0002row2_col24\" class=\"data row2 col24\" >0</td>\n",
              "                        <td id=\"T_444b327a_49e2_11eb_8483_0242ac1c0002row2_col25\" class=\"data row2 col25\" >0</td>\n",
              "                        <td id=\"T_444b327a_49e2_11eb_8483_0242ac1c0002row2_col26\" class=\"data row2 col26\" >0</td>\n",
              "                        <td id=\"T_444b327a_49e2_11eb_8483_0242ac1c0002row2_col27\" class=\"data row2 col27\" >0</td>\n",
              "            </tr>\n",
              "            <tr>\n",
              "                        <th id=\"T_444b327a_49e2_11eb_8483_0242ac1c0002level0_row3\" class=\"row_heading level0 row3\" >3</th>\n",
              "                        <td id=\"T_444b327a_49e2_11eb_8483_0242ac1c0002row3_col0\" class=\"data row3 col0\" >0</td>\n",
              "                        <td id=\"T_444b327a_49e2_11eb_8483_0242ac1c0002row3_col1\" class=\"data row3 col1\" >0</td>\n",
              "                        <td id=\"T_444b327a_49e2_11eb_8483_0242ac1c0002row3_col2\" class=\"data row3 col2\" >0</td>\n",
              "                        <td id=\"T_444b327a_49e2_11eb_8483_0242ac1c0002row3_col3\" class=\"data row3 col3\" >0</td>\n",
              "                        <td id=\"T_444b327a_49e2_11eb_8483_0242ac1c0002row3_col4\" class=\"data row3 col4\" >0</td>\n",
              "                        <td id=\"T_444b327a_49e2_11eb_8483_0242ac1c0002row3_col5\" class=\"data row3 col5\" >0</td>\n",
              "                        <td id=\"T_444b327a_49e2_11eb_8483_0242ac1c0002row3_col6\" class=\"data row3 col6\" >0</td>\n",
              "                        <td id=\"T_444b327a_49e2_11eb_8483_0242ac1c0002row3_col7\" class=\"data row3 col7\" >0</td>\n",
              "                        <td id=\"T_444b327a_49e2_11eb_8483_0242ac1c0002row3_col8\" class=\"data row3 col8\" >0</td>\n",
              "                        <td id=\"T_444b327a_49e2_11eb_8483_0242ac1c0002row3_col9\" class=\"data row3 col9\" >0</td>\n",
              "                        <td id=\"T_444b327a_49e2_11eb_8483_0242ac1c0002row3_col10\" class=\"data row3 col10\" >0</td>\n",
              "                        <td id=\"T_444b327a_49e2_11eb_8483_0242ac1c0002row3_col11\" class=\"data row3 col11\" >0</td>\n",
              "                        <td id=\"T_444b327a_49e2_11eb_8483_0242ac1c0002row3_col12\" class=\"data row3 col12\" >0</td>\n",
              "                        <td id=\"T_444b327a_49e2_11eb_8483_0242ac1c0002row3_col13\" class=\"data row3 col13\" >0</td>\n",
              "                        <td id=\"T_444b327a_49e2_11eb_8483_0242ac1c0002row3_col14\" class=\"data row3 col14\" >0</td>\n",
              "                        <td id=\"T_444b327a_49e2_11eb_8483_0242ac1c0002row3_col15\" class=\"data row3 col15\" >0</td>\n",
              "                        <td id=\"T_444b327a_49e2_11eb_8483_0242ac1c0002row3_col16\" class=\"data row3 col16\" >0</td>\n",
              "                        <td id=\"T_444b327a_49e2_11eb_8483_0242ac1c0002row3_col17\" class=\"data row3 col17\" >0</td>\n",
              "                        <td id=\"T_444b327a_49e2_11eb_8483_0242ac1c0002row3_col18\" class=\"data row3 col18\" >0</td>\n",
              "                        <td id=\"T_444b327a_49e2_11eb_8483_0242ac1c0002row3_col19\" class=\"data row3 col19\" >0</td>\n",
              "                        <td id=\"T_444b327a_49e2_11eb_8483_0242ac1c0002row3_col20\" class=\"data row3 col20\" >0</td>\n",
              "                        <td id=\"T_444b327a_49e2_11eb_8483_0242ac1c0002row3_col21\" class=\"data row3 col21\" >0</td>\n",
              "                        <td id=\"T_444b327a_49e2_11eb_8483_0242ac1c0002row3_col22\" class=\"data row3 col22\" >0</td>\n",
              "                        <td id=\"T_444b327a_49e2_11eb_8483_0242ac1c0002row3_col23\" class=\"data row3 col23\" >0</td>\n",
              "                        <td id=\"T_444b327a_49e2_11eb_8483_0242ac1c0002row3_col24\" class=\"data row3 col24\" >0</td>\n",
              "                        <td id=\"T_444b327a_49e2_11eb_8483_0242ac1c0002row3_col25\" class=\"data row3 col25\" >0</td>\n",
              "                        <td id=\"T_444b327a_49e2_11eb_8483_0242ac1c0002row3_col26\" class=\"data row3 col26\" >0</td>\n",
              "                        <td id=\"T_444b327a_49e2_11eb_8483_0242ac1c0002row3_col27\" class=\"data row3 col27\" >0</td>\n",
              "            </tr>\n",
              "            <tr>\n",
              "                        <th id=\"T_444b327a_49e2_11eb_8483_0242ac1c0002level0_row4\" class=\"row_heading level0 row4\" >4</th>\n",
              "                        <td id=\"T_444b327a_49e2_11eb_8483_0242ac1c0002row4_col0\" class=\"data row4 col0\" >0</td>\n",
              "                        <td id=\"T_444b327a_49e2_11eb_8483_0242ac1c0002row4_col1\" class=\"data row4 col1\" >0</td>\n",
              "                        <td id=\"T_444b327a_49e2_11eb_8483_0242ac1c0002row4_col2\" class=\"data row4 col2\" >0</td>\n",
              "                        <td id=\"T_444b327a_49e2_11eb_8483_0242ac1c0002row4_col3\" class=\"data row4 col3\" >0</td>\n",
              "                        <td id=\"T_444b327a_49e2_11eb_8483_0242ac1c0002row4_col4\" class=\"data row4 col4\" >0</td>\n",
              "                        <td id=\"T_444b327a_49e2_11eb_8483_0242ac1c0002row4_col5\" class=\"data row4 col5\" >0</td>\n",
              "                        <td id=\"T_444b327a_49e2_11eb_8483_0242ac1c0002row4_col6\" class=\"data row4 col6\" >0</td>\n",
              "                        <td id=\"T_444b327a_49e2_11eb_8483_0242ac1c0002row4_col7\" class=\"data row4 col7\" >0</td>\n",
              "                        <td id=\"T_444b327a_49e2_11eb_8483_0242ac1c0002row4_col8\" class=\"data row4 col8\" >0</td>\n",
              "                        <td id=\"T_444b327a_49e2_11eb_8483_0242ac1c0002row4_col9\" class=\"data row4 col9\" >0</td>\n",
              "                        <td id=\"T_444b327a_49e2_11eb_8483_0242ac1c0002row4_col10\" class=\"data row4 col10\" >0</td>\n",
              "                        <td id=\"T_444b327a_49e2_11eb_8483_0242ac1c0002row4_col11\" class=\"data row4 col11\" >0</td>\n",
              "                        <td id=\"T_444b327a_49e2_11eb_8483_0242ac1c0002row4_col12\" class=\"data row4 col12\" >0</td>\n",
              "                        <td id=\"T_444b327a_49e2_11eb_8483_0242ac1c0002row4_col13\" class=\"data row4 col13\" >0</td>\n",
              "                        <td id=\"T_444b327a_49e2_11eb_8483_0242ac1c0002row4_col14\" class=\"data row4 col14\" >0</td>\n",
              "                        <td id=\"T_444b327a_49e2_11eb_8483_0242ac1c0002row4_col15\" class=\"data row4 col15\" >0</td>\n",
              "                        <td id=\"T_444b327a_49e2_11eb_8483_0242ac1c0002row4_col16\" class=\"data row4 col16\" >0</td>\n",
              "                        <td id=\"T_444b327a_49e2_11eb_8483_0242ac1c0002row4_col17\" class=\"data row4 col17\" >28</td>\n",
              "                        <td id=\"T_444b327a_49e2_11eb_8483_0242ac1c0002row4_col18\" class=\"data row4 col18\" >241</td>\n",
              "                        <td id=\"T_444b327a_49e2_11eb_8483_0242ac1c0002row4_col19\" class=\"data row4 col19\" >221</td>\n",
              "                        <td id=\"T_444b327a_49e2_11eb_8483_0242ac1c0002row4_col20\" class=\"data row4 col20\" >3</td>\n",
              "                        <td id=\"T_444b327a_49e2_11eb_8483_0242ac1c0002row4_col21\" class=\"data row4 col21\" >0</td>\n",
              "                        <td id=\"T_444b327a_49e2_11eb_8483_0242ac1c0002row4_col22\" class=\"data row4 col22\" >0</td>\n",
              "                        <td id=\"T_444b327a_49e2_11eb_8483_0242ac1c0002row4_col23\" class=\"data row4 col23\" >0</td>\n",
              "                        <td id=\"T_444b327a_49e2_11eb_8483_0242ac1c0002row4_col24\" class=\"data row4 col24\" >0</td>\n",
              "                        <td id=\"T_444b327a_49e2_11eb_8483_0242ac1c0002row4_col25\" class=\"data row4 col25\" >0</td>\n",
              "                        <td id=\"T_444b327a_49e2_11eb_8483_0242ac1c0002row4_col26\" class=\"data row4 col26\" >0</td>\n",
              "                        <td id=\"T_444b327a_49e2_11eb_8483_0242ac1c0002row4_col27\" class=\"data row4 col27\" >0</td>\n",
              "            </tr>\n",
              "            <tr>\n",
              "                        <th id=\"T_444b327a_49e2_11eb_8483_0242ac1c0002level0_row5\" class=\"row_heading level0 row5\" >5</th>\n",
              "                        <td id=\"T_444b327a_49e2_11eb_8483_0242ac1c0002row5_col0\" class=\"data row5 col0\" >0</td>\n",
              "                        <td id=\"T_444b327a_49e2_11eb_8483_0242ac1c0002row5_col1\" class=\"data row5 col1\" >0</td>\n",
              "                        <td id=\"T_444b327a_49e2_11eb_8483_0242ac1c0002row5_col2\" class=\"data row5 col2\" >0</td>\n",
              "                        <td id=\"T_444b327a_49e2_11eb_8483_0242ac1c0002row5_col3\" class=\"data row5 col3\" >0</td>\n",
              "                        <td id=\"T_444b327a_49e2_11eb_8483_0242ac1c0002row5_col4\" class=\"data row5 col4\" >0</td>\n",
              "                        <td id=\"T_444b327a_49e2_11eb_8483_0242ac1c0002row5_col5\" class=\"data row5 col5\" >0</td>\n",
              "                        <td id=\"T_444b327a_49e2_11eb_8483_0242ac1c0002row5_col6\" class=\"data row5 col6\" >0</td>\n",
              "                        <td id=\"T_444b327a_49e2_11eb_8483_0242ac1c0002row5_col7\" class=\"data row5 col7\" >0</td>\n",
              "                        <td id=\"T_444b327a_49e2_11eb_8483_0242ac1c0002row5_col8\" class=\"data row5 col8\" >0</td>\n",
              "                        <td id=\"T_444b327a_49e2_11eb_8483_0242ac1c0002row5_col9\" class=\"data row5 col9\" >0</td>\n",
              "                        <td id=\"T_444b327a_49e2_11eb_8483_0242ac1c0002row5_col10\" class=\"data row5 col10\" >0</td>\n",
              "                        <td id=\"T_444b327a_49e2_11eb_8483_0242ac1c0002row5_col11\" class=\"data row5 col11\" >0</td>\n",
              "                        <td id=\"T_444b327a_49e2_11eb_8483_0242ac1c0002row5_col12\" class=\"data row5 col12\" >0</td>\n",
              "                        <td id=\"T_444b327a_49e2_11eb_8483_0242ac1c0002row5_col13\" class=\"data row5 col13\" >0</td>\n",
              "                        <td id=\"T_444b327a_49e2_11eb_8483_0242ac1c0002row5_col14\" class=\"data row5 col14\" >0</td>\n",
              "                        <td id=\"T_444b327a_49e2_11eb_8483_0242ac1c0002row5_col15\" class=\"data row5 col15\" >0</td>\n",
              "                        <td id=\"T_444b327a_49e2_11eb_8483_0242ac1c0002row5_col16\" class=\"data row5 col16\" >29</td>\n",
              "                        <td id=\"T_444b327a_49e2_11eb_8483_0242ac1c0002row5_col17\" class=\"data row5 col17\" >239</td>\n",
              "                        <td id=\"T_444b327a_49e2_11eb_8483_0242ac1c0002row5_col18\" class=\"data row5 col18\" >285</td>\n",
              "                        <td id=\"T_444b327a_49e2_11eb_8483_0242ac1c0002row5_col19\" class=\"data row5 col19\" >278</td>\n",
              "                        <td id=\"T_444b327a_49e2_11eb_8483_0242ac1c0002row5_col20\" class=\"data row5 col20\" >61</td>\n",
              "                        <td id=\"T_444b327a_49e2_11eb_8483_0242ac1c0002row5_col21\" class=\"data row5 col21\" >0</td>\n",
              "                        <td id=\"T_444b327a_49e2_11eb_8483_0242ac1c0002row5_col22\" class=\"data row5 col22\" >0</td>\n",
              "                        <td id=\"T_444b327a_49e2_11eb_8483_0242ac1c0002row5_col23\" class=\"data row5 col23\" >0</td>\n",
              "                        <td id=\"T_444b327a_49e2_11eb_8483_0242ac1c0002row5_col24\" class=\"data row5 col24\" >0</td>\n",
              "                        <td id=\"T_444b327a_49e2_11eb_8483_0242ac1c0002row5_col25\" class=\"data row5 col25\" >0</td>\n",
              "                        <td id=\"T_444b327a_49e2_11eb_8483_0242ac1c0002row5_col26\" class=\"data row5 col26\" >0</td>\n",
              "                        <td id=\"T_444b327a_49e2_11eb_8483_0242ac1c0002row5_col27\" class=\"data row5 col27\" >0</td>\n",
              "            </tr>\n",
              "            <tr>\n",
              "                        <th id=\"T_444b327a_49e2_11eb_8483_0242ac1c0002level0_row6\" class=\"row_heading level0 row6\" >6</th>\n",
              "                        <td id=\"T_444b327a_49e2_11eb_8483_0242ac1c0002row6_col0\" class=\"data row6 col0\" >0</td>\n",
              "                        <td id=\"T_444b327a_49e2_11eb_8483_0242ac1c0002row6_col1\" class=\"data row6 col1\" >0</td>\n",
              "                        <td id=\"T_444b327a_49e2_11eb_8483_0242ac1c0002row6_col2\" class=\"data row6 col2\" >0</td>\n",
              "                        <td id=\"T_444b327a_49e2_11eb_8483_0242ac1c0002row6_col3\" class=\"data row6 col3\" >0</td>\n",
              "                        <td id=\"T_444b327a_49e2_11eb_8483_0242ac1c0002row6_col4\" class=\"data row6 col4\" >0</td>\n",
              "                        <td id=\"T_444b327a_49e2_11eb_8483_0242ac1c0002row6_col5\" class=\"data row6 col5\" >0</td>\n",
              "                        <td id=\"T_444b327a_49e2_11eb_8483_0242ac1c0002row6_col6\" class=\"data row6 col6\" >0</td>\n",
              "                        <td id=\"T_444b327a_49e2_11eb_8483_0242ac1c0002row6_col7\" class=\"data row6 col7\" >0</td>\n",
              "                        <td id=\"T_444b327a_49e2_11eb_8483_0242ac1c0002row6_col8\" class=\"data row6 col8\" >0</td>\n",
              "                        <td id=\"T_444b327a_49e2_11eb_8483_0242ac1c0002row6_col9\" class=\"data row6 col9\" >0</td>\n",
              "                        <td id=\"T_444b327a_49e2_11eb_8483_0242ac1c0002row6_col10\" class=\"data row6 col10\" >0</td>\n",
              "                        <td id=\"T_444b327a_49e2_11eb_8483_0242ac1c0002row6_col11\" class=\"data row6 col11\" >0</td>\n",
              "                        <td id=\"T_444b327a_49e2_11eb_8483_0242ac1c0002row6_col12\" class=\"data row6 col12\" >0</td>\n",
              "                        <td id=\"T_444b327a_49e2_11eb_8483_0242ac1c0002row6_col13\" class=\"data row6 col13\" >0</td>\n",
              "                        <td id=\"T_444b327a_49e2_11eb_8483_0242ac1c0002row6_col14\" class=\"data row6 col14\" >0</td>\n",
              "                        <td id=\"T_444b327a_49e2_11eb_8483_0242ac1c0002row6_col15\" class=\"data row6 col15\" >94</td>\n",
              "                        <td id=\"T_444b327a_49e2_11eb_8483_0242ac1c0002row6_col16\" class=\"data row6 col16\" >239</td>\n",
              "                        <td id=\"T_444b327a_49e2_11eb_8483_0242ac1c0002row6_col17\" class=\"data row6 col17\" >285</td>\n",
              "                        <td id=\"T_444b327a_49e2_11eb_8483_0242ac1c0002row6_col18\" class=\"data row6 col18\" >285</td>\n",
              "                        <td id=\"T_444b327a_49e2_11eb_8483_0242ac1c0002row6_col19\" class=\"data row6 col19\" >197</td>\n",
              "                        <td id=\"T_444b327a_49e2_11eb_8483_0242ac1c0002row6_col20\" class=\"data row6 col20\" >0</td>\n",
              "                        <td id=\"T_444b327a_49e2_11eb_8483_0242ac1c0002row6_col21\" class=\"data row6 col21\" >20</td>\n",
              "                        <td id=\"T_444b327a_49e2_11eb_8483_0242ac1c0002row6_col22\" class=\"data row6 col22\" >0</td>\n",
              "                        <td id=\"T_444b327a_49e2_11eb_8483_0242ac1c0002row6_col23\" class=\"data row6 col23\" >0</td>\n",
              "                        <td id=\"T_444b327a_49e2_11eb_8483_0242ac1c0002row6_col24\" class=\"data row6 col24\" >0</td>\n",
              "                        <td id=\"T_444b327a_49e2_11eb_8483_0242ac1c0002row6_col25\" class=\"data row6 col25\" >0</td>\n",
              "                        <td id=\"T_444b327a_49e2_11eb_8483_0242ac1c0002row6_col26\" class=\"data row6 col26\" >0</td>\n",
              "                        <td id=\"T_444b327a_49e2_11eb_8483_0242ac1c0002row6_col27\" class=\"data row6 col27\" >0</td>\n",
              "            </tr>\n",
              "            <tr>\n",
              "                        <th id=\"T_444b327a_49e2_11eb_8483_0242ac1c0002level0_row7\" class=\"row_heading level0 row7\" >7</th>\n",
              "                        <td id=\"T_444b327a_49e2_11eb_8483_0242ac1c0002row7_col0\" class=\"data row7 col0\" >0</td>\n",
              "                        <td id=\"T_444b327a_49e2_11eb_8483_0242ac1c0002row7_col1\" class=\"data row7 col1\" >0</td>\n",
              "                        <td id=\"T_444b327a_49e2_11eb_8483_0242ac1c0002row7_col2\" class=\"data row7 col2\" >0</td>\n",
              "                        <td id=\"T_444b327a_49e2_11eb_8483_0242ac1c0002row7_col3\" class=\"data row7 col3\" >0</td>\n",
              "                        <td id=\"T_444b327a_49e2_11eb_8483_0242ac1c0002row7_col4\" class=\"data row7 col4\" >0</td>\n",
              "                        <td id=\"T_444b327a_49e2_11eb_8483_0242ac1c0002row7_col5\" class=\"data row7 col5\" >0</td>\n",
              "                        <td id=\"T_444b327a_49e2_11eb_8483_0242ac1c0002row7_col6\" class=\"data row7 col6\" >0</td>\n",
              "                        <td id=\"T_444b327a_49e2_11eb_8483_0242ac1c0002row7_col7\" class=\"data row7 col7\" >0</td>\n",
              "                        <td id=\"T_444b327a_49e2_11eb_8483_0242ac1c0002row7_col8\" class=\"data row7 col8\" >0</td>\n",
              "                        <td id=\"T_444b327a_49e2_11eb_8483_0242ac1c0002row7_col9\" class=\"data row7 col9\" >0</td>\n",
              "                        <td id=\"T_444b327a_49e2_11eb_8483_0242ac1c0002row7_col10\" class=\"data row7 col10\" >0</td>\n",
              "                        <td id=\"T_444b327a_49e2_11eb_8483_0242ac1c0002row7_col11\" class=\"data row7 col11\" >0</td>\n",
              "                        <td id=\"T_444b327a_49e2_11eb_8483_0242ac1c0002row7_col12\" class=\"data row7 col12\" >0</td>\n",
              "                        <td id=\"T_444b327a_49e2_11eb_8483_0242ac1c0002row7_col13\" class=\"data row7 col13\" >0</td>\n",
              "                        <td id=\"T_444b327a_49e2_11eb_8483_0242ac1c0002row7_col14\" class=\"data row7 col14\" >27</td>\n",
              "                        <td id=\"T_444b327a_49e2_11eb_8483_0242ac1c0002row7_col15\" class=\"data row7 col15\" >241</td>\n",
              "                        <td id=\"T_444b327a_49e2_11eb_8483_0242ac1c0002row7_col16\" class=\"data row7 col16\" >285</td>\n",
              "                        <td id=\"T_444b327a_49e2_11eb_8483_0242ac1c0002row7_col17\" class=\"data row7 col17\" >285</td>\n",
              "                        <td id=\"T_444b327a_49e2_11eb_8483_0242ac1c0002row7_col18\" class=\"data row7 col18\" >223</td>\n",
              "                        <td id=\"T_444b327a_49e2_11eb_8483_0242ac1c0002row7_col19\" class=\"data row7 col19\" >27</td>\n",
              "                        <td id=\"T_444b327a_49e2_11eb_8483_0242ac1c0002row7_col20\" class=\"data row7 col20\" >81</td>\n",
              "                        <td id=\"T_444b327a_49e2_11eb_8483_0242ac1c0002row7_col21\" class=\"data row7 col21\" >236</td>\n",
              "                        <td id=\"T_444b327a_49e2_11eb_8483_0242ac1c0002row7_col22\" class=\"data row7 col22\" >53</td>\n",
              "                        <td id=\"T_444b327a_49e2_11eb_8483_0242ac1c0002row7_col23\" class=\"data row7 col23\" >0</td>\n",
              "                        <td id=\"T_444b327a_49e2_11eb_8483_0242ac1c0002row7_col24\" class=\"data row7 col24\" >0</td>\n",
              "                        <td id=\"T_444b327a_49e2_11eb_8483_0242ac1c0002row7_col25\" class=\"data row7 col25\" >0</td>\n",
              "                        <td id=\"T_444b327a_49e2_11eb_8483_0242ac1c0002row7_col26\" class=\"data row7 col26\" >0</td>\n",
              "                        <td id=\"T_444b327a_49e2_11eb_8483_0242ac1c0002row7_col27\" class=\"data row7 col27\" >0</td>\n",
              "            </tr>\n",
              "            <tr>\n",
              "                        <th id=\"T_444b327a_49e2_11eb_8483_0242ac1c0002level0_row8\" class=\"row_heading level0 row8\" >8</th>\n",
              "                        <td id=\"T_444b327a_49e2_11eb_8483_0242ac1c0002row8_col0\" class=\"data row8 col0\" >0</td>\n",
              "                        <td id=\"T_444b327a_49e2_11eb_8483_0242ac1c0002row8_col1\" class=\"data row8 col1\" >0</td>\n",
              "                        <td id=\"T_444b327a_49e2_11eb_8483_0242ac1c0002row8_col2\" class=\"data row8 col2\" >0</td>\n",
              "                        <td id=\"T_444b327a_49e2_11eb_8483_0242ac1c0002row8_col3\" class=\"data row8 col3\" >0</td>\n",
              "                        <td id=\"T_444b327a_49e2_11eb_8483_0242ac1c0002row8_col4\" class=\"data row8 col4\" >0</td>\n",
              "                        <td id=\"T_444b327a_49e2_11eb_8483_0242ac1c0002row8_col5\" class=\"data row8 col5\" >0</td>\n",
              "                        <td id=\"T_444b327a_49e2_11eb_8483_0242ac1c0002row8_col6\" class=\"data row8 col6\" >0</td>\n",
              "                        <td id=\"T_444b327a_49e2_11eb_8483_0242ac1c0002row8_col7\" class=\"data row8 col7\" >0</td>\n",
              "                        <td id=\"T_444b327a_49e2_11eb_8483_0242ac1c0002row8_col8\" class=\"data row8 col8\" >0</td>\n",
              "                        <td id=\"T_444b327a_49e2_11eb_8483_0242ac1c0002row8_col9\" class=\"data row8 col9\" >0</td>\n",
              "                        <td id=\"T_444b327a_49e2_11eb_8483_0242ac1c0002row8_col10\" class=\"data row8 col10\" >0</td>\n",
              "                        <td id=\"T_444b327a_49e2_11eb_8483_0242ac1c0002row8_col11\" class=\"data row8 col11\" >0</td>\n",
              "                        <td id=\"T_444b327a_49e2_11eb_8483_0242ac1c0002row8_col12\" class=\"data row8 col12\" >0</td>\n",
              "                        <td id=\"T_444b327a_49e2_11eb_8483_0242ac1c0002row8_col13\" class=\"data row8 col13\" >0</td>\n",
              "                        <td id=\"T_444b327a_49e2_11eb_8483_0242ac1c0002row8_col14\" class=\"data row8 col14\" >234</td>\n",
              "                        <td id=\"T_444b327a_49e2_11eb_8483_0242ac1c0002row8_col15\" class=\"data row8 col15\" >286</td>\n",
              "                        <td id=\"T_444b327a_49e2_11eb_8483_0242ac1c0002row8_col16\" class=\"data row8 col16\" >278</td>\n",
              "                        <td id=\"T_444b327a_49e2_11eb_8483_0242ac1c0002row8_col17\" class=\"data row8 col17\" >132</td>\n",
              "                        <td id=\"T_444b327a_49e2_11eb_8483_0242ac1c0002row8_col18\" class=\"data row8 col18\" >27</td>\n",
              "                        <td id=\"T_444b327a_49e2_11eb_8483_0242ac1c0002row8_col19\" class=\"data row8 col19\" >49</td>\n",
              "                        <td id=\"T_444b327a_49e2_11eb_8483_0242ac1c0002row8_col20\" class=\"data row8 col20\" >266</td>\n",
              "                        <td id=\"T_444b327a_49e2_11eb_8483_0242ac1c0002row8_col21\" class=\"data row8 col21\" >285</td>\n",
              "                        <td id=\"T_444b327a_49e2_11eb_8483_0242ac1c0002row8_col22\" class=\"data row8 col22\" >175</td>\n",
              "                        <td id=\"T_444b327a_49e2_11eb_8483_0242ac1c0002row8_col23\" class=\"data row8 col23\" >0</td>\n",
              "                        <td id=\"T_444b327a_49e2_11eb_8483_0242ac1c0002row8_col24\" class=\"data row8 col24\" >0</td>\n",
              "                        <td id=\"T_444b327a_49e2_11eb_8483_0242ac1c0002row8_col25\" class=\"data row8 col25\" >0</td>\n",
              "                        <td id=\"T_444b327a_49e2_11eb_8483_0242ac1c0002row8_col26\" class=\"data row8 col26\" >0</td>\n",
              "                        <td id=\"T_444b327a_49e2_11eb_8483_0242ac1c0002row8_col27\" class=\"data row8 col27\" >0</td>\n",
              "            </tr>\n",
              "            <tr>\n",
              "                        <th id=\"T_444b327a_49e2_11eb_8483_0242ac1c0002level0_row9\" class=\"row_heading level0 row9\" >9</th>\n",
              "                        <td id=\"T_444b327a_49e2_11eb_8483_0242ac1c0002row9_col0\" class=\"data row9 col0\" >0</td>\n",
              "                        <td id=\"T_444b327a_49e2_11eb_8483_0242ac1c0002row9_col1\" class=\"data row9 col1\" >0</td>\n",
              "                        <td id=\"T_444b327a_49e2_11eb_8483_0242ac1c0002row9_col2\" class=\"data row9 col2\" >0</td>\n",
              "                        <td id=\"T_444b327a_49e2_11eb_8483_0242ac1c0002row9_col3\" class=\"data row9 col3\" >0</td>\n",
              "                        <td id=\"T_444b327a_49e2_11eb_8483_0242ac1c0002row9_col4\" class=\"data row9 col4\" >0</td>\n",
              "                        <td id=\"T_444b327a_49e2_11eb_8483_0242ac1c0002row9_col5\" class=\"data row9 col5\" >0</td>\n",
              "                        <td id=\"T_444b327a_49e2_11eb_8483_0242ac1c0002row9_col6\" class=\"data row9 col6\" >0</td>\n",
              "                        <td id=\"T_444b327a_49e2_11eb_8483_0242ac1c0002row9_col7\" class=\"data row9 col7\" >0</td>\n",
              "                        <td id=\"T_444b327a_49e2_11eb_8483_0242ac1c0002row9_col8\" class=\"data row9 col8\" >0</td>\n",
              "                        <td id=\"T_444b327a_49e2_11eb_8483_0242ac1c0002row9_col9\" class=\"data row9 col9\" >0</td>\n",
              "                        <td id=\"T_444b327a_49e2_11eb_8483_0242ac1c0002row9_col10\" class=\"data row9 col10\" >0</td>\n",
              "                        <td id=\"T_444b327a_49e2_11eb_8483_0242ac1c0002row9_col11\" class=\"data row9 col11\" >0</td>\n",
              "                        <td id=\"T_444b327a_49e2_11eb_8483_0242ac1c0002row9_col12\" class=\"data row9 col12\" >0</td>\n",
              "                        <td id=\"T_444b327a_49e2_11eb_8483_0242ac1c0002row9_col13\" class=\"data row9 col13\" >95</td>\n",
              "                        <td id=\"T_444b327a_49e2_11eb_8483_0242ac1c0002row9_col14\" class=\"data row9 col14\" >283</td>\n",
              "                        <td id=\"T_444b327a_49e2_11eb_8483_0242ac1c0002row9_col15\" class=\"data row9 col15\" >283</td>\n",
              "                        <td id=\"T_444b327a_49e2_11eb_8483_0242ac1c0002row9_col16\" class=\"data row9 col16\" >120</td>\n",
              "                        <td id=\"T_444b327a_49e2_11eb_8483_0242ac1c0002row9_col17\" class=\"data row9 col17\" >0</td>\n",
              "                        <td id=\"T_444b327a_49e2_11eb_8483_0242ac1c0002row9_col18\" class=\"data row9 col18\" >81</td>\n",
              "                        <td id=\"T_444b327a_49e2_11eb_8483_0242ac1c0002row9_col19\" class=\"data row9 col19\" >234</td>\n",
              "                        <td id=\"T_444b327a_49e2_11eb_8483_0242ac1c0002row9_col20\" class=\"data row9 col20\" >285</td>\n",
              "                        <td id=\"T_444b327a_49e2_11eb_8483_0242ac1c0002row9_col21\" class=\"data row9 col21\" >285</td>\n",
              "                        <td id=\"T_444b327a_49e2_11eb_8483_0242ac1c0002row9_col22\" class=\"data row9 col22\" >175</td>\n",
              "                        <td id=\"T_444b327a_49e2_11eb_8483_0242ac1c0002row9_col23\" class=\"data row9 col23\" >0</td>\n",
              "                        <td id=\"T_444b327a_49e2_11eb_8483_0242ac1c0002row9_col24\" class=\"data row9 col24\" >0</td>\n",
              "                        <td id=\"T_444b327a_49e2_11eb_8483_0242ac1c0002row9_col25\" class=\"data row9 col25\" >0</td>\n",
              "                        <td id=\"T_444b327a_49e2_11eb_8483_0242ac1c0002row9_col26\" class=\"data row9 col26\" >0</td>\n",
              "                        <td id=\"T_444b327a_49e2_11eb_8483_0242ac1c0002row9_col27\" class=\"data row9 col27\" >0</td>\n",
              "            </tr>\n",
              "            <tr>\n",
              "                        <th id=\"T_444b327a_49e2_11eb_8483_0242ac1c0002level0_row10\" class=\"row_heading level0 row10\" >10</th>\n",
              "                        <td id=\"T_444b327a_49e2_11eb_8483_0242ac1c0002row10_col0\" class=\"data row10 col0\" >0</td>\n",
              "                        <td id=\"T_444b327a_49e2_11eb_8483_0242ac1c0002row10_col1\" class=\"data row10 col1\" >0</td>\n",
              "                        <td id=\"T_444b327a_49e2_11eb_8483_0242ac1c0002row10_col2\" class=\"data row10 col2\" >0</td>\n",
              "                        <td id=\"T_444b327a_49e2_11eb_8483_0242ac1c0002row10_col3\" class=\"data row10 col3\" >0</td>\n",
              "                        <td id=\"T_444b327a_49e2_11eb_8483_0242ac1c0002row10_col4\" class=\"data row10 col4\" >0</td>\n",
              "                        <td id=\"T_444b327a_49e2_11eb_8483_0242ac1c0002row10_col5\" class=\"data row10 col5\" >0</td>\n",
              "                        <td id=\"T_444b327a_49e2_11eb_8483_0242ac1c0002row10_col6\" class=\"data row10 col6\" >0</td>\n",
              "                        <td id=\"T_444b327a_49e2_11eb_8483_0242ac1c0002row10_col7\" class=\"data row10 col7\" >0</td>\n",
              "                        <td id=\"T_444b327a_49e2_11eb_8483_0242ac1c0002row10_col8\" class=\"data row10 col8\" >0</td>\n",
              "                        <td id=\"T_444b327a_49e2_11eb_8483_0242ac1c0002row10_col9\" class=\"data row10 col9\" >0</td>\n",
              "                        <td id=\"T_444b327a_49e2_11eb_8483_0242ac1c0002row10_col10\" class=\"data row10 col10\" >0</td>\n",
              "                        <td id=\"T_444b327a_49e2_11eb_8483_0242ac1c0002row10_col11\" class=\"data row10 col11\" >0</td>\n",
              "                        <td id=\"T_444b327a_49e2_11eb_8483_0242ac1c0002row10_col12\" class=\"data row10 col12\" >89</td>\n",
              "                        <td id=\"T_444b327a_49e2_11eb_8483_0242ac1c0002row10_col13\" class=\"data row10 col13\" >255</td>\n",
              "                        <td id=\"T_444b327a_49e2_11eb_8483_0242ac1c0002row10_col14\" class=\"data row10 col14\" >285</td>\n",
              "                        <td id=\"T_444b327a_49e2_11eb_8483_0242ac1c0002row10_col15\" class=\"data row10 col15\" >227</td>\n",
              "                        <td id=\"T_444b327a_49e2_11eb_8483_0242ac1c0002row10_col16\" class=\"data row10 col16\" >0</td>\n",
              "                        <td id=\"T_444b327a_49e2_11eb_8483_0242ac1c0002row10_col17\" class=\"data row10 col17\" >14</td>\n",
              "                        <td id=\"T_444b327a_49e2_11eb_8483_0242ac1c0002row10_col18\" class=\"data row10 col18\" >223</td>\n",
              "                        <td id=\"T_444b327a_49e2_11eb_8483_0242ac1c0002row10_col19\" class=\"data row10 col19\" >285</td>\n",
              "                        <td id=\"T_444b327a_49e2_11eb_8483_0242ac1c0002row10_col20\" class=\"data row10 col20\" >285</td>\n",
              "                        <td id=\"T_444b327a_49e2_11eb_8483_0242ac1c0002row10_col21\" class=\"data row10 col21\" >253</td>\n",
              "                        <td id=\"T_444b327a_49e2_11eb_8483_0242ac1c0002row10_col22\" class=\"data row10 col22\" >117</td>\n",
              "                        <td id=\"T_444b327a_49e2_11eb_8483_0242ac1c0002row10_col23\" class=\"data row10 col23\" >0</td>\n",
              "                        <td id=\"T_444b327a_49e2_11eb_8483_0242ac1c0002row10_col24\" class=\"data row10 col24\" >0</td>\n",
              "                        <td id=\"T_444b327a_49e2_11eb_8483_0242ac1c0002row10_col25\" class=\"data row10 col25\" >0</td>\n",
              "                        <td id=\"T_444b327a_49e2_11eb_8483_0242ac1c0002row10_col26\" class=\"data row10 col26\" >0</td>\n",
              "                        <td id=\"T_444b327a_49e2_11eb_8483_0242ac1c0002row10_col27\" class=\"data row10 col27\" >0</td>\n",
              "            </tr>\n",
              "            <tr>\n",
              "                        <th id=\"T_444b327a_49e2_11eb_8483_0242ac1c0002level0_row11\" class=\"row_heading level0 row11\" >11</th>\n",
              "                        <td id=\"T_444b327a_49e2_11eb_8483_0242ac1c0002row11_col0\" class=\"data row11 col0\" >0</td>\n",
              "                        <td id=\"T_444b327a_49e2_11eb_8483_0242ac1c0002row11_col1\" class=\"data row11 col1\" >0</td>\n",
              "                        <td id=\"T_444b327a_49e2_11eb_8483_0242ac1c0002row11_col2\" class=\"data row11 col2\" >0</td>\n",
              "                        <td id=\"T_444b327a_49e2_11eb_8483_0242ac1c0002row11_col3\" class=\"data row11 col3\" >0</td>\n",
              "                        <td id=\"T_444b327a_49e2_11eb_8483_0242ac1c0002row11_col4\" class=\"data row11 col4\" >0</td>\n",
              "                        <td id=\"T_444b327a_49e2_11eb_8483_0242ac1c0002row11_col5\" class=\"data row11 col5\" >0</td>\n",
              "                        <td id=\"T_444b327a_49e2_11eb_8483_0242ac1c0002row11_col6\" class=\"data row11 col6\" >0</td>\n",
              "                        <td id=\"T_444b327a_49e2_11eb_8483_0242ac1c0002row11_col7\" class=\"data row11 col7\" >0</td>\n",
              "                        <td id=\"T_444b327a_49e2_11eb_8483_0242ac1c0002row11_col8\" class=\"data row11 col8\" >0</td>\n",
              "                        <td id=\"T_444b327a_49e2_11eb_8483_0242ac1c0002row11_col9\" class=\"data row11 col9\" >0</td>\n",
              "                        <td id=\"T_444b327a_49e2_11eb_8483_0242ac1c0002row11_col10\" class=\"data row11 col10\" >0</td>\n",
              "                        <td id=\"T_444b327a_49e2_11eb_8483_0242ac1c0002row11_col11\" class=\"data row11 col11\" >0</td>\n",
              "                        <td id=\"T_444b327a_49e2_11eb_8483_0242ac1c0002row11_col12\" class=\"data row11 col12\" >109</td>\n",
              "                        <td id=\"T_444b327a_49e2_11eb_8483_0242ac1c0002row11_col13\" class=\"data row11 col13\" >285</td>\n",
              "                        <td id=\"T_444b327a_49e2_11eb_8483_0242ac1c0002row11_col14\" class=\"data row11 col14\" >285</td>\n",
              "                        <td id=\"T_444b327a_49e2_11eb_8483_0242ac1c0002row11_col15\" class=\"data row11 col15\" >137</td>\n",
              "                        <td id=\"T_444b327a_49e2_11eb_8483_0242ac1c0002row11_col16\" class=\"data row11 col16\" >77</td>\n",
              "                        <td id=\"T_444b327a_49e2_11eb_8483_0242ac1c0002row11_col17\" class=\"data row11 col17\" >251</td>\n",
              "                        <td id=\"T_444b327a_49e2_11eb_8483_0242ac1c0002row11_col18\" class=\"data row11 col18\" >285</td>\n",
              "                        <td id=\"T_444b327a_49e2_11eb_8483_0242ac1c0002row11_col19\" class=\"data row11 col19\" >285</td>\n",
              "                        <td id=\"T_444b327a_49e2_11eb_8483_0242ac1c0002row11_col20\" class=\"data row11 col20\" >253</td>\n",
              "                        <td id=\"T_444b327a_49e2_11eb_8483_0242ac1c0002row11_col21\" class=\"data row11 col21\" >52</td>\n",
              "                        <td id=\"T_444b327a_49e2_11eb_8483_0242ac1c0002row11_col22\" class=\"data row11 col22\" >0</td>\n",
              "                        <td id=\"T_444b327a_49e2_11eb_8483_0242ac1c0002row11_col23\" class=\"data row11 col23\" >0</td>\n",
              "                        <td id=\"T_444b327a_49e2_11eb_8483_0242ac1c0002row11_col24\" class=\"data row11 col24\" >0</td>\n",
              "                        <td id=\"T_444b327a_49e2_11eb_8483_0242ac1c0002row11_col25\" class=\"data row11 col25\" >0</td>\n",
              "                        <td id=\"T_444b327a_49e2_11eb_8483_0242ac1c0002row11_col26\" class=\"data row11 col26\" >0</td>\n",
              "                        <td id=\"T_444b327a_49e2_11eb_8483_0242ac1c0002row11_col27\" class=\"data row11 col27\" >0</td>\n",
              "            </tr>\n",
              "            <tr>\n",
              "                        <th id=\"T_444b327a_49e2_11eb_8483_0242ac1c0002level0_row12\" class=\"row_heading level0 row12\" >12</th>\n",
              "                        <td id=\"T_444b327a_49e2_11eb_8483_0242ac1c0002row12_col0\" class=\"data row12 col0\" >0</td>\n",
              "                        <td id=\"T_444b327a_49e2_11eb_8483_0242ac1c0002row12_col1\" class=\"data row12 col1\" >0</td>\n",
              "                        <td id=\"T_444b327a_49e2_11eb_8483_0242ac1c0002row12_col2\" class=\"data row12 col2\" >0</td>\n",
              "                        <td id=\"T_444b327a_49e2_11eb_8483_0242ac1c0002row12_col3\" class=\"data row12 col3\" >0</td>\n",
              "                        <td id=\"T_444b327a_49e2_11eb_8483_0242ac1c0002row12_col4\" class=\"data row12 col4\" >0</td>\n",
              "                        <td id=\"T_444b327a_49e2_11eb_8483_0242ac1c0002row12_col5\" class=\"data row12 col5\" >0</td>\n",
              "                        <td id=\"T_444b327a_49e2_11eb_8483_0242ac1c0002row12_col6\" class=\"data row12 col6\" >0</td>\n",
              "                        <td id=\"T_444b327a_49e2_11eb_8483_0242ac1c0002row12_col7\" class=\"data row12 col7\" >0</td>\n",
              "                        <td id=\"T_444b327a_49e2_11eb_8483_0242ac1c0002row12_col8\" class=\"data row12 col8\" >0</td>\n",
              "                        <td id=\"T_444b327a_49e2_11eb_8483_0242ac1c0002row12_col9\" class=\"data row12 col9\" >0</td>\n",
              "                        <td id=\"T_444b327a_49e2_11eb_8483_0242ac1c0002row12_col10\" class=\"data row12 col10\" >0</td>\n",
              "                        <td id=\"T_444b327a_49e2_11eb_8483_0242ac1c0002row12_col11\" class=\"data row12 col11\" >0</td>\n",
              "                        <td id=\"T_444b327a_49e2_11eb_8483_0242ac1c0002row12_col12\" class=\"data row12 col12\" >167</td>\n",
              "                        <td id=\"T_444b327a_49e2_11eb_8483_0242ac1c0002row12_col13\" class=\"data row12 col13\" >285</td>\n",
              "                        <td id=\"T_444b327a_49e2_11eb_8483_0242ac1c0002row12_col14\" class=\"data row12 col14\" >160</td>\n",
              "                        <td id=\"T_444b327a_49e2_11eb_8483_0242ac1c0002row12_col15\" class=\"data row12 col15\" >207</td>\n",
              "                        <td id=\"T_444b327a_49e2_11eb_8483_0242ac1c0002row12_col16\" class=\"data row12 col16\" >274</td>\n",
              "                        <td id=\"T_444b327a_49e2_11eb_8483_0242ac1c0002row12_col17\" class=\"data row12 col17\" >285</td>\n",
              "                        <td id=\"T_444b327a_49e2_11eb_8483_0242ac1c0002row12_col18\" class=\"data row12 col18\" >285</td>\n",
              "                        <td id=\"T_444b327a_49e2_11eb_8483_0242ac1c0002row12_col19\" class=\"data row12 col19\" >223</td>\n",
              "                        <td id=\"T_444b327a_49e2_11eb_8483_0242ac1c0002row12_col20\" class=\"data row12 col20\" >19</td>\n",
              "                        <td id=\"T_444b327a_49e2_11eb_8483_0242ac1c0002row12_col21\" class=\"data row12 col21\" >0</td>\n",
              "                        <td id=\"T_444b327a_49e2_11eb_8483_0242ac1c0002row12_col22\" class=\"data row12 col22\" >0</td>\n",
              "                        <td id=\"T_444b327a_49e2_11eb_8483_0242ac1c0002row12_col23\" class=\"data row12 col23\" >0</td>\n",
              "                        <td id=\"T_444b327a_49e2_11eb_8483_0242ac1c0002row12_col24\" class=\"data row12 col24\" >0</td>\n",
              "                        <td id=\"T_444b327a_49e2_11eb_8483_0242ac1c0002row12_col25\" class=\"data row12 col25\" >0</td>\n",
              "                        <td id=\"T_444b327a_49e2_11eb_8483_0242ac1c0002row12_col26\" class=\"data row12 col26\" >0</td>\n",
              "                        <td id=\"T_444b327a_49e2_11eb_8483_0242ac1c0002row12_col27\" class=\"data row12 col27\" >0</td>\n",
              "            </tr>\n",
              "            <tr>\n",
              "                        <th id=\"T_444b327a_49e2_11eb_8483_0242ac1c0002level0_row13\" class=\"row_heading level0 row13\" >13</th>\n",
              "                        <td id=\"T_444b327a_49e2_11eb_8483_0242ac1c0002row13_col0\" class=\"data row13 col0\" >0</td>\n",
              "                        <td id=\"T_444b327a_49e2_11eb_8483_0242ac1c0002row13_col1\" class=\"data row13 col1\" >0</td>\n",
              "                        <td id=\"T_444b327a_49e2_11eb_8483_0242ac1c0002row13_col2\" class=\"data row13 col2\" >0</td>\n",
              "                        <td id=\"T_444b327a_49e2_11eb_8483_0242ac1c0002row13_col3\" class=\"data row13 col3\" >0</td>\n",
              "                        <td id=\"T_444b327a_49e2_11eb_8483_0242ac1c0002row13_col4\" class=\"data row13 col4\" >0</td>\n",
              "                        <td id=\"T_444b327a_49e2_11eb_8483_0242ac1c0002row13_col5\" class=\"data row13 col5\" >0</td>\n",
              "                        <td id=\"T_444b327a_49e2_11eb_8483_0242ac1c0002row13_col6\" class=\"data row13 col6\" >0</td>\n",
              "                        <td id=\"T_444b327a_49e2_11eb_8483_0242ac1c0002row13_col7\" class=\"data row13 col7\" >0</td>\n",
              "                        <td id=\"T_444b327a_49e2_11eb_8483_0242ac1c0002row13_col8\" class=\"data row13 col8\" >0</td>\n",
              "                        <td id=\"T_444b327a_49e2_11eb_8483_0242ac1c0002row13_col9\" class=\"data row13 col9\" >0</td>\n",
              "                        <td id=\"T_444b327a_49e2_11eb_8483_0242ac1c0002row13_col10\" class=\"data row13 col10\" >0</td>\n",
              "                        <td id=\"T_444b327a_49e2_11eb_8483_0242ac1c0002row13_col11\" class=\"data row13 col11\" >0</td>\n",
              "                        <td id=\"T_444b327a_49e2_11eb_8483_0242ac1c0002row13_col12\" class=\"data row13 col12\" >245</td>\n",
              "                        <td id=\"T_444b327a_49e2_11eb_8483_0242ac1c0002row13_col13\" class=\"data row13 col13\" >285</td>\n",
              "                        <td id=\"T_444b327a_49e2_11eb_8483_0242ac1c0002row13_col14\" class=\"data row13 col14\" >279</td>\n",
              "                        <td id=\"T_444b327a_49e2_11eb_8483_0242ac1c0002row13_col15\" class=\"data row13 col15\" >286</td>\n",
              "                        <td id=\"T_444b327a_49e2_11eb_8483_0242ac1c0002row13_col16\" class=\"data row13 col16\" >285</td>\n",
              "                        <td id=\"T_444b327a_49e2_11eb_8483_0242ac1c0002row13_col17\" class=\"data row13 col17\" >285</td>\n",
              "                        <td id=\"T_444b327a_49e2_11eb_8483_0242ac1c0002row13_col18\" class=\"data row13 col18\" >193</td>\n",
              "                        <td id=\"T_444b327a_49e2_11eb_8483_0242ac1c0002row13_col19\" class=\"data row13 col19\" >48</td>\n",
              "                        <td id=\"T_444b327a_49e2_11eb_8483_0242ac1c0002row13_col20\" class=\"data row13 col20\" >0</td>\n",
              "                        <td id=\"T_444b327a_49e2_11eb_8483_0242ac1c0002row13_col21\" class=\"data row13 col21\" >0</td>\n",
              "                        <td id=\"T_444b327a_49e2_11eb_8483_0242ac1c0002row13_col22\" class=\"data row13 col22\" >0</td>\n",
              "                        <td id=\"T_444b327a_49e2_11eb_8483_0242ac1c0002row13_col23\" class=\"data row13 col23\" >0</td>\n",
              "                        <td id=\"T_444b327a_49e2_11eb_8483_0242ac1c0002row13_col24\" class=\"data row13 col24\" >0</td>\n",
              "                        <td id=\"T_444b327a_49e2_11eb_8483_0242ac1c0002row13_col25\" class=\"data row13 col25\" >0</td>\n",
              "                        <td id=\"T_444b327a_49e2_11eb_8483_0242ac1c0002row13_col26\" class=\"data row13 col26\" >0</td>\n",
              "                        <td id=\"T_444b327a_49e2_11eb_8483_0242ac1c0002row13_col27\" class=\"data row13 col27\" >0</td>\n",
              "            </tr>\n",
              "            <tr>\n",
              "                        <th id=\"T_444b327a_49e2_11eb_8483_0242ac1c0002level0_row14\" class=\"row_heading level0 row14\" >14</th>\n",
              "                        <td id=\"T_444b327a_49e2_11eb_8483_0242ac1c0002row14_col0\" class=\"data row14 col0\" >0</td>\n",
              "                        <td id=\"T_444b327a_49e2_11eb_8483_0242ac1c0002row14_col1\" class=\"data row14 col1\" >0</td>\n",
              "                        <td id=\"T_444b327a_49e2_11eb_8483_0242ac1c0002row14_col2\" class=\"data row14 col2\" >0</td>\n",
              "                        <td id=\"T_444b327a_49e2_11eb_8483_0242ac1c0002row14_col3\" class=\"data row14 col3\" >0</td>\n",
              "                        <td id=\"T_444b327a_49e2_11eb_8483_0242ac1c0002row14_col4\" class=\"data row14 col4\" >0</td>\n",
              "                        <td id=\"T_444b327a_49e2_11eb_8483_0242ac1c0002row14_col5\" class=\"data row14 col5\" >0</td>\n",
              "                        <td id=\"T_444b327a_49e2_11eb_8483_0242ac1c0002row14_col6\" class=\"data row14 col6\" >0</td>\n",
              "                        <td id=\"T_444b327a_49e2_11eb_8483_0242ac1c0002row14_col7\" class=\"data row14 col7\" >0</td>\n",
              "                        <td id=\"T_444b327a_49e2_11eb_8483_0242ac1c0002row14_col8\" class=\"data row14 col8\" >0</td>\n",
              "                        <td id=\"T_444b327a_49e2_11eb_8483_0242ac1c0002row14_col9\" class=\"data row14 col9\" >0</td>\n",
              "                        <td id=\"T_444b327a_49e2_11eb_8483_0242ac1c0002row14_col10\" class=\"data row14 col10\" >0</td>\n",
              "                        <td id=\"T_444b327a_49e2_11eb_8483_0242ac1c0002row14_col11\" class=\"data row14 col11\" >0</td>\n",
              "                        <td id=\"T_444b327a_49e2_11eb_8483_0242ac1c0002row14_col12\" class=\"data row14 col12\" >247</td>\n",
              "                        <td id=\"T_444b327a_49e2_11eb_8483_0242ac1c0002row14_col13\" class=\"data row14 col13\" >286</td>\n",
              "                        <td id=\"T_444b327a_49e2_11eb_8483_0242ac1c0002row14_col14\" class=\"data row14 col14\" >286</td>\n",
              "                        <td id=\"T_444b327a_49e2_11eb_8483_0242ac1c0002row14_col15\" class=\"data row14 col15\" >289</td>\n",
              "                        <td id=\"T_444b327a_49e2_11eb_8483_0242ac1c0002row14_col16\" class=\"data row14 col16\" >285</td>\n",
              "                        <td id=\"T_444b327a_49e2_11eb_8483_0242ac1c0002row14_col17\" class=\"data row14 col17\" >168</td>\n",
              "                        <td id=\"T_444b327a_49e2_11eb_8483_0242ac1c0002row14_col18\" class=\"data row14 col18\" >0</td>\n",
              "                        <td id=\"T_444b327a_49e2_11eb_8483_0242ac1c0002row14_col19\" class=\"data row14 col19\" >0</td>\n",
              "                        <td id=\"T_444b327a_49e2_11eb_8483_0242ac1c0002row14_col20\" class=\"data row14 col20\" >0</td>\n",
              "                        <td id=\"T_444b327a_49e2_11eb_8483_0242ac1c0002row14_col21\" class=\"data row14 col21\" >0</td>\n",
              "                        <td id=\"T_444b327a_49e2_11eb_8483_0242ac1c0002row14_col22\" class=\"data row14 col22\" >0</td>\n",
              "                        <td id=\"T_444b327a_49e2_11eb_8483_0242ac1c0002row14_col23\" class=\"data row14 col23\" >0</td>\n",
              "                        <td id=\"T_444b327a_49e2_11eb_8483_0242ac1c0002row14_col24\" class=\"data row14 col24\" >0</td>\n",
              "                        <td id=\"T_444b327a_49e2_11eb_8483_0242ac1c0002row14_col25\" class=\"data row14 col25\" >0</td>\n",
              "                        <td id=\"T_444b327a_49e2_11eb_8483_0242ac1c0002row14_col26\" class=\"data row14 col26\" >0</td>\n",
              "                        <td id=\"T_444b327a_49e2_11eb_8483_0242ac1c0002row14_col27\" class=\"data row14 col27\" >0</td>\n",
              "            </tr>\n",
              "            <tr>\n",
              "                        <th id=\"T_444b327a_49e2_11eb_8483_0242ac1c0002level0_row15\" class=\"row_heading level0 row15\" >15</th>\n",
              "                        <td id=\"T_444b327a_49e2_11eb_8483_0242ac1c0002row15_col0\" class=\"data row15 col0\" >0</td>\n",
              "                        <td id=\"T_444b327a_49e2_11eb_8483_0242ac1c0002row15_col1\" class=\"data row15 col1\" >0</td>\n",
              "                        <td id=\"T_444b327a_49e2_11eb_8483_0242ac1c0002row15_col2\" class=\"data row15 col2\" >0</td>\n",
              "                        <td id=\"T_444b327a_49e2_11eb_8483_0242ac1c0002row15_col3\" class=\"data row15 col3\" >0</td>\n",
              "                        <td id=\"T_444b327a_49e2_11eb_8483_0242ac1c0002row15_col4\" class=\"data row15 col4\" >0</td>\n",
              "                        <td id=\"T_444b327a_49e2_11eb_8483_0242ac1c0002row15_col5\" class=\"data row15 col5\" >0</td>\n",
              "                        <td id=\"T_444b327a_49e2_11eb_8483_0242ac1c0002row15_col6\" class=\"data row15 col6\" >0</td>\n",
              "                        <td id=\"T_444b327a_49e2_11eb_8483_0242ac1c0002row15_col7\" class=\"data row15 col7\" >0</td>\n",
              "                        <td id=\"T_444b327a_49e2_11eb_8483_0242ac1c0002row15_col8\" class=\"data row15 col8\" >0</td>\n",
              "                        <td id=\"T_444b327a_49e2_11eb_8483_0242ac1c0002row15_col9\" class=\"data row15 col9\" >0</td>\n",
              "                        <td id=\"T_444b327a_49e2_11eb_8483_0242ac1c0002row15_col10\" class=\"data row15 col10\" >0</td>\n",
              "                        <td id=\"T_444b327a_49e2_11eb_8483_0242ac1c0002row15_col11\" class=\"data row15 col11\" >69</td>\n",
              "                        <td id=\"T_444b327a_49e2_11eb_8483_0242ac1c0002row15_col12\" class=\"data row15 col12\" >268</td>\n",
              "                        <td id=\"T_444b327a_49e2_11eb_8483_0242ac1c0002row15_col13\" class=\"data row15 col13\" >285</td>\n",
              "                        <td id=\"T_444b327a_49e2_11eb_8483_0242ac1c0002row15_col14\" class=\"data row15 col14\" >285</td>\n",
              "                        <td id=\"T_444b327a_49e2_11eb_8483_0242ac1c0002row15_col15\" class=\"data row15 col15\" >273</td>\n",
              "                        <td id=\"T_444b327a_49e2_11eb_8483_0242ac1c0002row15_col16\" class=\"data row15 col16\" >167</td>\n",
              "                        <td id=\"T_444b327a_49e2_11eb_8483_0242ac1c0002row15_col17\" class=\"data row15 col17\" >0</td>\n",
              "                        <td id=\"T_444b327a_49e2_11eb_8483_0242ac1c0002row15_col18\" class=\"data row15 col18\" >0</td>\n",
              "                        <td id=\"T_444b327a_49e2_11eb_8483_0242ac1c0002row15_col19\" class=\"data row15 col19\" >0</td>\n",
              "                        <td id=\"T_444b327a_49e2_11eb_8483_0242ac1c0002row15_col20\" class=\"data row15 col20\" >0</td>\n",
              "                        <td id=\"T_444b327a_49e2_11eb_8483_0242ac1c0002row15_col21\" class=\"data row15 col21\" >0</td>\n",
              "                        <td id=\"T_444b327a_49e2_11eb_8483_0242ac1c0002row15_col22\" class=\"data row15 col22\" >0</td>\n",
              "                        <td id=\"T_444b327a_49e2_11eb_8483_0242ac1c0002row15_col23\" class=\"data row15 col23\" >0</td>\n",
              "                        <td id=\"T_444b327a_49e2_11eb_8483_0242ac1c0002row15_col24\" class=\"data row15 col24\" >0</td>\n",
              "                        <td id=\"T_444b327a_49e2_11eb_8483_0242ac1c0002row15_col25\" class=\"data row15 col25\" >0</td>\n",
              "                        <td id=\"T_444b327a_49e2_11eb_8483_0242ac1c0002row15_col26\" class=\"data row15 col26\" >0</td>\n",
              "                        <td id=\"T_444b327a_49e2_11eb_8483_0242ac1c0002row15_col27\" class=\"data row15 col27\" >0</td>\n",
              "            </tr>\n",
              "            <tr>\n",
              "                        <th id=\"T_444b327a_49e2_11eb_8483_0242ac1c0002level0_row16\" class=\"row_heading level0 row16\" >16</th>\n",
              "                        <td id=\"T_444b327a_49e2_11eb_8483_0242ac1c0002row16_col0\" class=\"data row16 col0\" >0</td>\n",
              "                        <td id=\"T_444b327a_49e2_11eb_8483_0242ac1c0002row16_col1\" class=\"data row16 col1\" >0</td>\n",
              "                        <td id=\"T_444b327a_49e2_11eb_8483_0242ac1c0002row16_col2\" class=\"data row16 col2\" >0</td>\n",
              "                        <td id=\"T_444b327a_49e2_11eb_8483_0242ac1c0002row16_col3\" class=\"data row16 col3\" >0</td>\n",
              "                        <td id=\"T_444b327a_49e2_11eb_8483_0242ac1c0002row16_col4\" class=\"data row16 col4\" >0</td>\n",
              "                        <td id=\"T_444b327a_49e2_11eb_8483_0242ac1c0002row16_col5\" class=\"data row16 col5\" >0</td>\n",
              "                        <td id=\"T_444b327a_49e2_11eb_8483_0242ac1c0002row16_col6\" class=\"data row16 col6\" >0</td>\n",
              "                        <td id=\"T_444b327a_49e2_11eb_8483_0242ac1c0002row16_col7\" class=\"data row16 col7\" >0</td>\n",
              "                        <td id=\"T_444b327a_49e2_11eb_8483_0242ac1c0002row16_col8\" class=\"data row16 col8\" >0</td>\n",
              "                        <td id=\"T_444b327a_49e2_11eb_8483_0242ac1c0002row16_col9\" class=\"data row16 col9\" >10</td>\n",
              "                        <td id=\"T_444b327a_49e2_11eb_8483_0242ac1c0002row16_col10\" class=\"data row16 col10\" >80</td>\n",
              "                        <td id=\"T_444b327a_49e2_11eb_8483_0242ac1c0002row16_col11\" class=\"data row16 col11\" >265</td>\n",
              "                        <td id=\"T_444b327a_49e2_11eb_8483_0242ac1c0002row16_col12\" class=\"data row16 col12\" >285</td>\n",
              "                        <td id=\"T_444b327a_49e2_11eb_8483_0242ac1c0002row16_col13\" class=\"data row16 col13\" >285</td>\n",
              "                        <td id=\"T_444b327a_49e2_11eb_8483_0242ac1c0002row16_col14\" class=\"data row16 col14\" >285</td>\n",
              "                        <td id=\"T_444b327a_49e2_11eb_8483_0242ac1c0002row16_col15\" class=\"data row16 col15\" >137</td>\n",
              "                        <td id=\"T_444b327a_49e2_11eb_8483_0242ac1c0002row16_col16\" class=\"data row16 col16\" >0</td>\n",
              "                        <td id=\"T_444b327a_49e2_11eb_8483_0242ac1c0002row16_col17\" class=\"data row16 col17\" >0</td>\n",
              "                        <td id=\"T_444b327a_49e2_11eb_8483_0242ac1c0002row16_col18\" class=\"data row16 col18\" >0</td>\n",
              "                        <td id=\"T_444b327a_49e2_11eb_8483_0242ac1c0002row16_col19\" class=\"data row16 col19\" >0</td>\n",
              "                        <td id=\"T_444b327a_49e2_11eb_8483_0242ac1c0002row16_col20\" class=\"data row16 col20\" >0</td>\n",
              "                        <td id=\"T_444b327a_49e2_11eb_8483_0242ac1c0002row16_col21\" class=\"data row16 col21\" >0</td>\n",
              "                        <td id=\"T_444b327a_49e2_11eb_8483_0242ac1c0002row16_col22\" class=\"data row16 col22\" >0</td>\n",
              "                        <td id=\"T_444b327a_49e2_11eb_8483_0242ac1c0002row16_col23\" class=\"data row16 col23\" >0</td>\n",
              "                        <td id=\"T_444b327a_49e2_11eb_8483_0242ac1c0002row16_col24\" class=\"data row16 col24\" >0</td>\n",
              "                        <td id=\"T_444b327a_49e2_11eb_8483_0242ac1c0002row16_col25\" class=\"data row16 col25\" >0</td>\n",
              "                        <td id=\"T_444b327a_49e2_11eb_8483_0242ac1c0002row16_col26\" class=\"data row16 col26\" >0</td>\n",
              "                        <td id=\"T_444b327a_49e2_11eb_8483_0242ac1c0002row16_col27\" class=\"data row16 col27\" >0</td>\n",
              "            </tr>\n",
              "            <tr>\n",
              "                        <th id=\"T_444b327a_49e2_11eb_8483_0242ac1c0002level0_row17\" class=\"row_heading level0 row17\" >17</th>\n",
              "                        <td id=\"T_444b327a_49e2_11eb_8483_0242ac1c0002row17_col0\" class=\"data row17 col0\" >0</td>\n",
              "                        <td id=\"T_444b327a_49e2_11eb_8483_0242ac1c0002row17_col1\" class=\"data row17 col1\" >0</td>\n",
              "                        <td id=\"T_444b327a_49e2_11eb_8483_0242ac1c0002row17_col2\" class=\"data row17 col2\" >0</td>\n",
              "                        <td id=\"T_444b327a_49e2_11eb_8483_0242ac1c0002row17_col3\" class=\"data row17 col3\" >0</td>\n",
              "                        <td id=\"T_444b327a_49e2_11eb_8483_0242ac1c0002row17_col4\" class=\"data row17 col4\" >0</td>\n",
              "                        <td id=\"T_444b327a_49e2_11eb_8483_0242ac1c0002row17_col5\" class=\"data row17 col5\" >0</td>\n",
              "                        <td id=\"T_444b327a_49e2_11eb_8483_0242ac1c0002row17_col6\" class=\"data row17 col6\" >0</td>\n",
              "                        <td id=\"T_444b327a_49e2_11eb_8483_0242ac1c0002row17_col7\" class=\"data row17 col7\" >0</td>\n",
              "                        <td id=\"T_444b327a_49e2_11eb_8483_0242ac1c0002row17_col8\" class=\"data row17 col8\" >11</td>\n",
              "                        <td id=\"T_444b327a_49e2_11eb_8483_0242ac1c0002row17_col9\" class=\"data row17 col9\" >175</td>\n",
              "                        <td id=\"T_444b327a_49e2_11eb_8483_0242ac1c0002row17_col10\" class=\"data row17 col10\" >285</td>\n",
              "                        <td id=\"T_444b327a_49e2_11eb_8483_0242ac1c0002row17_col11\" class=\"data row17 col11\" >285</td>\n",
              "                        <td id=\"T_444b327a_49e2_11eb_8483_0242ac1c0002row17_col12\" class=\"data row17 col12\" >285</td>\n",
              "                        <td id=\"T_444b327a_49e2_11eb_8483_0242ac1c0002row17_col13\" class=\"data row17 col13\" >285</td>\n",
              "                        <td id=\"T_444b327a_49e2_11eb_8483_0242ac1c0002row17_col14\" class=\"data row17 col14\" >285</td>\n",
              "                        <td id=\"T_444b327a_49e2_11eb_8483_0242ac1c0002row17_col15\" class=\"data row17 col15\" >162</td>\n",
              "                        <td id=\"T_444b327a_49e2_11eb_8483_0242ac1c0002row17_col16\" class=\"data row17 col16\" >0</td>\n",
              "                        <td id=\"T_444b327a_49e2_11eb_8483_0242ac1c0002row17_col17\" class=\"data row17 col17\" >0</td>\n",
              "                        <td id=\"T_444b327a_49e2_11eb_8483_0242ac1c0002row17_col18\" class=\"data row17 col18\" >0</td>\n",
              "                        <td id=\"T_444b327a_49e2_11eb_8483_0242ac1c0002row17_col19\" class=\"data row17 col19\" >0</td>\n",
              "                        <td id=\"T_444b327a_49e2_11eb_8483_0242ac1c0002row17_col20\" class=\"data row17 col20\" >0</td>\n",
              "                        <td id=\"T_444b327a_49e2_11eb_8483_0242ac1c0002row17_col21\" class=\"data row17 col21\" >0</td>\n",
              "                        <td id=\"T_444b327a_49e2_11eb_8483_0242ac1c0002row17_col22\" class=\"data row17 col22\" >0</td>\n",
              "                        <td id=\"T_444b327a_49e2_11eb_8483_0242ac1c0002row17_col23\" class=\"data row17 col23\" >0</td>\n",
              "                        <td id=\"T_444b327a_49e2_11eb_8483_0242ac1c0002row17_col24\" class=\"data row17 col24\" >0</td>\n",
              "                        <td id=\"T_444b327a_49e2_11eb_8483_0242ac1c0002row17_col25\" class=\"data row17 col25\" >0</td>\n",
              "                        <td id=\"T_444b327a_49e2_11eb_8483_0242ac1c0002row17_col26\" class=\"data row17 col26\" >0</td>\n",
              "                        <td id=\"T_444b327a_49e2_11eb_8483_0242ac1c0002row17_col27\" class=\"data row17 col27\" >0</td>\n",
              "            </tr>\n",
              "            <tr>\n",
              "                        <th id=\"T_444b327a_49e2_11eb_8483_0242ac1c0002level0_row18\" class=\"row_heading level0 row18\" >18</th>\n",
              "                        <td id=\"T_444b327a_49e2_11eb_8483_0242ac1c0002row18_col0\" class=\"data row18 col0\" >0</td>\n",
              "                        <td id=\"T_444b327a_49e2_11eb_8483_0242ac1c0002row18_col1\" class=\"data row18 col1\" >0</td>\n",
              "                        <td id=\"T_444b327a_49e2_11eb_8483_0242ac1c0002row18_col2\" class=\"data row18 col2\" >0</td>\n",
              "                        <td id=\"T_444b327a_49e2_11eb_8483_0242ac1c0002row18_col3\" class=\"data row18 col3\" >0</td>\n",
              "                        <td id=\"T_444b327a_49e2_11eb_8483_0242ac1c0002row18_col4\" class=\"data row18 col4\" >0</td>\n",
              "                        <td id=\"T_444b327a_49e2_11eb_8483_0242ac1c0002row18_col5\" class=\"data row18 col5\" >0</td>\n",
              "                        <td id=\"T_444b327a_49e2_11eb_8483_0242ac1c0002row18_col6\" class=\"data row18 col6\" >0</td>\n",
              "                        <td id=\"T_444b327a_49e2_11eb_8483_0242ac1c0002row18_col7\" class=\"data row18 col7\" >0</td>\n",
              "                        <td id=\"T_444b327a_49e2_11eb_8483_0242ac1c0002row18_col8\" class=\"data row18 col8\" >153</td>\n",
              "                        <td id=\"T_444b327a_49e2_11eb_8483_0242ac1c0002row18_col9\" class=\"data row18 col9\" >285</td>\n",
              "                        <td id=\"T_444b327a_49e2_11eb_8483_0242ac1c0002row18_col10\" class=\"data row18 col10\" >285</td>\n",
              "                        <td id=\"T_444b327a_49e2_11eb_8483_0242ac1c0002row18_col11\" class=\"data row18 col11\" >262</td>\n",
              "                        <td id=\"T_444b327a_49e2_11eb_8483_0242ac1c0002row18_col12\" class=\"data row18 col12\" >164</td>\n",
              "                        <td id=\"T_444b327a_49e2_11eb_8483_0242ac1c0002row18_col13\" class=\"data row18 col13\" >81</td>\n",
              "                        <td id=\"T_444b327a_49e2_11eb_8483_0242ac1c0002row18_col14\" class=\"data row18 col14\" >243</td>\n",
              "                        <td id=\"T_444b327a_49e2_11eb_8483_0242ac1c0002row18_col15\" class=\"data row18 col15\" >283</td>\n",
              "                        <td id=\"T_444b327a_49e2_11eb_8483_0242ac1c0002row18_col16\" class=\"data row18 col16\" >88</td>\n",
              "                        <td id=\"T_444b327a_49e2_11eb_8483_0242ac1c0002row18_col17\" class=\"data row18 col17\" >0</td>\n",
              "                        <td id=\"T_444b327a_49e2_11eb_8483_0242ac1c0002row18_col18\" class=\"data row18 col18\" >0</td>\n",
              "                        <td id=\"T_444b327a_49e2_11eb_8483_0242ac1c0002row18_col19\" class=\"data row18 col19\" >0</td>\n",
              "                        <td id=\"T_444b327a_49e2_11eb_8483_0242ac1c0002row18_col20\" class=\"data row18 col20\" >0</td>\n",
              "                        <td id=\"T_444b327a_49e2_11eb_8483_0242ac1c0002row18_col21\" class=\"data row18 col21\" >0</td>\n",
              "                        <td id=\"T_444b327a_49e2_11eb_8483_0242ac1c0002row18_col22\" class=\"data row18 col22\" >0</td>\n",
              "                        <td id=\"T_444b327a_49e2_11eb_8483_0242ac1c0002row18_col23\" class=\"data row18 col23\" >0</td>\n",
              "                        <td id=\"T_444b327a_49e2_11eb_8483_0242ac1c0002row18_col24\" class=\"data row18 col24\" >0</td>\n",
              "                        <td id=\"T_444b327a_49e2_11eb_8483_0242ac1c0002row18_col25\" class=\"data row18 col25\" >0</td>\n",
              "                        <td id=\"T_444b327a_49e2_11eb_8483_0242ac1c0002row18_col26\" class=\"data row18 col26\" >0</td>\n",
              "                        <td id=\"T_444b327a_49e2_11eb_8483_0242ac1c0002row18_col27\" class=\"data row18 col27\" >0</td>\n",
              "            </tr>\n",
              "            <tr>\n",
              "                        <th id=\"T_444b327a_49e2_11eb_8483_0242ac1c0002level0_row19\" class=\"row_heading level0 row19\" >19</th>\n",
              "                        <td id=\"T_444b327a_49e2_11eb_8483_0242ac1c0002row19_col0\" class=\"data row19 col0\" >0</td>\n",
              "                        <td id=\"T_444b327a_49e2_11eb_8483_0242ac1c0002row19_col1\" class=\"data row19 col1\" >0</td>\n",
              "                        <td id=\"T_444b327a_49e2_11eb_8483_0242ac1c0002row19_col2\" class=\"data row19 col2\" >0</td>\n",
              "                        <td id=\"T_444b327a_49e2_11eb_8483_0242ac1c0002row19_col3\" class=\"data row19 col3\" >0</td>\n",
              "                        <td id=\"T_444b327a_49e2_11eb_8483_0242ac1c0002row19_col4\" class=\"data row19 col4\" >0</td>\n",
              "                        <td id=\"T_444b327a_49e2_11eb_8483_0242ac1c0002row19_col5\" class=\"data row19 col5\" >0</td>\n",
              "                        <td id=\"T_444b327a_49e2_11eb_8483_0242ac1c0002row19_col6\" class=\"data row19 col6\" >0</td>\n",
              "                        <td id=\"T_444b327a_49e2_11eb_8483_0242ac1c0002row19_col7\" class=\"data row19 col7\" >31</td>\n",
              "                        <td id=\"T_444b327a_49e2_11eb_8483_0242ac1c0002row19_col8\" class=\"data row19 col8\" >264</td>\n",
              "                        <td id=\"T_444b327a_49e2_11eb_8483_0242ac1c0002row19_col9\" class=\"data row19 col9\" >285</td>\n",
              "                        <td id=\"T_444b327a_49e2_11eb_8483_0242ac1c0002row19_col10\" class=\"data row19 col10\" >261</td>\n",
              "                        <td id=\"T_444b327a_49e2_11eb_8483_0242ac1c0002row19_col11\" class=\"data row19 col11\" >70</td>\n",
              "                        <td id=\"T_444b327a_49e2_11eb_8483_0242ac1c0002row19_col12\" class=\"data row19 col12\" >0</td>\n",
              "                        <td id=\"T_444b327a_49e2_11eb_8483_0242ac1c0002row19_col13\" class=\"data row19 col13\" >0</td>\n",
              "                        <td id=\"T_444b327a_49e2_11eb_8483_0242ac1c0002row19_col14\" class=\"data row19 col14\" >32</td>\n",
              "                        <td id=\"T_444b327a_49e2_11eb_8483_0242ac1c0002row19_col15\" class=\"data row19 col15\" >286</td>\n",
              "                        <td id=\"T_444b327a_49e2_11eb_8483_0242ac1c0002row19_col16\" class=\"data row19 col16\" >226</td>\n",
              "                        <td id=\"T_444b327a_49e2_11eb_8483_0242ac1c0002row19_col17\" class=\"data row19 col17\" >0</td>\n",
              "                        <td id=\"T_444b327a_49e2_11eb_8483_0242ac1c0002row19_col18\" class=\"data row19 col18\" >0</td>\n",
              "                        <td id=\"T_444b327a_49e2_11eb_8483_0242ac1c0002row19_col19\" class=\"data row19 col19\" >0</td>\n",
              "                        <td id=\"T_444b327a_49e2_11eb_8483_0242ac1c0002row19_col20\" class=\"data row19 col20\" >0</td>\n",
              "                        <td id=\"T_444b327a_49e2_11eb_8483_0242ac1c0002row19_col21\" class=\"data row19 col21\" >0</td>\n",
              "                        <td id=\"T_444b327a_49e2_11eb_8483_0242ac1c0002row19_col22\" class=\"data row19 col22\" >0</td>\n",
              "                        <td id=\"T_444b327a_49e2_11eb_8483_0242ac1c0002row19_col23\" class=\"data row19 col23\" >0</td>\n",
              "                        <td id=\"T_444b327a_49e2_11eb_8483_0242ac1c0002row19_col24\" class=\"data row19 col24\" >0</td>\n",
              "                        <td id=\"T_444b327a_49e2_11eb_8483_0242ac1c0002row19_col25\" class=\"data row19 col25\" >0</td>\n",
              "                        <td id=\"T_444b327a_49e2_11eb_8483_0242ac1c0002row19_col26\" class=\"data row19 col26\" >0</td>\n",
              "                        <td id=\"T_444b327a_49e2_11eb_8483_0242ac1c0002row19_col27\" class=\"data row19 col27\" >0</td>\n",
              "            </tr>\n",
              "            <tr>\n",
              "                        <th id=\"T_444b327a_49e2_11eb_8483_0242ac1c0002level0_row20\" class=\"row_heading level0 row20\" >20</th>\n",
              "                        <td id=\"T_444b327a_49e2_11eb_8483_0242ac1c0002row20_col0\" class=\"data row20 col0\" >0</td>\n",
              "                        <td id=\"T_444b327a_49e2_11eb_8483_0242ac1c0002row20_col1\" class=\"data row20 col1\" >0</td>\n",
              "                        <td id=\"T_444b327a_49e2_11eb_8483_0242ac1c0002row20_col2\" class=\"data row20 col2\" >0</td>\n",
              "                        <td id=\"T_444b327a_49e2_11eb_8483_0242ac1c0002row20_col3\" class=\"data row20 col3\" >0</td>\n",
              "                        <td id=\"T_444b327a_49e2_11eb_8483_0242ac1c0002row20_col4\" class=\"data row20 col4\" >0</td>\n",
              "                        <td id=\"T_444b327a_49e2_11eb_8483_0242ac1c0002row20_col5\" class=\"data row20 col5\" >0</td>\n",
              "                        <td id=\"T_444b327a_49e2_11eb_8483_0242ac1c0002row20_col6\" class=\"data row20 col6\" >0</td>\n",
              "                        <td id=\"T_444b327a_49e2_11eb_8483_0242ac1c0002row20_col7\" class=\"data row20 col7\" >151</td>\n",
              "                        <td id=\"T_444b327a_49e2_11eb_8483_0242ac1c0002row20_col8\" class=\"data row20 col8\" >285</td>\n",
              "                        <td id=\"T_444b327a_49e2_11eb_8483_0242ac1c0002row20_col9\" class=\"data row20 col9\" >285</td>\n",
              "                        <td id=\"T_444b327a_49e2_11eb_8483_0242ac1c0002row20_col10\" class=\"data row20 col10\" >157</td>\n",
              "                        <td id=\"T_444b327a_49e2_11eb_8483_0242ac1c0002row20_col11\" class=\"data row20 col11\" >0</td>\n",
              "                        <td id=\"T_444b327a_49e2_11eb_8483_0242ac1c0002row20_col12\" class=\"data row20 col12\" >0</td>\n",
              "                        <td id=\"T_444b327a_49e2_11eb_8483_0242ac1c0002row20_col13\" class=\"data row20 col13\" >41</td>\n",
              "                        <td id=\"T_444b327a_49e2_11eb_8483_0242ac1c0002row20_col14\" class=\"data row20 col14\" >226</td>\n",
              "                        <td id=\"T_444b327a_49e2_11eb_8483_0242ac1c0002row20_col15\" class=\"data row20 col15\" >286</td>\n",
              "                        <td id=\"T_444b327a_49e2_11eb_8483_0242ac1c0002row20_col16\" class=\"data row20 col16\" >258</td>\n",
              "                        <td id=\"T_444b327a_49e2_11eb_8483_0242ac1c0002row20_col17\" class=\"data row20 col17\" >0</td>\n",
              "                        <td id=\"T_444b327a_49e2_11eb_8483_0242ac1c0002row20_col18\" class=\"data row20 col18\" >0</td>\n",
              "                        <td id=\"T_444b327a_49e2_11eb_8483_0242ac1c0002row20_col19\" class=\"data row20 col19\" >0</td>\n",
              "                        <td id=\"T_444b327a_49e2_11eb_8483_0242ac1c0002row20_col20\" class=\"data row20 col20\" >0</td>\n",
              "                        <td id=\"T_444b327a_49e2_11eb_8483_0242ac1c0002row20_col21\" class=\"data row20 col21\" >0</td>\n",
              "                        <td id=\"T_444b327a_49e2_11eb_8483_0242ac1c0002row20_col22\" class=\"data row20 col22\" >0</td>\n",
              "                        <td id=\"T_444b327a_49e2_11eb_8483_0242ac1c0002row20_col23\" class=\"data row20 col23\" >0</td>\n",
              "                        <td id=\"T_444b327a_49e2_11eb_8483_0242ac1c0002row20_col24\" class=\"data row20 col24\" >0</td>\n",
              "                        <td id=\"T_444b327a_49e2_11eb_8483_0242ac1c0002row20_col25\" class=\"data row20 col25\" >0</td>\n",
              "                        <td id=\"T_444b327a_49e2_11eb_8483_0242ac1c0002row20_col26\" class=\"data row20 col26\" >0</td>\n",
              "                        <td id=\"T_444b327a_49e2_11eb_8483_0242ac1c0002row20_col27\" class=\"data row20 col27\" >0</td>\n",
              "            </tr>\n",
              "            <tr>\n",
              "                        <th id=\"T_444b327a_49e2_11eb_8483_0242ac1c0002level0_row21\" class=\"row_heading level0 row21\" >21</th>\n",
              "                        <td id=\"T_444b327a_49e2_11eb_8483_0242ac1c0002row21_col0\" class=\"data row21 col0\" >0</td>\n",
              "                        <td id=\"T_444b327a_49e2_11eb_8483_0242ac1c0002row21_col1\" class=\"data row21 col1\" >0</td>\n",
              "                        <td id=\"T_444b327a_49e2_11eb_8483_0242ac1c0002row21_col2\" class=\"data row21 col2\" >0</td>\n",
              "                        <td id=\"T_444b327a_49e2_11eb_8483_0242ac1c0002row21_col3\" class=\"data row21 col3\" >0</td>\n",
              "                        <td id=\"T_444b327a_49e2_11eb_8483_0242ac1c0002row21_col4\" class=\"data row21 col4\" >0</td>\n",
              "                        <td id=\"T_444b327a_49e2_11eb_8483_0242ac1c0002row21_col5\" class=\"data row21 col5\" >0</td>\n",
              "                        <td id=\"T_444b327a_49e2_11eb_8483_0242ac1c0002row21_col6\" class=\"data row21 col6\" >0</td>\n",
              "                        <td id=\"T_444b327a_49e2_11eb_8483_0242ac1c0002row21_col7\" class=\"data row21 col7\" >125</td>\n",
              "                        <td id=\"T_444b327a_49e2_11eb_8483_0242ac1c0002row21_col8\" class=\"data row21 col8\" >285</td>\n",
              "                        <td id=\"T_444b327a_49e2_11eb_8483_0242ac1c0002row21_col9\" class=\"data row21 col9\" >285</td>\n",
              "                        <td id=\"T_444b327a_49e2_11eb_8483_0242ac1c0002row21_col10\" class=\"data row21 col10\" >216</td>\n",
              "                        <td id=\"T_444b327a_49e2_11eb_8483_0242ac1c0002row21_col11\" class=\"data row21 col11\" >219</td>\n",
              "                        <td id=\"T_444b327a_49e2_11eb_8483_0242ac1c0002row21_col12\" class=\"data row21 col12\" >245</td>\n",
              "                        <td id=\"T_444b327a_49e2_11eb_8483_0242ac1c0002row21_col13\" class=\"data row21 col13\" >262</td>\n",
              "                        <td id=\"T_444b327a_49e2_11eb_8483_0242ac1c0002row21_col14\" class=\"data row21 col14\" >285</td>\n",
              "                        <td id=\"T_444b327a_49e2_11eb_8483_0242ac1c0002row21_col15\" class=\"data row21 col15\" >286</td>\n",
              "                        <td id=\"T_444b327a_49e2_11eb_8483_0242ac1c0002row21_col16\" class=\"data row21 col16\" >258</td>\n",
              "                        <td id=\"T_444b327a_49e2_11eb_8483_0242ac1c0002row21_col17\" class=\"data row21 col17\" >0</td>\n",
              "                        <td id=\"T_444b327a_49e2_11eb_8483_0242ac1c0002row21_col18\" class=\"data row21 col18\" >0</td>\n",
              "                        <td id=\"T_444b327a_49e2_11eb_8483_0242ac1c0002row21_col19\" class=\"data row21 col19\" >0</td>\n",
              "                        <td id=\"T_444b327a_49e2_11eb_8483_0242ac1c0002row21_col20\" class=\"data row21 col20\" >0</td>\n",
              "                        <td id=\"T_444b327a_49e2_11eb_8483_0242ac1c0002row21_col21\" class=\"data row21 col21\" >0</td>\n",
              "                        <td id=\"T_444b327a_49e2_11eb_8483_0242ac1c0002row21_col22\" class=\"data row21 col22\" >0</td>\n",
              "                        <td id=\"T_444b327a_49e2_11eb_8483_0242ac1c0002row21_col23\" class=\"data row21 col23\" >0</td>\n",
              "                        <td id=\"T_444b327a_49e2_11eb_8483_0242ac1c0002row21_col24\" class=\"data row21 col24\" >0</td>\n",
              "                        <td id=\"T_444b327a_49e2_11eb_8483_0242ac1c0002row21_col25\" class=\"data row21 col25\" >0</td>\n",
              "                        <td id=\"T_444b327a_49e2_11eb_8483_0242ac1c0002row21_col26\" class=\"data row21 col26\" >0</td>\n",
              "                        <td id=\"T_444b327a_49e2_11eb_8483_0242ac1c0002row21_col27\" class=\"data row21 col27\" >0</td>\n",
              "            </tr>\n",
              "            <tr>\n",
              "                        <th id=\"T_444b327a_49e2_11eb_8483_0242ac1c0002level0_row22\" class=\"row_heading level0 row22\" >22</th>\n",
              "                        <td id=\"T_444b327a_49e2_11eb_8483_0242ac1c0002row22_col0\" class=\"data row22 col0\" >0</td>\n",
              "                        <td id=\"T_444b327a_49e2_11eb_8483_0242ac1c0002row22_col1\" class=\"data row22 col1\" >0</td>\n",
              "                        <td id=\"T_444b327a_49e2_11eb_8483_0242ac1c0002row22_col2\" class=\"data row22 col2\" >0</td>\n",
              "                        <td id=\"T_444b327a_49e2_11eb_8483_0242ac1c0002row22_col3\" class=\"data row22 col3\" >0</td>\n",
              "                        <td id=\"T_444b327a_49e2_11eb_8483_0242ac1c0002row22_col4\" class=\"data row22 col4\" >0</td>\n",
              "                        <td id=\"T_444b327a_49e2_11eb_8483_0242ac1c0002row22_col5\" class=\"data row22 col5\" >0</td>\n",
              "                        <td id=\"T_444b327a_49e2_11eb_8483_0242ac1c0002row22_col6\" class=\"data row22 col6\" >0</td>\n",
              "                        <td id=\"T_444b327a_49e2_11eb_8483_0242ac1c0002row22_col7\" class=\"data row22 col7\" >23</td>\n",
              "                        <td id=\"T_444b327a_49e2_11eb_8483_0242ac1c0002row22_col8\" class=\"data row22 col8\" >244</td>\n",
              "                        <td id=\"T_444b327a_49e2_11eb_8483_0242ac1c0002row22_col9\" class=\"data row22 col9\" >285</td>\n",
              "                        <td id=\"T_444b327a_49e2_11eb_8483_0242ac1c0002row22_col10\" class=\"data row22 col10\" >285</td>\n",
              "                        <td id=\"T_444b327a_49e2_11eb_8483_0242ac1c0002row22_col11\" class=\"data row22 col11\" >285</td>\n",
              "                        <td id=\"T_444b327a_49e2_11eb_8483_0242ac1c0002row22_col12\" class=\"data row22 col12\" >285</td>\n",
              "                        <td id=\"T_444b327a_49e2_11eb_8483_0242ac1c0002row22_col13\" class=\"data row22 col13\" >285</td>\n",
              "                        <td id=\"T_444b327a_49e2_11eb_8483_0242ac1c0002row22_col14\" class=\"data row22 col14\" >285</td>\n",
              "                        <td id=\"T_444b327a_49e2_11eb_8483_0242ac1c0002row22_col15\" class=\"data row22 col15\" >222</td>\n",
              "                        <td id=\"T_444b327a_49e2_11eb_8483_0242ac1c0002row22_col16\" class=\"data row22 col16\" >82</td>\n",
              "                        <td id=\"T_444b327a_49e2_11eb_8483_0242ac1c0002row22_col17\" class=\"data row22 col17\" >0</td>\n",
              "                        <td id=\"T_444b327a_49e2_11eb_8483_0242ac1c0002row22_col18\" class=\"data row22 col18\" >0</td>\n",
              "                        <td id=\"T_444b327a_49e2_11eb_8483_0242ac1c0002row22_col19\" class=\"data row22 col19\" >0</td>\n",
              "                        <td id=\"T_444b327a_49e2_11eb_8483_0242ac1c0002row22_col20\" class=\"data row22 col20\" >0</td>\n",
              "                        <td id=\"T_444b327a_49e2_11eb_8483_0242ac1c0002row22_col21\" class=\"data row22 col21\" >0</td>\n",
              "                        <td id=\"T_444b327a_49e2_11eb_8483_0242ac1c0002row22_col22\" class=\"data row22 col22\" >0</td>\n",
              "                        <td id=\"T_444b327a_49e2_11eb_8483_0242ac1c0002row22_col23\" class=\"data row22 col23\" >0</td>\n",
              "                        <td id=\"T_444b327a_49e2_11eb_8483_0242ac1c0002row22_col24\" class=\"data row22 col24\" >0</td>\n",
              "                        <td id=\"T_444b327a_49e2_11eb_8483_0242ac1c0002row22_col25\" class=\"data row22 col25\" >0</td>\n",
              "                        <td id=\"T_444b327a_49e2_11eb_8483_0242ac1c0002row22_col26\" class=\"data row22 col26\" >0</td>\n",
              "                        <td id=\"T_444b327a_49e2_11eb_8483_0242ac1c0002row22_col27\" class=\"data row22 col27\" >0</td>\n",
              "            </tr>\n",
              "            <tr>\n",
              "                        <th id=\"T_444b327a_49e2_11eb_8483_0242ac1c0002level0_row23\" class=\"row_heading level0 row23\" >23</th>\n",
              "                        <td id=\"T_444b327a_49e2_11eb_8483_0242ac1c0002row23_col0\" class=\"data row23 col0\" >0</td>\n",
              "                        <td id=\"T_444b327a_49e2_11eb_8483_0242ac1c0002row23_col1\" class=\"data row23 col1\" >0</td>\n",
              "                        <td id=\"T_444b327a_49e2_11eb_8483_0242ac1c0002row23_col2\" class=\"data row23 col2\" >0</td>\n",
              "                        <td id=\"T_444b327a_49e2_11eb_8483_0242ac1c0002row23_col3\" class=\"data row23 col3\" >0</td>\n",
              "                        <td id=\"T_444b327a_49e2_11eb_8483_0242ac1c0002row23_col4\" class=\"data row23 col4\" >0</td>\n",
              "                        <td id=\"T_444b327a_49e2_11eb_8483_0242ac1c0002row23_col5\" class=\"data row23 col5\" >0</td>\n",
              "                        <td id=\"T_444b327a_49e2_11eb_8483_0242ac1c0002row23_col6\" class=\"data row23 col6\" >0</td>\n",
              "                        <td id=\"T_444b327a_49e2_11eb_8483_0242ac1c0002row23_col7\" class=\"data row23 col7\" >0</td>\n",
              "                        <td id=\"T_444b327a_49e2_11eb_8483_0242ac1c0002row23_col8\" class=\"data row23 col8\" >100</td>\n",
              "                        <td id=\"T_444b327a_49e2_11eb_8483_0242ac1c0002row23_col9\" class=\"data row23 col9\" >247</td>\n",
              "                        <td id=\"T_444b327a_49e2_11eb_8483_0242ac1c0002row23_col10\" class=\"data row23 col10\" >245</td>\n",
              "                        <td id=\"T_444b327a_49e2_11eb_8483_0242ac1c0002row23_col11\" class=\"data row23 col11\" >260</td>\n",
              "                        <td id=\"T_444b327a_49e2_11eb_8483_0242ac1c0002row23_col12\" class=\"data row23 col12\" >285</td>\n",
              "                        <td id=\"T_444b327a_49e2_11eb_8483_0242ac1c0002row23_col13\" class=\"data row23 col13\" >160</td>\n",
              "                        <td id=\"T_444b327a_49e2_11eb_8483_0242ac1c0002row23_col14\" class=\"data row23 col14\" >148</td>\n",
              "                        <td id=\"T_444b327a_49e2_11eb_8483_0242ac1c0002row23_col15\" class=\"data row23 col15\" >6</td>\n",
              "                        <td id=\"T_444b327a_49e2_11eb_8483_0242ac1c0002row23_col16\" class=\"data row23 col16\" >0</td>\n",
              "                        <td id=\"T_444b327a_49e2_11eb_8483_0242ac1c0002row23_col17\" class=\"data row23 col17\" >0</td>\n",
              "                        <td id=\"T_444b327a_49e2_11eb_8483_0242ac1c0002row23_col18\" class=\"data row23 col18\" >0</td>\n",
              "                        <td id=\"T_444b327a_49e2_11eb_8483_0242ac1c0002row23_col19\" class=\"data row23 col19\" >0</td>\n",
              "                        <td id=\"T_444b327a_49e2_11eb_8483_0242ac1c0002row23_col20\" class=\"data row23 col20\" >0</td>\n",
              "                        <td id=\"T_444b327a_49e2_11eb_8483_0242ac1c0002row23_col21\" class=\"data row23 col21\" >0</td>\n",
              "                        <td id=\"T_444b327a_49e2_11eb_8483_0242ac1c0002row23_col22\" class=\"data row23 col22\" >0</td>\n",
              "                        <td id=\"T_444b327a_49e2_11eb_8483_0242ac1c0002row23_col23\" class=\"data row23 col23\" >0</td>\n",
              "                        <td id=\"T_444b327a_49e2_11eb_8483_0242ac1c0002row23_col24\" class=\"data row23 col24\" >0</td>\n",
              "                        <td id=\"T_444b327a_49e2_11eb_8483_0242ac1c0002row23_col25\" class=\"data row23 col25\" >0</td>\n",
              "                        <td id=\"T_444b327a_49e2_11eb_8483_0242ac1c0002row23_col26\" class=\"data row23 col26\" >0</td>\n",
              "                        <td id=\"T_444b327a_49e2_11eb_8483_0242ac1c0002row23_col27\" class=\"data row23 col27\" >0</td>\n",
              "            </tr>\n",
              "            <tr>\n",
              "                        <th id=\"T_444b327a_49e2_11eb_8483_0242ac1c0002level0_row24\" class=\"row_heading level0 row24\" >24</th>\n",
              "                        <td id=\"T_444b327a_49e2_11eb_8483_0242ac1c0002row24_col0\" class=\"data row24 col0\" >0</td>\n",
              "                        <td id=\"T_444b327a_49e2_11eb_8483_0242ac1c0002row24_col1\" class=\"data row24 col1\" >0</td>\n",
              "                        <td id=\"T_444b327a_49e2_11eb_8483_0242ac1c0002row24_col2\" class=\"data row24 col2\" >0</td>\n",
              "                        <td id=\"T_444b327a_49e2_11eb_8483_0242ac1c0002row24_col3\" class=\"data row24 col3\" >0</td>\n",
              "                        <td id=\"T_444b327a_49e2_11eb_8483_0242ac1c0002row24_col4\" class=\"data row24 col4\" >0</td>\n",
              "                        <td id=\"T_444b327a_49e2_11eb_8483_0242ac1c0002row24_col5\" class=\"data row24 col5\" >0</td>\n",
              "                        <td id=\"T_444b327a_49e2_11eb_8483_0242ac1c0002row24_col6\" class=\"data row24 col6\" >0</td>\n",
              "                        <td id=\"T_444b327a_49e2_11eb_8483_0242ac1c0002row24_col7\" class=\"data row24 col7\" >0</td>\n",
              "                        <td id=\"T_444b327a_49e2_11eb_8483_0242ac1c0002row24_col8\" class=\"data row24 col8\" >0</td>\n",
              "                        <td id=\"T_444b327a_49e2_11eb_8483_0242ac1c0002row24_col9\" class=\"data row24 col9\" >0</td>\n",
              "                        <td id=\"T_444b327a_49e2_11eb_8483_0242ac1c0002row24_col10\" class=\"data row24 col10\" >0</td>\n",
              "                        <td id=\"T_444b327a_49e2_11eb_8483_0242ac1c0002row24_col11\" class=\"data row24 col11\" >0</td>\n",
              "                        <td id=\"T_444b327a_49e2_11eb_8483_0242ac1c0002row24_col12\" class=\"data row24 col12\" >0</td>\n",
              "                        <td id=\"T_444b327a_49e2_11eb_8483_0242ac1c0002row24_col13\" class=\"data row24 col13\" >0</td>\n",
              "                        <td id=\"T_444b327a_49e2_11eb_8483_0242ac1c0002row24_col14\" class=\"data row24 col14\" >0</td>\n",
              "                        <td id=\"T_444b327a_49e2_11eb_8483_0242ac1c0002row24_col15\" class=\"data row24 col15\" >0</td>\n",
              "                        <td id=\"T_444b327a_49e2_11eb_8483_0242ac1c0002row24_col16\" class=\"data row24 col16\" >0</td>\n",
              "                        <td id=\"T_444b327a_49e2_11eb_8483_0242ac1c0002row24_col17\" class=\"data row24 col17\" >0</td>\n",
              "                        <td id=\"T_444b327a_49e2_11eb_8483_0242ac1c0002row24_col18\" class=\"data row24 col18\" >0</td>\n",
              "                        <td id=\"T_444b327a_49e2_11eb_8483_0242ac1c0002row24_col19\" class=\"data row24 col19\" >0</td>\n",
              "                        <td id=\"T_444b327a_49e2_11eb_8483_0242ac1c0002row24_col20\" class=\"data row24 col20\" >0</td>\n",
              "                        <td id=\"T_444b327a_49e2_11eb_8483_0242ac1c0002row24_col21\" class=\"data row24 col21\" >0</td>\n",
              "                        <td id=\"T_444b327a_49e2_11eb_8483_0242ac1c0002row24_col22\" class=\"data row24 col22\" >0</td>\n",
              "                        <td id=\"T_444b327a_49e2_11eb_8483_0242ac1c0002row24_col23\" class=\"data row24 col23\" >0</td>\n",
              "                        <td id=\"T_444b327a_49e2_11eb_8483_0242ac1c0002row24_col24\" class=\"data row24 col24\" >0</td>\n",
              "                        <td id=\"T_444b327a_49e2_11eb_8483_0242ac1c0002row24_col25\" class=\"data row24 col25\" >0</td>\n",
              "                        <td id=\"T_444b327a_49e2_11eb_8483_0242ac1c0002row24_col26\" class=\"data row24 col26\" >0</td>\n",
              "                        <td id=\"T_444b327a_49e2_11eb_8483_0242ac1c0002row24_col27\" class=\"data row24 col27\" >0</td>\n",
              "            </tr>\n",
              "            <tr>\n",
              "                        <th id=\"T_444b327a_49e2_11eb_8483_0242ac1c0002level0_row25\" class=\"row_heading level0 row25\" >25</th>\n",
              "                        <td id=\"T_444b327a_49e2_11eb_8483_0242ac1c0002row25_col0\" class=\"data row25 col0\" >0</td>\n",
              "                        <td id=\"T_444b327a_49e2_11eb_8483_0242ac1c0002row25_col1\" class=\"data row25 col1\" >0</td>\n",
              "                        <td id=\"T_444b327a_49e2_11eb_8483_0242ac1c0002row25_col2\" class=\"data row25 col2\" >0</td>\n",
              "                        <td id=\"T_444b327a_49e2_11eb_8483_0242ac1c0002row25_col3\" class=\"data row25 col3\" >0</td>\n",
              "                        <td id=\"T_444b327a_49e2_11eb_8483_0242ac1c0002row25_col4\" class=\"data row25 col4\" >0</td>\n",
              "                        <td id=\"T_444b327a_49e2_11eb_8483_0242ac1c0002row25_col5\" class=\"data row25 col5\" >0</td>\n",
              "                        <td id=\"T_444b327a_49e2_11eb_8483_0242ac1c0002row25_col6\" class=\"data row25 col6\" >0</td>\n",
              "                        <td id=\"T_444b327a_49e2_11eb_8483_0242ac1c0002row25_col7\" class=\"data row25 col7\" >0</td>\n",
              "                        <td id=\"T_444b327a_49e2_11eb_8483_0242ac1c0002row25_col8\" class=\"data row25 col8\" >0</td>\n",
              "                        <td id=\"T_444b327a_49e2_11eb_8483_0242ac1c0002row25_col9\" class=\"data row25 col9\" >0</td>\n",
              "                        <td id=\"T_444b327a_49e2_11eb_8483_0242ac1c0002row25_col10\" class=\"data row25 col10\" >0</td>\n",
              "                        <td id=\"T_444b327a_49e2_11eb_8483_0242ac1c0002row25_col11\" class=\"data row25 col11\" >0</td>\n",
              "                        <td id=\"T_444b327a_49e2_11eb_8483_0242ac1c0002row25_col12\" class=\"data row25 col12\" >0</td>\n",
              "                        <td id=\"T_444b327a_49e2_11eb_8483_0242ac1c0002row25_col13\" class=\"data row25 col13\" >0</td>\n",
              "                        <td id=\"T_444b327a_49e2_11eb_8483_0242ac1c0002row25_col14\" class=\"data row25 col14\" >0</td>\n",
              "                        <td id=\"T_444b327a_49e2_11eb_8483_0242ac1c0002row25_col15\" class=\"data row25 col15\" >0</td>\n",
              "                        <td id=\"T_444b327a_49e2_11eb_8483_0242ac1c0002row25_col16\" class=\"data row25 col16\" >0</td>\n",
              "                        <td id=\"T_444b327a_49e2_11eb_8483_0242ac1c0002row25_col17\" class=\"data row25 col17\" >0</td>\n",
              "                        <td id=\"T_444b327a_49e2_11eb_8483_0242ac1c0002row25_col18\" class=\"data row25 col18\" >0</td>\n",
              "                        <td id=\"T_444b327a_49e2_11eb_8483_0242ac1c0002row25_col19\" class=\"data row25 col19\" >0</td>\n",
              "                        <td id=\"T_444b327a_49e2_11eb_8483_0242ac1c0002row25_col20\" class=\"data row25 col20\" >0</td>\n",
              "                        <td id=\"T_444b327a_49e2_11eb_8483_0242ac1c0002row25_col21\" class=\"data row25 col21\" >0</td>\n",
              "                        <td id=\"T_444b327a_49e2_11eb_8483_0242ac1c0002row25_col22\" class=\"data row25 col22\" >0</td>\n",
              "                        <td id=\"T_444b327a_49e2_11eb_8483_0242ac1c0002row25_col23\" class=\"data row25 col23\" >0</td>\n",
              "                        <td id=\"T_444b327a_49e2_11eb_8483_0242ac1c0002row25_col24\" class=\"data row25 col24\" >0</td>\n",
              "                        <td id=\"T_444b327a_49e2_11eb_8483_0242ac1c0002row25_col25\" class=\"data row25 col25\" >0</td>\n",
              "                        <td id=\"T_444b327a_49e2_11eb_8483_0242ac1c0002row25_col26\" class=\"data row25 col26\" >0</td>\n",
              "                        <td id=\"T_444b327a_49e2_11eb_8483_0242ac1c0002row25_col27\" class=\"data row25 col27\" >0</td>\n",
              "            </tr>\n",
              "            <tr>\n",
              "                        <th id=\"T_444b327a_49e2_11eb_8483_0242ac1c0002level0_row26\" class=\"row_heading level0 row26\" >26</th>\n",
              "                        <td id=\"T_444b327a_49e2_11eb_8483_0242ac1c0002row26_col0\" class=\"data row26 col0\" >0</td>\n",
              "                        <td id=\"T_444b327a_49e2_11eb_8483_0242ac1c0002row26_col1\" class=\"data row26 col1\" >0</td>\n",
              "                        <td id=\"T_444b327a_49e2_11eb_8483_0242ac1c0002row26_col2\" class=\"data row26 col2\" >0</td>\n",
              "                        <td id=\"T_444b327a_49e2_11eb_8483_0242ac1c0002row26_col3\" class=\"data row26 col3\" >0</td>\n",
              "                        <td id=\"T_444b327a_49e2_11eb_8483_0242ac1c0002row26_col4\" class=\"data row26 col4\" >0</td>\n",
              "                        <td id=\"T_444b327a_49e2_11eb_8483_0242ac1c0002row26_col5\" class=\"data row26 col5\" >0</td>\n",
              "                        <td id=\"T_444b327a_49e2_11eb_8483_0242ac1c0002row26_col6\" class=\"data row26 col6\" >0</td>\n",
              "                        <td id=\"T_444b327a_49e2_11eb_8483_0242ac1c0002row26_col7\" class=\"data row26 col7\" >0</td>\n",
              "                        <td id=\"T_444b327a_49e2_11eb_8483_0242ac1c0002row26_col8\" class=\"data row26 col8\" >0</td>\n",
              "                        <td id=\"T_444b327a_49e2_11eb_8483_0242ac1c0002row26_col9\" class=\"data row26 col9\" >0</td>\n",
              "                        <td id=\"T_444b327a_49e2_11eb_8483_0242ac1c0002row26_col10\" class=\"data row26 col10\" >0</td>\n",
              "                        <td id=\"T_444b327a_49e2_11eb_8483_0242ac1c0002row26_col11\" class=\"data row26 col11\" >0</td>\n",
              "                        <td id=\"T_444b327a_49e2_11eb_8483_0242ac1c0002row26_col12\" class=\"data row26 col12\" >0</td>\n",
              "                        <td id=\"T_444b327a_49e2_11eb_8483_0242ac1c0002row26_col13\" class=\"data row26 col13\" >0</td>\n",
              "                        <td id=\"T_444b327a_49e2_11eb_8483_0242ac1c0002row26_col14\" class=\"data row26 col14\" >0</td>\n",
              "                        <td id=\"T_444b327a_49e2_11eb_8483_0242ac1c0002row26_col15\" class=\"data row26 col15\" >0</td>\n",
              "                        <td id=\"T_444b327a_49e2_11eb_8483_0242ac1c0002row26_col16\" class=\"data row26 col16\" >0</td>\n",
              "                        <td id=\"T_444b327a_49e2_11eb_8483_0242ac1c0002row26_col17\" class=\"data row26 col17\" >0</td>\n",
              "                        <td id=\"T_444b327a_49e2_11eb_8483_0242ac1c0002row26_col18\" class=\"data row26 col18\" >0</td>\n",
              "                        <td id=\"T_444b327a_49e2_11eb_8483_0242ac1c0002row26_col19\" class=\"data row26 col19\" >0</td>\n",
              "                        <td id=\"T_444b327a_49e2_11eb_8483_0242ac1c0002row26_col20\" class=\"data row26 col20\" >0</td>\n",
              "                        <td id=\"T_444b327a_49e2_11eb_8483_0242ac1c0002row26_col21\" class=\"data row26 col21\" >0</td>\n",
              "                        <td id=\"T_444b327a_49e2_11eb_8483_0242ac1c0002row26_col22\" class=\"data row26 col22\" >0</td>\n",
              "                        <td id=\"T_444b327a_49e2_11eb_8483_0242ac1c0002row26_col23\" class=\"data row26 col23\" >0</td>\n",
              "                        <td id=\"T_444b327a_49e2_11eb_8483_0242ac1c0002row26_col24\" class=\"data row26 col24\" >0</td>\n",
              "                        <td id=\"T_444b327a_49e2_11eb_8483_0242ac1c0002row26_col25\" class=\"data row26 col25\" >0</td>\n",
              "                        <td id=\"T_444b327a_49e2_11eb_8483_0242ac1c0002row26_col26\" class=\"data row26 col26\" >0</td>\n",
              "                        <td id=\"T_444b327a_49e2_11eb_8483_0242ac1c0002row26_col27\" class=\"data row26 col27\" >0</td>\n",
              "            </tr>\n",
              "            <tr>\n",
              "                        <th id=\"T_444b327a_49e2_11eb_8483_0242ac1c0002level0_row27\" class=\"row_heading level0 row27\" >27</th>\n",
              "                        <td id=\"T_444b327a_49e2_11eb_8483_0242ac1c0002row27_col0\" class=\"data row27 col0\" >0</td>\n",
              "                        <td id=\"T_444b327a_49e2_11eb_8483_0242ac1c0002row27_col1\" class=\"data row27 col1\" >0</td>\n",
              "                        <td id=\"T_444b327a_49e2_11eb_8483_0242ac1c0002row27_col2\" class=\"data row27 col2\" >0</td>\n",
              "                        <td id=\"T_444b327a_49e2_11eb_8483_0242ac1c0002row27_col3\" class=\"data row27 col3\" >0</td>\n",
              "                        <td id=\"T_444b327a_49e2_11eb_8483_0242ac1c0002row27_col4\" class=\"data row27 col4\" >0</td>\n",
              "                        <td id=\"T_444b327a_49e2_11eb_8483_0242ac1c0002row27_col5\" class=\"data row27 col5\" >0</td>\n",
              "                        <td id=\"T_444b327a_49e2_11eb_8483_0242ac1c0002row27_col6\" class=\"data row27 col6\" >0</td>\n",
              "                        <td id=\"T_444b327a_49e2_11eb_8483_0242ac1c0002row27_col7\" class=\"data row27 col7\" >0</td>\n",
              "                        <td id=\"T_444b327a_49e2_11eb_8483_0242ac1c0002row27_col8\" class=\"data row27 col8\" >0</td>\n",
              "                        <td id=\"T_444b327a_49e2_11eb_8483_0242ac1c0002row27_col9\" class=\"data row27 col9\" >0</td>\n",
              "                        <td id=\"T_444b327a_49e2_11eb_8483_0242ac1c0002row27_col10\" class=\"data row27 col10\" >0</td>\n",
              "                        <td id=\"T_444b327a_49e2_11eb_8483_0242ac1c0002row27_col11\" class=\"data row27 col11\" >0</td>\n",
              "                        <td id=\"T_444b327a_49e2_11eb_8483_0242ac1c0002row27_col12\" class=\"data row27 col12\" >0</td>\n",
              "                        <td id=\"T_444b327a_49e2_11eb_8483_0242ac1c0002row27_col13\" class=\"data row27 col13\" >0</td>\n",
              "                        <td id=\"T_444b327a_49e2_11eb_8483_0242ac1c0002row27_col14\" class=\"data row27 col14\" >0</td>\n",
              "                        <td id=\"T_444b327a_49e2_11eb_8483_0242ac1c0002row27_col15\" class=\"data row27 col15\" >0</td>\n",
              "                        <td id=\"T_444b327a_49e2_11eb_8483_0242ac1c0002row27_col16\" class=\"data row27 col16\" >0</td>\n",
              "                        <td id=\"T_444b327a_49e2_11eb_8483_0242ac1c0002row27_col17\" class=\"data row27 col17\" >0</td>\n",
              "                        <td id=\"T_444b327a_49e2_11eb_8483_0242ac1c0002row27_col18\" class=\"data row27 col18\" >0</td>\n",
              "                        <td id=\"T_444b327a_49e2_11eb_8483_0242ac1c0002row27_col19\" class=\"data row27 col19\" >0</td>\n",
              "                        <td id=\"T_444b327a_49e2_11eb_8483_0242ac1c0002row27_col20\" class=\"data row27 col20\" >0</td>\n",
              "                        <td id=\"T_444b327a_49e2_11eb_8483_0242ac1c0002row27_col21\" class=\"data row27 col21\" >0</td>\n",
              "                        <td id=\"T_444b327a_49e2_11eb_8483_0242ac1c0002row27_col22\" class=\"data row27 col22\" >0</td>\n",
              "                        <td id=\"T_444b327a_49e2_11eb_8483_0242ac1c0002row27_col23\" class=\"data row27 col23\" >0</td>\n",
              "                        <td id=\"T_444b327a_49e2_11eb_8483_0242ac1c0002row27_col24\" class=\"data row27 col24\" >0</td>\n",
              "                        <td id=\"T_444b327a_49e2_11eb_8483_0242ac1c0002row27_col25\" class=\"data row27 col25\" >0</td>\n",
              "                        <td id=\"T_444b327a_49e2_11eb_8483_0242ac1c0002row27_col26\" class=\"data row27 col26\" >0</td>\n",
              "                        <td id=\"T_444b327a_49e2_11eb_8483_0242ac1c0002row27_col27\" class=\"data row27 col27\" >0</td>\n",
              "            </tr>\n",
              "    </tbody></table>"
            ],
            "text/plain": [
              "<pandas.io.formats.style.Styler at 0x7fb9f8c8c320>"
            ]
          },
          "metadata": {
            "tags": []
          },
          "execution_count": 144
        }
      ]
    },
    {
      "cell_type": "markdown",
      "metadata": {
        "id": "Bg15WF6skeOe"
      },
      "source": [
        "Get the average for each number:"
      ]
    },
    {
      "cell_type": "code",
      "metadata": {
        "id": "cV6bDkhvlBJ8",
        "outputId": "59dbe763-e043-4e04-8e42-9b639c8ef4c0",
        "colab": {
          "base_uri": "https://localhost:8080/",
          "height": 102
        }
      },
      "source": [
        "average_num = {}\n",
        "for k in numbers:\n",
        "  average_num[k] = train_data[k].mean(0)\n",
        "\n",
        "show_image(average_num[5])"
      ],
      "execution_count": 27,
      "outputs": [
        {
          "output_type": "execute_result",
          "data": {
            "text/plain": [
              "<matplotlib.axes._subplots.AxesSubplot at 0x7fb9fad3dcf8>"
            ]
          },
          "metadata": {
            "tags": []
          },
          "execution_count": 27
        },
        {
          "output_type": "display_data",
          "data": {
            "image/png": "[encoded data removed]",
            "text/plain": [
              "<Figure size 72x72 with 1 Axes>"
            ]
          },
          "metadata": {
            "tags": [],
            "needs_background": "light"
          }
        }
      ]
    },
    {
      "cell_type": "markdown",
      "metadata": {
        "id": "rWP4a1fdlNqS"
      },
      "source": [
        "Let's see how a given image from the validation set behaves against all the average numbers. First let's define a \"distance metric\""
      ]
    },
    {
      "cell_type": "code",
      "metadata": {
        "id": "OEh6fs9qnX8c",
        "outputId": "8779e53c-f428-4928-90f4-c6b239018601",
        "colab": {
          "base_uri": "https://localhost:8080/"
        }
      },
      "source": [
        "test_image = valid_data[4][0]\n",
        "test_image.shape"
      ],
      "execution_count": 50,
      "outputs": [
        {
          "output_type": "execute_result",
          "data": {
            "text/plain": [
              "torch.Size([28, 28])"
            ]
          },
          "metadata": {
            "tags": []
          },
          "execution_count": 50
        }
      ]
    },
    {
      "cell_type": "code",
      "metadata": {
        "id": "4DIpfR4drueM"
      },
      "source": [
        "### it automatically runs the reduction (i.e. the mean) on all the dimensions, thus killing the broadcast\n",
        "def error(a, b):\n",
        "  return F.mse_loss(a,b).sqrt()"
      ],
      "execution_count": 83,
      "outputs": []
    },
    {
      "cell_type": "code",
      "metadata": {
        "id": "k0GM_iZKvSUf"
      },
      "source": [
        "def myerror(a,b):\n",
        "  return ((a-b)**2).mean((-1,-2)).sqrt()"
      ],
      "execution_count": 84,
      "outputs": []
    },
    {
      "cell_type": "code",
      "metadata": {
        "id": "XA6ThmdeumPD",
        "outputId": "e0e4d7f0-b674-470e-96cc-b8bf199f522c",
        "colab": {
          "base_uri": "https://localhost:8080/"
        }
      },
      "source": [
        "myerror(test_image, average_num[4])"
      ],
      "execution_count": 86,
      "outputs": [
        {
          "output_type": "execute_result",
          "data": {
            "text/plain": [
              "tensor(0.2995)"
            ]
          },
          "metadata": {
            "tags": []
          },
          "execution_count": 86
        }
      ]
    },
    {
      "cell_type": "code",
      "metadata": {
        "id": "R4vuzuLync1X",
        "outputId": "36116a87-272f-48ad-d8ba-2420f2e377a7",
        "colab": {
          "base_uri": "https://localhost:8080/"
        }
      },
      "source": [
        "for i in numbers:\n",
        "  print(f'test image vs average {i} --> error = {myerror(test_image, average_num[i]):.4f}')"
      ],
      "execution_count": 88,
      "outputs": [
        {
          "output_type": "stream",
          "text": [
            "test image vs average 0 --> error = 0.3911\n",
            "test image vs average 1 --> error = 0.4125\n",
            "test image vs average 2 --> error = 0.3803\n",
            "test image vs average 3 --> error = 0.3565\n",
            "test image vs average 4 --> error = 0.2995\n",
            "test image vs average 5 --> error = 0.3430\n",
            "test image vs average 6 --> error = 0.3670\n",
            "test image vs average 7 --> error = 0.3210\n",
            "test image vs average 8 --> error = 0.3484\n",
            "test image vs average 9 --> error = 0.3166\n"
          ],
          "name": "stdout"
        }
      ]
    },
    {
      "cell_type": "markdown",
      "metadata": {
        "id": "qkC9Gi_BrRt3"
      },
      "source": [
        "Classify an image as the number giving the lower RMSE:"
      ]
    },
    {
      "cell_type": "code",
      "metadata": {
        "id": "rJTZKnc7u28r",
        "outputId": "7a80e769-9196-4ba1-f49a-f5cacd55b4db",
        "colab": {
          "base_uri": "https://localhost:8080/"
        }
      },
      "source": [
        "valid_data[4].shape"
      ],
      "execution_count": 89,
      "outputs": [
        {
          "output_type": "execute_result",
          "data": {
            "text/plain": [
              "torch.Size([982, 28, 28])"
            ]
          },
          "metadata": {
            "tags": []
          },
          "execution_count": 89
        }
      ]
    },
    {
      "cell_type": "code",
      "metadata": {
        "id": "kh6qNa8KweTg",
        "outputId": "80f157b8-fd34-4933-bcc8-0a1d0a680627",
        "colab": {
          "base_uri": "https://localhost:8080/"
        }
      },
      "source": [
        "average_num[4].shape"
      ],
      "execution_count": 90,
      "outputs": [
        {
          "output_type": "execute_result",
          "data": {
            "text/plain": [
              "torch.Size([28, 28])"
            ]
          },
          "metadata": {
            "tags": []
          },
          "execution_count": 90
        }
      ]
    },
    {
      "cell_type": "code",
      "metadata": {
        "id": "146Eyqq3tAKs",
        "outputId": "6cb9929f-3e11-4b31-d938-3e44ef1a139b",
        "colab": {
          "base_uri": "https://localhost:8080/"
        }
      },
      "source": [
        "err = myerror(valid_data[4], average_num[4])\n",
        "err.shape, err[:10]"
      ],
      "execution_count": 91,
      "outputs": [
        {
          "output_type": "execute_result",
          "data": {
            "text/plain": [
              "(torch.Size([982]),\n",
              " tensor([0.2995, 0.2421, 0.3095, 0.2632, 0.2615, 0.2359, 0.2923, 0.2102, 0.2788, 0.3657]))"
            ]
          },
          "metadata": {
            "tags": []
          },
          "execution_count": 91
        }
      ]
    },
    {
      "cell_type": "code",
      "metadata": {
        "id": "dS0UwPlTrbpc"
      },
      "source": [
        "def getNumber(x):\n",
        "\n",
        "  errors = torch.stack([ myerror(x, average_num[i]) for i in numbers ])\n",
        "\n",
        "  return torch.argmin(errors,0)"
      ],
      "execution_count": 129,
      "outputs": []
    },
    {
      "cell_type": "markdown",
      "metadata": {
        "id": "peSfYkREsFur"
      },
      "source": [
        "Simply test it on `test_image`:"
      ]
    },
    {
      "cell_type": "code",
      "metadata": {
        "id": "OhbPyWeasLRd",
        "outputId": "2b4ea1d5-6382-47a6-c971-ca078080a405",
        "colab": {
          "base_uri": "https://localhost:8080/"
        }
      },
      "source": [
        "getNumber(test_image)"
      ],
      "execution_count": 130,
      "outputs": [
        {
          "output_type": "execute_result",
          "data": {
            "text/plain": [
              "tensor(4)"
            ]
          },
          "metadata": {
            "tags": []
          },
          "execution_count": 130
        }
      ]
    },
    {
      "cell_type": "code",
      "metadata": {
        "id": "5Afa9MXV2_Qq",
        "outputId": "1cbf0bfb-5db0-4a31-9997-60a86edfc778",
        "colab": {
          "base_uri": "https://localhost:8080/"
        }
      },
      "source": [
        "valid_data[4].shape"
      ],
      "execution_count": 117,
      "outputs": [
        {
          "output_type": "execute_result",
          "data": {
            "text/plain": [
              "torch.Size([982, 28, 28])"
            ]
          },
          "metadata": {
            "tags": []
          },
          "execution_count": 117
        }
      ]
    },
    {
      "cell_type": "code",
      "metadata": {
        "id": "HrQp9JZLz_IU",
        "outputId": "ddd55c6b-fabb-4817-8d3d-f5252378978f",
        "colab": {
          "base_uri": "https://localhost:8080/"
        }
      },
      "source": [
        "pred = getNumber(valid_data[4])\n",
        "pred.shape, pred[:20]"
      ],
      "execution_count": 137,
      "outputs": [
        {
          "output_type": "execute_result",
          "data": {
            "text/plain": [
              "(torch.Size([982]),\n",
              " tensor([4, 9, 4, 8, 4, 4, 4, 4, 4, 4, 9, 4, 4, 4, 4, 6, 4, 4, 4, 4]))"
            ]
          },
          "metadata": {
            "tags": []
          },
          "execution_count": 137
        }
      ]
    },
    {
      "cell_type": "code",
      "metadata": {
        "id": "dSlJw0BR4zBg",
        "outputId": "04a140c9-8944-4b93-e810-e9215c4bf6e9",
        "colab": {
          "base_uri": "https://localhost:8080/"
        }
      },
      "source": [
        "(pred == 4).float().mean()"
      ],
      "execution_count": 138,
      "outputs": [
        {
          "output_type": "execute_result",
          "data": {
            "text/plain": [
              "tensor(0.8259)"
            ]
          },
          "metadata": {
            "tags": []
          },
          "execution_count": 138
        }
      ]
    },
    {
      "cell_type": "markdown",
      "metadata": {
        "id": "r05LkqlVnql5"
      },
      "source": [
        "In this case we have a multi-class problem, so the final classification is different wrt/ to the \"3 vs 7\" problem. How to define the accuracy for such a problem?"
      ]
    },
    {
      "cell_type": "code",
      "metadata": {
        "id": "zoEP3J6v4iyY",
        "outputId": "9570211c-b3cb-4a35-be78-d41d72ce48b0",
        "colab": {
          "base_uri": "https://localhost:8080/"
        }
      },
      "source": [
        "accuracies = [ (getNumber(valid_data[i])==i).float().mean() for i in numbers  ]\n",
        "len(accuracies), accuracies"
      ],
      "execution_count": 141,
      "outputs": [
        {
          "output_type": "execute_result",
          "data": {
            "text/plain": [
              "(10,\n",
              " [tensor(0.8959),\n",
              "  tensor(0.9621),\n",
              "  tensor(0.7568),\n",
              "  tensor(0.8059),\n",
              "  tensor(0.8259),\n",
              "  tensor(0.6861),\n",
              "  tensor(0.8633),\n",
              "  tensor(0.8327),\n",
              "  tensor(0.7372),\n",
              "  tensor(0.8067)])"
            ]
          },
          "metadata": {
            "tags": []
          },
          "execution_count": 141
        }
      ]
    },
    {
      "cell_type": "code",
      "metadata": {
        "id": "j7N2MZcb5Bkj",
        "outputId": "847fe78d-2251-46e3-e1a4-8c60cb29dace",
        "colab": {
          "base_uri": "https://localhost:8080/"
        }
      },
      "source": [
        "print('overall accuracy:', torch.stack(accuracies).mean().item())"
      ],
      "execution_count": 143,
      "outputs": [
        {
          "output_type": "stream",
          "text": [
            "overall accuracy: 0.8172568082809448\n"
          ],
          "name": "stdout"
        }
      ]
    },
    {
      "cell_type": "markdown",
      "metadata": {
        "id": "bPhVcoAW5XwL"
      },
      "source": [
        "## Build the ML model\n",
        "Here I try to adopt a compromise between building everything from scratch (as it is done in the notebook from the course) and using everything from `fastai`/`pytorch`."
      ]
    },
    {
      "cell_type": "markdown",
      "metadata": {
        "id": "NeXfISIx-MsG"
      },
      "source": [
        "### Manipulate data\n",
        "First of all, manipulate the data to build the dataset (and then the data loaders):"
      ]
    },
    {
      "cell_type": "code",
      "metadata": {
        "id": "hV9PTlwj-1z-",
        "outputId": "4b6ba6e1-e6a9-416c-cdb7-812511b5acc4",
        "colab": {
          "base_uri": "https://localhost:8080/"
        }
      },
      "source": [
        "(train_data[0]).shape"
      ],
      "execution_count": 151,
      "outputs": [
        {
          "output_type": "execute_result",
          "data": {
            "text/plain": [
              "torch.Size([5923, 28, 28])"
            ]
          },
          "metadata": {
            "tags": []
          },
          "execution_count": 151
        }
      ]
    },
    {
      "cell_type": "code",
      "metadata": {
        "id": "4-ZOl74C-S5p",
        "outputId": "c57b50c0-67ef-475f-cff7-cedfdfd6b2f0",
        "colab": {
          "base_uri": "https://localhost:8080/"
        }
      },
      "source": [
        "train_x = torch.cat([ train_data[i] for i in numbers ]).view(-1, 28*28)\n",
        "train_x.shape"
      ],
      "execution_count": 153,
      "outputs": [
        {
          "output_type": "execute_result",
          "data": {
            "text/plain": [
              "torch.Size([60000, 784])"
            ]
          },
          "metadata": {
            "tags": []
          },
          "execution_count": 153
        }
      ]
    },
    {
      "cell_type": "code",
      "metadata": {
        "id": "WtclgeYV_JKM",
        "outputId": "4f1af253-f480-4956-f9ee-92bbc83c837f",
        "colab": {
          "base_uri": "https://localhost:8080/"
        }
      },
      "source": [
        "train_y = torch.cat([ tensor([i] * len(train_data[i])) for i in numbers ]).unsqueeze(1)\n",
        "train_y.shape"
      ],
      "execution_count": 159,
      "outputs": [
        {
          "output_type": "execute_result",
          "data": {
            "text/plain": [
              "torch.Size([60000, 1])"
            ]
          },
          "metadata": {
            "tags": []
          },
          "execution_count": 159
        }
      ]
    },
    {
      "cell_type": "code",
      "metadata": {
        "id": "_LfRpaMj_4PS"
      },
      "source": [
        "train_ds = list(zip(train_x,train_y))"
      ],
      "execution_count": 160,
      "outputs": []
    },
    {
      "cell_type": "code",
      "metadata": {
        "id": "fieT7RZzAnKY",
        "outputId": "b0bf5f7b-89e5-40ab-9be6-a5d9153a8e3a",
        "colab": {
          "base_uri": "https://localhost:8080/"
        }
      },
      "source": [
        "x,y = train_ds[0]\n",
        "x.shape,y.shape,y"
      ],
      "execution_count": 164,
      "outputs": [
        {
          "output_type": "execute_result",
          "data": {
            "text/plain": [
              "(torch.Size([784]), torch.Size([1]), tensor([0]))"
            ]
          },
          "metadata": {
            "tags": []
          },
          "execution_count": 164
        }
      ]
    },
    {
      "cell_type": "code",
      "metadata": {
        "id": "WlyroHAyAF-s"
      },
      "source": [
        "valid_x = torch.cat([valid_data[i] for i in numbers]).view(-1, 28*28)\n",
        "valid_y = torch.cat([ tensor([i] * len(valid_data[i])) for i in numbers ]).unsqueeze(1)\n",
        "valid_ds = list(zip(valid_x, valid_y))"
      ],
      "execution_count": 162,
      "outputs": []
    },
    {
      "cell_type": "code",
      "metadata": {
        "id": "Sa5r_ZN7BOPH",
        "outputId": "9f728a33-989a-4981-a752-f8a099417ea5",
        "colab": {
          "base_uri": "https://localhost:8080/",
          "height": 202
        }
      },
      "source": [
        "doc(DataLoader)"
      ],
      "execution_count": 165,
      "outputs": [
        {
          "output_type": "display_data",
          "data": {
            "text/html": [
              "<h2 id=\"DataLoader\" class=\"doc_header\"><code>class</code> <code>DataLoader</code><a href=\"https://github.com/fastai/fastai/tree/master/fastai/data/load.py#L65\" class=\"source_link\" style=\"float:right\">[source]</a></h2><blockquote><p><code>DataLoader</code>(<strong><code>dataset</code></strong>=<em><code>None</code></em>, <strong><code>bs</code></strong>=<em><code>None</code></em>, <strong><code>num_workers</code></strong>=<em><code>0</code></em>, <strong><code>pin_memory</code></strong>=<em><code>False</code></em>, <strong><code>timeout</code></strong>=<em><code>0</code></em>, <strong><code>batch_size</code></strong>=<em><code>None</code></em>, <strong><code>shuffle</code></strong>=<em><code>False</code></em>, <strong><code>drop_last</code></strong>=<em><code>False</code></em>, <strong><code>indexed</code></strong>=<em><code>None</code></em>, <strong><code>n</code></strong>=<em><code>None</code></em>, <strong><code>device</code></strong>=<em><code>None</code></em>, <strong><code>persistent_workers</code></strong>=<em><code>False</code></em>, <strong><code>wif</code></strong>=<em><code>None</code></em>, <strong><code>before_iter</code></strong>=<em><code>None</code></em>, <strong><code>after_item</code></strong>=<em><code>None</code></em>, <strong><code>before_batch</code></strong>=<em><code>None</code></em>, <strong><code>after_batch</code></strong>=<em><code>None</code></em>, <strong><code>after_iter</code></strong>=<em><code>None</code></em>, <strong><code>create_batches</code></strong>=<em><code>None</code></em>, <strong><code>create_item</code></strong>=<em><code>None</code></em>, <strong><code>create_batch</code></strong>=<em><code>None</code></em>, <strong><code>retain</code></strong>=<em><code>None</code></em>, <strong><code>get_idxs</code></strong>=<em><code>None</code></em>, <strong><code>sample</code></strong>=<em><code>None</code></em>, <strong><code>shuffle_fn</code></strong>=<em><code>None</code></em>, <strong><code>do_batch</code></strong>=<em><code>None</code></em>) :: <code>GetAttr</code></p>\n",
              "</blockquote>\n",
              "<p>API compatible with PyTorch DataLoader, with a lot more callbacks and flexibility</p>\n",
              "<p><a href=\"https://docs.fast.ai/data.load#DataLoader\" target=\"_blank\" rel=\"noreferrer noopener\">Show in docs</a></p>\n"
            ],
            "text/plain": [
              "<IPython.core.display.HTML object>"
            ]
          },
          "metadata": {
            "tags": []
          }
        }
      ]
    },
    {
      "cell_type": "code",
      "metadata": {
        "id": "cLEG6-4ZA5_C"
      },
      "source": [
        "train_dl = DataLoader(train_ds, batch_size=256)\n",
        "valid_dl = DataLoader(valid_ds, batch_size=256)"
      ],
      "execution_count": 168,
      "outputs": []
    },
    {
      "cell_type": "code",
      "metadata": {
        "id": "Z1Rx11JwBbn4",
        "outputId": "aa8f831d-4e1d-44fc-eb55-ff3b8f74bc6a",
        "colab": {
          "base_uri": "https://localhost:8080/",
          "height": 151
        }
      },
      "source": [
        "doc(DataLoaders)"
      ],
      "execution_count": 169,
      "outputs": [
        {
          "output_type": "display_data",
          "data": {
            "text/html": [
              "<h2 id=\"DataLoaders\" class=\"doc_header\"><code>class</code> <code>DataLoaders</code><a href=\"https://github.com/fastai/fastai/tree/master/fastai/data/core.py#L137\" class=\"source_link\" style=\"float:right\">[source]</a></h2><blockquote><p><code>DataLoaders</code>(<strong>*<code>loaders</code></strong>, <strong><code>path</code></strong>=<em><code>'.'</code></em>, <strong><code>device</code></strong>=<em><code>None</code></em>) :: <code>GetAttr</code></p>\n",
              "</blockquote>\n",
              "<p>Basic wrapper around several <code>DataLoader</code>s.</p>\n",
              "<p><a href=\"https://docs.fast.ai/data.core#DataLoaders\" target=\"_blank\" rel=\"noreferrer noopener\">Show in docs</a></p>\n"
            ],
            "text/plain": [
              "<IPython.core.display.HTML object>"
            ]
          },
          "metadata": {
            "tags": []
          }
        }
      ]
    },
    {
      "cell_type": "code",
      "metadata": {
        "id": "A_CwhYJ6Bm0l"
      },
      "source": [
        "dls = DataLoaders(train_dl, valid_dl)"
      ],
      "execution_count": 170,
      "outputs": []
    },
    {
      "cell_type": "code",
      "metadata": {
        "id": "6ssXsKqnBuKX",
        "outputId": "a5bb2bfd-4b44-4ba6-f25e-766b8c3b5415",
        "colab": {
          "base_uri": "https://localhost:8080/"
        }
      },
      "source": [
        "len(dls.valid_ds)"
      ],
      "execution_count": 176,
      "outputs": [
        {
          "output_type": "execute_result",
          "data": {
            "text/plain": [
              "10000"
            ]
          },
          "metadata": {
            "tags": []
          },
          "execution_count": 176
        }
      ]
    },
    {
      "cell_type": "markdown",
      "metadata": {
        "id": "ktIGDQqRCyRn"
      },
      "source": [
        "### Build the model\n",
        "Here build the actual model and all the related stuff. There are a number of things to keep in mind:\n",
        "- similarly to above, 10 different \"output\" numbers, are needed, one for each category\n",
        "- Q: how to define loss in such a case?"
      ]
    },
    {
      "cell_type": "code",
      "metadata": {
        "id": "0KT52Yp9Exl-"
      },
      "source": [
        "def myloss(predictions, targets):\n",
        "  \n",
        "  return 0\n",
        "  \n"
      ],
      "execution_count": null,
      "outputs": []
    },
    {
      "cell_type": "code",
      "metadata": {
        "id": "od2vhqO2O0PS",
        "outputId": "85d90cff-40c7-4e57-b24d-06061c870627",
        "colab": {
          "base_uri": "https://localhost:8080/",
          "height": 428
        }
      },
      "source": [
        "doc(F.cross_entropy)"
      ],
      "execution_count": 178,
      "outputs": [
        {
          "output_type": "display_data",
          "data": {
            "text/html": [
              "<h4 id=\"cross_entropy\" class=\"doc_header\"><code>cross_entropy</code><a href=\"torch/nn/functional.py#L2416\" class=\"source_link\" style=\"float:right\">[source]</a></h4><blockquote><p><code>cross_entropy</code>(<strong><code>input</code></strong>, <strong><code>target</code></strong>, <strong><code>weight</code></strong>=<em><code>None</code></em>, <strong><code>size_average</code></strong>=<em><code>None</code></em>, <strong><code>ignore_index</code></strong>=<em><code>-100</code></em>, <strong><code>reduce</code></strong>=<em><code>None</code></em>, <strong><code>reduction</code></strong>=<em><code>'mean'</code></em>)</p>\n",
              "</blockquote>\n",
              "<p>This criterion combines <code>log_softmax</code> and <code>nll_loss</code> in a single\n",
              "function.</p>\n",
              "<p>See :class:<code>~torch.nn.CrossEntropyLoss</code> for details.</p>\n",
              "<p>Args:\n",
              "    input (Tensor) : :math:<code>(N, C)</code> where <code>C = number of classes</code> or :math:<code>(N, C, H, W)</code>\n",
              "        in case of 2D Loss, or :math:<code>(N, C, d_1, d_2, ..., d_K)</code> where :math:<code>K \\geq 1</code>\n",
              "        in the case of K-dimensional loss.\n",
              "    target (Tensor) : :math:<code>(N)</code> where each value is :math:<code>0 \\leq \\text{targets}[i] \\leq C-1</code>,\n",
              "        or :math:<code>(N, d_1, d_2, ..., d_K)</code> where :math:<code>K \\geq 1</code> for\n",
              "        K-dimensional loss.\n",
              "    weight (Tensor, optional): a manual rescaling weight given to each\n",
              "        class. If given, has to be a Tensor of size <code>C</code>\n",
              "    size_average (bool, optional): Deprecated (see :attr:<code>reduction</code>). By default,\n",
              "        the losses are averaged over each loss element in the batch. Note that for\n",
              "        some losses, there multiple elements per sample. If the field :attr:<code>size_average</code>\n",
              "        is set to <code>False</code>, the losses are instead summed for each minibatch. Ignored\n",
              "        when reduce is <code>False</code>. Default: <code>True</code>\n",
              "    ignore_index (int, optional): Specifies a target value that is ignored\n",
              "        and does not contribute to the input gradient. When :attr:<code>size_average</code> is\n",
              "        <code>True</code>, the loss is averaged over non-ignored targets. Default: -100\n",
              "    reduce (bool, optional): Deprecated (see :attr:<code>reduction</code>). By default, the\n",
              "        losses are averaged or summed over observations for each minibatch depending\n",
              "        on :attr:<code>size_average</code>. When :attr:<code>reduce</code> is <code>False</code>, returns a loss per\n",
              "        batch element instead and ignores :attr:<code>size_average</code>. Default: <code>True</code>\n",
              "    reduction (string, optional): Specifies the reduction to apply to the output:\n",
              "        <code>'none'</code> | <code>'mean'</code> | <code>'sum'</code>. <code>'none'</code>: no reduction will be applied,\n",
              "        <code>'mean'</code>: the sum of the output will be divided by the number of\n",
              "        elements in the output, <code>'sum'</code>: the output will be summed. Note: :attr:<code>size_average</code>\n",
              "        and :attr:<code>reduce</code> are in the process of being deprecated, and in the meantime,\n",
              "        specifying either of those two args will override :attr:<code>reduction</code>. Default: <code>'mean'</code></p>\n",
              "<p>Examples::</p>\n",
              "\n",
              "<pre><code>&gt;&gt;&gt; input = torch.randn(3, 5, requires_grad=True)\n",
              "&gt;&gt;&gt; target = torch.randint(5, (3,), dtype=torch.int64)\n",
              "&gt;&gt;&gt; loss = F.cross_entropy(input, target)\n",
              "&gt;&gt;&gt; loss.backward()</code></pre>\n"
            ],
            "text/plain": [
              "<IPython.core.display.HTML object>"
            ]
          },
          "metadata": {
            "tags": []
          }
        }
      ]
    },
    {
      "cell_type": "code",
      "metadata": {
        "id": "bXkqGKg59Oz0"
      },
      "source": [
        "model = nn.Sequential(\n",
        "    nn.Linear(28*28, 50),\n",
        "    nn.ReLU(),\n",
        "    nn.Linear(50,10),\n",
        "    nn.Sigmoid()\n",
        ")"
      ],
      "execution_count": 177,
      "outputs": []
    },
    {
      "cell_type": "code",
      "metadata": {
        "id": "0YW6ea35DNrg"
      },
      "source": [
        "learn = Learner(dls, model, loss_func=myloss, opt_func=SGD, metric=mymetric)"
      ],
      "execution_count": null,
      "outputs": []
    }
  ]
}