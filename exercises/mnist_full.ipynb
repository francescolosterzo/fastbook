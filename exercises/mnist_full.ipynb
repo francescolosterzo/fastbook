{
  "nbformat": 4,
  "nbformat_minor": 0,
  "metadata": {
    "kernelspec": {
      "display_name": "Python 3",
      "language": "python",
      "name": "python3"
    },
    "language_info": {
      "codemirror_mode": {
        "name": "ipython",
        "version": 3
      },
      "file_extension": ".py",
      "mimetype": "text/x-python",
      "name": "python",
      "nbconvert_exporter": "python",
      "pygments_lexer": "ipython3",
      "version": "3.6.8"
    },
    "colab": {
      "name": "mnist_full.ipynb",
      "provenance": []
    },
    "accelerator": "GPU"
  },
  "cells": [
    {
      "cell_type": "markdown",
      "metadata": {
        "id": "4Fdg4uRdgnlp"
      },
      "source": [
        "# Full MNIST exercise\n",
        "Here is where I try to run the full exercise of classifying the MNIST dataset!"
      ]
    },
    {
      "cell_type": "code",
      "metadata": {
        "id": "PyDHGbGXgXOF"
      },
      "source": [
        "!pip install -Uqq fastbook\n",
        "import fastbook\n",
        "fastbook.setup_book()"
      ],
      "execution_count": 1,
      "outputs": []
    },
    {
      "cell_type": "code",
      "metadata": {
        "id": "5WWOwAXCgY83"
      },
      "source": [
        "from fastai.vision.all import *\n",
        "from fastbook import *\n",
        "\n",
        "matplotlib.rc('image', cmap='Greys')"
      ],
      "execution_count": 2,
      "outputs": []
    },
    {
      "cell_type": "markdown",
      "metadata": {
        "id": "754YI8x7hDn8"
      },
      "source": [
        "## Get the data\n",
        "Should be fairly simple to get the data from the built in tools :)"
      ]
    },
    {
      "cell_type": "code",
      "metadata": {
        "id": "zR_XVkQmglhN"
      },
      "source": [
        "path = untar_data(URLs.MNIST)"
      ],
      "execution_count": 3,
      "outputs": []
    },
    {
      "cell_type": "code",
      "metadata": {
        "id": "FG6H_HhCg9k0",
        "colab": {
          "base_uri": "https://localhost:8080/"
        },
        "outputId": "e1d5f2cc-918a-4db1-89c1-8a7d10f72468"
      },
      "source": [
        "path.ls()"
      ],
      "execution_count": 4,
      "outputs": [
        {
          "output_type": "execute_result",
          "data": {
            "text/plain": [
              "(#2) [Path('/root/.fastai/data/mnist_png/testing'),Path('/root/.fastai/data/mnist_png/training')]"
            ]
          },
          "metadata": {
            "tags": []
          },
          "execution_count": 4
        }
      ]
    },
    {
      "cell_type": "code",
      "metadata": {
        "id": "Wxan8w9phC6c",
        "colab": {
          "base_uri": "https://localhost:8080/"
        },
        "outputId": "b0f0480e-8caa-42d4-ed4c-81c4ddcd7be0"
      },
      "source": [
        "(path/'training'/'9').ls()"
      ],
      "execution_count": 5,
      "outputs": [
        {
          "output_type": "execute_result",
          "data": {
            "text/plain": [
              "(#5949) [Path('/root/.fastai/data/mnist_png/training/9/11175.png'),Path('/root/.fastai/data/mnist_png/training/9/51289.png'),Path('/root/.fastai/data/mnist_png/training/9/12202.png'),Path('/root/.fastai/data/mnist_png/training/9/1027.png'),Path('/root/.fastai/data/mnist_png/training/9/33683.png'),Path('/root/.fastai/data/mnist_png/training/9/54687.png'),Path('/root/.fastai/data/mnist_png/training/9/44048.png'),Path('/root/.fastai/data/mnist_png/training/9/17142.png'),Path('/root/.fastai/data/mnist_png/training/9/46298.png'),Path('/root/.fastai/data/mnist_png/training/9/4118.png')...]"
            ]
          },
          "metadata": {
            "tags": []
          },
          "execution_count": 5
        }
      ]
    },
    {
      "cell_type": "code",
      "metadata": {
        "id": "t2-H0bq8hSH_",
        "colab": {
          "base_uri": "https://localhost:8080/",
          "height": 45
        },
        "outputId": "18cd504c-774e-485b-a733-906d2833eb08"
      },
      "source": [
        "Image.open((path/'training'/'5').ls().sorted()[0])"
      ],
      "execution_count": 6,
      "outputs": [
        {
          "output_type": "execute_result",
          "data": {
            "image/png": "[encoded data removed]",
            "text/plain": [
              "<PIL.PngImagePlugin.PngImageFile image mode=L size=28x28 at 0x7FC6491AEF98>"
            ]
          },
          "metadata": {
            "tags": []
          },
          "execution_count": 6
        }
      ]
    },
    {
      "cell_type": "markdown",
      "metadata": {
        "id": "E3MMCuLkh-EM"
      },
      "source": [
        "## Baseline\n",
        "As suggested in the `04_mnist_basics` notebook, we need a baseline model. I will use the same \"pixel similarity\" approach as used there."
      ]
    },
    {
      "cell_type": "code",
      "metadata": {
        "id": "tBq-QJ9_i8Ld"
      },
      "source": [
        "def loadData(kind, number):\n",
        "  '''\n",
        "  load data of a given kind (training/validation) for a given number\n",
        "  '''\n",
        "\n",
        "  data = (path/kind/str(number)).ls().sorted()\n",
        "\n",
        "  tensors = [ tensor(Image.open(o)) for o in data ]\n",
        "\n",
        "  stack = torch.stack(tensors).float()/225\n",
        "\n",
        "  return stack"
      ],
      "execution_count": 7,
      "outputs": []
    },
    {
      "cell_type": "code",
      "metadata": {
        "id": "WfylShxgiZ43"
      },
      "source": [
        "numbers = range(10)"
      ],
      "execution_count": 8,
      "outputs": []
    },
    {
      "cell_type": "code",
      "metadata": {
        "id": "yQ2cJNgziqD5"
      },
      "source": [
        "train_data = {}\n",
        "valid_data = {}\n",
        "for k in numbers:\n",
        "  train_data[k] = loadData('training', k)\n",
        "  valid_data[k] = loadData('testing', k)"
      ],
      "execution_count": 9,
      "outputs": []
    },
    {
      "cell_type": "code",
      "metadata": {
        "id": "9olecbh_j3au",
        "colab": {
          "base_uri": "https://localhost:8080/"
        },
        "outputId": "b2cfb141-0258-43d9-a721-1ee5b0b2de1b"
      },
      "source": [
        "train_data.keys()"
      ],
      "execution_count": 10,
      "outputs": [
        {
          "output_type": "execute_result",
          "data": {
            "text/plain": [
              "dict_keys([0, 1, 2, 3, 4, 5, 6, 7, 8, 9])"
            ]
          },
          "metadata": {
            "tags": []
          },
          "execution_count": 10
        }
      ]
    },
    {
      "cell_type": "code",
      "metadata": {
        "id": "noL9_soIkbgb",
        "colab": {
          "base_uri": "https://localhost:8080/",
          "height": 628
        },
        "outputId": "993a089c-bd1a-4a16-d72a-af8cab927f1e"
      },
      "source": [
        "pd.DataFrame((train_data[6][0]*255).int()).style.set_properties(**{'font_size': '6pt'}).background_gradient('Greys')"
      ],
      "execution_count": 11,
      "outputs": [
        {
          "output_type": "execute_result",
          "data": {
            "text/html": [
              "<style  type=\"text/css\" >\n",
              "#T_9d4f0e40_5433_11eb_83c3_0242ac1c0002row0_col0,#T_9d4f0e40_5433_11eb_83c3_0242ac1c0002row0_col1,#T_9d4f0e40_5433_11eb_83c3_0242ac1c0002row0_col2,#T_9d4f0e40_5433_11eb_83c3_0242ac1c0002row0_col3,#T_9d4f0e40_5433_11eb_83c3_0242ac1c0002row0_col4,#T_9d4f0e40_5433_11eb_83c3_0242ac1c0002row0_col5,#T_9d4f0e40_5433_11eb_83c3_0242ac1c0002row0_col6,#T_9d4f0e40_5433_11eb_83c3_0242ac1c0002row0_col7,#T_9d4f0e40_5433_11eb_83c3_0242ac1c0002row0_col8,#T_9d4f0e40_5433_11eb_83c3_0242ac1c0002row0_col9,#T_9d4f0e40_5433_11eb_83c3_0242ac1c0002row0_col10,#T_9d4f0e40_5433_11eb_83c3_0242ac1c0002row0_col11,#T_9d4f0e40_5433_11eb_83c3_0242ac1c0002row0_col12,#T_9d4f0e40_5433_11eb_83c3_0242ac1c0002row0_col13,#T_9d4f0e40_5433_11eb_83c3_0242ac1c0002row0_col14,#T_9d4f0e40_5433_11eb_83c3_0242ac1c0002row0_col15,#T_9d4f0e40_5433_11eb_83c3_0242ac1c0002row0_col16,#T_9d4f0e40_5433_11eb_83c3_0242ac1c0002row0_col17,#T_9d4f0e40_5433_11eb_83c3_0242ac1c0002row0_col18,#T_9d4f0e40_5433_11eb_83c3_0242ac1c0002row0_col19,#T_9d4f0e40_5433_11eb_83c3_0242ac1c0002row0_col20,#T_9d4f0e40_5433_11eb_83c3_0242ac1c0002row0_col21,#T_9d4f0e40_5433_11eb_83c3_0242ac1c0002row0_col22,#T_9d4f0e40_5433_11eb_83c3_0242ac1c0002row0_col23,#T_9d4f0e40_5433_11eb_83c3_0242ac1c0002row0_col24,#T_9d4f0e40_5433_11eb_83c3_0242ac1c0002row0_col25,#T_9d4f0e40_5433_11eb_83c3_0242ac1c0002row0_col26,#T_9d4f0e40_5433_11eb_83c3_0242ac1c0002row0_col27,#T_9d4f0e40_5433_11eb_83c3_0242ac1c0002row1_col0,#T_9d4f0e40_5433_11eb_83c3_0242ac1c0002row1_col1,#T_9d4f0e40_5433_11eb_83c3_0242ac1c0002row1_col2,#T_9d4f0e40_5433_11eb_83c3_0242ac1c0002row1_col3,#T_9d4f0e40_5433_11eb_83c3_0242ac1c0002row1_col4,#T_9d4f0e40_5433_11eb_83c3_0242ac1c0002row1_col5,#T_9d4f0e40_5433_11eb_83c3_0242ac1c0002row1_col6,#T_9d4f0e40_5433_11eb_83c3_0242ac1c0002row1_col7,#T_9d4f0e40_5433_11eb_83c3_0242ac1c0002row1_col8,#T_9d4f0e40_5433_11eb_83c3_0242ac1c0002row1_col9,#T_9d4f0e40_5433_11eb_83c3_0242ac1c0002row1_col10,#T_9d4f0e40_5433_11eb_83c3_0242ac1c0002row1_col11,#T_9d4f0e40_5433_11eb_83c3_0242ac1c0002row1_col12,#T_9d4f0e40_5433_11eb_83c3_0242ac1c0002row1_col13,#T_9d4f0e40_5433_11eb_83c3_0242ac1c0002row1_col14,#T_9d4f0e40_5433_11eb_83c3_0242ac1c0002row1_col15,#T_9d4f0e40_5433_11eb_83c3_0242ac1c0002row1_col16,#T_9d4f0e40_5433_11eb_83c3_0242ac1c0002row1_col17,#T_9d4f0e40_5433_11eb_83c3_0242ac1c0002row1_col18,#T_9d4f0e40_5433_11eb_83c3_0242ac1c0002row1_col19,#T_9d4f0e40_5433_11eb_83c3_0242ac1c0002row1_col20,#T_9d4f0e40_5433_11eb_83c3_0242ac1c0002row1_col21,#T_9d4f0e40_5433_11eb_83c3_0242ac1c0002row1_col22,#T_9d4f0e40_5433_11eb_83c3_0242ac1c0002row1_col23,#T_9d4f0e40_5433_11eb_83c3_0242ac1c0002row1_col24,#T_9d4f0e40_5433_11eb_83c3_0242ac1c0002row1_col25,#T_9d4f0e40_5433_11eb_83c3_0242ac1c0002row1_col26,#T_9d4f0e40_5433_11eb_83c3_0242ac1c0002row1_col27,#T_9d4f0e40_5433_11eb_83c3_0242ac1c0002row2_col0,#T_9d4f0e40_5433_11eb_83c3_0242ac1c0002row2_col1,#T_9d4f0e40_5433_11eb_83c3_0242ac1c0002row2_col2,#T_9d4f0e40_5433_11eb_83c3_0242ac1c0002row2_col3,#T_9d4f0e40_5433_11eb_83c3_0242ac1c0002row2_col4,#T_9d4f0e40_5433_11eb_83c3_0242ac1c0002row2_col5,#T_9d4f0e40_5433_11eb_83c3_0242ac1c0002row2_col6,#T_9d4f0e40_5433_11eb_83c3_0242ac1c0002row2_col7,#T_9d4f0e40_5433_11eb_83c3_0242ac1c0002row2_col8,#T_9d4f0e40_5433_11eb_83c3_0242ac1c0002row2_col9,#T_9d4f0e40_5433_11eb_83c3_0242ac1c0002row2_col10,#T_9d4f0e40_5433_11eb_83c3_0242ac1c0002row2_col11,#T_9d4f0e40_5433_11eb_83c3_0242ac1c0002row2_col12,#T_9d4f0e40_5433_11eb_83c3_0242ac1c0002row2_col13,#T_9d4f0e40_5433_11eb_83c3_0242ac1c0002row2_col14,#T_9d4f0e40_5433_11eb_83c3_0242ac1c0002row2_col15,#T_9d4f0e40_5433_11eb_83c3_0242ac1c0002row2_col19,#T_9d4f0e40_5433_11eb_83c3_0242ac1c0002row2_col20,#T_9d4f0e40_5433_11eb_83c3_0242ac1c0002row2_col21,#T_9d4f0e40_5433_11eb_83c3_0242ac1c0002row2_col22,#T_9d4f0e40_5433_11eb_83c3_0242ac1c0002row2_col23,#T_9d4f0e40_5433_11eb_83c3_0242ac1c0002row2_col24,#T_9d4f0e40_5433_11eb_83c3_0242ac1c0002row2_col25,#T_9d4f0e40_5433_11eb_83c3_0242ac1c0002row2_col26,#T_9d4f0e40_5433_11eb_83c3_0242ac1c0002row2_col27,#T_9d4f0e40_5433_11eb_83c3_0242ac1c0002row3_col0,#T_9d4f0e40_5433_11eb_83c3_0242ac1c0002row3_col1,#T_9d4f0e40_5433_11eb_83c3_0242ac1c0002row3_col2,#T_9d4f0e40_5433_11eb_83c3_0242ac1c0002row3_col3,#T_9d4f0e40_5433_11eb_83c3_0242ac1c0002row3_col4,#T_9d4f0e40_5433_11eb_83c3_0242ac1c0002row3_col5,#T_9d4f0e40_5433_11eb_83c3_0242ac1c0002row3_col6,#T_9d4f0e40_5433_11eb_83c3_0242ac1c0002row3_col7,#T_9d4f0e40_5433_11eb_83c3_0242ac1c0002row3_col8,#T_9d4f0e40_5433_11eb_83c3_0242ac1c0002row3_col9,#T_9d4f0e40_5433_11eb_83c3_0242ac1c0002row3_col10,#T_9d4f0e40_5433_11eb_83c3_0242ac1c0002row3_col11,#T_9d4f0e40_5433_11eb_83c3_0242ac1c0002row3_col12,#T_9d4f0e40_5433_11eb_83c3_0242ac1c0002row3_col13,#T_9d4f0e40_5433_11eb_83c3_0242ac1c0002row3_col14,#T_9d4f0e40_5433_11eb_83c3_0242ac1c0002row3_col20,#T_9d4f0e40_5433_11eb_83c3_0242ac1c0002row3_col21,#T_9d4f0e40_5433_11eb_83c3_0242ac1c0002row3_col22,#T_9d4f0e40_5433_11eb_83c3_0242ac1c0002row3_col23,#T_9d4f0e40_5433_11eb_83c3_0242ac1c0002row3_col24,#T_9d4f0e40_5433_11eb_83c3_0242ac1c0002row3_col25,#T_9d4f0e40_5433_11eb_83c3_0242ac1c0002row3_col26,#T_9d4f0e40_5433_11eb_83c3_0242ac1c0002row3_col27,#T_9d4f0e40_5433_11eb_83c3_0242ac1c0002row4_col0,#T_9d4f0e40_5433_11eb_83c3_0242ac1c0002row4_col1,#T_9d4f0e40_5433_11eb_83c3_0242ac1c0002row4_col2,#T_9d4f0e40_5433_11eb_83c3_0242ac1c0002row4_col3,#T_9d4f0e40_5433_11eb_83c3_0242ac1c0002row4_col4,#T_9d4f0e40_5433_11eb_83c3_0242ac1c0002row4_col5,#T_9d4f0e40_5433_11eb_83c3_0242ac1c0002row4_col7,#T_9d4f0e40_5433_11eb_83c3_0242ac1c0002row4_col8,#T_9d4f0e40_5433_11eb_83c3_0242ac1c0002row4_col9,#T_9d4f0e40_5433_11eb_83c3_0242ac1c0002row4_col10,#T_9d4f0e40_5433_11eb_83c3_0242ac1c0002row4_col11,#T_9d4f0e40_5433_11eb_83c3_0242ac1c0002row4_col12,#T_9d4f0e40_5433_11eb_83c3_0242ac1c0002row4_col13,#T_9d4f0e40_5433_11eb_83c3_0242ac1c0002row4_col20,#T_9d4f0e40_5433_11eb_83c3_0242ac1c0002row4_col21,#T_9d4f0e40_5433_11eb_83c3_0242ac1c0002row4_col22,#T_9d4f0e40_5433_11eb_83c3_0242ac1c0002row4_col23,#T_9d4f0e40_5433_11eb_83c3_0242ac1c0002row4_col24,#T_9d4f0e40_5433_11eb_83c3_0242ac1c0002row4_col25,#T_9d4f0e40_5433_11eb_83c3_0242ac1c0002row4_col26,#T_9d4f0e40_5433_11eb_83c3_0242ac1c0002row4_col27,#T_9d4f0e40_5433_11eb_83c3_0242ac1c0002row5_col0,#T_9d4f0e40_5433_11eb_83c3_0242ac1c0002row5_col1,#T_9d4f0e40_5433_11eb_83c3_0242ac1c0002row5_col2,#T_9d4f0e40_5433_11eb_83c3_0242ac1c0002row5_col3,#T_9d4f0e40_5433_11eb_83c3_0242ac1c0002row5_col4,#T_9d4f0e40_5433_11eb_83c3_0242ac1c0002row5_col5,#T_9d4f0e40_5433_11eb_83c3_0242ac1c0002row5_col7,#T_9d4f0e40_5433_11eb_83c3_0242ac1c0002row5_col8,#T_9d4f0e40_5433_11eb_83c3_0242ac1c0002row5_col9,#T_9d4f0e40_5433_11eb_83c3_0242ac1c0002row5_col10,#T_9d4f0e40_5433_11eb_83c3_0242ac1c0002row5_col11,#T_9d4f0e40_5433_11eb_83c3_0242ac1c0002row5_col12,#T_9d4f0e40_5433_11eb_83c3_0242ac1c0002row5_col19,#T_9d4f0e40_5433_11eb_83c3_0242ac1c0002row5_col20,#T_9d4f0e40_5433_11eb_83c3_0242ac1c0002row5_col21,#T_9d4f0e40_5433_11eb_83c3_0242ac1c0002row5_col22,#T_9d4f0e40_5433_11eb_83c3_0242ac1c0002row5_col23,#T_9d4f0e40_5433_11eb_83c3_0242ac1c0002row5_col24,#T_9d4f0e40_5433_11eb_83c3_0242ac1c0002row5_col25,#T_9d4f0e40_5433_11eb_83c3_0242ac1c0002row5_col26,#T_9d4f0e40_5433_11eb_83c3_0242ac1c0002row5_col27,#T_9d4f0e40_5433_11eb_83c3_0242ac1c0002row6_col0,#T_9d4f0e40_5433_11eb_83c3_0242ac1c0002row6_col1,#T_9d4f0e40_5433_11eb_83c3_0242ac1c0002row6_col2,#T_9d4f0e40_5433_11eb_83c3_0242ac1c0002row6_col3,#T_9d4f0e40_5433_11eb_83c3_0242ac1c0002row6_col4,#T_9d4f0e40_5433_11eb_83c3_0242ac1c0002row6_col5,#T_9d4f0e40_5433_11eb_83c3_0242ac1c0002row6_col6,#T_9d4f0e40_5433_11eb_83c3_0242ac1c0002row6_col7,#T_9d4f0e40_5433_11eb_83c3_0242ac1c0002row6_col8,#T_9d4f0e40_5433_11eb_83c3_0242ac1c0002row6_col9,#T_9d4f0e40_5433_11eb_83c3_0242ac1c0002row6_col10,#T_9d4f0e40_5433_11eb_83c3_0242ac1c0002row6_col11,#T_9d4f0e40_5433_11eb_83c3_0242ac1c0002row6_col18,#T_9d4f0e40_5433_11eb_83c3_0242ac1c0002row6_col19,#T_9d4f0e40_5433_11eb_83c3_0242ac1c0002row6_col20,#T_9d4f0e40_5433_11eb_83c3_0242ac1c0002row6_col21,#T_9d4f0e40_5433_11eb_83c3_0242ac1c0002row6_col22,#T_9d4f0e40_5433_11eb_83c3_0242ac1c0002row6_col23,#T_9d4f0e40_5433_11eb_83c3_0242ac1c0002row6_col24,#T_9d4f0e40_5433_11eb_83c3_0242ac1c0002row6_col25,#T_9d4f0e40_5433_11eb_83c3_0242ac1c0002row6_col26,#T_9d4f0e40_5433_11eb_83c3_0242ac1c0002row6_col27,#T_9d4f0e40_5433_11eb_83c3_0242ac1c0002row7_col0,#T_9d4f0e40_5433_11eb_83c3_0242ac1c0002row7_col1,#T_9d4f0e40_5433_11eb_83c3_0242ac1c0002row7_col2,#T_9d4f0e40_5433_11eb_83c3_0242ac1c0002row7_col3,#T_9d4f0e40_5433_11eb_83c3_0242ac1c0002row7_col4,#T_9d4f0e40_5433_11eb_83c3_0242ac1c0002row7_col5,#T_9d4f0e40_5433_11eb_83c3_0242ac1c0002row7_col6,#T_9d4f0e40_5433_11eb_83c3_0242ac1c0002row7_col7,#T_9d4f0e40_5433_11eb_83c3_0242ac1c0002row7_col8,#T_9d4f0e40_5433_11eb_83c3_0242ac1c0002row7_col9,#T_9d4f0e40_5433_11eb_83c3_0242ac1c0002row7_col10,#T_9d4f0e40_5433_11eb_83c3_0242ac1c0002row7_col17,#T_9d4f0e40_5433_11eb_83c3_0242ac1c0002row7_col18,#T_9d4f0e40_5433_11eb_83c3_0242ac1c0002row7_col19,#T_9d4f0e40_5433_11eb_83c3_0242ac1c0002row7_col20,#T_9d4f0e40_5433_11eb_83c3_0242ac1c0002row7_col21,#T_9d4f0e40_5433_11eb_83c3_0242ac1c0002row7_col22,#T_9d4f0e40_5433_11eb_83c3_0242ac1c0002row7_col23,#T_9d4f0e40_5433_11eb_83c3_0242ac1c0002row7_col24,#T_9d4f0e40_5433_11eb_83c3_0242ac1c0002row7_col25,#T_9d4f0e40_5433_11eb_83c3_0242ac1c0002row7_col26,#T_9d4f0e40_5433_11eb_83c3_0242ac1c0002row7_col27,#T_9d4f0e40_5433_11eb_83c3_0242ac1c0002row8_col0,#T_9d4f0e40_5433_11eb_83c3_0242ac1c0002row8_col1,#T_9d4f0e40_5433_11eb_83c3_0242ac1c0002row8_col2,#T_9d4f0e40_5433_11eb_83c3_0242ac1c0002row8_col3,#T_9d4f0e40_5433_11eb_83c3_0242ac1c0002row8_col4,#T_9d4f0e40_5433_11eb_83c3_0242ac1c0002row8_col5,#T_9d4f0e40_5433_11eb_83c3_0242ac1c0002row8_col6,#T_9d4f0e40_5433_11eb_83c3_0242ac1c0002row8_col7,#T_9d4f0e40_5433_11eb_83c3_0242ac1c0002row8_col8,#T_9d4f0e40_5433_11eb_83c3_0242ac1c0002row8_col9,#T_9d4f0e40_5433_11eb_83c3_0242ac1c0002row8_col16,#T_9d4f0e40_5433_11eb_83c3_0242ac1c0002row8_col17,#T_9d4f0e40_5433_11eb_83c3_0242ac1c0002row8_col18,#T_9d4f0e40_5433_11eb_83c3_0242ac1c0002row8_col19,#T_9d4f0e40_5433_11eb_83c3_0242ac1c0002row8_col20,#T_9d4f0e40_5433_11eb_83c3_0242ac1c0002row8_col21,#T_9d4f0e40_5433_11eb_83c3_0242ac1c0002row8_col22,#T_9d4f0e40_5433_11eb_83c3_0242ac1c0002row8_col23,#T_9d4f0e40_5433_11eb_83c3_0242ac1c0002row8_col24,#T_9d4f0e40_5433_11eb_83c3_0242ac1c0002row8_col25,#T_9d4f0e40_5433_11eb_83c3_0242ac1c0002row8_col26,#T_9d4f0e40_5433_11eb_83c3_0242ac1c0002row8_col27,#T_9d4f0e40_5433_11eb_83c3_0242ac1c0002row9_col0,#T_9d4f0e40_5433_11eb_83c3_0242ac1c0002row9_col1,#T_9d4f0e40_5433_11eb_83c3_0242ac1c0002row9_col2,#T_9d4f0e40_5433_11eb_83c3_0242ac1c0002row9_col3,#T_9d4f0e40_5433_11eb_83c3_0242ac1c0002row9_col4,#T_9d4f0e40_5433_11eb_83c3_0242ac1c0002row9_col5,#T_9d4f0e40_5433_11eb_83c3_0242ac1c0002row9_col6,#T_9d4f0e40_5433_11eb_83c3_0242ac1c0002row9_col7,#T_9d4f0e40_5433_11eb_83c3_0242ac1c0002row9_col8,#T_9d4f0e40_5433_11eb_83c3_0242ac1c0002row9_col16,#T_9d4f0e40_5433_11eb_83c3_0242ac1c0002row9_col17,#T_9d4f0e40_5433_11eb_83c3_0242ac1c0002row9_col18,#T_9d4f0e40_5433_11eb_83c3_0242ac1c0002row9_col19,#T_9d4f0e40_5433_11eb_83c3_0242ac1c0002row9_col20,#T_9d4f0e40_5433_11eb_83c3_0242ac1c0002row9_col21,#T_9d4f0e40_5433_11eb_83c3_0242ac1c0002row9_col22,#T_9d4f0e40_5433_11eb_83c3_0242ac1c0002row9_col23,#T_9d4f0e40_5433_11eb_83c3_0242ac1c0002row9_col24,#T_9d4f0e40_5433_11eb_83c3_0242ac1c0002row9_col25,#T_9d4f0e40_5433_11eb_83c3_0242ac1c0002row9_col26,#T_9d4f0e40_5433_11eb_83c3_0242ac1c0002row9_col27,#T_9d4f0e40_5433_11eb_83c3_0242ac1c0002row10_col0,#T_9d4f0e40_5433_11eb_83c3_0242ac1c0002row10_col1,#T_9d4f0e40_5433_11eb_83c3_0242ac1c0002row10_col2,#T_9d4f0e40_5433_11eb_83c3_0242ac1c0002row10_col3,#T_9d4f0e40_5433_11eb_83c3_0242ac1c0002row10_col4,#T_9d4f0e40_5433_11eb_83c3_0242ac1c0002row10_col5,#T_9d4f0e40_5433_11eb_83c3_0242ac1c0002row10_col6,#T_9d4f0e40_5433_11eb_83c3_0242ac1c0002row10_col7,#T_9d4f0e40_5433_11eb_83c3_0242ac1c0002row10_col8,#T_9d4f0e40_5433_11eb_83c3_0242ac1c0002row10_col15,#T_9d4f0e40_5433_11eb_83c3_0242ac1c0002row10_col16,#T_9d4f0e40_5433_11eb_83c3_0242ac1c0002row10_col17,#T_9d4f0e40_5433_11eb_83c3_0242ac1c0002row10_col18,#T_9d4f0e40_5433_11eb_83c3_0242ac1c0002row10_col19,#T_9d4f0e40_5433_11eb_83c3_0242ac1c0002row10_col20,#T_9d4f0e40_5433_11eb_83c3_0242ac1c0002row10_col21,#T_9d4f0e40_5433_11eb_83c3_0242ac1c0002row10_col22,#T_9d4f0e40_5433_11eb_83c3_0242ac1c0002row10_col23,#T_9d4f0e40_5433_11eb_83c3_0242ac1c0002row10_col24,#T_9d4f0e40_5433_11eb_83c3_0242ac1c0002row10_col25,#T_9d4f0e40_5433_11eb_83c3_0242ac1c0002row10_col26,#T_9d4f0e40_5433_11eb_83c3_0242ac1c0002row10_col27,#T_9d4f0e40_5433_11eb_83c3_0242ac1c0002row11_col0,#T_9d4f0e40_5433_11eb_83c3_0242ac1c0002row11_col1,#T_9d4f0e40_5433_11eb_83c3_0242ac1c0002row11_col2,#T_9d4f0e40_5433_11eb_83c3_0242ac1c0002row11_col3,#T_9d4f0e40_5433_11eb_83c3_0242ac1c0002row11_col4,#T_9d4f0e40_5433_11eb_83c3_0242ac1c0002row11_col5,#T_9d4f0e40_5433_11eb_83c3_0242ac1c0002row11_col6,#T_9d4f0e40_5433_11eb_83c3_0242ac1c0002row11_col7,#T_9d4f0e40_5433_11eb_83c3_0242ac1c0002row11_col8,#T_9d4f0e40_5433_11eb_83c3_0242ac1c0002row11_col14,#T_9d4f0e40_5433_11eb_83c3_0242ac1c0002row11_col15,#T_9d4f0e40_5433_11eb_83c3_0242ac1c0002row11_col16,#T_9d4f0e40_5433_11eb_83c3_0242ac1c0002row11_col17,#T_9d4f0e40_5433_11eb_83c3_0242ac1c0002row11_col18,#T_9d4f0e40_5433_11eb_83c3_0242ac1c0002row11_col19,#T_9d4f0e40_5433_11eb_83c3_0242ac1c0002row11_col20,#T_9d4f0e40_5433_11eb_83c3_0242ac1c0002row11_col21,#T_9d4f0e40_5433_11eb_83c3_0242ac1c0002row11_col22,#T_9d4f0e40_5433_11eb_83c3_0242ac1c0002row11_col23,#T_9d4f0e40_5433_11eb_83c3_0242ac1c0002row11_col24,#T_9d4f0e40_5433_11eb_83c3_0242ac1c0002row11_col25,#T_9d4f0e40_5433_11eb_83c3_0242ac1c0002row11_col26,#T_9d4f0e40_5433_11eb_83c3_0242ac1c0002row11_col27,#T_9d4f0e40_5433_11eb_83c3_0242ac1c0002row12_col0,#T_9d4f0e40_5433_11eb_83c3_0242ac1c0002row12_col1,#T_9d4f0e40_5433_11eb_83c3_0242ac1c0002row12_col2,#T_9d4f0e40_5433_11eb_83c3_0242ac1c0002row12_col3,#T_9d4f0e40_5433_11eb_83c3_0242ac1c0002row12_col4,#T_9d4f0e40_5433_11eb_83c3_0242ac1c0002row12_col5,#T_9d4f0e40_5433_11eb_83c3_0242ac1c0002row12_col6,#T_9d4f0e40_5433_11eb_83c3_0242ac1c0002row12_col7,#T_9d4f0e40_5433_11eb_83c3_0242ac1c0002row12_col13,#T_9d4f0e40_5433_11eb_83c3_0242ac1c0002row12_col14,#T_9d4f0e40_5433_11eb_83c3_0242ac1c0002row12_col15,#T_9d4f0e40_5433_11eb_83c3_0242ac1c0002row12_col16,#T_9d4f0e40_5433_11eb_83c3_0242ac1c0002row12_col17,#T_9d4f0e40_5433_11eb_83c3_0242ac1c0002row12_col18,#T_9d4f0e40_5433_11eb_83c3_0242ac1c0002row12_col19,#T_9d4f0e40_5433_11eb_83c3_0242ac1c0002row12_col20,#T_9d4f0e40_5433_11eb_83c3_0242ac1c0002row12_col21,#T_9d4f0e40_5433_11eb_83c3_0242ac1c0002row12_col22,#T_9d4f0e40_5433_11eb_83c3_0242ac1c0002row12_col23,#T_9d4f0e40_5433_11eb_83c3_0242ac1c0002row12_col24,#T_9d4f0e40_5433_11eb_83c3_0242ac1c0002row12_col25,#T_9d4f0e40_5433_11eb_83c3_0242ac1c0002row12_col26,#T_9d4f0e40_5433_11eb_83c3_0242ac1c0002row12_col27,#T_9d4f0e40_5433_11eb_83c3_0242ac1c0002row13_col0,#T_9d4f0e40_5433_11eb_83c3_0242ac1c0002row13_col1,#T_9d4f0e40_5433_11eb_83c3_0242ac1c0002row13_col2,#T_9d4f0e40_5433_11eb_83c3_0242ac1c0002row13_col3,#T_9d4f0e40_5433_11eb_83c3_0242ac1c0002row13_col4,#T_9d4f0e40_5433_11eb_83c3_0242ac1c0002row13_col5,#T_9d4f0e40_5433_11eb_83c3_0242ac1c0002row13_col6,#T_9d4f0e40_5433_11eb_83c3_0242ac1c0002row13_col7,#T_9d4f0e40_5433_11eb_83c3_0242ac1c0002row13_col12,#T_9d4f0e40_5433_11eb_83c3_0242ac1c0002row13_col13,#T_9d4f0e40_5433_11eb_83c3_0242ac1c0002row13_col14,#T_9d4f0e40_5433_11eb_83c3_0242ac1c0002row13_col21,#T_9d4f0e40_5433_11eb_83c3_0242ac1c0002row13_col22,#T_9d4f0e40_5433_11eb_83c3_0242ac1c0002row13_col23,#T_9d4f0e40_5433_11eb_83c3_0242ac1c0002row13_col24,#T_9d4f0e40_5433_11eb_83c3_0242ac1c0002row13_col25,#T_9d4f0e40_5433_11eb_83c3_0242ac1c0002row13_col26,#T_9d4f0e40_5433_11eb_83c3_0242ac1c0002row13_col27,#T_9d4f0e40_5433_11eb_83c3_0242ac1c0002row14_col0,#T_9d4f0e40_5433_11eb_83c3_0242ac1c0002row14_col1,#T_9d4f0e40_5433_11eb_83c3_0242ac1c0002row14_col2,#T_9d4f0e40_5433_11eb_83c3_0242ac1c0002row14_col3,#T_9d4f0e40_5433_11eb_83c3_0242ac1c0002row14_col4,#T_9d4f0e40_5433_11eb_83c3_0242ac1c0002row14_col5,#T_9d4f0e40_5433_11eb_83c3_0242ac1c0002row14_col6,#T_9d4f0e40_5433_11eb_83c3_0242ac1c0002row14_col7,#T_9d4f0e40_5433_11eb_83c3_0242ac1c0002row14_col12,#T_9d4f0e40_5433_11eb_83c3_0242ac1c0002row14_col22,#T_9d4f0e40_5433_11eb_83c3_0242ac1c0002row14_col23,#T_9d4f0e40_5433_11eb_83c3_0242ac1c0002row14_col24,#T_9d4f0e40_5433_11eb_83c3_0242ac1c0002row14_col25,#T_9d4f0e40_5433_11eb_83c3_0242ac1c0002row14_col26,#T_9d4f0e40_5433_11eb_83c3_0242ac1c0002row14_col27,#T_9d4f0e40_5433_11eb_83c3_0242ac1c0002row15_col0,#T_9d4f0e40_5433_11eb_83c3_0242ac1c0002row15_col1,#T_9d4f0e40_5433_11eb_83c3_0242ac1c0002row15_col2,#T_9d4f0e40_5433_11eb_83c3_0242ac1c0002row15_col3,#T_9d4f0e40_5433_11eb_83c3_0242ac1c0002row15_col4,#T_9d4f0e40_5433_11eb_83c3_0242ac1c0002row15_col5,#T_9d4f0e40_5433_11eb_83c3_0242ac1c0002row15_col6,#T_9d4f0e40_5433_11eb_83c3_0242ac1c0002row15_col22,#T_9d4f0e40_5433_11eb_83c3_0242ac1c0002row15_col23,#T_9d4f0e40_5433_11eb_83c3_0242ac1c0002row15_col24,#T_9d4f0e40_5433_11eb_83c3_0242ac1c0002row15_col25,#T_9d4f0e40_5433_11eb_83c3_0242ac1c0002row15_col26,#T_9d4f0e40_5433_11eb_83c3_0242ac1c0002row15_col27,#T_9d4f0e40_5433_11eb_83c3_0242ac1c0002row16_col0,#T_9d4f0e40_5433_11eb_83c3_0242ac1c0002row16_col1,#T_9d4f0e40_5433_11eb_83c3_0242ac1c0002row16_col2,#T_9d4f0e40_5433_11eb_83c3_0242ac1c0002row16_col3,#T_9d4f0e40_5433_11eb_83c3_0242ac1c0002row16_col4,#T_9d4f0e40_5433_11eb_83c3_0242ac1c0002row16_col5,#T_9d4f0e40_5433_11eb_83c3_0242ac1c0002row16_col6,#T_9d4f0e40_5433_11eb_83c3_0242ac1c0002row16_col22,#T_9d4f0e40_5433_11eb_83c3_0242ac1c0002row16_col23,#T_9d4f0e40_5433_11eb_83c3_0242ac1c0002row16_col24,#T_9d4f0e40_5433_11eb_83c3_0242ac1c0002row16_col25,#T_9d4f0e40_5433_11eb_83c3_0242ac1c0002row16_col26,#T_9d4f0e40_5433_11eb_83c3_0242ac1c0002row16_col27,#T_9d4f0e40_5433_11eb_83c3_0242ac1c0002row17_col0,#T_9d4f0e40_5433_11eb_83c3_0242ac1c0002row17_col1,#T_9d4f0e40_5433_11eb_83c3_0242ac1c0002row17_col2,#T_9d4f0e40_5433_11eb_83c3_0242ac1c0002row17_col3,#T_9d4f0e40_5433_11eb_83c3_0242ac1c0002row17_col4,#T_9d4f0e40_5433_11eb_83c3_0242ac1c0002row17_col5,#T_9d4f0e40_5433_11eb_83c3_0242ac1c0002row17_col6,#T_9d4f0e40_5433_11eb_83c3_0242ac1c0002row17_col22,#T_9d4f0e40_5433_11eb_83c3_0242ac1c0002row17_col23,#T_9d4f0e40_5433_11eb_83c3_0242ac1c0002row17_col24,#T_9d4f0e40_5433_11eb_83c3_0242ac1c0002row17_col25,#T_9d4f0e40_5433_11eb_83c3_0242ac1c0002row17_col26,#T_9d4f0e40_5433_11eb_83c3_0242ac1c0002row17_col27,#T_9d4f0e40_5433_11eb_83c3_0242ac1c0002row18_col0,#T_9d4f0e40_5433_11eb_83c3_0242ac1c0002row18_col1,#T_9d4f0e40_5433_11eb_83c3_0242ac1c0002row18_col2,#T_9d4f0e40_5433_11eb_83c3_0242ac1c0002row18_col3,#T_9d4f0e40_5433_11eb_83c3_0242ac1c0002row18_col4,#T_9d4f0e40_5433_11eb_83c3_0242ac1c0002row18_col5,#T_9d4f0e40_5433_11eb_83c3_0242ac1c0002row18_col6,#T_9d4f0e40_5433_11eb_83c3_0242ac1c0002row18_col7,#T_9d4f0e40_5433_11eb_83c3_0242ac1c0002row18_col21,#T_9d4f0e40_5433_11eb_83c3_0242ac1c0002row18_col22,#T_9d4f0e40_5433_11eb_83c3_0242ac1c0002row18_col23,#T_9d4f0e40_5433_11eb_83c3_0242ac1c0002row18_col24,#T_9d4f0e40_5433_11eb_83c3_0242ac1c0002row18_col25,#T_9d4f0e40_5433_11eb_83c3_0242ac1c0002row18_col26,#T_9d4f0e40_5433_11eb_83c3_0242ac1c0002row18_col27,#T_9d4f0e40_5433_11eb_83c3_0242ac1c0002row19_col0,#T_9d4f0e40_5433_11eb_83c3_0242ac1c0002row19_col1,#T_9d4f0e40_5433_11eb_83c3_0242ac1c0002row19_col2,#T_9d4f0e40_5433_11eb_83c3_0242ac1c0002row19_col3,#T_9d4f0e40_5433_11eb_83c3_0242ac1c0002row19_col4,#T_9d4f0e40_5433_11eb_83c3_0242ac1c0002row19_col5,#T_9d4f0e40_5433_11eb_83c3_0242ac1c0002row19_col6,#T_9d4f0e40_5433_11eb_83c3_0242ac1c0002row19_col7,#T_9d4f0e40_5433_11eb_83c3_0242ac1c0002row19_col20,#T_9d4f0e40_5433_11eb_83c3_0242ac1c0002row19_col21,#T_9d4f0e40_5433_11eb_83c3_0242ac1c0002row19_col22,#T_9d4f0e40_5433_11eb_83c3_0242ac1c0002row19_col23,#T_9d4f0e40_5433_11eb_83c3_0242ac1c0002row19_col24,#T_9d4f0e40_5433_11eb_83c3_0242ac1c0002row19_col25,#T_9d4f0e40_5433_11eb_83c3_0242ac1c0002row19_col26,#T_9d4f0e40_5433_11eb_83c3_0242ac1c0002row19_col27,#T_9d4f0e40_5433_11eb_83c3_0242ac1c0002row20_col0,#T_9d4f0e40_5433_11eb_83c3_0242ac1c0002row20_col1,#T_9d4f0e40_5433_11eb_83c3_0242ac1c0002row20_col2,#T_9d4f0e40_5433_11eb_83c3_0242ac1c0002row20_col3,#T_9d4f0e40_5433_11eb_83c3_0242ac1c0002row20_col4,#T_9d4f0e40_5433_11eb_83c3_0242ac1c0002row20_col5,#T_9d4f0e40_5433_11eb_83c3_0242ac1c0002row20_col6,#T_9d4f0e40_5433_11eb_83c3_0242ac1c0002row20_col7,#T_9d4f0e40_5433_11eb_83c3_0242ac1c0002row20_col19,#T_9d4f0e40_5433_11eb_83c3_0242ac1c0002row20_col20,#T_9d4f0e40_5433_11eb_83c3_0242ac1c0002row20_col21,#T_9d4f0e40_5433_11eb_83c3_0242ac1c0002row20_col22,#T_9d4f0e40_5433_11eb_83c3_0242ac1c0002row20_col23,#T_9d4f0e40_5433_11eb_83c3_0242ac1c0002row20_col24,#T_9d4f0e40_5433_11eb_83c3_0242ac1c0002row20_col25,#T_9d4f0e40_5433_11eb_83c3_0242ac1c0002row20_col26,#T_9d4f0e40_5433_11eb_83c3_0242ac1c0002row20_col27,#T_9d4f0e40_5433_11eb_83c3_0242ac1c0002row21_col0,#T_9d4f0e40_5433_11eb_83c3_0242ac1c0002row21_col1,#T_9d4f0e40_5433_11eb_83c3_0242ac1c0002row21_col2,#T_9d4f0e40_5433_11eb_83c3_0242ac1c0002row21_col3,#T_9d4f0e40_5433_11eb_83c3_0242ac1c0002row21_col4,#T_9d4f0e40_5433_11eb_83c3_0242ac1c0002row21_col5,#T_9d4f0e40_5433_11eb_83c3_0242ac1c0002row21_col6,#T_9d4f0e40_5433_11eb_83c3_0242ac1c0002row21_col7,#T_9d4f0e40_5433_11eb_83c3_0242ac1c0002row21_col8,#T_9d4f0e40_5433_11eb_83c3_0242ac1c0002row21_col16,#T_9d4f0e40_5433_11eb_83c3_0242ac1c0002row21_col17,#T_9d4f0e40_5433_11eb_83c3_0242ac1c0002row21_col18,#T_9d4f0e40_5433_11eb_83c3_0242ac1c0002row21_col19,#T_9d4f0e40_5433_11eb_83c3_0242ac1c0002row21_col20,#T_9d4f0e40_5433_11eb_83c3_0242ac1c0002row21_col21,#T_9d4f0e40_5433_11eb_83c3_0242ac1c0002row21_col22,#T_9d4f0e40_5433_11eb_83c3_0242ac1c0002row21_col23,#T_9d4f0e40_5433_11eb_83c3_0242ac1c0002row21_col24,#T_9d4f0e40_5433_11eb_83c3_0242ac1c0002row21_col25,#T_9d4f0e40_5433_11eb_83c3_0242ac1c0002row21_col26,#T_9d4f0e40_5433_11eb_83c3_0242ac1c0002row21_col27,#T_9d4f0e40_5433_11eb_83c3_0242ac1c0002row22_col0,#T_9d4f0e40_5433_11eb_83c3_0242ac1c0002row22_col1,#T_9d4f0e40_5433_11eb_83c3_0242ac1c0002row22_col2,#T_9d4f0e40_5433_11eb_83c3_0242ac1c0002row22_col3,#T_9d4f0e40_5433_11eb_83c3_0242ac1c0002row22_col4,#T_9d4f0e40_5433_11eb_83c3_0242ac1c0002row22_col5,#T_9d4f0e40_5433_11eb_83c3_0242ac1c0002row22_col6,#T_9d4f0e40_5433_11eb_83c3_0242ac1c0002row22_col7,#T_9d4f0e40_5433_11eb_83c3_0242ac1c0002row22_col8,#T_9d4f0e40_5433_11eb_83c3_0242ac1c0002row22_col9,#T_9d4f0e40_5433_11eb_83c3_0242ac1c0002row22_col10,#T_9d4f0e40_5433_11eb_83c3_0242ac1c0002row22_col11,#T_9d4f0e40_5433_11eb_83c3_0242ac1c0002row22_col12,#T_9d4f0e40_5433_11eb_83c3_0242ac1c0002row22_col13,#T_9d4f0e40_5433_11eb_83c3_0242ac1c0002row22_col14,#T_9d4f0e40_5433_11eb_83c3_0242ac1c0002row22_col15,#T_9d4f0e40_5433_11eb_83c3_0242ac1c0002row22_col16,#T_9d4f0e40_5433_11eb_83c3_0242ac1c0002row22_col17,#T_9d4f0e40_5433_11eb_83c3_0242ac1c0002row22_col18,#T_9d4f0e40_5433_11eb_83c3_0242ac1c0002row22_col19,#T_9d4f0e40_5433_11eb_83c3_0242ac1c0002row22_col20,#T_9d4f0e40_5433_11eb_83c3_0242ac1c0002row22_col21,#T_9d4f0e40_5433_11eb_83c3_0242ac1c0002row22_col22,#T_9d4f0e40_5433_11eb_83c3_0242ac1c0002row22_col23,#T_9d4f0e40_5433_11eb_83c3_0242ac1c0002row22_col24,#T_9d4f0e40_5433_11eb_83c3_0242ac1c0002row22_col25,#T_9d4f0e40_5433_11eb_83c3_0242ac1c0002row22_col26,#T_9d4f0e40_5433_11eb_83c3_0242ac1c0002row22_col27,#T_9d4f0e40_5433_11eb_83c3_0242ac1c0002row23_col0,#T_9d4f0e40_5433_11eb_83c3_0242ac1c0002row23_col1,#T_9d4f0e40_5433_11eb_83c3_0242ac1c0002row23_col2,#T_9d4f0e40_5433_11eb_83c3_0242ac1c0002row23_col3,#T_9d4f0e40_5433_11eb_83c3_0242ac1c0002row23_col4,#T_9d4f0e40_5433_11eb_83c3_0242ac1c0002row23_col5,#T_9d4f0e40_5433_11eb_83c3_0242ac1c0002row23_col6,#T_9d4f0e40_5433_11eb_83c3_0242ac1c0002row23_col7,#T_9d4f0e40_5433_11eb_83c3_0242ac1c0002row23_col8,#T_9d4f0e40_5433_11eb_83c3_0242ac1c0002row23_col9,#T_9d4f0e40_5433_11eb_83c3_0242ac1c0002row23_col10,#T_9d4f0e40_5433_11eb_83c3_0242ac1c0002row23_col11,#T_9d4f0e40_5433_11eb_83c3_0242ac1c0002row23_col12,#T_9d4f0e40_5433_11eb_83c3_0242ac1c0002row23_col13,#T_9d4f0e40_5433_11eb_83c3_0242ac1c0002row23_col14,#T_9d4f0e40_5433_11eb_83c3_0242ac1c0002row23_col15,#T_9d4f0e40_5433_11eb_83c3_0242ac1c0002row23_col16,#T_9d4f0e40_5433_11eb_83c3_0242ac1c0002row23_col17,#T_9d4f0e40_5433_11eb_83c3_0242ac1c0002row23_col18,#T_9d4f0e40_5433_11eb_83c3_0242ac1c0002row23_col19,#T_9d4f0e40_5433_11eb_83c3_0242ac1c0002row23_col20,#T_9d4f0e40_5433_11eb_83c3_0242ac1c0002row23_col21,#T_9d4f0e40_5433_11eb_83c3_0242ac1c0002row23_col22,#T_9d4f0e40_5433_11eb_83c3_0242ac1c0002row23_col23,#T_9d4f0e40_5433_11eb_83c3_0242ac1c0002row23_col24,#T_9d4f0e40_5433_11eb_83c3_0242ac1c0002row23_col25,#T_9d4f0e40_5433_11eb_83c3_0242ac1c0002row23_col26,#T_9d4f0e40_5433_11eb_83c3_0242ac1c0002row23_col27,#T_9d4f0e40_5433_11eb_83c3_0242ac1c0002row24_col0,#T_9d4f0e40_5433_11eb_83c3_0242ac1c0002row24_col1,#T_9d4f0e40_5433_11eb_83c3_0242ac1c0002row24_col2,#T_9d4f0e40_5433_11eb_83c3_0242ac1c0002row24_col3,#T_9d4f0e40_5433_11eb_83c3_0242ac1c0002row24_col4,#T_9d4f0e40_5433_11eb_83c3_0242ac1c0002row24_col5,#T_9d4f0e40_5433_11eb_83c3_0242ac1c0002row24_col6,#T_9d4f0e40_5433_11eb_83c3_0242ac1c0002row24_col7,#T_9d4f0e40_5433_11eb_83c3_0242ac1c0002row24_col8,#T_9d4f0e40_5433_11eb_83c3_0242ac1c0002row24_col9,#T_9d4f0e40_5433_11eb_83c3_0242ac1c0002row24_col10,#T_9d4f0e40_5433_11eb_83c3_0242ac1c0002row24_col11,#T_9d4f0e40_5433_11eb_83c3_0242ac1c0002row24_col12,#T_9d4f0e40_5433_11eb_83c3_0242ac1c0002row24_col13,#T_9d4f0e40_5433_11eb_83c3_0242ac1c0002row24_col14,#T_9d4f0e40_5433_11eb_83c3_0242ac1c0002row24_col15,#T_9d4f0e40_5433_11eb_83c3_0242ac1c0002row24_col16,#T_9d4f0e40_5433_11eb_83c3_0242ac1c0002row24_col17,#T_9d4f0e40_5433_11eb_83c3_0242ac1c0002row24_col18,#T_9d4f0e40_5433_11eb_83c3_0242ac1c0002row24_col19,#T_9d4f0e40_5433_11eb_83c3_0242ac1c0002row24_col20,#T_9d4f0e40_5433_11eb_83c3_0242ac1c0002row24_col21,#T_9d4f0e40_5433_11eb_83c3_0242ac1c0002row24_col22,#T_9d4f0e40_5433_11eb_83c3_0242ac1c0002row24_col23,#T_9d4f0e40_5433_11eb_83c3_0242ac1c0002row24_col24,#T_9d4f0e40_5433_11eb_83c3_0242ac1c0002row24_col25,#T_9d4f0e40_5433_11eb_83c3_0242ac1c0002row24_col26,#T_9d4f0e40_5433_11eb_83c3_0242ac1c0002row24_col27,#T_9d4f0e40_5433_11eb_83c3_0242ac1c0002row25_col0,#T_9d4f0e40_5433_11eb_83c3_0242ac1c0002row25_col1,#T_9d4f0e40_5433_11eb_83c3_0242ac1c0002row25_col2,#T_9d4f0e40_5433_11eb_83c3_0242ac1c0002row25_col3,#T_9d4f0e40_5433_11eb_83c3_0242ac1c0002row25_col4,#T_9d4f0e40_5433_11eb_83c3_0242ac1c0002row25_col5,#T_9d4f0e40_5433_11eb_83c3_0242ac1c0002row25_col6,#T_9d4f0e40_5433_11eb_83c3_0242ac1c0002row25_col7,#T_9d4f0e40_5433_11eb_83c3_0242ac1c0002row25_col8,#T_9d4f0e40_5433_11eb_83c3_0242ac1c0002row25_col9,#T_9d4f0e40_5433_11eb_83c3_0242ac1c0002row25_col10,#T_9d4f0e40_5433_11eb_83c3_0242ac1c0002row25_col11,#T_9d4f0e40_5433_11eb_83c3_0242ac1c0002row25_col12,#T_9d4f0e40_5433_11eb_83c3_0242ac1c0002row25_col13,#T_9d4f0e40_5433_11eb_83c3_0242ac1c0002row25_col14,#T_9d4f0e40_5433_11eb_83c3_0242ac1c0002row25_col15,#T_9d4f0e40_5433_11eb_83c3_0242ac1c0002row25_col16,#T_9d4f0e40_5433_11eb_83c3_0242ac1c0002row25_col17,#T_9d4f0e40_5433_11eb_83c3_0242ac1c0002row25_col18,#T_9d4f0e40_5433_11eb_83c3_0242ac1c0002row25_col19,#T_9d4f0e40_5433_11eb_83c3_0242ac1c0002row25_col20,#T_9d4f0e40_5433_11eb_83c3_0242ac1c0002row25_col21,#T_9d4f0e40_5433_11eb_83c3_0242ac1c0002row25_col22,#T_9d4f0e40_5433_11eb_83c3_0242ac1c0002row25_col23,#T_9d4f0e40_5433_11eb_83c3_0242ac1c0002row25_col24,#T_9d4f0e40_5433_11eb_83c3_0242ac1c0002row25_col25,#T_9d4f0e40_5433_11eb_83c3_0242ac1c0002row25_col26,#T_9d4f0e40_5433_11eb_83c3_0242ac1c0002row25_col27,#T_9d4f0e40_5433_11eb_83c3_0242ac1c0002row26_col0,#T_9d4f0e40_5433_11eb_83c3_0242ac1c0002row26_col1,#T_9d4f0e40_5433_11eb_83c3_0242ac1c0002row26_col2,#T_9d4f0e40_5433_11eb_83c3_0242ac1c0002row26_col3,#T_9d4f0e40_5433_11eb_83c3_0242ac1c0002row26_col4,#T_9d4f0e40_5433_11eb_83c3_0242ac1c0002row26_col5,#T_9d4f0e40_5433_11eb_83c3_0242ac1c0002row26_col6,#T_9d4f0e40_5433_11eb_83c3_0242ac1c0002row26_col7,#T_9d4f0e40_5433_11eb_83c3_0242ac1c0002row26_col8,#T_9d4f0e40_5433_11eb_83c3_0242ac1c0002row26_col9,#T_9d4f0e40_5433_11eb_83c3_0242ac1c0002row26_col10,#T_9d4f0e40_5433_11eb_83c3_0242ac1c0002row26_col11,#T_9d4f0e40_5433_11eb_83c3_0242ac1c0002row26_col12,#T_9d4f0e40_5433_11eb_83c3_0242ac1c0002row26_col13,#T_9d4f0e40_5433_11eb_83c3_0242ac1c0002row26_col14,#T_9d4f0e40_5433_11eb_83c3_0242ac1c0002row26_col15,#T_9d4f0e40_5433_11eb_83c3_0242ac1c0002row26_col16,#T_9d4f0e40_5433_11eb_83c3_0242ac1c0002row26_col17,#T_9d4f0e40_5433_11eb_83c3_0242ac1c0002row26_col18,#T_9d4f0e40_5433_11eb_83c3_0242ac1c0002row26_col19,#T_9d4f0e40_5433_11eb_83c3_0242ac1c0002row26_col20,#T_9d4f0e40_5433_11eb_83c3_0242ac1c0002row26_col21,#T_9d4f0e40_5433_11eb_83c3_0242ac1c0002row26_col22,#T_9d4f0e40_5433_11eb_83c3_0242ac1c0002row26_col23,#T_9d4f0e40_5433_11eb_83c3_0242ac1c0002row26_col24,#T_9d4f0e40_5433_11eb_83c3_0242ac1c0002row26_col25,#T_9d4f0e40_5433_11eb_83c3_0242ac1c0002row26_col26,#T_9d4f0e40_5433_11eb_83c3_0242ac1c0002row26_col27,#T_9d4f0e40_5433_11eb_83c3_0242ac1c0002row27_col0,#T_9d4f0e40_5433_11eb_83c3_0242ac1c0002row27_col1,#T_9d4f0e40_5433_11eb_83c3_0242ac1c0002row27_col2,#T_9d4f0e40_5433_11eb_83c3_0242ac1c0002row27_col3,#T_9d4f0e40_5433_11eb_83c3_0242ac1c0002row27_col4,#T_9d4f0e40_5433_11eb_83c3_0242ac1c0002row27_col5,#T_9d4f0e40_5433_11eb_83c3_0242ac1c0002row27_col6,#T_9d4f0e40_5433_11eb_83c3_0242ac1c0002row27_col7,#T_9d4f0e40_5433_11eb_83c3_0242ac1c0002row27_col8,#T_9d4f0e40_5433_11eb_83c3_0242ac1c0002row27_col9,#T_9d4f0e40_5433_11eb_83c3_0242ac1c0002row27_col10,#T_9d4f0e40_5433_11eb_83c3_0242ac1c0002row27_col11,#T_9d4f0e40_5433_11eb_83c3_0242ac1c0002row27_col12,#T_9d4f0e40_5433_11eb_83c3_0242ac1c0002row27_col13,#T_9d4f0e40_5433_11eb_83c3_0242ac1c0002row27_col14,#T_9d4f0e40_5433_11eb_83c3_0242ac1c0002row27_col15,#T_9d4f0e40_5433_11eb_83c3_0242ac1c0002row27_col16,#T_9d4f0e40_5433_11eb_83c3_0242ac1c0002row27_col17,#T_9d4f0e40_5433_11eb_83c3_0242ac1c0002row27_col18,#T_9d4f0e40_5433_11eb_83c3_0242ac1c0002row27_col19,#T_9d4f0e40_5433_11eb_83c3_0242ac1c0002row27_col20,#T_9d4f0e40_5433_11eb_83c3_0242ac1c0002row27_col21,#T_9d4f0e40_5433_11eb_83c3_0242ac1c0002row27_col22,#T_9d4f0e40_5433_11eb_83c3_0242ac1c0002row27_col23,#T_9d4f0e40_5433_11eb_83c3_0242ac1c0002row27_col24,#T_9d4f0e40_5433_11eb_83c3_0242ac1c0002row27_col25,#T_9d4f0e40_5433_11eb_83c3_0242ac1c0002row27_col26,#T_9d4f0e40_5433_11eb_83c3_0242ac1c0002row27_col27{\n",
              "            font_size:  6pt;\n",
              "            background-color:  #ffffff;\n",
              "            color:  #000000;\n",
              "        }#T_9d4f0e40_5433_11eb_83c3_0242ac1c0002row2_col16,#T_9d4f0e40_5433_11eb_83c3_0242ac1c0002row7_col12{\n",
              "            font_size:  6pt;\n",
              "            background-color:  #818181;\n",
              "            color:  #000000;\n",
              "        }#T_9d4f0e40_5433_11eb_83c3_0242ac1c0002row2_col17,#T_9d4f0e40_5433_11eb_83c3_0242ac1c0002row3_col16,#T_9d4f0e40_5433_11eb_83c3_0242ac1c0002row3_col18,#T_9d4f0e40_5433_11eb_83c3_0242ac1c0002row4_col16,#T_9d4f0e40_5433_11eb_83c3_0242ac1c0002row5_col6,#T_9d4f0e40_5433_11eb_83c3_0242ac1c0002row5_col15,#T_9d4f0e40_5433_11eb_83c3_0242ac1c0002row5_col16,#T_9d4f0e40_5433_11eb_83c3_0242ac1c0002row6_col14,#T_9d4f0e40_5433_11eb_83c3_0242ac1c0002row6_col15,#T_9d4f0e40_5433_11eb_83c3_0242ac1c0002row7_col13,#T_9d4f0e40_5433_11eb_83c3_0242ac1c0002row7_col14,#T_9d4f0e40_5433_11eb_83c3_0242ac1c0002row8_col12,#T_9d4f0e40_5433_11eb_83c3_0242ac1c0002row8_col13,#T_9d4f0e40_5433_11eb_83c3_0242ac1c0002row8_col14,#T_9d4f0e40_5433_11eb_83c3_0242ac1c0002row9_col11,#T_9d4f0e40_5433_11eb_83c3_0242ac1c0002row9_col12,#T_9d4f0e40_5433_11eb_83c3_0242ac1c0002row9_col13,#T_9d4f0e40_5433_11eb_83c3_0242ac1c0002row10_col10,#T_9d4f0e40_5433_11eb_83c3_0242ac1c0002row10_col11,#T_9d4f0e40_5433_11eb_83c3_0242ac1c0002row10_col12,#T_9d4f0e40_5433_11eb_83c3_0242ac1c0002row11_col10,#T_9d4f0e40_5433_11eb_83c3_0242ac1c0002row11_col11,#T_9d4f0e40_5433_11eb_83c3_0242ac1c0002row12_col10,#T_9d4f0e40_5433_11eb_83c3_0242ac1c0002row13_col9,#T_9d4f0e40_5433_11eb_83c3_0242ac1c0002row13_col10,#T_9d4f0e40_5433_11eb_83c3_0242ac1c0002row14_col9,#T_9d4f0e40_5433_11eb_83c3_0242ac1c0002row14_col10,#T_9d4f0e40_5433_11eb_83c3_0242ac1c0002row14_col16,#T_9d4f0e40_5433_11eb_83c3_0242ac1c0002row14_col18,#T_9d4f0e40_5433_11eb_83c3_0242ac1c0002row14_col19,#T_9d4f0e40_5433_11eb_83c3_0242ac1c0002row15_col9,#T_9d4f0e40_5433_11eb_83c3_0242ac1c0002row15_col14,#T_9d4f0e40_5433_11eb_83c3_0242ac1c0002row15_col15,#T_9d4f0e40_5433_11eb_83c3_0242ac1c0002row15_col16,#T_9d4f0e40_5433_11eb_83c3_0242ac1c0002row15_col18,#T_9d4f0e40_5433_11eb_83c3_0242ac1c0002row15_col19,#T_9d4f0e40_5433_11eb_83c3_0242ac1c0002row15_col20,#T_9d4f0e40_5433_11eb_83c3_0242ac1c0002row16_col7,#T_9d4f0e40_5433_11eb_83c3_0242ac1c0002row16_col8,#T_9d4f0e40_5433_11eb_83c3_0242ac1c0002row16_col9,#T_9d4f0e40_5433_11eb_83c3_0242ac1c0002row16_col13,#T_9d4f0e40_5433_11eb_83c3_0242ac1c0002row16_col14,#T_9d4f0e40_5433_11eb_83c3_0242ac1c0002row16_col15,#T_9d4f0e40_5433_11eb_83c3_0242ac1c0002row16_col16,#T_9d4f0e40_5433_11eb_83c3_0242ac1c0002row16_col18,#T_9d4f0e40_5433_11eb_83c3_0242ac1c0002row16_col19,#T_9d4f0e40_5433_11eb_83c3_0242ac1c0002row16_col20,#T_9d4f0e40_5433_11eb_83c3_0242ac1c0002row16_col21,#T_9d4f0e40_5433_11eb_83c3_0242ac1c0002row17_col9,#T_9d4f0e40_5433_11eb_83c3_0242ac1c0002row17_col12,#T_9d4f0e40_5433_11eb_83c3_0242ac1c0002row17_col13,#T_9d4f0e40_5433_11eb_83c3_0242ac1c0002row17_col14,#T_9d4f0e40_5433_11eb_83c3_0242ac1c0002row17_col15,#T_9d4f0e40_5433_11eb_83c3_0242ac1c0002row17_col16,#T_9d4f0e40_5433_11eb_83c3_0242ac1c0002row17_col18,#T_9d4f0e40_5433_11eb_83c3_0242ac1c0002row17_col19,#T_9d4f0e40_5433_11eb_83c3_0242ac1c0002row18_col9,#T_9d4f0e40_5433_11eb_83c3_0242ac1c0002row18_col10,#T_9d4f0e40_5433_11eb_83c3_0242ac1c0002row18_col11,#T_9d4f0e40_5433_11eb_83c3_0242ac1c0002row18_col12,#T_9d4f0e40_5433_11eb_83c3_0242ac1c0002row18_col13,#T_9d4f0e40_5433_11eb_83c3_0242ac1c0002row18_col14,#T_9d4f0e40_5433_11eb_83c3_0242ac1c0002row18_col15,#T_9d4f0e40_5433_11eb_83c3_0242ac1c0002row18_col16,#T_9d4f0e40_5433_11eb_83c3_0242ac1c0002row18_col18,#T_9d4f0e40_5433_11eb_83c3_0242ac1c0002row19_col9,#T_9d4f0e40_5433_11eb_83c3_0242ac1c0002row19_col10,#T_9d4f0e40_5433_11eb_83c3_0242ac1c0002row19_col11,#T_9d4f0e40_5433_11eb_83c3_0242ac1c0002row19_col12,#T_9d4f0e40_5433_11eb_83c3_0242ac1c0002row19_col13,#T_9d4f0e40_5433_11eb_83c3_0242ac1c0002row19_col14,#T_9d4f0e40_5433_11eb_83c3_0242ac1c0002row19_col15,#T_9d4f0e40_5433_11eb_83c3_0242ac1c0002row19_col16,#T_9d4f0e40_5433_11eb_83c3_0242ac1c0002row20_col10,#T_9d4f0e40_5433_11eb_83c3_0242ac1c0002row20_col11,#T_9d4f0e40_5433_11eb_83c3_0242ac1c0002row20_col12,#T_9d4f0e40_5433_11eb_83c3_0242ac1c0002row20_col13,#T_9d4f0e40_5433_11eb_83c3_0242ac1c0002row20_col14,#T_9d4f0e40_5433_11eb_83c3_0242ac1c0002row20_col15,#T_9d4f0e40_5433_11eb_83c3_0242ac1c0002row21_col11,#T_9d4f0e40_5433_11eb_83c3_0242ac1c0002row21_col12,#T_9d4f0e40_5433_11eb_83c3_0242ac1c0002row21_col13{\n",
              "            font_size:  6pt;\n",
              "            background-color:  #000000;\n",
              "            color:  #f1f1f1;\n",
              "        }#T_9d4f0e40_5433_11eb_83c3_0242ac1c0002row2_col18,#T_9d4f0e40_5433_11eb_83c3_0242ac1c0002row17_col7{\n",
              "            font_size:  6pt;\n",
              "            background-color:  #6e6e6e;\n",
              "            color:  #000000;\n",
              "        }#T_9d4f0e40_5433_11eb_83c3_0242ac1c0002row3_col15,#T_9d4f0e40_5433_11eb_83c3_0242ac1c0002row14_col14{\n",
              "            font_size:  6pt;\n",
              "            background-color:  #cacaca;\n",
              "            color:  #000000;\n",
              "        }#T_9d4f0e40_5433_11eb_83c3_0242ac1c0002row3_col17,#T_9d4f0e40_5433_11eb_83c3_0242ac1c0002row4_col17,#T_9d4f0e40_5433_11eb_83c3_0242ac1c0002row14_col17,#T_9d4f0e40_5433_11eb_83c3_0242ac1c0002row15_col17,#T_9d4f0e40_5433_11eb_83c3_0242ac1c0002row16_col17,#T_9d4f0e40_5433_11eb_83c3_0242ac1c0002row17_col17,#T_9d4f0e40_5433_11eb_83c3_0242ac1c0002row18_col17,#T_9d4f0e40_5433_11eb_83c3_0242ac1c0002row19_col17{\n",
              "            font_size:  6pt;\n",
              "            background-color:  #020202;\n",
              "            color:  #f1f1f1;\n",
              "        }#T_9d4f0e40_5433_11eb_83c3_0242ac1c0002row3_col19{\n",
              "            font_size:  6pt;\n",
              "            background-color:  #f1f1f1;\n",
              "            color:  #000000;\n",
              "        }#T_9d4f0e40_5433_11eb_83c3_0242ac1c0002row4_col6,#T_9d4f0e40_5433_11eb_83c3_0242ac1c0002row13_col15,#T_9d4f0e40_5433_11eb_83c3_0242ac1c0002row21_col9{\n",
              "            font_size:  6pt;\n",
              "            background-color:  #f5f5f5;\n",
              "            color:  #000000;\n",
              "        }#T_9d4f0e40_5433_11eb_83c3_0242ac1c0002row4_col14{\n",
              "            font_size:  6pt;\n",
              "            background-color:  #ababab;\n",
              "            color:  #000000;\n",
              "        }#T_9d4f0e40_5433_11eb_83c3_0242ac1c0002row4_col15{\n",
              "            font_size:  6pt;\n",
              "            background-color:  #1c1c1c;\n",
              "            color:  #f1f1f1;\n",
              "        }#T_9d4f0e40_5433_11eb_83c3_0242ac1c0002row4_col18{\n",
              "            font_size:  6pt;\n",
              "            background-color:  #414141;\n",
              "            color:  #f1f1f1;\n",
              "        }#T_9d4f0e40_5433_11eb_83c3_0242ac1c0002row4_col19,#T_9d4f0e40_5433_11eb_83c3_0242ac1c0002row15_col11,#T_9d4f0e40_5433_11eb_83c3_0242ac1c0002row18_col20{\n",
              "            font_size:  6pt;\n",
              "            background-color:  #f9f9f9;\n",
              "            color:  #000000;\n",
              "        }#T_9d4f0e40_5433_11eb_83c3_0242ac1c0002row5_col13,#T_9d4f0e40_5433_11eb_83c3_0242ac1c0002row10_col14{\n",
              "            font_size:  6pt;\n",
              "            background-color:  #e4e4e4;\n",
              "            color:  #000000;\n",
              "        }#T_9d4f0e40_5433_11eb_83c3_0242ac1c0002row5_col14,#T_9d4f0e40_5433_11eb_83c3_0242ac1c0002row6_col13{\n",
              "            font_size:  6pt;\n",
              "            background-color:  #1d1d1d;\n",
              "            color:  #f1f1f1;\n",
              "        }#T_9d4f0e40_5433_11eb_83c3_0242ac1c0002row5_col17,#T_9d4f0e40_5433_11eb_83c3_0242ac1c0002row7_col15{\n",
              "            font_size:  6pt;\n",
              "            background-color:  #0c0c0c;\n",
              "            color:  #f1f1f1;\n",
              "        }#T_9d4f0e40_5433_11eb_83c3_0242ac1c0002row5_col18,#T_9d4f0e40_5433_11eb_83c3_0242ac1c0002row6_col17,#T_9d4f0e40_5433_11eb_83c3_0242ac1c0002row12_col12{\n",
              "            font_size:  6pt;\n",
              "            background-color:  #c6c6c6;\n",
              "            color:  #000000;\n",
              "        }#T_9d4f0e40_5433_11eb_83c3_0242ac1c0002row6_col12{\n",
              "            font_size:  6pt;\n",
              "            background-color:  #eeeeee;\n",
              "            color:  #000000;\n",
              "        }#T_9d4f0e40_5433_11eb_83c3_0242ac1c0002row6_col16,#T_9d4f0e40_5433_11eb_83c3_0242ac1c0002row16_col12{\n",
              "            font_size:  6pt;\n",
              "            background-color:  #0a0a0a;\n",
              "            color:  #f1f1f1;\n",
              "        }#T_9d4f0e40_5433_11eb_83c3_0242ac1c0002row7_col11,#T_9d4f0e40_5433_11eb_83c3_0242ac1c0002row19_col19{\n",
              "            font_size:  6pt;\n",
              "            background-color:  #f3f3f3;\n",
              "            color:  #000000;\n",
              "        }#T_9d4f0e40_5433_11eb_83c3_0242ac1c0002row7_col16{\n",
              "            font_size:  6pt;\n",
              "            background-color:  #c5c5c5;\n",
              "            color:  #000000;\n",
              "        }#T_9d4f0e40_5433_11eb_83c3_0242ac1c0002row8_col10,#T_9d4f0e40_5433_11eb_83c3_0242ac1c0002row9_col9,#T_9d4f0e40_5433_11eb_83c3_0242ac1c0002row20_col18{\n",
              "            font_size:  6pt;\n",
              "            background-color:  #fbfbfb;\n",
              "            color:  #000000;\n",
              "        }#T_9d4f0e40_5433_11eb_83c3_0242ac1c0002row8_col11{\n",
              "            font_size:  6pt;\n",
              "            background-color:  #555555;\n",
              "            color:  #f1f1f1;\n",
              "        }#T_9d4f0e40_5433_11eb_83c3_0242ac1c0002row8_col15{\n",
              "            font_size:  6pt;\n",
              "            background-color:  #757575;\n",
              "            color:  #000000;\n",
              "        }#T_9d4f0e40_5433_11eb_83c3_0242ac1c0002row9_col10{\n",
              "            font_size:  6pt;\n",
              "            background-color:  #828282;\n",
              "            color:  #000000;\n",
              "        }#T_9d4f0e40_5433_11eb_83c3_0242ac1c0002row9_col14{\n",
              "            font_size:  6pt;\n",
              "            background-color:  #5a5a5a;\n",
              "            color:  #f1f1f1;\n",
              "        }#T_9d4f0e40_5433_11eb_83c3_0242ac1c0002row9_col15,#T_9d4f0e40_5433_11eb_83c3_0242ac1c0002row20_col8{\n",
              "            font_size:  6pt;\n",
              "            background-color:  #f7f7f7;\n",
              "            color:  #000000;\n",
              "        }#T_9d4f0e40_5433_11eb_83c3_0242ac1c0002row10_col9{\n",
              "            font_size:  6pt;\n",
              "            background-color:  #ececec;\n",
              "            color:  #000000;\n",
              "        }#T_9d4f0e40_5433_11eb_83c3_0242ac1c0002row10_col13,#T_9d4f0e40_5433_11eb_83c3_0242ac1c0002row12_col11{\n",
              "            font_size:  6pt;\n",
              "            background-color:  #0e0e0e;\n",
              "            color:  #f1f1f1;\n",
              "        }#T_9d4f0e40_5433_11eb_83c3_0242ac1c0002row11_col9,#T_9d4f0e40_5433_11eb_83c3_0242ac1c0002row13_col8{\n",
              "            font_size:  6pt;\n",
              "            background-color:  #949494;\n",
              "            color:  #000000;\n",
              "        }#T_9d4f0e40_5433_11eb_83c3_0242ac1c0002row11_col12,#T_9d4f0e40_5433_11eb_83c3_0242ac1c0002row18_col19,#T_9d4f0e40_5433_11eb_83c3_0242ac1c0002row19_col18{\n",
              "            font_size:  6pt;\n",
              "            background-color:  #323232;\n",
              "            color:  #f1f1f1;\n",
              "        }#T_9d4f0e40_5433_11eb_83c3_0242ac1c0002row11_col13{\n",
              "            font_size:  6pt;\n",
              "            background-color:  #e2e2e2;\n",
              "            color:  #000000;\n",
              "        }#T_9d4f0e40_5433_11eb_83c3_0242ac1c0002row12_col8{\n",
              "            font_size:  6pt;\n",
              "            background-color:  #f4f4f4;\n",
              "            color:  #000000;\n",
              "        }#T_9d4f0e40_5433_11eb_83c3_0242ac1c0002row12_col9{\n",
              "            font_size:  6pt;\n",
              "            background-color:  #1a1a1a;\n",
              "            color:  #f1f1f1;\n",
              "        }#T_9d4f0e40_5433_11eb_83c3_0242ac1c0002row13_col11{\n",
              "            font_size:  6pt;\n",
              "            background-color:  #aeaeae;\n",
              "            color:  #000000;\n",
              "        }#T_9d4f0e40_5433_11eb_83c3_0242ac1c0002row13_col16{\n",
              "            font_size:  6pt;\n",
              "            background-color:  #cecece;\n",
              "            color:  #000000;\n",
              "        }#T_9d4f0e40_5433_11eb_83c3_0242ac1c0002row13_col17{\n",
              "            font_size:  6pt;\n",
              "            background-color:  #606060;\n",
              "            color:  #f1f1f1;\n",
              "        }#T_9d4f0e40_5433_11eb_83c3_0242ac1c0002row13_col18,#T_9d4f0e40_5433_11eb_83c3_0242ac1c0002row13_col19{\n",
              "            font_size:  6pt;\n",
              "            background-color:  #444444;\n",
              "            color:  #f1f1f1;\n",
              "        }#T_9d4f0e40_5433_11eb_83c3_0242ac1c0002row13_col20{\n",
              "            font_size:  6pt;\n",
              "            background-color:  #dfdfdf;\n",
              "            color:  #000000;\n",
              "        }#T_9d4f0e40_5433_11eb_83c3_0242ac1c0002row14_col8,#T_9d4f0e40_5433_11eb_83c3_0242ac1c0002row18_col8{\n",
              "            font_size:  6pt;\n",
              "            background-color:  #777777;\n",
              "            color:  #000000;\n",
              "        }#T_9d4f0e40_5433_11eb_83c3_0242ac1c0002row14_col11{\n",
              "            font_size:  6pt;\n",
              "            background-color:  #cbcbcb;\n",
              "            color:  #000000;\n",
              "        }#T_9d4f0e40_5433_11eb_83c3_0242ac1c0002row14_col13{\n",
              "            font_size:  6pt;\n",
              "            background-color:  #f6f6f6;\n",
              "            color:  #000000;\n",
              "        }#T_9d4f0e40_5433_11eb_83c3_0242ac1c0002row14_col15{\n",
              "            font_size:  6pt;\n",
              "            background-color:  #919191;\n",
              "            color:  #000000;\n",
              "        }#T_9d4f0e40_5433_11eb_83c3_0242ac1c0002row14_col20{\n",
              "            font_size:  6pt;\n",
              "            background-color:  #161616;\n",
              "            color:  #f1f1f1;\n",
              "        }#T_9d4f0e40_5433_11eb_83c3_0242ac1c0002row14_col21{\n",
              "            font_size:  6pt;\n",
              "            background-color:  #ebebeb;\n",
              "            color:  #000000;\n",
              "        }#T_9d4f0e40_5433_11eb_83c3_0242ac1c0002row15_col7{\n",
              "            font_size:  6pt;\n",
              "            background-color:  #383838;\n",
              "            color:  #f1f1f1;\n",
              "        }#T_9d4f0e40_5433_11eb_83c3_0242ac1c0002row15_col8{\n",
              "            font_size:  6pt;\n",
              "            background-color:  #131313;\n",
              "            color:  #f1f1f1;\n",
              "        }#T_9d4f0e40_5433_11eb_83c3_0242ac1c0002row15_col10{\n",
              "            font_size:  6pt;\n",
              "            background-color:  #2b2b2b;\n",
              "            color:  #f1f1f1;\n",
              "        }#T_9d4f0e40_5433_11eb_83c3_0242ac1c0002row15_col12{\n",
              "            font_size:  6pt;\n",
              "            background-color:  #c1c1c1;\n",
              "            color:  #000000;\n",
              "        }#T_9d4f0e40_5433_11eb_83c3_0242ac1c0002row15_col13{\n",
              "            font_size:  6pt;\n",
              "            background-color:  #252525;\n",
              "            color:  #f1f1f1;\n",
              "        }#T_9d4f0e40_5433_11eb_83c3_0242ac1c0002row15_col21{\n",
              "            font_size:  6pt;\n",
              "            background-color:  #707070;\n",
              "            color:  #000000;\n",
              "        }#T_9d4f0e40_5433_11eb_83c3_0242ac1c0002row16_col10,#T_9d4f0e40_5433_11eb_83c3_0242ac1c0002row20_col9,#T_9d4f0e40_5433_11eb_83c3_0242ac1c0002row21_col10{\n",
              "            font_size:  6pt;\n",
              "            background-color:  #333333;\n",
              "            color:  #f1f1f1;\n",
              "        }#T_9d4f0e40_5433_11eb_83c3_0242ac1c0002row16_col11{\n",
              "            font_size:  6pt;\n",
              "            background-color:  #7d7d7d;\n",
              "            color:  #000000;\n",
              "        }#T_9d4f0e40_5433_11eb_83c3_0242ac1c0002row17_col8{\n",
              "            font_size:  6pt;\n",
              "            background-color:  #2e2e2e;\n",
              "            color:  #f1f1f1;\n",
              "        }#T_9d4f0e40_5433_11eb_83c3_0242ac1c0002row17_col10{\n",
              "            font_size:  6pt;\n",
              "            background-color:  #050505;\n",
              "            color:  #f1f1f1;\n",
              "        }#T_9d4f0e40_5433_11eb_83c3_0242ac1c0002row17_col11{\n",
              "            font_size:  6pt;\n",
              "            background-color:  #090909;\n",
              "            color:  #f1f1f1;\n",
              "        }#T_9d4f0e40_5433_11eb_83c3_0242ac1c0002row17_col20{\n",
              "            font_size:  6pt;\n",
              "            background-color:  #a9a9a9;\n",
              "            color:  #000000;\n",
              "        }#T_9d4f0e40_5433_11eb_83c3_0242ac1c0002row17_col21{\n",
              "            font_size:  6pt;\n",
              "            background-color:  #fcfcfc;\n",
              "            color:  #000000;\n",
              "        }#T_9d4f0e40_5433_11eb_83c3_0242ac1c0002row19_col8{\n",
              "            font_size:  6pt;\n",
              "            background-color:  #b5b5b5;\n",
              "            color:  #000000;\n",
              "        }#T_9d4f0e40_5433_11eb_83c3_0242ac1c0002row20_col16{\n",
              "            font_size:  6pt;\n",
              "            background-color:  #727272;\n",
              "            color:  #000000;\n",
              "        }#T_9d4f0e40_5433_11eb_83c3_0242ac1c0002row20_col17,#T_9d4f0e40_5433_11eb_83c3_0242ac1c0002row21_col15{\n",
              "            font_size:  6pt;\n",
              "            background-color:  #bfbfbf;\n",
              "            color:  #000000;\n",
              "        }#T_9d4f0e40_5433_11eb_83c3_0242ac1c0002row21_col14{\n",
              "            font_size:  6pt;\n",
              "            background-color:  #717171;\n",
              "            color:  #000000;\n",
              "        }</style><table id=\"T_9d4f0e40_5433_11eb_83c3_0242ac1c0002\" ><thead>    <tr>        <th class=\"blank level0\" ></th>        <th class=\"col_heading level0 col0\" >0</th>        <th class=\"col_heading level0 col1\" >1</th>        <th class=\"col_heading level0 col2\" >2</th>        <th class=\"col_heading level0 col3\" >3</th>        <th class=\"col_heading level0 col4\" >4</th>        <th class=\"col_heading level0 col5\" >5</th>        <th class=\"col_heading level0 col6\" >6</th>        <th class=\"col_heading level0 col7\" >7</th>        <th class=\"col_heading level0 col8\" >8</th>        <th class=\"col_heading level0 col9\" >9</th>        <th class=\"col_heading level0 col10\" >10</th>        <th class=\"col_heading level0 col11\" >11</th>        <th class=\"col_heading level0 col12\" >12</th>        <th class=\"col_heading level0 col13\" >13</th>        <th class=\"col_heading level0 col14\" >14</th>        <th class=\"col_heading level0 col15\" >15</th>        <th class=\"col_heading level0 col16\" >16</th>        <th class=\"col_heading level0 col17\" >17</th>        <th class=\"col_heading level0 col18\" >18</th>        <th class=\"col_heading level0 col19\" >19</th>        <th class=\"col_heading level0 col20\" >20</th>        <th class=\"col_heading level0 col21\" >21</th>        <th class=\"col_heading level0 col22\" >22</th>        <th class=\"col_heading level0 col23\" >23</th>        <th class=\"col_heading level0 col24\" >24</th>        <th class=\"col_heading level0 col25\" >25</th>        <th class=\"col_heading level0 col26\" >26</th>        <th class=\"col_heading level0 col27\" >27</th>    </tr></thead><tbody>\n",
              "                <tr>\n",
              "                        <th id=\"T_9d4f0e40_5433_11eb_83c3_0242ac1c0002level0_row0\" class=\"row_heading level0 row0\" >0</th>\n",
              "                        <td id=\"T_9d4f0e40_5433_11eb_83c3_0242ac1c0002row0_col0\" class=\"data row0 col0\" >0</td>\n",
              "                        <td id=\"T_9d4f0e40_5433_11eb_83c3_0242ac1c0002row0_col1\" class=\"data row0 col1\" >0</td>\n",
              "                        <td id=\"T_9d4f0e40_5433_11eb_83c3_0242ac1c0002row0_col2\" class=\"data row0 col2\" >0</td>\n",
              "                        <td id=\"T_9d4f0e40_5433_11eb_83c3_0242ac1c0002row0_col3\" class=\"data row0 col3\" >0</td>\n",
              "                        <td id=\"T_9d4f0e40_5433_11eb_83c3_0242ac1c0002row0_col4\" class=\"data row0 col4\" >0</td>\n",
              "                        <td id=\"T_9d4f0e40_5433_11eb_83c3_0242ac1c0002row0_col5\" class=\"data row0 col5\" >0</td>\n",
              "                        <td id=\"T_9d4f0e40_5433_11eb_83c3_0242ac1c0002row0_col6\" class=\"data row0 col6\" >0</td>\n",
              "                        <td id=\"T_9d4f0e40_5433_11eb_83c3_0242ac1c0002row0_col7\" class=\"data row0 col7\" >0</td>\n",
              "                        <td id=\"T_9d4f0e40_5433_11eb_83c3_0242ac1c0002row0_col8\" class=\"data row0 col8\" >0</td>\n",
              "                        <td id=\"T_9d4f0e40_5433_11eb_83c3_0242ac1c0002row0_col9\" class=\"data row0 col9\" >0</td>\n",
              "                        <td id=\"T_9d4f0e40_5433_11eb_83c3_0242ac1c0002row0_col10\" class=\"data row0 col10\" >0</td>\n",
              "                        <td id=\"T_9d4f0e40_5433_11eb_83c3_0242ac1c0002row0_col11\" class=\"data row0 col11\" >0</td>\n",
              "                        <td id=\"T_9d4f0e40_5433_11eb_83c3_0242ac1c0002row0_col12\" class=\"data row0 col12\" >0</td>\n",
              "                        <td id=\"T_9d4f0e40_5433_11eb_83c3_0242ac1c0002row0_col13\" class=\"data row0 col13\" >0</td>\n",
              "                        <td id=\"T_9d4f0e40_5433_11eb_83c3_0242ac1c0002row0_col14\" class=\"data row0 col14\" >0</td>\n",
              "                        <td id=\"T_9d4f0e40_5433_11eb_83c3_0242ac1c0002row0_col15\" class=\"data row0 col15\" >0</td>\n",
              "                        <td id=\"T_9d4f0e40_5433_11eb_83c3_0242ac1c0002row0_col16\" class=\"data row0 col16\" >0</td>\n",
              "                        <td id=\"T_9d4f0e40_5433_11eb_83c3_0242ac1c0002row0_col17\" class=\"data row0 col17\" >0</td>\n",
              "                        <td id=\"T_9d4f0e40_5433_11eb_83c3_0242ac1c0002row0_col18\" class=\"data row0 col18\" >0</td>\n",
              "                        <td id=\"T_9d4f0e40_5433_11eb_83c3_0242ac1c0002row0_col19\" class=\"data row0 col19\" >0</td>\n",
              "                        <td id=\"T_9d4f0e40_5433_11eb_83c3_0242ac1c0002row0_col20\" class=\"data row0 col20\" >0</td>\n",
              "                        <td id=\"T_9d4f0e40_5433_11eb_83c3_0242ac1c0002row0_col21\" class=\"data row0 col21\" >0</td>\n",
              "                        <td id=\"T_9d4f0e40_5433_11eb_83c3_0242ac1c0002row0_col22\" class=\"data row0 col22\" >0</td>\n",
              "                        <td id=\"T_9d4f0e40_5433_11eb_83c3_0242ac1c0002row0_col23\" class=\"data row0 col23\" >0</td>\n",
              "                        <td id=\"T_9d4f0e40_5433_11eb_83c3_0242ac1c0002row0_col24\" class=\"data row0 col24\" >0</td>\n",
              "                        <td id=\"T_9d4f0e40_5433_11eb_83c3_0242ac1c0002row0_col25\" class=\"data row0 col25\" >0</td>\n",
              "                        <td id=\"T_9d4f0e40_5433_11eb_83c3_0242ac1c0002row0_col26\" class=\"data row0 col26\" >0</td>\n",
              "                        <td id=\"T_9d4f0e40_5433_11eb_83c3_0242ac1c0002row0_col27\" class=\"data row0 col27\" >0</td>\n",
              "            </tr>\n",
              "            <tr>\n",
              "                        <th id=\"T_9d4f0e40_5433_11eb_83c3_0242ac1c0002level0_row1\" class=\"row_heading level0 row1\" >1</th>\n",
              "                        <td id=\"T_9d4f0e40_5433_11eb_83c3_0242ac1c0002row1_col0\" class=\"data row1 col0\" >0</td>\n",
              "                        <td id=\"T_9d4f0e40_5433_11eb_83c3_0242ac1c0002row1_col1\" class=\"data row1 col1\" >0</td>\n",
              "                        <td id=\"T_9d4f0e40_5433_11eb_83c3_0242ac1c0002row1_col2\" class=\"data row1 col2\" >0</td>\n",
              "                        <td id=\"T_9d4f0e40_5433_11eb_83c3_0242ac1c0002row1_col3\" class=\"data row1 col3\" >0</td>\n",
              "                        <td id=\"T_9d4f0e40_5433_11eb_83c3_0242ac1c0002row1_col4\" class=\"data row1 col4\" >0</td>\n",
              "                        <td id=\"T_9d4f0e40_5433_11eb_83c3_0242ac1c0002row1_col5\" class=\"data row1 col5\" >0</td>\n",
              "                        <td id=\"T_9d4f0e40_5433_11eb_83c3_0242ac1c0002row1_col6\" class=\"data row1 col6\" >0</td>\n",
              "                        <td id=\"T_9d4f0e40_5433_11eb_83c3_0242ac1c0002row1_col7\" class=\"data row1 col7\" >0</td>\n",
              "                        <td id=\"T_9d4f0e40_5433_11eb_83c3_0242ac1c0002row1_col8\" class=\"data row1 col8\" >0</td>\n",
              "                        <td id=\"T_9d4f0e40_5433_11eb_83c3_0242ac1c0002row1_col9\" class=\"data row1 col9\" >0</td>\n",
              "                        <td id=\"T_9d4f0e40_5433_11eb_83c3_0242ac1c0002row1_col10\" class=\"data row1 col10\" >0</td>\n",
              "                        <td id=\"T_9d4f0e40_5433_11eb_83c3_0242ac1c0002row1_col11\" class=\"data row1 col11\" >0</td>\n",
              "                        <td id=\"T_9d4f0e40_5433_11eb_83c3_0242ac1c0002row1_col12\" class=\"data row1 col12\" >0</td>\n",
              "                        <td id=\"T_9d4f0e40_5433_11eb_83c3_0242ac1c0002row1_col13\" class=\"data row1 col13\" >0</td>\n",
              "                        <td id=\"T_9d4f0e40_5433_11eb_83c3_0242ac1c0002row1_col14\" class=\"data row1 col14\" >0</td>\n",
              "                        <td id=\"T_9d4f0e40_5433_11eb_83c3_0242ac1c0002row1_col15\" class=\"data row1 col15\" >0</td>\n",
              "                        <td id=\"T_9d4f0e40_5433_11eb_83c3_0242ac1c0002row1_col16\" class=\"data row1 col16\" >0</td>\n",
              "                        <td id=\"T_9d4f0e40_5433_11eb_83c3_0242ac1c0002row1_col17\" class=\"data row1 col17\" >0</td>\n",
              "                        <td id=\"T_9d4f0e40_5433_11eb_83c3_0242ac1c0002row1_col18\" class=\"data row1 col18\" >0</td>\n",
              "                        <td id=\"T_9d4f0e40_5433_11eb_83c3_0242ac1c0002row1_col19\" class=\"data row1 col19\" >0</td>\n",
              "                        <td id=\"T_9d4f0e40_5433_11eb_83c3_0242ac1c0002row1_col20\" class=\"data row1 col20\" >0</td>\n",
              "                        <td id=\"T_9d4f0e40_5433_11eb_83c3_0242ac1c0002row1_col21\" class=\"data row1 col21\" >0</td>\n",
              "                        <td id=\"T_9d4f0e40_5433_11eb_83c3_0242ac1c0002row1_col22\" class=\"data row1 col22\" >0</td>\n",
              "                        <td id=\"T_9d4f0e40_5433_11eb_83c3_0242ac1c0002row1_col23\" class=\"data row1 col23\" >0</td>\n",
              "                        <td id=\"T_9d4f0e40_5433_11eb_83c3_0242ac1c0002row1_col24\" class=\"data row1 col24\" >0</td>\n",
              "                        <td id=\"T_9d4f0e40_5433_11eb_83c3_0242ac1c0002row1_col25\" class=\"data row1 col25\" >0</td>\n",
              "                        <td id=\"T_9d4f0e40_5433_11eb_83c3_0242ac1c0002row1_col26\" class=\"data row1 col26\" >0</td>\n",
              "                        <td id=\"T_9d4f0e40_5433_11eb_83c3_0242ac1c0002row1_col27\" class=\"data row1 col27\" >0</td>\n",
              "            </tr>\n",
              "            <tr>\n",
              "                        <th id=\"T_9d4f0e40_5433_11eb_83c3_0242ac1c0002level0_row2\" class=\"row_heading level0 row2\" >2</th>\n",
              "                        <td id=\"T_9d4f0e40_5433_11eb_83c3_0242ac1c0002row2_col0\" class=\"data row2 col0\" >0</td>\n",
              "                        <td id=\"T_9d4f0e40_5433_11eb_83c3_0242ac1c0002row2_col1\" class=\"data row2 col1\" >0</td>\n",
              "                        <td id=\"T_9d4f0e40_5433_11eb_83c3_0242ac1c0002row2_col2\" class=\"data row2 col2\" >0</td>\n",
              "                        <td id=\"T_9d4f0e40_5433_11eb_83c3_0242ac1c0002row2_col3\" class=\"data row2 col3\" >0</td>\n",
              "                        <td id=\"T_9d4f0e40_5433_11eb_83c3_0242ac1c0002row2_col4\" class=\"data row2 col4\" >0</td>\n",
              "                        <td id=\"T_9d4f0e40_5433_11eb_83c3_0242ac1c0002row2_col5\" class=\"data row2 col5\" >0</td>\n",
              "                        <td id=\"T_9d4f0e40_5433_11eb_83c3_0242ac1c0002row2_col6\" class=\"data row2 col6\" >0</td>\n",
              "                        <td id=\"T_9d4f0e40_5433_11eb_83c3_0242ac1c0002row2_col7\" class=\"data row2 col7\" >0</td>\n",
              "                        <td id=\"T_9d4f0e40_5433_11eb_83c3_0242ac1c0002row2_col8\" class=\"data row2 col8\" >0</td>\n",
              "                        <td id=\"T_9d4f0e40_5433_11eb_83c3_0242ac1c0002row2_col9\" class=\"data row2 col9\" >0</td>\n",
              "                        <td id=\"T_9d4f0e40_5433_11eb_83c3_0242ac1c0002row2_col10\" class=\"data row2 col10\" >0</td>\n",
              "                        <td id=\"T_9d4f0e40_5433_11eb_83c3_0242ac1c0002row2_col11\" class=\"data row2 col11\" >0</td>\n",
              "                        <td id=\"T_9d4f0e40_5433_11eb_83c3_0242ac1c0002row2_col12\" class=\"data row2 col12\" >0</td>\n",
              "                        <td id=\"T_9d4f0e40_5433_11eb_83c3_0242ac1c0002row2_col13\" class=\"data row2 col13\" >0</td>\n",
              "                        <td id=\"T_9d4f0e40_5433_11eb_83c3_0242ac1c0002row2_col14\" class=\"data row2 col14\" >0</td>\n",
              "                        <td id=\"T_9d4f0e40_5433_11eb_83c3_0242ac1c0002row2_col15\" class=\"data row2 col15\" >2</td>\n",
              "                        <td id=\"T_9d4f0e40_5433_11eb_83c3_0242ac1c0002row2_col16\" class=\"data row2 col16\" >165</td>\n",
              "                        <td id=\"T_9d4f0e40_5433_11eb_83c3_0242ac1c0002row2_col17\" class=\"data row2 col17\" >289</td>\n",
              "                        <td id=\"T_9d4f0e40_5433_11eb_83c3_0242ac1c0002row2_col18\" class=\"data row2 col18\" >184</td>\n",
              "                        <td id=\"T_9d4f0e40_5433_11eb_83c3_0242ac1c0002row2_col19\" class=\"data row2 col19\" >1</td>\n",
              "                        <td id=\"T_9d4f0e40_5433_11eb_83c3_0242ac1c0002row2_col20\" class=\"data row2 col20\" >0</td>\n",
              "                        <td id=\"T_9d4f0e40_5433_11eb_83c3_0242ac1c0002row2_col21\" class=\"data row2 col21\" >0</td>\n",
              "                        <td id=\"T_9d4f0e40_5433_11eb_83c3_0242ac1c0002row2_col22\" class=\"data row2 col22\" >0</td>\n",
              "                        <td id=\"T_9d4f0e40_5433_11eb_83c3_0242ac1c0002row2_col23\" class=\"data row2 col23\" >0</td>\n",
              "                        <td id=\"T_9d4f0e40_5433_11eb_83c3_0242ac1c0002row2_col24\" class=\"data row2 col24\" >0</td>\n",
              "                        <td id=\"T_9d4f0e40_5433_11eb_83c3_0242ac1c0002row2_col25\" class=\"data row2 col25\" >0</td>\n",
              "                        <td id=\"T_9d4f0e40_5433_11eb_83c3_0242ac1c0002row2_col26\" class=\"data row2 col26\" >0</td>\n",
              "                        <td id=\"T_9d4f0e40_5433_11eb_83c3_0242ac1c0002row2_col27\" class=\"data row2 col27\" >0</td>\n",
              "            </tr>\n",
              "            <tr>\n",
              "                        <th id=\"T_9d4f0e40_5433_11eb_83c3_0242ac1c0002level0_row3\" class=\"row_heading level0 row3\" >3</th>\n",
              "                        <td id=\"T_9d4f0e40_5433_11eb_83c3_0242ac1c0002row3_col0\" class=\"data row3 col0\" >0</td>\n",
              "                        <td id=\"T_9d4f0e40_5433_11eb_83c3_0242ac1c0002row3_col1\" class=\"data row3 col1\" >0</td>\n",
              "                        <td id=\"T_9d4f0e40_5433_11eb_83c3_0242ac1c0002row3_col2\" class=\"data row3 col2\" >0</td>\n",
              "                        <td id=\"T_9d4f0e40_5433_11eb_83c3_0242ac1c0002row3_col3\" class=\"data row3 col3\" >0</td>\n",
              "                        <td id=\"T_9d4f0e40_5433_11eb_83c3_0242ac1c0002row3_col4\" class=\"data row3 col4\" >0</td>\n",
              "                        <td id=\"T_9d4f0e40_5433_11eb_83c3_0242ac1c0002row3_col5\" class=\"data row3 col5\" >0</td>\n",
              "                        <td id=\"T_9d4f0e40_5433_11eb_83c3_0242ac1c0002row3_col6\" class=\"data row3 col6\" >0</td>\n",
              "                        <td id=\"T_9d4f0e40_5433_11eb_83c3_0242ac1c0002row3_col7\" class=\"data row3 col7\" >0</td>\n",
              "                        <td id=\"T_9d4f0e40_5433_11eb_83c3_0242ac1c0002row3_col8\" class=\"data row3 col8\" >0</td>\n",
              "                        <td id=\"T_9d4f0e40_5433_11eb_83c3_0242ac1c0002row3_col9\" class=\"data row3 col9\" >0</td>\n",
              "                        <td id=\"T_9d4f0e40_5433_11eb_83c3_0242ac1c0002row3_col10\" class=\"data row3 col10\" >0</td>\n",
              "                        <td id=\"T_9d4f0e40_5433_11eb_83c3_0242ac1c0002row3_col11\" class=\"data row3 col11\" >0</td>\n",
              "                        <td id=\"T_9d4f0e40_5433_11eb_83c3_0242ac1c0002row3_col12\" class=\"data row3 col12\" >0</td>\n",
              "                        <td id=\"T_9d4f0e40_5433_11eb_83c3_0242ac1c0002row3_col13\" class=\"data row3 col13\" >0</td>\n",
              "                        <td id=\"T_9d4f0e40_5433_11eb_83c3_0242ac1c0002row3_col14\" class=\"data row3 col14\" >0</td>\n",
              "                        <td id=\"T_9d4f0e40_5433_11eb_83c3_0242ac1c0002row3_col15\" class=\"data row3 col15\" >91</td>\n",
              "                        <td id=\"T_9d4f0e40_5433_11eb_83c3_0242ac1c0002row3_col16\" class=\"data row3 col16\" >286</td>\n",
              "                        <td id=\"T_9d4f0e40_5433_11eb_83c3_0242ac1c0002row3_col17\" class=\"data row3 col17\" >286</td>\n",
              "                        <td id=\"T_9d4f0e40_5433_11eb_83c3_0242ac1c0002row3_col18\" class=\"data row3 col18\" >286</td>\n",
              "                        <td id=\"T_9d4f0e40_5433_11eb_83c3_0242ac1c0002row3_col19\" class=\"data row3 col19\" >34</td>\n",
              "                        <td id=\"T_9d4f0e40_5433_11eb_83c3_0242ac1c0002row3_col20\" class=\"data row3 col20\" >0</td>\n",
              "                        <td id=\"T_9d4f0e40_5433_11eb_83c3_0242ac1c0002row3_col21\" class=\"data row3 col21\" >0</td>\n",
              "                        <td id=\"T_9d4f0e40_5433_11eb_83c3_0242ac1c0002row3_col22\" class=\"data row3 col22\" >0</td>\n",
              "                        <td id=\"T_9d4f0e40_5433_11eb_83c3_0242ac1c0002row3_col23\" class=\"data row3 col23\" >0</td>\n",
              "                        <td id=\"T_9d4f0e40_5433_11eb_83c3_0242ac1c0002row3_col24\" class=\"data row3 col24\" >0</td>\n",
              "                        <td id=\"T_9d4f0e40_5433_11eb_83c3_0242ac1c0002row3_col25\" class=\"data row3 col25\" >0</td>\n",
              "                        <td id=\"T_9d4f0e40_5433_11eb_83c3_0242ac1c0002row3_col26\" class=\"data row3 col26\" >0</td>\n",
              "                        <td id=\"T_9d4f0e40_5433_11eb_83c3_0242ac1c0002row3_col27\" class=\"data row3 col27\" >0</td>\n",
              "            </tr>\n",
              "            <tr>\n",
              "                        <th id=\"T_9d4f0e40_5433_11eb_83c3_0242ac1c0002level0_row4\" class=\"row_heading level0 row4\" >4</th>\n",
              "                        <td id=\"T_9d4f0e40_5433_11eb_83c3_0242ac1c0002row4_col0\" class=\"data row4 col0\" >0</td>\n",
              "                        <td id=\"T_9d4f0e40_5433_11eb_83c3_0242ac1c0002row4_col1\" class=\"data row4 col1\" >0</td>\n",
              "                        <td id=\"T_9d4f0e40_5433_11eb_83c3_0242ac1c0002row4_col2\" class=\"data row4 col2\" >0</td>\n",
              "                        <td id=\"T_9d4f0e40_5433_11eb_83c3_0242ac1c0002row4_col3\" class=\"data row4 col3\" >0</td>\n",
              "                        <td id=\"T_9d4f0e40_5433_11eb_83c3_0242ac1c0002row4_col4\" class=\"data row4 col4\" >0</td>\n",
              "                        <td id=\"T_9d4f0e40_5433_11eb_83c3_0242ac1c0002row4_col5\" class=\"data row4 col5\" >0</td>\n",
              "                        <td id=\"T_9d4f0e40_5433_11eb_83c3_0242ac1c0002row4_col6\" class=\"data row4 col6\" >11</td>\n",
              "                        <td id=\"T_9d4f0e40_5433_11eb_83c3_0242ac1c0002row4_col7\" class=\"data row4 col7\" >0</td>\n",
              "                        <td id=\"T_9d4f0e40_5433_11eb_83c3_0242ac1c0002row4_col8\" class=\"data row4 col8\" >0</td>\n",
              "                        <td id=\"T_9d4f0e40_5433_11eb_83c3_0242ac1c0002row4_col9\" class=\"data row4 col9\" >0</td>\n",
              "                        <td id=\"T_9d4f0e40_5433_11eb_83c3_0242ac1c0002row4_col10\" class=\"data row4 col10\" >0</td>\n",
              "                        <td id=\"T_9d4f0e40_5433_11eb_83c3_0242ac1c0002row4_col11\" class=\"data row4 col11\" >0</td>\n",
              "                        <td id=\"T_9d4f0e40_5433_11eb_83c3_0242ac1c0002row4_col12\" class=\"data row4 col12\" >0</td>\n",
              "                        <td id=\"T_9d4f0e40_5433_11eb_83c3_0242ac1c0002row4_col13\" class=\"data row4 col13\" >0</td>\n",
              "                        <td id=\"T_9d4f0e40_5433_11eb_83c3_0242ac1c0002row4_col14\" class=\"data row4 col14\" >123</td>\n",
              "                        <td id=\"T_9d4f0e40_5433_11eb_83c3_0242ac1c0002row4_col15\" class=\"data row4 col15\" >259</td>\n",
              "                        <td id=\"T_9d4f0e40_5433_11eb_83c3_0242ac1c0002row4_col16\" class=\"data row4 col16\" >286</td>\n",
              "                        <td id=\"T_9d4f0e40_5433_11eb_83c3_0242ac1c0002row4_col17\" class=\"data row4 col17\" >286</td>\n",
              "                        <td id=\"T_9d4f0e40_5433_11eb_83c3_0242ac1c0002row4_col18\" class=\"data row4 col18\" >227</td>\n",
              "                        <td id=\"T_9d4f0e40_5433_11eb_83c3_0242ac1c0002row4_col19\" class=\"data row4 col19\" >15</td>\n",
              "                        <td id=\"T_9d4f0e40_5433_11eb_83c3_0242ac1c0002row4_col20\" class=\"data row4 col20\" >0</td>\n",
              "                        <td id=\"T_9d4f0e40_5433_11eb_83c3_0242ac1c0002row4_col21\" class=\"data row4 col21\" >0</td>\n",
              "                        <td id=\"T_9d4f0e40_5433_11eb_83c3_0242ac1c0002row4_col22\" class=\"data row4 col22\" >0</td>\n",
              "                        <td id=\"T_9d4f0e40_5433_11eb_83c3_0242ac1c0002row4_col23\" class=\"data row4 col23\" >0</td>\n",
              "                        <td id=\"T_9d4f0e40_5433_11eb_83c3_0242ac1c0002row4_col24\" class=\"data row4 col24\" >0</td>\n",
              "                        <td id=\"T_9d4f0e40_5433_11eb_83c3_0242ac1c0002row4_col25\" class=\"data row4 col25\" >0</td>\n",
              "                        <td id=\"T_9d4f0e40_5433_11eb_83c3_0242ac1c0002row4_col26\" class=\"data row4 col26\" >0</td>\n",
              "                        <td id=\"T_9d4f0e40_5433_11eb_83c3_0242ac1c0002row4_col27\" class=\"data row4 col27\" >0</td>\n",
              "            </tr>\n",
              "            <tr>\n",
              "                        <th id=\"T_9d4f0e40_5433_11eb_83c3_0242ac1c0002level0_row5\" class=\"row_heading level0 row5\" >5</th>\n",
              "                        <td id=\"T_9d4f0e40_5433_11eb_83c3_0242ac1c0002row5_col0\" class=\"data row5 col0\" >0</td>\n",
              "                        <td id=\"T_9d4f0e40_5433_11eb_83c3_0242ac1c0002row5_col1\" class=\"data row5 col1\" >0</td>\n",
              "                        <td id=\"T_9d4f0e40_5433_11eb_83c3_0242ac1c0002row5_col2\" class=\"data row5 col2\" >0</td>\n",
              "                        <td id=\"T_9d4f0e40_5433_11eb_83c3_0242ac1c0002row5_col3\" class=\"data row5 col3\" >0</td>\n",
              "                        <td id=\"T_9d4f0e40_5433_11eb_83c3_0242ac1c0002row5_col4\" class=\"data row5 col4\" >0</td>\n",
              "                        <td id=\"T_9d4f0e40_5433_11eb_83c3_0242ac1c0002row5_col5\" class=\"data row5 col5\" >0</td>\n",
              "                        <td id=\"T_9d4f0e40_5433_11eb_83c3_0242ac1c0002row5_col6\" class=\"data row5 col6\" >128</td>\n",
              "                        <td id=\"T_9d4f0e40_5433_11eb_83c3_0242ac1c0002row5_col7\" class=\"data row5 col7\" >0</td>\n",
              "                        <td id=\"T_9d4f0e40_5433_11eb_83c3_0242ac1c0002row5_col8\" class=\"data row5 col8\" >0</td>\n",
              "                        <td id=\"T_9d4f0e40_5433_11eb_83c3_0242ac1c0002row5_col9\" class=\"data row5 col9\" >0</td>\n",
              "                        <td id=\"T_9d4f0e40_5433_11eb_83c3_0242ac1c0002row5_col10\" class=\"data row5 col10\" >0</td>\n",
              "                        <td id=\"T_9d4f0e40_5433_11eb_83c3_0242ac1c0002row5_col11\" class=\"data row5 col11\" >0</td>\n",
              "                        <td id=\"T_9d4f0e40_5433_11eb_83c3_0242ac1c0002row5_col12\" class=\"data row5 col12\" >0</td>\n",
              "                        <td id=\"T_9d4f0e40_5433_11eb_83c3_0242ac1c0002row5_col13\" class=\"data row5 col13\" >55</td>\n",
              "                        <td id=\"T_9d4f0e40_5433_11eb_83c3_0242ac1c0002row5_col14\" class=\"data row5 col14\" >258</td>\n",
              "                        <td id=\"T_9d4f0e40_5433_11eb_83c3_0242ac1c0002row5_col15\" class=\"data row5 col15\" >286</td>\n",
              "                        <td id=\"T_9d4f0e40_5433_11eb_83c3_0242ac1c0002row5_col16\" class=\"data row5 col16\" >286</td>\n",
              "                        <td id=\"T_9d4f0e40_5433_11eb_83c3_0242ac1c0002row5_col17\" class=\"data row5 col17\" >277</td>\n",
              "                        <td id=\"T_9d4f0e40_5433_11eb_83c3_0242ac1c0002row5_col18\" class=\"data row5 col18\" >95</td>\n",
              "                        <td id=\"T_9d4f0e40_5433_11eb_83c3_0242ac1c0002row5_col19\" class=\"data row5 col19\" >0</td>\n",
              "                        <td id=\"T_9d4f0e40_5433_11eb_83c3_0242ac1c0002row5_col20\" class=\"data row5 col20\" >0</td>\n",
              "                        <td id=\"T_9d4f0e40_5433_11eb_83c3_0242ac1c0002row5_col21\" class=\"data row5 col21\" >0</td>\n",
              "                        <td id=\"T_9d4f0e40_5433_11eb_83c3_0242ac1c0002row5_col22\" class=\"data row5 col22\" >0</td>\n",
              "                        <td id=\"T_9d4f0e40_5433_11eb_83c3_0242ac1c0002row5_col23\" class=\"data row5 col23\" >0</td>\n",
              "                        <td id=\"T_9d4f0e40_5433_11eb_83c3_0242ac1c0002row5_col24\" class=\"data row5 col24\" >0</td>\n",
              "                        <td id=\"T_9d4f0e40_5433_11eb_83c3_0242ac1c0002row5_col25\" class=\"data row5 col25\" >0</td>\n",
              "                        <td id=\"T_9d4f0e40_5433_11eb_83c3_0242ac1c0002row5_col26\" class=\"data row5 col26\" >0</td>\n",
              "                        <td id=\"T_9d4f0e40_5433_11eb_83c3_0242ac1c0002row5_col27\" class=\"data row5 col27\" >0</td>\n",
              "            </tr>\n",
              "            <tr>\n",
              "                        <th id=\"T_9d4f0e40_5433_11eb_83c3_0242ac1c0002level0_row6\" class=\"row_heading level0 row6\" >6</th>\n",
              "                        <td id=\"T_9d4f0e40_5433_11eb_83c3_0242ac1c0002row6_col0\" class=\"data row6 col0\" >0</td>\n",
              "                        <td id=\"T_9d4f0e40_5433_11eb_83c3_0242ac1c0002row6_col1\" class=\"data row6 col1\" >0</td>\n",
              "                        <td id=\"T_9d4f0e40_5433_11eb_83c3_0242ac1c0002row6_col2\" class=\"data row6 col2\" >0</td>\n",
              "                        <td id=\"T_9d4f0e40_5433_11eb_83c3_0242ac1c0002row6_col3\" class=\"data row6 col3\" >0</td>\n",
              "                        <td id=\"T_9d4f0e40_5433_11eb_83c3_0242ac1c0002row6_col4\" class=\"data row6 col4\" >0</td>\n",
              "                        <td id=\"T_9d4f0e40_5433_11eb_83c3_0242ac1c0002row6_col5\" class=\"data row6 col5\" >0</td>\n",
              "                        <td id=\"T_9d4f0e40_5433_11eb_83c3_0242ac1c0002row6_col6\" class=\"data row6 col6\" >0</td>\n",
              "                        <td id=\"T_9d4f0e40_5433_11eb_83c3_0242ac1c0002row6_col7\" class=\"data row6 col7\" >0</td>\n",
              "                        <td id=\"T_9d4f0e40_5433_11eb_83c3_0242ac1c0002row6_col8\" class=\"data row6 col8\" >0</td>\n",
              "                        <td id=\"T_9d4f0e40_5433_11eb_83c3_0242ac1c0002row6_col9\" class=\"data row6 col9\" >0</td>\n",
              "                        <td id=\"T_9d4f0e40_5433_11eb_83c3_0242ac1c0002row6_col10\" class=\"data row6 col10\" >0</td>\n",
              "                        <td id=\"T_9d4f0e40_5433_11eb_83c3_0242ac1c0002row6_col11\" class=\"data row6 col11\" >0</td>\n",
              "                        <td id=\"T_9d4f0e40_5433_11eb_83c3_0242ac1c0002row6_col12\" class=\"data row6 col12\" >39</td>\n",
              "                        <td id=\"T_9d4f0e40_5433_11eb_83c3_0242ac1c0002row6_col13\" class=\"data row6 col13\" >257</td>\n",
              "                        <td id=\"T_9d4f0e40_5433_11eb_83c3_0242ac1c0002row6_col14\" class=\"data row6 col14\" >286</td>\n",
              "                        <td id=\"T_9d4f0e40_5433_11eb_83c3_0242ac1c0002row6_col15\" class=\"data row6 col15\" >286</td>\n",
              "                        <td id=\"T_9d4f0e40_5433_11eb_83c3_0242ac1c0002row6_col16\" class=\"data row6 col16\" >275</td>\n",
              "                        <td id=\"T_9d4f0e40_5433_11eb_83c3_0242ac1c0002row6_col17\" class=\"data row6 col17\" >97</td>\n",
              "                        <td id=\"T_9d4f0e40_5433_11eb_83c3_0242ac1c0002row6_col18\" class=\"data row6 col18\" >0</td>\n",
              "                        <td id=\"T_9d4f0e40_5433_11eb_83c3_0242ac1c0002row6_col19\" class=\"data row6 col19\" >0</td>\n",
              "                        <td id=\"T_9d4f0e40_5433_11eb_83c3_0242ac1c0002row6_col20\" class=\"data row6 col20\" >0</td>\n",
              "                        <td id=\"T_9d4f0e40_5433_11eb_83c3_0242ac1c0002row6_col21\" class=\"data row6 col21\" >0</td>\n",
              "                        <td id=\"T_9d4f0e40_5433_11eb_83c3_0242ac1c0002row6_col22\" class=\"data row6 col22\" >0</td>\n",
              "                        <td id=\"T_9d4f0e40_5433_11eb_83c3_0242ac1c0002row6_col23\" class=\"data row6 col23\" >0</td>\n",
              "                        <td id=\"T_9d4f0e40_5433_11eb_83c3_0242ac1c0002row6_col24\" class=\"data row6 col24\" >0</td>\n",
              "                        <td id=\"T_9d4f0e40_5433_11eb_83c3_0242ac1c0002row6_col25\" class=\"data row6 col25\" >0</td>\n",
              "                        <td id=\"T_9d4f0e40_5433_11eb_83c3_0242ac1c0002row6_col26\" class=\"data row6 col26\" >0</td>\n",
              "                        <td id=\"T_9d4f0e40_5433_11eb_83c3_0242ac1c0002row6_col27\" class=\"data row6 col27\" >0</td>\n",
              "            </tr>\n",
              "            <tr>\n",
              "                        <th id=\"T_9d4f0e40_5433_11eb_83c3_0242ac1c0002level0_row7\" class=\"row_heading level0 row7\" >7</th>\n",
              "                        <td id=\"T_9d4f0e40_5433_11eb_83c3_0242ac1c0002row7_col0\" class=\"data row7 col0\" >0</td>\n",
              "                        <td id=\"T_9d4f0e40_5433_11eb_83c3_0242ac1c0002row7_col1\" class=\"data row7 col1\" >0</td>\n",
              "                        <td id=\"T_9d4f0e40_5433_11eb_83c3_0242ac1c0002row7_col2\" class=\"data row7 col2\" >0</td>\n",
              "                        <td id=\"T_9d4f0e40_5433_11eb_83c3_0242ac1c0002row7_col3\" class=\"data row7 col3\" >0</td>\n",
              "                        <td id=\"T_9d4f0e40_5433_11eb_83c3_0242ac1c0002row7_col4\" class=\"data row7 col4\" >0</td>\n",
              "                        <td id=\"T_9d4f0e40_5433_11eb_83c3_0242ac1c0002row7_col5\" class=\"data row7 col5\" >0</td>\n",
              "                        <td id=\"T_9d4f0e40_5433_11eb_83c3_0242ac1c0002row7_col6\" class=\"data row7 col6\" >0</td>\n",
              "                        <td id=\"T_9d4f0e40_5433_11eb_83c3_0242ac1c0002row7_col7\" class=\"data row7 col7\" >0</td>\n",
              "                        <td id=\"T_9d4f0e40_5433_11eb_83c3_0242ac1c0002row7_col8\" class=\"data row7 col8\" >0</td>\n",
              "                        <td id=\"T_9d4f0e40_5433_11eb_83c3_0242ac1c0002row7_col9\" class=\"data row7 col9\" >0</td>\n",
              "                        <td id=\"T_9d4f0e40_5433_11eb_83c3_0242ac1c0002row7_col10\" class=\"data row7 col10\" >0</td>\n",
              "                        <td id=\"T_9d4f0e40_5433_11eb_83c3_0242ac1c0002row7_col11\" class=\"data row7 col11\" >29</td>\n",
              "                        <td id=\"T_9d4f0e40_5433_11eb_83c3_0242ac1c0002row7_col12\" class=\"data row7 col12\" >165</td>\n",
              "                        <td id=\"T_9d4f0e40_5433_11eb_83c3_0242ac1c0002row7_col13\" class=\"data row7 col13\" >286</td>\n",
              "                        <td id=\"T_9d4f0e40_5433_11eb_83c3_0242ac1c0002row7_col14\" class=\"data row7 col14\" >286</td>\n",
              "                        <td id=\"T_9d4f0e40_5433_11eb_83c3_0242ac1c0002row7_col15\" class=\"data row7 col15\" >274</td>\n",
              "                        <td id=\"T_9d4f0e40_5433_11eb_83c3_0242ac1c0002row7_col16\" class=\"data row7 col16\" >98</td>\n",
              "                        <td id=\"T_9d4f0e40_5433_11eb_83c3_0242ac1c0002row7_col17\" class=\"data row7 col17\" >0</td>\n",
              "                        <td id=\"T_9d4f0e40_5433_11eb_83c3_0242ac1c0002row7_col18\" class=\"data row7 col18\" >0</td>\n",
              "                        <td id=\"T_9d4f0e40_5433_11eb_83c3_0242ac1c0002row7_col19\" class=\"data row7 col19\" >0</td>\n",
              "                        <td id=\"T_9d4f0e40_5433_11eb_83c3_0242ac1c0002row7_col20\" class=\"data row7 col20\" >0</td>\n",
              "                        <td id=\"T_9d4f0e40_5433_11eb_83c3_0242ac1c0002row7_col21\" class=\"data row7 col21\" >0</td>\n",
              "                        <td id=\"T_9d4f0e40_5433_11eb_83c3_0242ac1c0002row7_col22\" class=\"data row7 col22\" >0</td>\n",
              "                        <td id=\"T_9d4f0e40_5433_11eb_83c3_0242ac1c0002row7_col23\" class=\"data row7 col23\" >0</td>\n",
              "                        <td id=\"T_9d4f0e40_5433_11eb_83c3_0242ac1c0002row7_col24\" class=\"data row7 col24\" >0</td>\n",
              "                        <td id=\"T_9d4f0e40_5433_11eb_83c3_0242ac1c0002row7_col25\" class=\"data row7 col25\" >0</td>\n",
              "                        <td id=\"T_9d4f0e40_5433_11eb_83c3_0242ac1c0002row7_col26\" class=\"data row7 col26\" >0</td>\n",
              "                        <td id=\"T_9d4f0e40_5433_11eb_83c3_0242ac1c0002row7_col27\" class=\"data row7 col27\" >0</td>\n",
              "            </tr>\n",
              "            <tr>\n",
              "                        <th id=\"T_9d4f0e40_5433_11eb_83c3_0242ac1c0002level0_row8\" class=\"row_heading level0 row8\" >8</th>\n",
              "                        <td id=\"T_9d4f0e40_5433_11eb_83c3_0242ac1c0002row8_col0\" class=\"data row8 col0\" >0</td>\n",
              "                        <td id=\"T_9d4f0e40_5433_11eb_83c3_0242ac1c0002row8_col1\" class=\"data row8 col1\" >0</td>\n",
              "                        <td id=\"T_9d4f0e40_5433_11eb_83c3_0242ac1c0002row8_col2\" class=\"data row8 col2\" >0</td>\n",
              "                        <td id=\"T_9d4f0e40_5433_11eb_83c3_0242ac1c0002row8_col3\" class=\"data row8 col3\" >0</td>\n",
              "                        <td id=\"T_9d4f0e40_5433_11eb_83c3_0242ac1c0002row8_col4\" class=\"data row8 col4\" >0</td>\n",
              "                        <td id=\"T_9d4f0e40_5433_11eb_83c3_0242ac1c0002row8_col5\" class=\"data row8 col5\" >0</td>\n",
              "                        <td id=\"T_9d4f0e40_5433_11eb_83c3_0242ac1c0002row8_col6\" class=\"data row8 col6\" >0</td>\n",
              "                        <td id=\"T_9d4f0e40_5433_11eb_83c3_0242ac1c0002row8_col7\" class=\"data row8 col7\" >0</td>\n",
              "                        <td id=\"T_9d4f0e40_5433_11eb_83c3_0242ac1c0002row8_col8\" class=\"data row8 col8\" >0</td>\n",
              "                        <td id=\"T_9d4f0e40_5433_11eb_83c3_0242ac1c0002row8_col9\" class=\"data row8 col9\" >0</td>\n",
              "                        <td id=\"T_9d4f0e40_5433_11eb_83c3_0242ac1c0002row8_col10\" class=\"data row8 col10\" >9</td>\n",
              "                        <td id=\"T_9d4f0e40_5433_11eb_83c3_0242ac1c0002row8_col11\" class=\"data row8 col11\" >211</td>\n",
              "                        <td id=\"T_9d4f0e40_5433_11eb_83c3_0242ac1c0002row8_col12\" class=\"data row8 col12\" >286</td>\n",
              "                        <td id=\"T_9d4f0e40_5433_11eb_83c3_0242ac1c0002row8_col13\" class=\"data row8 col13\" >286</td>\n",
              "                        <td id=\"T_9d4f0e40_5433_11eb_83c3_0242ac1c0002row8_col14\" class=\"data row8 col14\" >286</td>\n",
              "                        <td id=\"T_9d4f0e40_5433_11eb_83c3_0242ac1c0002row8_col15\" class=\"data row8 col15\" >177</td>\n",
              "                        <td id=\"T_9d4f0e40_5433_11eb_83c3_0242ac1c0002row8_col16\" class=\"data row8 col16\" >0</td>\n",
              "                        <td id=\"T_9d4f0e40_5433_11eb_83c3_0242ac1c0002row8_col17\" class=\"data row8 col17\" >0</td>\n",
              "                        <td id=\"T_9d4f0e40_5433_11eb_83c3_0242ac1c0002row8_col18\" class=\"data row8 col18\" >0</td>\n",
              "                        <td id=\"T_9d4f0e40_5433_11eb_83c3_0242ac1c0002row8_col19\" class=\"data row8 col19\" >0</td>\n",
              "                        <td id=\"T_9d4f0e40_5433_11eb_83c3_0242ac1c0002row8_col20\" class=\"data row8 col20\" >0</td>\n",
              "                        <td id=\"T_9d4f0e40_5433_11eb_83c3_0242ac1c0002row8_col21\" class=\"data row8 col21\" >0</td>\n",
              "                        <td id=\"T_9d4f0e40_5433_11eb_83c3_0242ac1c0002row8_col22\" class=\"data row8 col22\" >0</td>\n",
              "                        <td id=\"T_9d4f0e40_5433_11eb_83c3_0242ac1c0002row8_col23\" class=\"data row8 col23\" >0</td>\n",
              "                        <td id=\"T_9d4f0e40_5433_11eb_83c3_0242ac1c0002row8_col24\" class=\"data row8 col24\" >0</td>\n",
              "                        <td id=\"T_9d4f0e40_5433_11eb_83c3_0242ac1c0002row8_col25\" class=\"data row8 col25\" >0</td>\n",
              "                        <td id=\"T_9d4f0e40_5433_11eb_83c3_0242ac1c0002row8_col26\" class=\"data row8 col26\" >0</td>\n",
              "                        <td id=\"T_9d4f0e40_5433_11eb_83c3_0242ac1c0002row8_col27\" class=\"data row8 col27\" >0</td>\n",
              "            </tr>\n",
              "            <tr>\n",
              "                        <th id=\"T_9d4f0e40_5433_11eb_83c3_0242ac1c0002level0_row9\" class=\"row_heading level0 row9\" >9</th>\n",
              "                        <td id=\"T_9d4f0e40_5433_11eb_83c3_0242ac1c0002row9_col0\" class=\"data row9 col0\" >0</td>\n",
              "                        <td id=\"T_9d4f0e40_5433_11eb_83c3_0242ac1c0002row9_col1\" class=\"data row9 col1\" >0</td>\n",
              "                        <td id=\"T_9d4f0e40_5433_11eb_83c3_0242ac1c0002row9_col2\" class=\"data row9 col2\" >0</td>\n",
              "                        <td id=\"T_9d4f0e40_5433_11eb_83c3_0242ac1c0002row9_col3\" class=\"data row9 col3\" >0</td>\n",
              "                        <td id=\"T_9d4f0e40_5433_11eb_83c3_0242ac1c0002row9_col4\" class=\"data row9 col4\" >0</td>\n",
              "                        <td id=\"T_9d4f0e40_5433_11eb_83c3_0242ac1c0002row9_col5\" class=\"data row9 col5\" >0</td>\n",
              "                        <td id=\"T_9d4f0e40_5433_11eb_83c3_0242ac1c0002row9_col6\" class=\"data row9 col6\" >0</td>\n",
              "                        <td id=\"T_9d4f0e40_5433_11eb_83c3_0242ac1c0002row9_col7\" class=\"data row9 col7\" >0</td>\n",
              "                        <td id=\"T_9d4f0e40_5433_11eb_83c3_0242ac1c0002row9_col8\" class=\"data row9 col8\" >0</td>\n",
              "                        <td id=\"T_9d4f0e40_5433_11eb_83c3_0242ac1c0002row9_col9\" class=\"data row9 col9\" >9</td>\n",
              "                        <td id=\"T_9d4f0e40_5433_11eb_83c3_0242ac1c0002row9_col10\" class=\"data row9 col10\" >164</td>\n",
              "                        <td id=\"T_9d4f0e40_5433_11eb_83c3_0242ac1c0002row9_col11\" class=\"data row9 col11\" >286</td>\n",
              "                        <td id=\"T_9d4f0e40_5433_11eb_83c3_0242ac1c0002row9_col12\" class=\"data row9 col12\" >286</td>\n",
              "                        <td id=\"T_9d4f0e40_5433_11eb_83c3_0242ac1c0002row9_col13\" class=\"data row9 col13\" >286</td>\n",
              "                        <td id=\"T_9d4f0e40_5433_11eb_83c3_0242ac1c0002row9_col14\" class=\"data row9 col14\" >206</td>\n",
              "                        <td id=\"T_9d4f0e40_5433_11eb_83c3_0242ac1c0002row9_col15\" class=\"data row9 col15\" >20</td>\n",
              "                        <td id=\"T_9d4f0e40_5433_11eb_83c3_0242ac1c0002row9_col16\" class=\"data row9 col16\" >0</td>\n",
              "                        <td id=\"T_9d4f0e40_5433_11eb_83c3_0242ac1c0002row9_col17\" class=\"data row9 col17\" >0</td>\n",
              "                        <td id=\"T_9d4f0e40_5433_11eb_83c3_0242ac1c0002row9_col18\" class=\"data row9 col18\" >0</td>\n",
              "                        <td id=\"T_9d4f0e40_5433_11eb_83c3_0242ac1c0002row9_col19\" class=\"data row9 col19\" >0</td>\n",
              "                        <td id=\"T_9d4f0e40_5433_11eb_83c3_0242ac1c0002row9_col20\" class=\"data row9 col20\" >0</td>\n",
              "                        <td id=\"T_9d4f0e40_5433_11eb_83c3_0242ac1c0002row9_col21\" class=\"data row9 col21\" >0</td>\n",
              "                        <td id=\"T_9d4f0e40_5433_11eb_83c3_0242ac1c0002row9_col22\" class=\"data row9 col22\" >0</td>\n",
              "                        <td id=\"T_9d4f0e40_5433_11eb_83c3_0242ac1c0002row9_col23\" class=\"data row9 col23\" >0</td>\n",
              "                        <td id=\"T_9d4f0e40_5433_11eb_83c3_0242ac1c0002row9_col24\" class=\"data row9 col24\" >0</td>\n",
              "                        <td id=\"T_9d4f0e40_5433_11eb_83c3_0242ac1c0002row9_col25\" class=\"data row9 col25\" >0</td>\n",
              "                        <td id=\"T_9d4f0e40_5433_11eb_83c3_0242ac1c0002row9_col26\" class=\"data row9 col26\" >0</td>\n",
              "                        <td id=\"T_9d4f0e40_5433_11eb_83c3_0242ac1c0002row9_col27\" class=\"data row9 col27\" >0</td>\n",
              "            </tr>\n",
              "            <tr>\n",
              "                        <th id=\"T_9d4f0e40_5433_11eb_83c3_0242ac1c0002level0_row10\" class=\"row_heading level0 row10\" >10</th>\n",
              "                        <td id=\"T_9d4f0e40_5433_11eb_83c3_0242ac1c0002row10_col0\" class=\"data row10 col0\" >0</td>\n",
              "                        <td id=\"T_9d4f0e40_5433_11eb_83c3_0242ac1c0002row10_col1\" class=\"data row10 col1\" >0</td>\n",
              "                        <td id=\"T_9d4f0e40_5433_11eb_83c3_0242ac1c0002row10_col2\" class=\"data row10 col2\" >0</td>\n",
              "                        <td id=\"T_9d4f0e40_5433_11eb_83c3_0242ac1c0002row10_col3\" class=\"data row10 col3\" >0</td>\n",
              "                        <td id=\"T_9d4f0e40_5433_11eb_83c3_0242ac1c0002row10_col4\" class=\"data row10 col4\" >0</td>\n",
              "                        <td id=\"T_9d4f0e40_5433_11eb_83c3_0242ac1c0002row10_col5\" class=\"data row10 col5\" >0</td>\n",
              "                        <td id=\"T_9d4f0e40_5433_11eb_83c3_0242ac1c0002row10_col6\" class=\"data row10 col6\" >0</td>\n",
              "                        <td id=\"T_9d4f0e40_5433_11eb_83c3_0242ac1c0002row10_col7\" class=\"data row10 col7\" >0</td>\n",
              "                        <td id=\"T_9d4f0e40_5433_11eb_83c3_0242ac1c0002row10_col8\" class=\"data row10 col8\" >0</td>\n",
              "                        <td id=\"T_9d4f0e40_5433_11eb_83c3_0242ac1c0002row10_col9\" class=\"data row10 col9\" >43</td>\n",
              "                        <td id=\"T_9d4f0e40_5433_11eb_83c3_0242ac1c0002row10_col10\" class=\"data row10 col10\" >286</td>\n",
              "                        <td id=\"T_9d4f0e40_5433_11eb_83c3_0242ac1c0002row10_col11\" class=\"data row10 col11\" >286</td>\n",
              "                        <td id=\"T_9d4f0e40_5433_11eb_83c3_0242ac1c0002row10_col12\" class=\"data row10 col12\" >286</td>\n",
              "                        <td id=\"T_9d4f0e40_5433_11eb_83c3_0242ac1c0002row10_col13\" class=\"data row10 col13\" >272</td>\n",
              "                        <td id=\"T_9d4f0e40_5433_11eb_83c3_0242ac1c0002row10_col14\" class=\"data row10 col14\" >54</td>\n",
              "                        <td id=\"T_9d4f0e40_5433_11eb_83c3_0242ac1c0002row10_col15\" class=\"data row10 col15\" >0</td>\n",
              "                        <td id=\"T_9d4f0e40_5433_11eb_83c3_0242ac1c0002row10_col16\" class=\"data row10 col16\" >0</td>\n",
              "                        <td id=\"T_9d4f0e40_5433_11eb_83c3_0242ac1c0002row10_col17\" class=\"data row10 col17\" >0</td>\n",
              "                        <td id=\"T_9d4f0e40_5433_11eb_83c3_0242ac1c0002row10_col18\" class=\"data row10 col18\" >0</td>\n",
              "                        <td id=\"T_9d4f0e40_5433_11eb_83c3_0242ac1c0002row10_col19\" class=\"data row10 col19\" >0</td>\n",
              "                        <td id=\"T_9d4f0e40_5433_11eb_83c3_0242ac1c0002row10_col20\" class=\"data row10 col20\" >0</td>\n",
              "                        <td id=\"T_9d4f0e40_5433_11eb_83c3_0242ac1c0002row10_col21\" class=\"data row10 col21\" >0</td>\n",
              "                        <td id=\"T_9d4f0e40_5433_11eb_83c3_0242ac1c0002row10_col22\" class=\"data row10 col22\" >0</td>\n",
              "                        <td id=\"T_9d4f0e40_5433_11eb_83c3_0242ac1c0002row10_col23\" class=\"data row10 col23\" >0</td>\n",
              "                        <td id=\"T_9d4f0e40_5433_11eb_83c3_0242ac1c0002row10_col24\" class=\"data row10 col24\" >0</td>\n",
              "                        <td id=\"T_9d4f0e40_5433_11eb_83c3_0242ac1c0002row10_col25\" class=\"data row10 col25\" >0</td>\n",
              "                        <td id=\"T_9d4f0e40_5433_11eb_83c3_0242ac1c0002row10_col26\" class=\"data row10 col26\" >0</td>\n",
              "                        <td id=\"T_9d4f0e40_5433_11eb_83c3_0242ac1c0002row10_col27\" class=\"data row10 col27\" >0</td>\n",
              "            </tr>\n",
              "            <tr>\n",
              "                        <th id=\"T_9d4f0e40_5433_11eb_83c3_0242ac1c0002level0_row11\" class=\"row_heading level0 row11\" >11</th>\n",
              "                        <td id=\"T_9d4f0e40_5433_11eb_83c3_0242ac1c0002row11_col0\" class=\"data row11 col0\" >0</td>\n",
              "                        <td id=\"T_9d4f0e40_5433_11eb_83c3_0242ac1c0002row11_col1\" class=\"data row11 col1\" >0</td>\n",
              "                        <td id=\"T_9d4f0e40_5433_11eb_83c3_0242ac1c0002row11_col2\" class=\"data row11 col2\" >0</td>\n",
              "                        <td id=\"T_9d4f0e40_5433_11eb_83c3_0242ac1c0002row11_col3\" class=\"data row11 col3\" >0</td>\n",
              "                        <td id=\"T_9d4f0e40_5433_11eb_83c3_0242ac1c0002row11_col4\" class=\"data row11 col4\" >0</td>\n",
              "                        <td id=\"T_9d4f0e40_5433_11eb_83c3_0242ac1c0002row11_col5\" class=\"data row11 col5\" >0</td>\n",
              "                        <td id=\"T_9d4f0e40_5433_11eb_83c3_0242ac1c0002row11_col6\" class=\"data row11 col6\" >0</td>\n",
              "                        <td id=\"T_9d4f0e40_5433_11eb_83c3_0242ac1c0002row11_col7\" class=\"data row11 col7\" >0</td>\n",
              "                        <td id=\"T_9d4f0e40_5433_11eb_83c3_0242ac1c0002row11_col8\" class=\"data row11 col8\" >0</td>\n",
              "                        <td id=\"T_9d4f0e40_5433_11eb_83c3_0242ac1c0002row11_col9\" class=\"data row11 col9\" >145</td>\n",
              "                        <td id=\"T_9d4f0e40_5433_11eb_83c3_0242ac1c0002row11_col10\" class=\"data row11 col10\" >286</td>\n",
              "                        <td id=\"T_9d4f0e40_5433_11eb_83c3_0242ac1c0002row11_col11\" class=\"data row11 col11\" >286</td>\n",
              "                        <td id=\"T_9d4f0e40_5433_11eb_83c3_0242ac1c0002row11_col12\" class=\"data row11 col12\" >240</td>\n",
              "                        <td id=\"T_9d4f0e40_5433_11eb_83c3_0242ac1c0002row11_col13\" class=\"data row11 col13\" >57</td>\n",
              "                        <td id=\"T_9d4f0e40_5433_11eb_83c3_0242ac1c0002row11_col14\" class=\"data row11 col14\" >0</td>\n",
              "                        <td id=\"T_9d4f0e40_5433_11eb_83c3_0242ac1c0002row11_col15\" class=\"data row11 col15\" >0</td>\n",
              "                        <td id=\"T_9d4f0e40_5433_11eb_83c3_0242ac1c0002row11_col16\" class=\"data row11 col16\" >0</td>\n",
              "                        <td id=\"T_9d4f0e40_5433_11eb_83c3_0242ac1c0002row11_col17\" class=\"data row11 col17\" >0</td>\n",
              "                        <td id=\"T_9d4f0e40_5433_11eb_83c3_0242ac1c0002row11_col18\" class=\"data row11 col18\" >0</td>\n",
              "                        <td id=\"T_9d4f0e40_5433_11eb_83c3_0242ac1c0002row11_col19\" class=\"data row11 col19\" >0</td>\n",
              "                        <td id=\"T_9d4f0e40_5433_11eb_83c3_0242ac1c0002row11_col20\" class=\"data row11 col20\" >0</td>\n",
              "                        <td id=\"T_9d4f0e40_5433_11eb_83c3_0242ac1c0002row11_col21\" class=\"data row11 col21\" >0</td>\n",
              "                        <td id=\"T_9d4f0e40_5433_11eb_83c3_0242ac1c0002row11_col22\" class=\"data row11 col22\" >0</td>\n",
              "                        <td id=\"T_9d4f0e40_5433_11eb_83c3_0242ac1c0002row11_col23\" class=\"data row11 col23\" >0</td>\n",
              "                        <td id=\"T_9d4f0e40_5433_11eb_83c3_0242ac1c0002row11_col24\" class=\"data row11 col24\" >0</td>\n",
              "                        <td id=\"T_9d4f0e40_5433_11eb_83c3_0242ac1c0002row11_col25\" class=\"data row11 col25\" >0</td>\n",
              "                        <td id=\"T_9d4f0e40_5433_11eb_83c3_0242ac1c0002row11_col26\" class=\"data row11 col26\" >0</td>\n",
              "                        <td id=\"T_9d4f0e40_5433_11eb_83c3_0242ac1c0002row11_col27\" class=\"data row11 col27\" >0</td>\n",
              "            </tr>\n",
              "            <tr>\n",
              "                        <th id=\"T_9d4f0e40_5433_11eb_83c3_0242ac1c0002level0_row12\" class=\"row_heading level0 row12\" >12</th>\n",
              "                        <td id=\"T_9d4f0e40_5433_11eb_83c3_0242ac1c0002row12_col0\" class=\"data row12 col0\" >0</td>\n",
              "                        <td id=\"T_9d4f0e40_5433_11eb_83c3_0242ac1c0002row12_col1\" class=\"data row12 col1\" >0</td>\n",
              "                        <td id=\"T_9d4f0e40_5433_11eb_83c3_0242ac1c0002row12_col2\" class=\"data row12 col2\" >0</td>\n",
              "                        <td id=\"T_9d4f0e40_5433_11eb_83c3_0242ac1c0002row12_col3\" class=\"data row12 col3\" >0</td>\n",
              "                        <td id=\"T_9d4f0e40_5433_11eb_83c3_0242ac1c0002row12_col4\" class=\"data row12 col4\" >0</td>\n",
              "                        <td id=\"T_9d4f0e40_5433_11eb_83c3_0242ac1c0002row12_col5\" class=\"data row12 col5\" >0</td>\n",
              "                        <td id=\"T_9d4f0e40_5433_11eb_83c3_0242ac1c0002row12_col6\" class=\"data row12 col6\" >0</td>\n",
              "                        <td id=\"T_9d4f0e40_5433_11eb_83c3_0242ac1c0002row12_col7\" class=\"data row12 col7\" >0</td>\n",
              "                        <td id=\"T_9d4f0e40_5433_11eb_83c3_0242ac1c0002row12_col8\" class=\"data row12 col8\" >27</td>\n",
              "                        <td id=\"T_9d4f0e40_5433_11eb_83c3_0242ac1c0002row12_col9\" class=\"data row12 col9\" >261</td>\n",
              "                        <td id=\"T_9d4f0e40_5433_11eb_83c3_0242ac1c0002row12_col10\" class=\"data row12 col10\" >286</td>\n",
              "                        <td id=\"T_9d4f0e40_5433_11eb_83c3_0242ac1c0002row12_col11\" class=\"data row12 col11\" >272</td>\n",
              "                        <td id=\"T_9d4f0e40_5433_11eb_83c3_0242ac1c0002row12_col12\" class=\"data row12 col12\" >95</td>\n",
              "                        <td id=\"T_9d4f0e40_5433_11eb_83c3_0242ac1c0002row12_col13\" class=\"data row12 col13\" >0</td>\n",
              "                        <td id=\"T_9d4f0e40_5433_11eb_83c3_0242ac1c0002row12_col14\" class=\"data row12 col14\" >0</td>\n",
              "                        <td id=\"T_9d4f0e40_5433_11eb_83c3_0242ac1c0002row12_col15\" class=\"data row12 col15\" >0</td>\n",
              "                        <td id=\"T_9d4f0e40_5433_11eb_83c3_0242ac1c0002row12_col16\" class=\"data row12 col16\" >0</td>\n",
              "                        <td id=\"T_9d4f0e40_5433_11eb_83c3_0242ac1c0002row12_col17\" class=\"data row12 col17\" >0</td>\n",
              "                        <td id=\"T_9d4f0e40_5433_11eb_83c3_0242ac1c0002row12_col18\" class=\"data row12 col18\" >0</td>\n",
              "                        <td id=\"T_9d4f0e40_5433_11eb_83c3_0242ac1c0002row12_col19\" class=\"data row12 col19\" >0</td>\n",
              "                        <td id=\"T_9d4f0e40_5433_11eb_83c3_0242ac1c0002row12_col20\" class=\"data row12 col20\" >0</td>\n",
              "                        <td id=\"T_9d4f0e40_5433_11eb_83c3_0242ac1c0002row12_col21\" class=\"data row12 col21\" >0</td>\n",
              "                        <td id=\"T_9d4f0e40_5433_11eb_83c3_0242ac1c0002row12_col22\" class=\"data row12 col22\" >0</td>\n",
              "                        <td id=\"T_9d4f0e40_5433_11eb_83c3_0242ac1c0002row12_col23\" class=\"data row12 col23\" >0</td>\n",
              "                        <td id=\"T_9d4f0e40_5433_11eb_83c3_0242ac1c0002row12_col24\" class=\"data row12 col24\" >0</td>\n",
              "                        <td id=\"T_9d4f0e40_5433_11eb_83c3_0242ac1c0002row12_col25\" class=\"data row12 col25\" >0</td>\n",
              "                        <td id=\"T_9d4f0e40_5433_11eb_83c3_0242ac1c0002row12_col26\" class=\"data row12 col26\" >0</td>\n",
              "                        <td id=\"T_9d4f0e40_5433_11eb_83c3_0242ac1c0002row12_col27\" class=\"data row12 col27\" >0</td>\n",
              "            </tr>\n",
              "            <tr>\n",
              "                        <th id=\"T_9d4f0e40_5433_11eb_83c3_0242ac1c0002level0_row13\" class=\"row_heading level0 row13\" >13</th>\n",
              "                        <td id=\"T_9d4f0e40_5433_11eb_83c3_0242ac1c0002row13_col0\" class=\"data row13 col0\" >0</td>\n",
              "                        <td id=\"T_9d4f0e40_5433_11eb_83c3_0242ac1c0002row13_col1\" class=\"data row13 col1\" >0</td>\n",
              "                        <td id=\"T_9d4f0e40_5433_11eb_83c3_0242ac1c0002row13_col2\" class=\"data row13 col2\" >0</td>\n",
              "                        <td id=\"T_9d4f0e40_5433_11eb_83c3_0242ac1c0002row13_col3\" class=\"data row13 col3\" >0</td>\n",
              "                        <td id=\"T_9d4f0e40_5433_11eb_83c3_0242ac1c0002row13_col4\" class=\"data row13 col4\" >0</td>\n",
              "                        <td id=\"T_9d4f0e40_5433_11eb_83c3_0242ac1c0002row13_col5\" class=\"data row13 col5\" >0</td>\n",
              "                        <td id=\"T_9d4f0e40_5433_11eb_83c3_0242ac1c0002row13_col6\" class=\"data row13 col6\" >0</td>\n",
              "                        <td id=\"T_9d4f0e40_5433_11eb_83c3_0242ac1c0002row13_col7\" class=\"data row13 col7\" >0</td>\n",
              "                        <td id=\"T_9d4f0e40_5433_11eb_83c3_0242ac1c0002row13_col8\" class=\"data row13 col8\" >145</td>\n",
              "                        <td id=\"T_9d4f0e40_5433_11eb_83c3_0242ac1c0002row13_col9\" class=\"data row13 col9\" >286</td>\n",
              "                        <td id=\"T_9d4f0e40_5433_11eb_83c3_0242ac1c0002row13_col10\" class=\"data row13 col10\" >286</td>\n",
              "                        <td id=\"T_9d4f0e40_5433_11eb_83c3_0242ac1c0002row13_col11\" class=\"data row13 col11\" >121</td>\n",
              "                        <td id=\"T_9d4f0e40_5433_11eb_83c3_0242ac1c0002row13_col12\" class=\"data row13 col12\" >0</td>\n",
              "                        <td id=\"T_9d4f0e40_5433_11eb_83c3_0242ac1c0002row13_col13\" class=\"data row13 col13\" >0</td>\n",
              "                        <td id=\"T_9d4f0e40_5433_11eb_83c3_0242ac1c0002row13_col14\" class=\"data row13 col14\" >0</td>\n",
              "                        <td id=\"T_9d4f0e40_5433_11eb_83c3_0242ac1c0002row13_col15\" class=\"data row13 col15\" >24</td>\n",
              "                        <td id=\"T_9d4f0e40_5433_11eb_83c3_0242ac1c0002row13_col16\" class=\"data row13 col16\" >85</td>\n",
              "                        <td id=\"T_9d4f0e40_5433_11eb_83c3_0242ac1c0002row13_col17\" class=\"data row13 col17\" >201</td>\n",
              "                        <td id=\"T_9d4f0e40_5433_11eb_83c3_0242ac1c0002row13_col18\" class=\"data row13 col18\" >225</td>\n",
              "                        <td id=\"T_9d4f0e40_5433_11eb_83c3_0242ac1c0002row13_col19\" class=\"data row13 col19\" >225</td>\n",
              "                        <td id=\"T_9d4f0e40_5433_11eb_83c3_0242ac1c0002row13_col20\" class=\"data row13 col20\" >63</td>\n",
              "                        <td id=\"T_9d4f0e40_5433_11eb_83c3_0242ac1c0002row13_col21\" class=\"data row13 col21\" >0</td>\n",
              "                        <td id=\"T_9d4f0e40_5433_11eb_83c3_0242ac1c0002row13_col22\" class=\"data row13 col22\" >0</td>\n",
              "                        <td id=\"T_9d4f0e40_5433_11eb_83c3_0242ac1c0002row13_col23\" class=\"data row13 col23\" >0</td>\n",
              "                        <td id=\"T_9d4f0e40_5433_11eb_83c3_0242ac1c0002row13_col24\" class=\"data row13 col24\" >0</td>\n",
              "                        <td id=\"T_9d4f0e40_5433_11eb_83c3_0242ac1c0002row13_col25\" class=\"data row13 col25\" >0</td>\n",
              "                        <td id=\"T_9d4f0e40_5433_11eb_83c3_0242ac1c0002row13_col26\" class=\"data row13 col26\" >0</td>\n",
              "                        <td id=\"T_9d4f0e40_5433_11eb_83c3_0242ac1c0002row13_col27\" class=\"data row13 col27\" >0</td>\n",
              "            </tr>\n",
              "            <tr>\n",
              "                        <th id=\"T_9d4f0e40_5433_11eb_83c3_0242ac1c0002level0_row14\" class=\"row_heading level0 row14\" >14</th>\n",
              "                        <td id=\"T_9d4f0e40_5433_11eb_83c3_0242ac1c0002row14_col0\" class=\"data row14 col0\" >0</td>\n",
              "                        <td id=\"T_9d4f0e40_5433_11eb_83c3_0242ac1c0002row14_col1\" class=\"data row14 col1\" >0</td>\n",
              "                        <td id=\"T_9d4f0e40_5433_11eb_83c3_0242ac1c0002row14_col2\" class=\"data row14 col2\" >0</td>\n",
              "                        <td id=\"T_9d4f0e40_5433_11eb_83c3_0242ac1c0002row14_col3\" class=\"data row14 col3\" >0</td>\n",
              "                        <td id=\"T_9d4f0e40_5433_11eb_83c3_0242ac1c0002row14_col4\" class=\"data row14 col4\" >0</td>\n",
              "                        <td id=\"T_9d4f0e40_5433_11eb_83c3_0242ac1c0002row14_col5\" class=\"data row14 col5\" >0</td>\n",
              "                        <td id=\"T_9d4f0e40_5433_11eb_83c3_0242ac1c0002row14_col6\" class=\"data row14 col6\" >0</td>\n",
              "                        <td id=\"T_9d4f0e40_5433_11eb_83c3_0242ac1c0002row14_col7\" class=\"data row14 col7\" >0</td>\n",
              "                        <td id=\"T_9d4f0e40_5433_11eb_83c3_0242ac1c0002row14_col8\" class=\"data row14 col8\" >175</td>\n",
              "                        <td id=\"T_9d4f0e40_5433_11eb_83c3_0242ac1c0002row14_col9\" class=\"data row14 col9\" >286</td>\n",
              "                        <td id=\"T_9d4f0e40_5433_11eb_83c3_0242ac1c0002row14_col10\" class=\"data row14 col10\" >286</td>\n",
              "                        <td id=\"T_9d4f0e40_5433_11eb_83c3_0242ac1c0002row14_col11\" class=\"data row14 col11\" >90</td>\n",
              "                        <td id=\"T_9d4f0e40_5433_11eb_83c3_0242ac1c0002row14_col12\" class=\"data row14 col12\" >0</td>\n",
              "                        <td id=\"T_9d4f0e40_5433_11eb_83c3_0242ac1c0002row14_col13\" class=\"data row14 col13\" >22</td>\n",
              "                        <td id=\"T_9d4f0e40_5433_11eb_83c3_0242ac1c0002row14_col14\" class=\"data row14 col14\" >91</td>\n",
              "                        <td id=\"T_9d4f0e40_5433_11eb_83c3_0242ac1c0002row14_col15\" class=\"data row14 col15\" >148</td>\n",
              "                        <td id=\"T_9d4f0e40_5433_11eb_83c3_0242ac1c0002row14_col16\" class=\"data row14 col16\" >286</td>\n",
              "                        <td id=\"T_9d4f0e40_5433_11eb_83c3_0242ac1c0002row14_col17\" class=\"data row14 col17\" >286</td>\n",
              "                        <td id=\"T_9d4f0e40_5433_11eb_83c3_0242ac1c0002row14_col18\" class=\"data row14 col18\" >286</td>\n",
              "                        <td id=\"T_9d4f0e40_5433_11eb_83c3_0242ac1c0002row14_col19\" class=\"data row14 col19\" >286</td>\n",
              "                        <td id=\"T_9d4f0e40_5433_11eb_83c3_0242ac1c0002row14_col20\" class=\"data row14 col20\" >264</td>\n",
              "                        <td id=\"T_9d4f0e40_5433_11eb_83c3_0242ac1c0002row14_col21\" class=\"data row14 col21\" >17</td>\n",
              "                        <td id=\"T_9d4f0e40_5433_11eb_83c3_0242ac1c0002row14_col22\" class=\"data row14 col22\" >0</td>\n",
              "                        <td id=\"T_9d4f0e40_5433_11eb_83c3_0242ac1c0002row14_col23\" class=\"data row14 col23\" >0</td>\n",
              "                        <td id=\"T_9d4f0e40_5433_11eb_83c3_0242ac1c0002row14_col24\" class=\"data row14 col24\" >0</td>\n",
              "                        <td id=\"T_9d4f0e40_5433_11eb_83c3_0242ac1c0002row14_col25\" class=\"data row14 col25\" >0</td>\n",
              "                        <td id=\"T_9d4f0e40_5433_11eb_83c3_0242ac1c0002row14_col26\" class=\"data row14 col26\" >0</td>\n",
              "                        <td id=\"T_9d4f0e40_5433_11eb_83c3_0242ac1c0002row14_col27\" class=\"data row14 col27\" >0</td>\n",
              "            </tr>\n",
              "            <tr>\n",
              "                        <th id=\"T_9d4f0e40_5433_11eb_83c3_0242ac1c0002level0_row15\" class=\"row_heading level0 row15\" >15</th>\n",
              "                        <td id=\"T_9d4f0e40_5433_11eb_83c3_0242ac1c0002row15_col0\" class=\"data row15 col0\" >0</td>\n",
              "                        <td id=\"T_9d4f0e40_5433_11eb_83c3_0242ac1c0002row15_col1\" class=\"data row15 col1\" >0</td>\n",
              "                        <td id=\"T_9d4f0e40_5433_11eb_83c3_0242ac1c0002row15_col2\" class=\"data row15 col2\" >0</td>\n",
              "                        <td id=\"T_9d4f0e40_5433_11eb_83c3_0242ac1c0002row15_col3\" class=\"data row15 col3\" >0</td>\n",
              "                        <td id=\"T_9d4f0e40_5433_11eb_83c3_0242ac1c0002row15_col4\" class=\"data row15 col4\" >0</td>\n",
              "                        <td id=\"T_9d4f0e40_5433_11eb_83c3_0242ac1c0002row15_col5\" class=\"data row15 col5\" >0</td>\n",
              "                        <td id=\"T_9d4f0e40_5433_11eb_83c3_0242ac1c0002row15_col6\" class=\"data row15 col6\" >0</td>\n",
              "                        <td id=\"T_9d4f0e40_5433_11eb_83c3_0242ac1c0002row15_col7\" class=\"data row15 col7\" >23</td>\n",
              "                        <td id=\"T_9d4f0e40_5433_11eb_83c3_0242ac1c0002row15_col8\" class=\"data row15 col8\" >268</td>\n",
              "                        <td id=\"T_9d4f0e40_5433_11eb_83c3_0242ac1c0002row15_col9\" class=\"data row15 col9\" >286</td>\n",
              "                        <td id=\"T_9d4f0e40_5433_11eb_83c3_0242ac1c0002row15_col10\" class=\"data row15 col10\" >245</td>\n",
              "                        <td id=\"T_9d4f0e40_5433_11eb_83c3_0242ac1c0002row15_col11\" class=\"data row15 col11\" >15</td>\n",
              "                        <td id=\"T_9d4f0e40_5433_11eb_83c3_0242ac1c0002row15_col12\" class=\"data row15 col12\" >102</td>\n",
              "                        <td id=\"T_9d4f0e40_5433_11eb_83c3_0242ac1c0002row15_col13\" class=\"data row15 col13\" >250</td>\n",
              "                        <td id=\"T_9d4f0e40_5433_11eb_83c3_0242ac1c0002row15_col14\" class=\"data row15 col14\" >286</td>\n",
              "                        <td id=\"T_9d4f0e40_5433_11eb_83c3_0242ac1c0002row15_col15\" class=\"data row15 col15\" >286</td>\n",
              "                        <td id=\"T_9d4f0e40_5433_11eb_83c3_0242ac1c0002row15_col16\" class=\"data row15 col16\" >286</td>\n",
              "                        <td id=\"T_9d4f0e40_5433_11eb_83c3_0242ac1c0002row15_col17\" class=\"data row15 col17\" >286</td>\n",
              "                        <td id=\"T_9d4f0e40_5433_11eb_83c3_0242ac1c0002row15_col18\" class=\"data row15 col18\" >286</td>\n",
              "                        <td id=\"T_9d4f0e40_5433_11eb_83c3_0242ac1c0002row15_col19\" class=\"data row15 col19\" >286</td>\n",
              "                        <td id=\"T_9d4f0e40_5433_11eb_83c3_0242ac1c0002row15_col20\" class=\"data row15 col20\" >286</td>\n",
              "                        <td id=\"T_9d4f0e40_5433_11eb_83c3_0242ac1c0002row15_col21\" class=\"data row15 col21\" >69</td>\n",
              "                        <td id=\"T_9d4f0e40_5433_11eb_83c3_0242ac1c0002row15_col22\" class=\"data row15 col22\" >0</td>\n",
              "                        <td id=\"T_9d4f0e40_5433_11eb_83c3_0242ac1c0002row15_col23\" class=\"data row15 col23\" >0</td>\n",
              "                        <td id=\"T_9d4f0e40_5433_11eb_83c3_0242ac1c0002row15_col24\" class=\"data row15 col24\" >0</td>\n",
              "                        <td id=\"T_9d4f0e40_5433_11eb_83c3_0242ac1c0002row15_col25\" class=\"data row15 col25\" >0</td>\n",
              "                        <td id=\"T_9d4f0e40_5433_11eb_83c3_0242ac1c0002row15_col26\" class=\"data row15 col26\" >0</td>\n",
              "                        <td id=\"T_9d4f0e40_5433_11eb_83c3_0242ac1c0002row15_col27\" class=\"data row15 col27\" >0</td>\n",
              "            </tr>\n",
              "            <tr>\n",
              "                        <th id=\"T_9d4f0e40_5433_11eb_83c3_0242ac1c0002level0_row16\" class=\"row_heading level0 row16\" >16</th>\n",
              "                        <td id=\"T_9d4f0e40_5433_11eb_83c3_0242ac1c0002row16_col0\" class=\"data row16 col0\" >0</td>\n",
              "                        <td id=\"T_9d4f0e40_5433_11eb_83c3_0242ac1c0002row16_col1\" class=\"data row16 col1\" >0</td>\n",
              "                        <td id=\"T_9d4f0e40_5433_11eb_83c3_0242ac1c0002row16_col2\" class=\"data row16 col2\" >0</td>\n",
              "                        <td id=\"T_9d4f0e40_5433_11eb_83c3_0242ac1c0002row16_col3\" class=\"data row16 col3\" >0</td>\n",
              "                        <td id=\"T_9d4f0e40_5433_11eb_83c3_0242ac1c0002row16_col4\" class=\"data row16 col4\" >0</td>\n",
              "                        <td id=\"T_9d4f0e40_5433_11eb_83c3_0242ac1c0002row16_col5\" class=\"data row16 col5\" >0</td>\n",
              "                        <td id=\"T_9d4f0e40_5433_11eb_83c3_0242ac1c0002row16_col6\" class=\"data row16 col6\" >0</td>\n",
              "                        <td id=\"T_9d4f0e40_5433_11eb_83c3_0242ac1c0002row16_col7\" class=\"data row16 col7\" >28</td>\n",
              "                        <td id=\"T_9d4f0e40_5433_11eb_83c3_0242ac1c0002row16_col8\" class=\"data row16 col8\" >286</td>\n",
              "                        <td id=\"T_9d4f0e40_5433_11eb_83c3_0242ac1c0002row16_col9\" class=\"data row16 col9\" >286</td>\n",
              "                        <td id=\"T_9d4f0e40_5433_11eb_83c3_0242ac1c0002row16_col10\" class=\"data row16 col10\" >238</td>\n",
              "                        <td id=\"T_9d4f0e40_5433_11eb_83c3_0242ac1c0002row16_col11\" class=\"data row16 col11\" >168</td>\n",
              "                        <td id=\"T_9d4f0e40_5433_11eb_83c3_0242ac1c0002row16_col12\" class=\"data row16 col12\" >275</td>\n",
              "                        <td id=\"T_9d4f0e40_5433_11eb_83c3_0242ac1c0002row16_col13\" class=\"data row16 col13\" >286</td>\n",
              "                        <td id=\"T_9d4f0e40_5433_11eb_83c3_0242ac1c0002row16_col14\" class=\"data row16 col14\" >286</td>\n",
              "                        <td id=\"T_9d4f0e40_5433_11eb_83c3_0242ac1c0002row16_col15\" class=\"data row16 col15\" >286</td>\n",
              "                        <td id=\"T_9d4f0e40_5433_11eb_83c3_0242ac1c0002row16_col16\" class=\"data row16 col16\" >286</td>\n",
              "                        <td id=\"T_9d4f0e40_5433_11eb_83c3_0242ac1c0002row16_col17\" class=\"data row16 col17\" >286</td>\n",
              "                        <td id=\"T_9d4f0e40_5433_11eb_83c3_0242ac1c0002row16_col18\" class=\"data row16 col18\" >286</td>\n",
              "                        <td id=\"T_9d4f0e40_5433_11eb_83c3_0242ac1c0002row16_col19\" class=\"data row16 col19\" >286</td>\n",
              "                        <td id=\"T_9d4f0e40_5433_11eb_83c3_0242ac1c0002row16_col20\" class=\"data row16 col20\" >286</td>\n",
              "                        <td id=\"T_9d4f0e40_5433_11eb_83c3_0242ac1c0002row16_col21\" class=\"data row16 col21\" >109</td>\n",
              "                        <td id=\"T_9d4f0e40_5433_11eb_83c3_0242ac1c0002row16_col22\" class=\"data row16 col22\" >0</td>\n",
              "                        <td id=\"T_9d4f0e40_5433_11eb_83c3_0242ac1c0002row16_col23\" class=\"data row16 col23\" >0</td>\n",
              "                        <td id=\"T_9d4f0e40_5433_11eb_83c3_0242ac1c0002row16_col24\" class=\"data row16 col24\" >0</td>\n",
              "                        <td id=\"T_9d4f0e40_5433_11eb_83c3_0242ac1c0002row16_col25\" class=\"data row16 col25\" >0</td>\n",
              "                        <td id=\"T_9d4f0e40_5433_11eb_83c3_0242ac1c0002row16_col26\" class=\"data row16 col26\" >0</td>\n",
              "                        <td id=\"T_9d4f0e40_5433_11eb_83c3_0242ac1c0002row16_col27\" class=\"data row16 col27\" >0</td>\n",
              "            </tr>\n",
              "            <tr>\n",
              "                        <th id=\"T_9d4f0e40_5433_11eb_83c3_0242ac1c0002level0_row17\" class=\"row_heading level0 row17\" >17</th>\n",
              "                        <td id=\"T_9d4f0e40_5433_11eb_83c3_0242ac1c0002row17_col0\" class=\"data row17 col0\" >0</td>\n",
              "                        <td id=\"T_9d4f0e40_5433_11eb_83c3_0242ac1c0002row17_col1\" class=\"data row17 col1\" >0</td>\n",
              "                        <td id=\"T_9d4f0e40_5433_11eb_83c3_0242ac1c0002row17_col2\" class=\"data row17 col2\" >0</td>\n",
              "                        <td id=\"T_9d4f0e40_5433_11eb_83c3_0242ac1c0002row17_col3\" class=\"data row17 col3\" >0</td>\n",
              "                        <td id=\"T_9d4f0e40_5433_11eb_83c3_0242ac1c0002row17_col4\" class=\"data row17 col4\" >0</td>\n",
              "                        <td id=\"T_9d4f0e40_5433_11eb_83c3_0242ac1c0002row17_col5\" class=\"data row17 col5\" >0</td>\n",
              "                        <td id=\"T_9d4f0e40_5433_11eb_83c3_0242ac1c0002row17_col6\" class=\"data row17 col6\" >0</td>\n",
              "                        <td id=\"T_9d4f0e40_5433_11eb_83c3_0242ac1c0002row17_col7\" class=\"data row17 col7\" >18</td>\n",
              "                        <td id=\"T_9d4f0e40_5433_11eb_83c3_0242ac1c0002row17_col8\" class=\"data row17 col8\" >243</td>\n",
              "                        <td id=\"T_9d4f0e40_5433_11eb_83c3_0242ac1c0002row17_col9\" class=\"data row17 col9\" >286</td>\n",
              "                        <td id=\"T_9d4f0e40_5433_11eb_83c3_0242ac1c0002row17_col10\" class=\"data row17 col10\" >281</td>\n",
              "                        <td id=\"T_9d4f0e40_5433_11eb_83c3_0242ac1c0002row17_col11\" class=\"data row17 col11\" >276</td>\n",
              "                        <td id=\"T_9d4f0e40_5433_11eb_83c3_0242ac1c0002row17_col12\" class=\"data row17 col12\" >286</td>\n",
              "                        <td id=\"T_9d4f0e40_5433_11eb_83c3_0242ac1c0002row17_col13\" class=\"data row17 col13\" >286</td>\n",
              "                        <td id=\"T_9d4f0e40_5433_11eb_83c3_0242ac1c0002row17_col14\" class=\"data row17 col14\" >286</td>\n",
              "                        <td id=\"T_9d4f0e40_5433_11eb_83c3_0242ac1c0002row17_col15\" class=\"data row17 col15\" >286</td>\n",
              "                        <td id=\"T_9d4f0e40_5433_11eb_83c3_0242ac1c0002row17_col16\" class=\"data row17 col16\" >286</td>\n",
              "                        <td id=\"T_9d4f0e40_5433_11eb_83c3_0242ac1c0002row17_col17\" class=\"data row17 col17\" >286</td>\n",
              "                        <td id=\"T_9d4f0e40_5433_11eb_83c3_0242ac1c0002row17_col18\" class=\"data row17 col18\" >286</td>\n",
              "                        <td id=\"T_9d4f0e40_5433_11eb_83c3_0242ac1c0002row17_col19\" class=\"data row17 col19\" >286</td>\n",
              "                        <td id=\"T_9d4f0e40_5433_11eb_83c3_0242ac1c0002row17_col20\" class=\"data row17 col20\" >126</td>\n",
              "                        <td id=\"T_9d4f0e40_5433_11eb_83c3_0242ac1c0002row17_col21\" class=\"data row17 col21\" >3</td>\n",
              "                        <td id=\"T_9d4f0e40_5433_11eb_83c3_0242ac1c0002row17_col22\" class=\"data row17 col22\" >0</td>\n",
              "                        <td id=\"T_9d4f0e40_5433_11eb_83c3_0242ac1c0002row17_col23\" class=\"data row17 col23\" >0</td>\n",
              "                        <td id=\"T_9d4f0e40_5433_11eb_83c3_0242ac1c0002row17_col24\" class=\"data row17 col24\" >0</td>\n",
              "                        <td id=\"T_9d4f0e40_5433_11eb_83c3_0242ac1c0002row17_col25\" class=\"data row17 col25\" >0</td>\n",
              "                        <td id=\"T_9d4f0e40_5433_11eb_83c3_0242ac1c0002row17_col26\" class=\"data row17 col26\" >0</td>\n",
              "                        <td id=\"T_9d4f0e40_5433_11eb_83c3_0242ac1c0002row17_col27\" class=\"data row17 col27\" >0</td>\n",
              "            </tr>\n",
              "            <tr>\n",
              "                        <th id=\"T_9d4f0e40_5433_11eb_83c3_0242ac1c0002level0_row18\" class=\"row_heading level0 row18\" >18</th>\n",
              "                        <td id=\"T_9d4f0e40_5433_11eb_83c3_0242ac1c0002row18_col0\" class=\"data row18 col0\" >0</td>\n",
              "                        <td id=\"T_9d4f0e40_5433_11eb_83c3_0242ac1c0002row18_col1\" class=\"data row18 col1\" >0</td>\n",
              "                        <td id=\"T_9d4f0e40_5433_11eb_83c3_0242ac1c0002row18_col2\" class=\"data row18 col2\" >0</td>\n",
              "                        <td id=\"T_9d4f0e40_5433_11eb_83c3_0242ac1c0002row18_col3\" class=\"data row18 col3\" >0</td>\n",
              "                        <td id=\"T_9d4f0e40_5433_11eb_83c3_0242ac1c0002row18_col4\" class=\"data row18 col4\" >0</td>\n",
              "                        <td id=\"T_9d4f0e40_5433_11eb_83c3_0242ac1c0002row18_col5\" class=\"data row18 col5\" >0</td>\n",
              "                        <td id=\"T_9d4f0e40_5433_11eb_83c3_0242ac1c0002row18_col6\" class=\"data row18 col6\" >0</td>\n",
              "                        <td id=\"T_9d4f0e40_5433_11eb_83c3_0242ac1c0002row18_col7\" class=\"data row18 col7\" >0</td>\n",
              "                        <td id=\"T_9d4f0e40_5433_11eb_83c3_0242ac1c0002row18_col8\" class=\"data row18 col8\" >175</td>\n",
              "                        <td id=\"T_9d4f0e40_5433_11eb_83c3_0242ac1c0002row18_col9\" class=\"data row18 col9\" >286</td>\n",
              "                        <td id=\"T_9d4f0e40_5433_11eb_83c3_0242ac1c0002row18_col10\" class=\"data row18 col10\" >286</td>\n",
              "                        <td id=\"T_9d4f0e40_5433_11eb_83c3_0242ac1c0002row18_col11\" class=\"data row18 col11\" >286</td>\n",
              "                        <td id=\"T_9d4f0e40_5433_11eb_83c3_0242ac1c0002row18_col12\" class=\"data row18 col12\" >286</td>\n",
              "                        <td id=\"T_9d4f0e40_5433_11eb_83c3_0242ac1c0002row18_col13\" class=\"data row18 col13\" >286</td>\n",
              "                        <td id=\"T_9d4f0e40_5433_11eb_83c3_0242ac1c0002row18_col14\" class=\"data row18 col14\" >286</td>\n",
              "                        <td id=\"T_9d4f0e40_5433_11eb_83c3_0242ac1c0002row18_col15\" class=\"data row18 col15\" >286</td>\n",
              "                        <td id=\"T_9d4f0e40_5433_11eb_83c3_0242ac1c0002row18_col16\" class=\"data row18 col16\" >286</td>\n",
              "                        <td id=\"T_9d4f0e40_5433_11eb_83c3_0242ac1c0002row18_col17\" class=\"data row18 col17\" >286</td>\n",
              "                        <td id=\"T_9d4f0e40_5433_11eb_83c3_0242ac1c0002row18_col18\" class=\"data row18 col18\" >286</td>\n",
              "                        <td id=\"T_9d4f0e40_5433_11eb_83c3_0242ac1c0002row18_col19\" class=\"data row18 col19\" >240</td>\n",
              "                        <td id=\"T_9d4f0e40_5433_11eb_83c3_0242ac1c0002row18_col20\" class=\"data row18 col20\" >15</td>\n",
              "                        <td id=\"T_9d4f0e40_5433_11eb_83c3_0242ac1c0002row18_col21\" class=\"data row18 col21\" >0</td>\n",
              "                        <td id=\"T_9d4f0e40_5433_11eb_83c3_0242ac1c0002row18_col22\" class=\"data row18 col22\" >0</td>\n",
              "                        <td id=\"T_9d4f0e40_5433_11eb_83c3_0242ac1c0002row18_col23\" class=\"data row18 col23\" >0</td>\n",
              "                        <td id=\"T_9d4f0e40_5433_11eb_83c3_0242ac1c0002row18_col24\" class=\"data row18 col24\" >0</td>\n",
              "                        <td id=\"T_9d4f0e40_5433_11eb_83c3_0242ac1c0002row18_col25\" class=\"data row18 col25\" >0</td>\n",
              "                        <td id=\"T_9d4f0e40_5433_11eb_83c3_0242ac1c0002row18_col26\" class=\"data row18 col26\" >0</td>\n",
              "                        <td id=\"T_9d4f0e40_5433_11eb_83c3_0242ac1c0002row18_col27\" class=\"data row18 col27\" >0</td>\n",
              "            </tr>\n",
              "            <tr>\n",
              "                        <th id=\"T_9d4f0e40_5433_11eb_83c3_0242ac1c0002level0_row19\" class=\"row_heading level0 row19\" >19</th>\n",
              "                        <td id=\"T_9d4f0e40_5433_11eb_83c3_0242ac1c0002row19_col0\" class=\"data row19 col0\" >0</td>\n",
              "                        <td id=\"T_9d4f0e40_5433_11eb_83c3_0242ac1c0002row19_col1\" class=\"data row19 col1\" >0</td>\n",
              "                        <td id=\"T_9d4f0e40_5433_11eb_83c3_0242ac1c0002row19_col2\" class=\"data row19 col2\" >0</td>\n",
              "                        <td id=\"T_9d4f0e40_5433_11eb_83c3_0242ac1c0002row19_col3\" class=\"data row19 col3\" >0</td>\n",
              "                        <td id=\"T_9d4f0e40_5433_11eb_83c3_0242ac1c0002row19_col4\" class=\"data row19 col4\" >0</td>\n",
              "                        <td id=\"T_9d4f0e40_5433_11eb_83c3_0242ac1c0002row19_col5\" class=\"data row19 col5\" >0</td>\n",
              "                        <td id=\"T_9d4f0e40_5433_11eb_83c3_0242ac1c0002row19_col6\" class=\"data row19 col6\" >0</td>\n",
              "                        <td id=\"T_9d4f0e40_5433_11eb_83c3_0242ac1c0002row19_col7\" class=\"data row19 col7\" >0</td>\n",
              "                        <td id=\"T_9d4f0e40_5433_11eb_83c3_0242ac1c0002row19_col8\" class=\"data row19 col8\" >114</td>\n",
              "                        <td id=\"T_9d4f0e40_5433_11eb_83c3_0242ac1c0002row19_col9\" class=\"data row19 col9\" >286</td>\n",
              "                        <td id=\"T_9d4f0e40_5433_11eb_83c3_0242ac1c0002row19_col10\" class=\"data row19 col10\" >286</td>\n",
              "                        <td id=\"T_9d4f0e40_5433_11eb_83c3_0242ac1c0002row19_col11\" class=\"data row19 col11\" >286</td>\n",
              "                        <td id=\"T_9d4f0e40_5433_11eb_83c3_0242ac1c0002row19_col12\" class=\"data row19 col12\" >286</td>\n",
              "                        <td id=\"T_9d4f0e40_5433_11eb_83c3_0242ac1c0002row19_col13\" class=\"data row19 col13\" >286</td>\n",
              "                        <td id=\"T_9d4f0e40_5433_11eb_83c3_0242ac1c0002row19_col14\" class=\"data row19 col14\" >286</td>\n",
              "                        <td id=\"T_9d4f0e40_5433_11eb_83c3_0242ac1c0002row19_col15\" class=\"data row19 col15\" >286</td>\n",
              "                        <td id=\"T_9d4f0e40_5433_11eb_83c3_0242ac1c0002row19_col16\" class=\"data row19 col16\" >286</td>\n",
              "                        <td id=\"T_9d4f0e40_5433_11eb_83c3_0242ac1c0002row19_col17\" class=\"data row19 col17\" >286</td>\n",
              "                        <td id=\"T_9d4f0e40_5433_11eb_83c3_0242ac1c0002row19_col18\" class=\"data row19 col18\" >240</td>\n",
              "                        <td id=\"T_9d4f0e40_5433_11eb_83c3_0242ac1c0002row19_col19\" class=\"data row19 col19\" >29</td>\n",
              "                        <td id=\"T_9d4f0e40_5433_11eb_83c3_0242ac1c0002row19_col20\" class=\"data row19 col20\" >0</td>\n",
              "                        <td id=\"T_9d4f0e40_5433_11eb_83c3_0242ac1c0002row19_col21\" class=\"data row19 col21\" >0</td>\n",
              "                        <td id=\"T_9d4f0e40_5433_11eb_83c3_0242ac1c0002row19_col22\" class=\"data row19 col22\" >0</td>\n",
              "                        <td id=\"T_9d4f0e40_5433_11eb_83c3_0242ac1c0002row19_col23\" class=\"data row19 col23\" >0</td>\n",
              "                        <td id=\"T_9d4f0e40_5433_11eb_83c3_0242ac1c0002row19_col24\" class=\"data row19 col24\" >0</td>\n",
              "                        <td id=\"T_9d4f0e40_5433_11eb_83c3_0242ac1c0002row19_col25\" class=\"data row19 col25\" >0</td>\n",
              "                        <td id=\"T_9d4f0e40_5433_11eb_83c3_0242ac1c0002row19_col26\" class=\"data row19 col26\" >0</td>\n",
              "                        <td id=\"T_9d4f0e40_5433_11eb_83c3_0242ac1c0002row19_col27\" class=\"data row19 col27\" >0</td>\n",
              "            </tr>\n",
              "            <tr>\n",
              "                        <th id=\"T_9d4f0e40_5433_11eb_83c3_0242ac1c0002level0_row20\" class=\"row_heading level0 row20\" >20</th>\n",
              "                        <td id=\"T_9d4f0e40_5433_11eb_83c3_0242ac1c0002row20_col0\" class=\"data row20 col0\" >0</td>\n",
              "                        <td id=\"T_9d4f0e40_5433_11eb_83c3_0242ac1c0002row20_col1\" class=\"data row20 col1\" >0</td>\n",
              "                        <td id=\"T_9d4f0e40_5433_11eb_83c3_0242ac1c0002row20_col2\" class=\"data row20 col2\" >0</td>\n",
              "                        <td id=\"T_9d4f0e40_5433_11eb_83c3_0242ac1c0002row20_col3\" class=\"data row20 col3\" >0</td>\n",
              "                        <td id=\"T_9d4f0e40_5433_11eb_83c3_0242ac1c0002row20_col4\" class=\"data row20 col4\" >0</td>\n",
              "                        <td id=\"T_9d4f0e40_5433_11eb_83c3_0242ac1c0002row20_col5\" class=\"data row20 col5\" >0</td>\n",
              "                        <td id=\"T_9d4f0e40_5433_11eb_83c3_0242ac1c0002row20_col6\" class=\"data row20 col6\" >0</td>\n",
              "                        <td id=\"T_9d4f0e40_5433_11eb_83c3_0242ac1c0002row20_col7\" class=\"data row20 col7\" >0</td>\n",
              "                        <td id=\"T_9d4f0e40_5433_11eb_83c3_0242ac1c0002row20_col8\" class=\"data row20 col8\" >19</td>\n",
              "                        <td id=\"T_9d4f0e40_5433_11eb_83c3_0242ac1c0002row20_col9\" class=\"data row20 col9\" >238</td>\n",
              "                        <td id=\"T_9d4f0e40_5433_11eb_83c3_0242ac1c0002row20_col10\" class=\"data row20 col10\" >286</td>\n",
              "                        <td id=\"T_9d4f0e40_5433_11eb_83c3_0242ac1c0002row20_col11\" class=\"data row20 col11\" >286</td>\n",
              "                        <td id=\"T_9d4f0e40_5433_11eb_83c3_0242ac1c0002row20_col12\" class=\"data row20 col12\" >286</td>\n",
              "                        <td id=\"T_9d4f0e40_5433_11eb_83c3_0242ac1c0002row20_col13\" class=\"data row20 col13\" >286</td>\n",
              "                        <td id=\"T_9d4f0e40_5433_11eb_83c3_0242ac1c0002row20_col14\" class=\"data row20 col14\" >286</td>\n",
              "                        <td id=\"T_9d4f0e40_5433_11eb_83c3_0242ac1c0002row20_col15\" class=\"data row20 col15\" >286</td>\n",
              "                        <td id=\"T_9d4f0e40_5433_11eb_83c3_0242ac1c0002row20_col16\" class=\"data row20 col16\" >179</td>\n",
              "                        <td id=\"T_9d4f0e40_5433_11eb_83c3_0242ac1c0002row20_col17\" class=\"data row20 col17\" >105</td>\n",
              "                        <td id=\"T_9d4f0e40_5433_11eb_83c3_0242ac1c0002row20_col18\" class=\"data row20 col18\" >9</td>\n",
              "                        <td id=\"T_9d4f0e40_5433_11eb_83c3_0242ac1c0002row20_col19\" class=\"data row20 col19\" >0</td>\n",
              "                        <td id=\"T_9d4f0e40_5433_11eb_83c3_0242ac1c0002row20_col20\" class=\"data row20 col20\" >0</td>\n",
              "                        <td id=\"T_9d4f0e40_5433_11eb_83c3_0242ac1c0002row20_col21\" class=\"data row20 col21\" >0</td>\n",
              "                        <td id=\"T_9d4f0e40_5433_11eb_83c3_0242ac1c0002row20_col22\" class=\"data row20 col22\" >0</td>\n",
              "                        <td id=\"T_9d4f0e40_5433_11eb_83c3_0242ac1c0002row20_col23\" class=\"data row20 col23\" >0</td>\n",
              "                        <td id=\"T_9d4f0e40_5433_11eb_83c3_0242ac1c0002row20_col24\" class=\"data row20 col24\" >0</td>\n",
              "                        <td id=\"T_9d4f0e40_5433_11eb_83c3_0242ac1c0002row20_col25\" class=\"data row20 col25\" >0</td>\n",
              "                        <td id=\"T_9d4f0e40_5433_11eb_83c3_0242ac1c0002row20_col26\" class=\"data row20 col26\" >0</td>\n",
              "                        <td id=\"T_9d4f0e40_5433_11eb_83c3_0242ac1c0002row20_col27\" class=\"data row20 col27\" >0</td>\n",
              "            </tr>\n",
              "            <tr>\n",
              "                        <th id=\"T_9d4f0e40_5433_11eb_83c3_0242ac1c0002level0_row21\" class=\"row_heading level0 row21\" >21</th>\n",
              "                        <td id=\"T_9d4f0e40_5433_11eb_83c3_0242ac1c0002row21_col0\" class=\"data row21 col0\" >0</td>\n",
              "                        <td id=\"T_9d4f0e40_5433_11eb_83c3_0242ac1c0002row21_col1\" class=\"data row21 col1\" >0</td>\n",
              "                        <td id=\"T_9d4f0e40_5433_11eb_83c3_0242ac1c0002row21_col2\" class=\"data row21 col2\" >0</td>\n",
              "                        <td id=\"T_9d4f0e40_5433_11eb_83c3_0242ac1c0002row21_col3\" class=\"data row21 col3\" >0</td>\n",
              "                        <td id=\"T_9d4f0e40_5433_11eb_83c3_0242ac1c0002row21_col4\" class=\"data row21 col4\" >0</td>\n",
              "                        <td id=\"T_9d4f0e40_5433_11eb_83c3_0242ac1c0002row21_col5\" class=\"data row21 col5\" >0</td>\n",
              "                        <td id=\"T_9d4f0e40_5433_11eb_83c3_0242ac1c0002row21_col6\" class=\"data row21 col6\" >0</td>\n",
              "                        <td id=\"T_9d4f0e40_5433_11eb_83c3_0242ac1c0002row21_col7\" class=\"data row21 col7\" >0</td>\n",
              "                        <td id=\"T_9d4f0e40_5433_11eb_83c3_0242ac1c0002row21_col8\" class=\"data row21 col8\" >0</td>\n",
              "                        <td id=\"T_9d4f0e40_5433_11eb_83c3_0242ac1c0002row21_col9\" class=\"data row21 col9\" >24</td>\n",
              "                        <td id=\"T_9d4f0e40_5433_11eb_83c3_0242ac1c0002row21_col10\" class=\"data row21 col10\" >239</td>\n",
              "                        <td id=\"T_9d4f0e40_5433_11eb_83c3_0242ac1c0002row21_col11\" class=\"data row21 col11\" >286</td>\n",
              "                        <td id=\"T_9d4f0e40_5433_11eb_83c3_0242ac1c0002row21_col12\" class=\"data row21 col12\" >286</td>\n",
              "                        <td id=\"T_9d4f0e40_5433_11eb_83c3_0242ac1c0002row21_col13\" class=\"data row21 col13\" >286</td>\n",
              "                        <td id=\"T_9d4f0e40_5433_11eb_83c3_0242ac1c0002row21_col14\" class=\"data row21 col14\" >180</td>\n",
              "                        <td id=\"T_9d4f0e40_5433_11eb_83c3_0242ac1c0002row21_col15\" class=\"data row21 col15\" >105</td>\n",
              "                        <td id=\"T_9d4f0e40_5433_11eb_83c3_0242ac1c0002row21_col16\" class=\"data row21 col16\" >1</td>\n",
              "                        <td id=\"T_9d4f0e40_5433_11eb_83c3_0242ac1c0002row21_col17\" class=\"data row21 col17\" >0</td>\n",
              "                        <td id=\"T_9d4f0e40_5433_11eb_83c3_0242ac1c0002row21_col18\" class=\"data row21 col18\" >0</td>\n",
              "                        <td id=\"T_9d4f0e40_5433_11eb_83c3_0242ac1c0002row21_col19\" class=\"data row21 col19\" >0</td>\n",
              "                        <td id=\"T_9d4f0e40_5433_11eb_83c3_0242ac1c0002row21_col20\" class=\"data row21 col20\" >0</td>\n",
              "                        <td id=\"T_9d4f0e40_5433_11eb_83c3_0242ac1c0002row21_col21\" class=\"data row21 col21\" >0</td>\n",
              "                        <td id=\"T_9d4f0e40_5433_11eb_83c3_0242ac1c0002row21_col22\" class=\"data row21 col22\" >0</td>\n",
              "                        <td id=\"T_9d4f0e40_5433_11eb_83c3_0242ac1c0002row21_col23\" class=\"data row21 col23\" >0</td>\n",
              "                        <td id=\"T_9d4f0e40_5433_11eb_83c3_0242ac1c0002row21_col24\" class=\"data row21 col24\" >0</td>\n",
              "                        <td id=\"T_9d4f0e40_5433_11eb_83c3_0242ac1c0002row21_col25\" class=\"data row21 col25\" >0</td>\n",
              "                        <td id=\"T_9d4f0e40_5433_11eb_83c3_0242ac1c0002row21_col26\" class=\"data row21 col26\" >0</td>\n",
              "                        <td id=\"T_9d4f0e40_5433_11eb_83c3_0242ac1c0002row21_col27\" class=\"data row21 col27\" >0</td>\n",
              "            </tr>\n",
              "            <tr>\n",
              "                        <th id=\"T_9d4f0e40_5433_11eb_83c3_0242ac1c0002level0_row22\" class=\"row_heading level0 row22\" >22</th>\n",
              "                        <td id=\"T_9d4f0e40_5433_11eb_83c3_0242ac1c0002row22_col0\" class=\"data row22 col0\" >0</td>\n",
              "                        <td id=\"T_9d4f0e40_5433_11eb_83c3_0242ac1c0002row22_col1\" class=\"data row22 col1\" >0</td>\n",
              "                        <td id=\"T_9d4f0e40_5433_11eb_83c3_0242ac1c0002row22_col2\" class=\"data row22 col2\" >0</td>\n",
              "                        <td id=\"T_9d4f0e40_5433_11eb_83c3_0242ac1c0002row22_col3\" class=\"data row22 col3\" >0</td>\n",
              "                        <td id=\"T_9d4f0e40_5433_11eb_83c3_0242ac1c0002row22_col4\" class=\"data row22 col4\" >0</td>\n",
              "                        <td id=\"T_9d4f0e40_5433_11eb_83c3_0242ac1c0002row22_col5\" class=\"data row22 col5\" >0</td>\n",
              "                        <td id=\"T_9d4f0e40_5433_11eb_83c3_0242ac1c0002row22_col6\" class=\"data row22 col6\" >0</td>\n",
              "                        <td id=\"T_9d4f0e40_5433_11eb_83c3_0242ac1c0002row22_col7\" class=\"data row22 col7\" >0</td>\n",
              "                        <td id=\"T_9d4f0e40_5433_11eb_83c3_0242ac1c0002row22_col8\" class=\"data row22 col8\" >0</td>\n",
              "                        <td id=\"T_9d4f0e40_5433_11eb_83c3_0242ac1c0002row22_col9\" class=\"data row22 col9\" >0</td>\n",
              "                        <td id=\"T_9d4f0e40_5433_11eb_83c3_0242ac1c0002row22_col10\" class=\"data row22 col10\" >0</td>\n",
              "                        <td id=\"T_9d4f0e40_5433_11eb_83c3_0242ac1c0002row22_col11\" class=\"data row22 col11\" >0</td>\n",
              "                        <td id=\"T_9d4f0e40_5433_11eb_83c3_0242ac1c0002row22_col12\" class=\"data row22 col12\" >0</td>\n",
              "                        <td id=\"T_9d4f0e40_5433_11eb_83c3_0242ac1c0002row22_col13\" class=\"data row22 col13\" >0</td>\n",
              "                        <td id=\"T_9d4f0e40_5433_11eb_83c3_0242ac1c0002row22_col14\" class=\"data row22 col14\" >0</td>\n",
              "                        <td id=\"T_9d4f0e40_5433_11eb_83c3_0242ac1c0002row22_col15\" class=\"data row22 col15\" >0</td>\n",
              "                        <td id=\"T_9d4f0e40_5433_11eb_83c3_0242ac1c0002row22_col16\" class=\"data row22 col16\" >0</td>\n",
              "                        <td id=\"T_9d4f0e40_5433_11eb_83c3_0242ac1c0002row22_col17\" class=\"data row22 col17\" >0</td>\n",
              "                        <td id=\"T_9d4f0e40_5433_11eb_83c3_0242ac1c0002row22_col18\" class=\"data row22 col18\" >0</td>\n",
              "                        <td id=\"T_9d4f0e40_5433_11eb_83c3_0242ac1c0002row22_col19\" class=\"data row22 col19\" >0</td>\n",
              "                        <td id=\"T_9d4f0e40_5433_11eb_83c3_0242ac1c0002row22_col20\" class=\"data row22 col20\" >0</td>\n",
              "                        <td id=\"T_9d4f0e40_5433_11eb_83c3_0242ac1c0002row22_col21\" class=\"data row22 col21\" >0</td>\n",
              "                        <td id=\"T_9d4f0e40_5433_11eb_83c3_0242ac1c0002row22_col22\" class=\"data row22 col22\" >0</td>\n",
              "                        <td id=\"T_9d4f0e40_5433_11eb_83c3_0242ac1c0002row22_col23\" class=\"data row22 col23\" >0</td>\n",
              "                        <td id=\"T_9d4f0e40_5433_11eb_83c3_0242ac1c0002row22_col24\" class=\"data row22 col24\" >0</td>\n",
              "                        <td id=\"T_9d4f0e40_5433_11eb_83c3_0242ac1c0002row22_col25\" class=\"data row22 col25\" >0</td>\n",
              "                        <td id=\"T_9d4f0e40_5433_11eb_83c3_0242ac1c0002row22_col26\" class=\"data row22 col26\" >0</td>\n",
              "                        <td id=\"T_9d4f0e40_5433_11eb_83c3_0242ac1c0002row22_col27\" class=\"data row22 col27\" >0</td>\n",
              "            </tr>\n",
              "            <tr>\n",
              "                        <th id=\"T_9d4f0e40_5433_11eb_83c3_0242ac1c0002level0_row23\" class=\"row_heading level0 row23\" >23</th>\n",
              "                        <td id=\"T_9d4f0e40_5433_11eb_83c3_0242ac1c0002row23_col0\" class=\"data row23 col0\" >0</td>\n",
              "                        <td id=\"T_9d4f0e40_5433_11eb_83c3_0242ac1c0002row23_col1\" class=\"data row23 col1\" >0</td>\n",
              "                        <td id=\"T_9d4f0e40_5433_11eb_83c3_0242ac1c0002row23_col2\" class=\"data row23 col2\" >0</td>\n",
              "                        <td id=\"T_9d4f0e40_5433_11eb_83c3_0242ac1c0002row23_col3\" class=\"data row23 col3\" >0</td>\n",
              "                        <td id=\"T_9d4f0e40_5433_11eb_83c3_0242ac1c0002row23_col4\" class=\"data row23 col4\" >0</td>\n",
              "                        <td id=\"T_9d4f0e40_5433_11eb_83c3_0242ac1c0002row23_col5\" class=\"data row23 col5\" >0</td>\n",
              "                        <td id=\"T_9d4f0e40_5433_11eb_83c3_0242ac1c0002row23_col6\" class=\"data row23 col6\" >0</td>\n",
              "                        <td id=\"T_9d4f0e40_5433_11eb_83c3_0242ac1c0002row23_col7\" class=\"data row23 col7\" >0</td>\n",
              "                        <td id=\"T_9d4f0e40_5433_11eb_83c3_0242ac1c0002row23_col8\" class=\"data row23 col8\" >0</td>\n",
              "                        <td id=\"T_9d4f0e40_5433_11eb_83c3_0242ac1c0002row23_col9\" class=\"data row23 col9\" >0</td>\n",
              "                        <td id=\"T_9d4f0e40_5433_11eb_83c3_0242ac1c0002row23_col10\" class=\"data row23 col10\" >0</td>\n",
              "                        <td id=\"T_9d4f0e40_5433_11eb_83c3_0242ac1c0002row23_col11\" class=\"data row23 col11\" >0</td>\n",
              "                        <td id=\"T_9d4f0e40_5433_11eb_83c3_0242ac1c0002row23_col12\" class=\"data row23 col12\" >0</td>\n",
              "                        <td id=\"T_9d4f0e40_5433_11eb_83c3_0242ac1c0002row23_col13\" class=\"data row23 col13\" >0</td>\n",
              "                        <td id=\"T_9d4f0e40_5433_11eb_83c3_0242ac1c0002row23_col14\" class=\"data row23 col14\" >0</td>\n",
              "                        <td id=\"T_9d4f0e40_5433_11eb_83c3_0242ac1c0002row23_col15\" class=\"data row23 col15\" >0</td>\n",
              "                        <td id=\"T_9d4f0e40_5433_11eb_83c3_0242ac1c0002row23_col16\" class=\"data row23 col16\" >0</td>\n",
              "                        <td id=\"T_9d4f0e40_5433_11eb_83c3_0242ac1c0002row23_col17\" class=\"data row23 col17\" >0</td>\n",
              "                        <td id=\"T_9d4f0e40_5433_11eb_83c3_0242ac1c0002row23_col18\" class=\"data row23 col18\" >0</td>\n",
              "                        <td id=\"T_9d4f0e40_5433_11eb_83c3_0242ac1c0002row23_col19\" class=\"data row23 col19\" >0</td>\n",
              "                        <td id=\"T_9d4f0e40_5433_11eb_83c3_0242ac1c0002row23_col20\" class=\"data row23 col20\" >0</td>\n",
              "                        <td id=\"T_9d4f0e40_5433_11eb_83c3_0242ac1c0002row23_col21\" class=\"data row23 col21\" >0</td>\n",
              "                        <td id=\"T_9d4f0e40_5433_11eb_83c3_0242ac1c0002row23_col22\" class=\"data row23 col22\" >0</td>\n",
              "                        <td id=\"T_9d4f0e40_5433_11eb_83c3_0242ac1c0002row23_col23\" class=\"data row23 col23\" >0</td>\n",
              "                        <td id=\"T_9d4f0e40_5433_11eb_83c3_0242ac1c0002row23_col24\" class=\"data row23 col24\" >0</td>\n",
              "                        <td id=\"T_9d4f0e40_5433_11eb_83c3_0242ac1c0002row23_col25\" class=\"data row23 col25\" >0</td>\n",
              "                        <td id=\"T_9d4f0e40_5433_11eb_83c3_0242ac1c0002row23_col26\" class=\"data row23 col26\" >0</td>\n",
              "                        <td id=\"T_9d4f0e40_5433_11eb_83c3_0242ac1c0002row23_col27\" class=\"data row23 col27\" >0</td>\n",
              "            </tr>\n",
              "            <tr>\n",
              "                        <th id=\"T_9d4f0e40_5433_11eb_83c3_0242ac1c0002level0_row24\" class=\"row_heading level0 row24\" >24</th>\n",
              "                        <td id=\"T_9d4f0e40_5433_11eb_83c3_0242ac1c0002row24_col0\" class=\"data row24 col0\" >0</td>\n",
              "                        <td id=\"T_9d4f0e40_5433_11eb_83c3_0242ac1c0002row24_col1\" class=\"data row24 col1\" >0</td>\n",
              "                        <td id=\"T_9d4f0e40_5433_11eb_83c3_0242ac1c0002row24_col2\" class=\"data row24 col2\" >0</td>\n",
              "                        <td id=\"T_9d4f0e40_5433_11eb_83c3_0242ac1c0002row24_col3\" class=\"data row24 col3\" >0</td>\n",
              "                        <td id=\"T_9d4f0e40_5433_11eb_83c3_0242ac1c0002row24_col4\" class=\"data row24 col4\" >0</td>\n",
              "                        <td id=\"T_9d4f0e40_5433_11eb_83c3_0242ac1c0002row24_col5\" class=\"data row24 col5\" >0</td>\n",
              "                        <td id=\"T_9d4f0e40_5433_11eb_83c3_0242ac1c0002row24_col6\" class=\"data row24 col6\" >0</td>\n",
              "                        <td id=\"T_9d4f0e40_5433_11eb_83c3_0242ac1c0002row24_col7\" class=\"data row24 col7\" >0</td>\n",
              "                        <td id=\"T_9d4f0e40_5433_11eb_83c3_0242ac1c0002row24_col8\" class=\"data row24 col8\" >0</td>\n",
              "                        <td id=\"T_9d4f0e40_5433_11eb_83c3_0242ac1c0002row24_col9\" class=\"data row24 col9\" >0</td>\n",
              "                        <td id=\"T_9d4f0e40_5433_11eb_83c3_0242ac1c0002row24_col10\" class=\"data row24 col10\" >0</td>\n",
              "                        <td id=\"T_9d4f0e40_5433_11eb_83c3_0242ac1c0002row24_col11\" class=\"data row24 col11\" >0</td>\n",
              "                        <td id=\"T_9d4f0e40_5433_11eb_83c3_0242ac1c0002row24_col12\" class=\"data row24 col12\" >0</td>\n",
              "                        <td id=\"T_9d4f0e40_5433_11eb_83c3_0242ac1c0002row24_col13\" class=\"data row24 col13\" >0</td>\n",
              "                        <td id=\"T_9d4f0e40_5433_11eb_83c3_0242ac1c0002row24_col14\" class=\"data row24 col14\" >0</td>\n",
              "                        <td id=\"T_9d4f0e40_5433_11eb_83c3_0242ac1c0002row24_col15\" class=\"data row24 col15\" >0</td>\n",
              "                        <td id=\"T_9d4f0e40_5433_11eb_83c3_0242ac1c0002row24_col16\" class=\"data row24 col16\" >0</td>\n",
              "                        <td id=\"T_9d4f0e40_5433_11eb_83c3_0242ac1c0002row24_col17\" class=\"data row24 col17\" >0</td>\n",
              "                        <td id=\"T_9d4f0e40_5433_11eb_83c3_0242ac1c0002row24_col18\" class=\"data row24 col18\" >0</td>\n",
              "                        <td id=\"T_9d4f0e40_5433_11eb_83c3_0242ac1c0002row24_col19\" class=\"data row24 col19\" >0</td>\n",
              "                        <td id=\"T_9d4f0e40_5433_11eb_83c3_0242ac1c0002row24_col20\" class=\"data row24 col20\" >0</td>\n",
              "                        <td id=\"T_9d4f0e40_5433_11eb_83c3_0242ac1c0002row24_col21\" class=\"data row24 col21\" >0</td>\n",
              "                        <td id=\"T_9d4f0e40_5433_11eb_83c3_0242ac1c0002row24_col22\" class=\"data row24 col22\" >0</td>\n",
              "                        <td id=\"T_9d4f0e40_5433_11eb_83c3_0242ac1c0002row24_col23\" class=\"data row24 col23\" >0</td>\n",
              "                        <td id=\"T_9d4f0e40_5433_11eb_83c3_0242ac1c0002row24_col24\" class=\"data row24 col24\" >0</td>\n",
              "                        <td id=\"T_9d4f0e40_5433_11eb_83c3_0242ac1c0002row24_col25\" class=\"data row24 col25\" >0</td>\n",
              "                        <td id=\"T_9d4f0e40_5433_11eb_83c3_0242ac1c0002row24_col26\" class=\"data row24 col26\" >0</td>\n",
              "                        <td id=\"T_9d4f0e40_5433_11eb_83c3_0242ac1c0002row24_col27\" class=\"data row24 col27\" >0</td>\n",
              "            </tr>\n",
              "            <tr>\n",
              "                        <th id=\"T_9d4f0e40_5433_11eb_83c3_0242ac1c0002level0_row25\" class=\"row_heading level0 row25\" >25</th>\n",
              "                        <td id=\"T_9d4f0e40_5433_11eb_83c3_0242ac1c0002row25_col0\" class=\"data row25 col0\" >0</td>\n",
              "                        <td id=\"T_9d4f0e40_5433_11eb_83c3_0242ac1c0002row25_col1\" class=\"data row25 col1\" >0</td>\n",
              "                        <td id=\"T_9d4f0e40_5433_11eb_83c3_0242ac1c0002row25_col2\" class=\"data row25 col2\" >0</td>\n",
              "                        <td id=\"T_9d4f0e40_5433_11eb_83c3_0242ac1c0002row25_col3\" class=\"data row25 col3\" >0</td>\n",
              "                        <td id=\"T_9d4f0e40_5433_11eb_83c3_0242ac1c0002row25_col4\" class=\"data row25 col4\" >0</td>\n",
              "                        <td id=\"T_9d4f0e40_5433_11eb_83c3_0242ac1c0002row25_col5\" class=\"data row25 col5\" >0</td>\n",
              "                        <td id=\"T_9d4f0e40_5433_11eb_83c3_0242ac1c0002row25_col6\" class=\"data row25 col6\" >0</td>\n",
              "                        <td id=\"T_9d4f0e40_5433_11eb_83c3_0242ac1c0002row25_col7\" class=\"data row25 col7\" >0</td>\n",
              "                        <td id=\"T_9d4f0e40_5433_11eb_83c3_0242ac1c0002row25_col8\" class=\"data row25 col8\" >0</td>\n",
              "                        <td id=\"T_9d4f0e40_5433_11eb_83c3_0242ac1c0002row25_col9\" class=\"data row25 col9\" >0</td>\n",
              "                        <td id=\"T_9d4f0e40_5433_11eb_83c3_0242ac1c0002row25_col10\" class=\"data row25 col10\" >0</td>\n",
              "                        <td id=\"T_9d4f0e40_5433_11eb_83c3_0242ac1c0002row25_col11\" class=\"data row25 col11\" >0</td>\n",
              "                        <td id=\"T_9d4f0e40_5433_11eb_83c3_0242ac1c0002row25_col12\" class=\"data row25 col12\" >0</td>\n",
              "                        <td id=\"T_9d4f0e40_5433_11eb_83c3_0242ac1c0002row25_col13\" class=\"data row25 col13\" >0</td>\n",
              "                        <td id=\"T_9d4f0e40_5433_11eb_83c3_0242ac1c0002row25_col14\" class=\"data row25 col14\" >0</td>\n",
              "                        <td id=\"T_9d4f0e40_5433_11eb_83c3_0242ac1c0002row25_col15\" class=\"data row25 col15\" >0</td>\n",
              "                        <td id=\"T_9d4f0e40_5433_11eb_83c3_0242ac1c0002row25_col16\" class=\"data row25 col16\" >0</td>\n",
              "                        <td id=\"T_9d4f0e40_5433_11eb_83c3_0242ac1c0002row25_col17\" class=\"data row25 col17\" >0</td>\n",
              "                        <td id=\"T_9d4f0e40_5433_11eb_83c3_0242ac1c0002row25_col18\" class=\"data row25 col18\" >0</td>\n",
              "                        <td id=\"T_9d4f0e40_5433_11eb_83c3_0242ac1c0002row25_col19\" class=\"data row25 col19\" >0</td>\n",
              "                        <td id=\"T_9d4f0e40_5433_11eb_83c3_0242ac1c0002row25_col20\" class=\"data row25 col20\" >0</td>\n",
              "                        <td id=\"T_9d4f0e40_5433_11eb_83c3_0242ac1c0002row25_col21\" class=\"data row25 col21\" >0</td>\n",
              "                        <td id=\"T_9d4f0e40_5433_11eb_83c3_0242ac1c0002row25_col22\" class=\"data row25 col22\" >0</td>\n",
              "                        <td id=\"T_9d4f0e40_5433_11eb_83c3_0242ac1c0002row25_col23\" class=\"data row25 col23\" >0</td>\n",
              "                        <td id=\"T_9d4f0e40_5433_11eb_83c3_0242ac1c0002row25_col24\" class=\"data row25 col24\" >0</td>\n",
              "                        <td id=\"T_9d4f0e40_5433_11eb_83c3_0242ac1c0002row25_col25\" class=\"data row25 col25\" >0</td>\n",
              "                        <td id=\"T_9d4f0e40_5433_11eb_83c3_0242ac1c0002row25_col26\" class=\"data row25 col26\" >0</td>\n",
              "                        <td id=\"T_9d4f0e40_5433_11eb_83c3_0242ac1c0002row25_col27\" class=\"data row25 col27\" >0</td>\n",
              "            </tr>\n",
              "            <tr>\n",
              "                        <th id=\"T_9d4f0e40_5433_11eb_83c3_0242ac1c0002level0_row26\" class=\"row_heading level0 row26\" >26</th>\n",
              "                        <td id=\"T_9d4f0e40_5433_11eb_83c3_0242ac1c0002row26_col0\" class=\"data row26 col0\" >0</td>\n",
              "                        <td id=\"T_9d4f0e40_5433_11eb_83c3_0242ac1c0002row26_col1\" class=\"data row26 col1\" >0</td>\n",
              "                        <td id=\"T_9d4f0e40_5433_11eb_83c3_0242ac1c0002row26_col2\" class=\"data row26 col2\" >0</td>\n",
              "                        <td id=\"T_9d4f0e40_5433_11eb_83c3_0242ac1c0002row26_col3\" class=\"data row26 col3\" >0</td>\n",
              "                        <td id=\"T_9d4f0e40_5433_11eb_83c3_0242ac1c0002row26_col4\" class=\"data row26 col4\" >0</td>\n",
              "                        <td id=\"T_9d4f0e40_5433_11eb_83c3_0242ac1c0002row26_col5\" class=\"data row26 col5\" >0</td>\n",
              "                        <td id=\"T_9d4f0e40_5433_11eb_83c3_0242ac1c0002row26_col6\" class=\"data row26 col6\" >0</td>\n",
              "                        <td id=\"T_9d4f0e40_5433_11eb_83c3_0242ac1c0002row26_col7\" class=\"data row26 col7\" >0</td>\n",
              "                        <td id=\"T_9d4f0e40_5433_11eb_83c3_0242ac1c0002row26_col8\" class=\"data row26 col8\" >0</td>\n",
              "                        <td id=\"T_9d4f0e40_5433_11eb_83c3_0242ac1c0002row26_col9\" class=\"data row26 col9\" >0</td>\n",
              "                        <td id=\"T_9d4f0e40_5433_11eb_83c3_0242ac1c0002row26_col10\" class=\"data row26 col10\" >0</td>\n",
              "                        <td id=\"T_9d4f0e40_5433_11eb_83c3_0242ac1c0002row26_col11\" class=\"data row26 col11\" >0</td>\n",
              "                        <td id=\"T_9d4f0e40_5433_11eb_83c3_0242ac1c0002row26_col12\" class=\"data row26 col12\" >0</td>\n",
              "                        <td id=\"T_9d4f0e40_5433_11eb_83c3_0242ac1c0002row26_col13\" class=\"data row26 col13\" >0</td>\n",
              "                        <td id=\"T_9d4f0e40_5433_11eb_83c3_0242ac1c0002row26_col14\" class=\"data row26 col14\" >0</td>\n",
              "                        <td id=\"T_9d4f0e40_5433_11eb_83c3_0242ac1c0002row26_col15\" class=\"data row26 col15\" >0</td>\n",
              "                        <td id=\"T_9d4f0e40_5433_11eb_83c3_0242ac1c0002row26_col16\" class=\"data row26 col16\" >0</td>\n",
              "                        <td id=\"T_9d4f0e40_5433_11eb_83c3_0242ac1c0002row26_col17\" class=\"data row26 col17\" >0</td>\n",
              "                        <td id=\"T_9d4f0e40_5433_11eb_83c3_0242ac1c0002row26_col18\" class=\"data row26 col18\" >0</td>\n",
              "                        <td id=\"T_9d4f0e40_5433_11eb_83c3_0242ac1c0002row26_col19\" class=\"data row26 col19\" >0</td>\n",
              "                        <td id=\"T_9d4f0e40_5433_11eb_83c3_0242ac1c0002row26_col20\" class=\"data row26 col20\" >0</td>\n",
              "                        <td id=\"T_9d4f0e40_5433_11eb_83c3_0242ac1c0002row26_col21\" class=\"data row26 col21\" >0</td>\n",
              "                        <td id=\"T_9d4f0e40_5433_11eb_83c3_0242ac1c0002row26_col22\" class=\"data row26 col22\" >0</td>\n",
              "                        <td id=\"T_9d4f0e40_5433_11eb_83c3_0242ac1c0002row26_col23\" class=\"data row26 col23\" >0</td>\n",
              "                        <td id=\"T_9d4f0e40_5433_11eb_83c3_0242ac1c0002row26_col24\" class=\"data row26 col24\" >0</td>\n",
              "                        <td id=\"T_9d4f0e40_5433_11eb_83c3_0242ac1c0002row26_col25\" class=\"data row26 col25\" >0</td>\n",
              "                        <td id=\"T_9d4f0e40_5433_11eb_83c3_0242ac1c0002row26_col26\" class=\"data row26 col26\" >0</td>\n",
              "                        <td id=\"T_9d4f0e40_5433_11eb_83c3_0242ac1c0002row26_col27\" class=\"data row26 col27\" >0</td>\n",
              "            </tr>\n",
              "            <tr>\n",
              "                        <th id=\"T_9d4f0e40_5433_11eb_83c3_0242ac1c0002level0_row27\" class=\"row_heading level0 row27\" >27</th>\n",
              "                        <td id=\"T_9d4f0e40_5433_11eb_83c3_0242ac1c0002row27_col0\" class=\"data row27 col0\" >0</td>\n",
              "                        <td id=\"T_9d4f0e40_5433_11eb_83c3_0242ac1c0002row27_col1\" class=\"data row27 col1\" >0</td>\n",
              "                        <td id=\"T_9d4f0e40_5433_11eb_83c3_0242ac1c0002row27_col2\" class=\"data row27 col2\" >0</td>\n",
              "                        <td id=\"T_9d4f0e40_5433_11eb_83c3_0242ac1c0002row27_col3\" class=\"data row27 col3\" >0</td>\n",
              "                        <td id=\"T_9d4f0e40_5433_11eb_83c3_0242ac1c0002row27_col4\" class=\"data row27 col4\" >0</td>\n",
              "                        <td id=\"T_9d4f0e40_5433_11eb_83c3_0242ac1c0002row27_col5\" class=\"data row27 col5\" >0</td>\n",
              "                        <td id=\"T_9d4f0e40_5433_11eb_83c3_0242ac1c0002row27_col6\" class=\"data row27 col6\" >0</td>\n",
              "                        <td id=\"T_9d4f0e40_5433_11eb_83c3_0242ac1c0002row27_col7\" class=\"data row27 col7\" >0</td>\n",
              "                        <td id=\"T_9d4f0e40_5433_11eb_83c3_0242ac1c0002row27_col8\" class=\"data row27 col8\" >0</td>\n",
              "                        <td id=\"T_9d4f0e40_5433_11eb_83c3_0242ac1c0002row27_col9\" class=\"data row27 col9\" >0</td>\n",
              "                        <td id=\"T_9d4f0e40_5433_11eb_83c3_0242ac1c0002row27_col10\" class=\"data row27 col10\" >0</td>\n",
              "                        <td id=\"T_9d4f0e40_5433_11eb_83c3_0242ac1c0002row27_col11\" class=\"data row27 col11\" >0</td>\n",
              "                        <td id=\"T_9d4f0e40_5433_11eb_83c3_0242ac1c0002row27_col12\" class=\"data row27 col12\" >0</td>\n",
              "                        <td id=\"T_9d4f0e40_5433_11eb_83c3_0242ac1c0002row27_col13\" class=\"data row27 col13\" >0</td>\n",
              "                        <td id=\"T_9d4f0e40_5433_11eb_83c3_0242ac1c0002row27_col14\" class=\"data row27 col14\" >0</td>\n",
              "                        <td id=\"T_9d4f0e40_5433_11eb_83c3_0242ac1c0002row27_col15\" class=\"data row27 col15\" >0</td>\n",
              "                        <td id=\"T_9d4f0e40_5433_11eb_83c3_0242ac1c0002row27_col16\" class=\"data row27 col16\" >0</td>\n",
              "                        <td id=\"T_9d4f0e40_5433_11eb_83c3_0242ac1c0002row27_col17\" class=\"data row27 col17\" >0</td>\n",
              "                        <td id=\"T_9d4f0e40_5433_11eb_83c3_0242ac1c0002row27_col18\" class=\"data row27 col18\" >0</td>\n",
              "                        <td id=\"T_9d4f0e40_5433_11eb_83c3_0242ac1c0002row27_col19\" class=\"data row27 col19\" >0</td>\n",
              "                        <td id=\"T_9d4f0e40_5433_11eb_83c3_0242ac1c0002row27_col20\" class=\"data row27 col20\" >0</td>\n",
              "                        <td id=\"T_9d4f0e40_5433_11eb_83c3_0242ac1c0002row27_col21\" class=\"data row27 col21\" >0</td>\n",
              "                        <td id=\"T_9d4f0e40_5433_11eb_83c3_0242ac1c0002row27_col22\" class=\"data row27 col22\" >0</td>\n",
              "                        <td id=\"T_9d4f0e40_5433_11eb_83c3_0242ac1c0002row27_col23\" class=\"data row27 col23\" >0</td>\n",
              "                        <td id=\"T_9d4f0e40_5433_11eb_83c3_0242ac1c0002row27_col24\" class=\"data row27 col24\" >0</td>\n",
              "                        <td id=\"T_9d4f0e40_5433_11eb_83c3_0242ac1c0002row27_col25\" class=\"data row27 col25\" >0</td>\n",
              "                        <td id=\"T_9d4f0e40_5433_11eb_83c3_0242ac1c0002row27_col26\" class=\"data row27 col26\" >0</td>\n",
              "                        <td id=\"T_9d4f0e40_5433_11eb_83c3_0242ac1c0002row27_col27\" class=\"data row27 col27\" >0</td>\n",
              "            </tr>\n",
              "    </tbody></table>"
            ],
            "text/plain": [
              "<pandas.io.formats.style.Styler at 0x7fc648f93ba8>"
            ]
          },
          "metadata": {
            "tags": []
          },
          "execution_count": 11
        }
      ]
    },
    {
      "cell_type": "markdown",
      "metadata": {
        "id": "Bg15WF6skeOe"
      },
      "source": [
        "Get the average for each number:"
      ]
    },
    {
      "cell_type": "code",
      "metadata": {
        "id": "cV6bDkhvlBJ8",
        "colab": {
          "base_uri": "https://localhost:8080/",
          "height": 102
        },
        "outputId": "e2bab22f-bb93-43a6-b760-61bc631ea408"
      },
      "source": [
        "average_num = {}\n",
        "for k in numbers:\n",
        "  average_num[k] = train_data[k].mean(0)\n",
        "\n",
        "show_image(average_num[6])"
      ],
      "execution_count": 12,
      "outputs": [
        {
          "output_type": "execute_result",
          "data": {
            "text/plain": [
              "<matplotlib.axes._subplots.AxesSubplot at 0x7fc648e4d8d0>"
            ]
          },
          "metadata": {
            "tags": []
          },
          "execution_count": 12
        },
        {
          "output_type": "display_data",
          "data": {
            "image/png": "[encoded data removed]",
            "text/plain": [
              "<Figure size 72x72 with 1 Axes>"
            ]
          },
          "metadata": {
            "tags": [],
            "needs_background": "light"
          }
        }
      ]
    },
    {
      "cell_type": "markdown",
      "metadata": {
        "id": "rWP4a1fdlNqS"
      },
      "source": [
        "Let's see how a given image from the validation set behaves against all the average numbers. First let's define a \"distance metric\""
      ]
    },
    {
      "cell_type": "code",
      "metadata": {
        "id": "OEh6fs9qnX8c",
        "colab": {
          "base_uri": "https://localhost:8080/"
        },
        "outputId": "1ba10680-8cee-4cd2-9829-e036382d8294"
      },
      "source": [
        "test_image = valid_data[4][0]\n",
        "test_image.shape"
      ],
      "execution_count": 13,
      "outputs": [
        {
          "output_type": "execute_result",
          "data": {
            "text/plain": [
              "torch.Size([28, 28])"
            ]
          },
          "metadata": {
            "tags": []
          },
          "execution_count": 13
        }
      ]
    },
    {
      "cell_type": "code",
      "metadata": {
        "id": "4DIpfR4drueM"
      },
      "source": [
        "### it automatically runs the reduction (i.e. the mean) on all the dimensions, thus killing the broadcast\n",
        "def error(a, b):\n",
        "  return F.mse_loss(a,b).sqrt()"
      ],
      "execution_count": 14,
      "outputs": []
    },
    {
      "cell_type": "code",
      "metadata": {
        "id": "k0GM_iZKvSUf"
      },
      "source": [
        "def myerror(a,b):\n",
        "  return ((a-b)**2).mean((-1,-2)).sqrt()"
      ],
      "execution_count": 15,
      "outputs": []
    },
    {
      "cell_type": "code",
      "metadata": {
        "id": "XA6ThmdeumPD",
        "colab": {
          "base_uri": "https://localhost:8080/"
        },
        "outputId": "8c9749e7-e821-4bff-f369-fc5c3a5d6567"
      },
      "source": [
        "myerror(test_image, average_num[4])"
      ],
      "execution_count": 16,
      "outputs": [
        {
          "output_type": "execute_result",
          "data": {
            "text/plain": [
              "tensor(0.2995)"
            ]
          },
          "metadata": {
            "tags": []
          },
          "execution_count": 16
        }
      ]
    },
    {
      "cell_type": "code",
      "metadata": {
        "id": "R4vuzuLync1X",
        "colab": {
          "base_uri": "https://localhost:8080/"
        },
        "outputId": "f2c19b40-6370-4bfc-ab2f-8cbe57287309"
      },
      "source": [
        "for i in numbers:\n",
        "  print(f'test image vs average {i} --> error = {myerror(test_image, average_num[i]):.4f}')"
      ],
      "execution_count": 17,
      "outputs": [
        {
          "output_type": "stream",
          "text": [
            "test image vs average 0 --> error = 0.3911\n",
            "test image vs average 1 --> error = 0.4125\n",
            "test image vs average 2 --> error = 0.3803\n",
            "test image vs average 3 --> error = 0.3565\n",
            "test image vs average 4 --> error = 0.2995\n",
            "test image vs average 5 --> error = 0.3430\n",
            "test image vs average 6 --> error = 0.3670\n",
            "test image vs average 7 --> error = 0.3210\n",
            "test image vs average 8 --> error = 0.3484\n",
            "test image vs average 9 --> error = 0.3166\n"
          ],
          "name": "stdout"
        }
      ]
    },
    {
      "cell_type": "markdown",
      "metadata": {
        "id": "qkC9Gi_BrRt3"
      },
      "source": [
        "Classify an image as the number giving the lower RMSE:"
      ]
    },
    {
      "cell_type": "code",
      "metadata": {
        "id": "rJTZKnc7u28r",
        "colab": {
          "base_uri": "https://localhost:8080/"
        },
        "outputId": "3ae6259b-032e-4a28-c694-4e634e59767e"
      },
      "source": [
        "valid_data[4].shape"
      ],
      "execution_count": 18,
      "outputs": [
        {
          "output_type": "execute_result",
          "data": {
            "text/plain": [
              "torch.Size([982, 28, 28])"
            ]
          },
          "metadata": {
            "tags": []
          },
          "execution_count": 18
        }
      ]
    },
    {
      "cell_type": "code",
      "metadata": {
        "id": "kh6qNa8KweTg",
        "colab": {
          "base_uri": "https://localhost:8080/"
        },
        "outputId": "a4657f33-c6be-422d-a2df-ec2a6550550d"
      },
      "source": [
        "average_num[4].shape"
      ],
      "execution_count": 19,
      "outputs": [
        {
          "output_type": "execute_result",
          "data": {
            "text/plain": [
              "torch.Size([28, 28])"
            ]
          },
          "metadata": {
            "tags": []
          },
          "execution_count": 19
        }
      ]
    },
    {
      "cell_type": "code",
      "metadata": {
        "id": "146Eyqq3tAKs",
        "colab": {
          "base_uri": "https://localhost:8080/"
        },
        "outputId": "24ecc0ce-e7ae-448c-cd0f-c685cccec01a"
      },
      "source": [
        "err = myerror(valid_data[4], average_num[4])\n",
        "err.shape, err[:10]"
      ],
      "execution_count": 20,
      "outputs": [
        {
          "output_type": "execute_result",
          "data": {
            "text/plain": [
              "(torch.Size([982]),\n",
              " tensor([0.2995, 0.2421, 0.3095, 0.2632, 0.2615, 0.2359, 0.2923, 0.2102, 0.2788, 0.3657]))"
            ]
          },
          "metadata": {
            "tags": []
          },
          "execution_count": 20
        }
      ]
    },
    {
      "cell_type": "code",
      "metadata": {
        "id": "dS0UwPlTrbpc"
      },
      "source": [
        "def getNumber(x):\n",
        "\n",
        "  errors = torch.stack([ myerror(x, average_num[i]) for i in numbers ])\n",
        "\n",
        "  return torch.argmin(errors,0)"
      ],
      "execution_count": 21,
      "outputs": []
    },
    {
      "cell_type": "markdown",
      "metadata": {
        "id": "peSfYkREsFur"
      },
      "source": [
        "Simply test it on `test_image`:"
      ]
    },
    {
      "cell_type": "code",
      "metadata": {
        "id": "OhbPyWeasLRd",
        "colab": {
          "base_uri": "https://localhost:8080/"
        },
        "outputId": "3a53d7bd-3c15-41d5-9680-c3c794bef358"
      },
      "source": [
        "getNumber(test_image)"
      ],
      "execution_count": 22,
      "outputs": [
        {
          "output_type": "execute_result",
          "data": {
            "text/plain": [
              "tensor(4)"
            ]
          },
          "metadata": {
            "tags": []
          },
          "execution_count": 22
        }
      ]
    },
    {
      "cell_type": "code",
      "metadata": {
        "id": "5Afa9MXV2_Qq",
        "colab": {
          "base_uri": "https://localhost:8080/"
        },
        "outputId": "8efcc5e3-d4a5-44a2-add6-a596ad5d42df"
      },
      "source": [
        "valid_data[4].shape"
      ],
      "execution_count": 23,
      "outputs": [
        {
          "output_type": "execute_result",
          "data": {
            "text/plain": [
              "torch.Size([982, 28, 28])"
            ]
          },
          "metadata": {
            "tags": []
          },
          "execution_count": 23
        }
      ]
    },
    {
      "cell_type": "code",
      "metadata": {
        "id": "HrQp9JZLz_IU",
        "colab": {
          "base_uri": "https://localhost:8080/"
        },
        "outputId": "6103f059-c354-457c-c933-d9ea76e3bc00"
      },
      "source": [
        "pred = getNumber(valid_data[4])\n",
        "pred.shape, pred[:20]"
      ],
      "execution_count": 24,
      "outputs": [
        {
          "output_type": "execute_result",
          "data": {
            "text/plain": [
              "(torch.Size([982]),\n",
              " tensor([4, 9, 4, 8, 4, 4, 4, 4, 4, 4, 9, 4, 4, 4, 4, 6, 4, 4, 4, 4]))"
            ]
          },
          "metadata": {
            "tags": []
          },
          "execution_count": 24
        }
      ]
    },
    {
      "cell_type": "code",
      "metadata": {
        "id": "dSlJw0BR4zBg",
        "colab": {
          "base_uri": "https://localhost:8080/"
        },
        "outputId": "08ba328b-63e0-45c3-c3e9-b68d549ddd2c"
      },
      "source": [
        "(pred == 4).float().mean()"
      ],
      "execution_count": 25,
      "outputs": [
        {
          "output_type": "execute_result",
          "data": {
            "text/plain": [
              "tensor(0.8259)"
            ]
          },
          "metadata": {
            "tags": []
          },
          "execution_count": 25
        }
      ]
    },
    {
      "cell_type": "markdown",
      "metadata": {
        "id": "r05LkqlVnql5"
      },
      "source": [
        "In this case we have a multi-class problem, so the final classification is different wrt/ to the \"3 vs 7\" problem. Let's compute the accuracy for every number in the usual way, i.e. fraction of true \"N\" classified as \"N\" and then take the average:"
      ]
    },
    {
      "cell_type": "code",
      "metadata": {
        "id": "zoEP3J6v4iyY",
        "colab": {
          "base_uri": "https://localhost:8080/"
        },
        "outputId": "d0b1f1aa-c49c-4c96-abcb-f425340845f2"
      },
      "source": [
        "accuracies = [ (getNumber(valid_data[i])==i).float().mean() for i in numbers  ]\n",
        "len(accuracies), accuracies"
      ],
      "execution_count": 26,
      "outputs": [
        {
          "output_type": "execute_result",
          "data": {
            "text/plain": [
              "(10,\n",
              " [tensor(0.8959),\n",
              "  tensor(0.9621),\n",
              "  tensor(0.7568),\n",
              "  tensor(0.8059),\n",
              "  tensor(0.8259),\n",
              "  tensor(0.6861),\n",
              "  tensor(0.8633),\n",
              "  tensor(0.8327),\n",
              "  tensor(0.7372),\n",
              "  tensor(0.8067)])"
            ]
          },
          "metadata": {
            "tags": []
          },
          "execution_count": 26
        }
      ]
    },
    {
      "cell_type": "code",
      "metadata": {
        "id": "j7N2MZcb5Bkj",
        "colab": {
          "base_uri": "https://localhost:8080/"
        },
        "outputId": "60e5abcc-0527-48f2-a87f-c4873cca82cf"
      },
      "source": [
        "print('overall accuracy:', torch.stack(accuracies).mean().item())"
      ],
      "execution_count": 27,
      "outputs": [
        {
          "output_type": "stream",
          "text": [
            "overall accuracy: 0.8172568082809448\n"
          ],
          "name": "stdout"
        }
      ]
    },
    {
      "cell_type": "markdown",
      "metadata": {
        "id": "bPhVcoAW5XwL"
      },
      "source": [
        "## Build the ML model\n",
        "Here I try to adopt a compromise between building everything from scratch (as it is done in the notebook from the course) and using everything from `fastai`/`pytorch`."
      ]
    },
    {
      "cell_type": "markdown",
      "metadata": {
        "id": "NeXfISIx-MsG"
      },
      "source": [
        "### Manipulate data\n",
        "First of all, manipulate the data to build the dataset (and then the data loaders):\n",
        "* put all the data in a single tensor and transform every image in a vector\n",
        "* get the proper labels\n",
        "* create datasets\n",
        "* store into a `DataLoaders`\n",
        "\n",
        "All of the above for both the training and the validation data"
      ]
    },
    {
      "cell_type": "code",
      "metadata": {
        "id": "hV9PTlwj-1z-",
        "colab": {
          "base_uri": "https://localhost:8080/"
        },
        "outputId": "8cf6e507-837d-49b7-f2b3-4598fbb54617"
      },
      "source": [
        "(train_data[0]).shape"
      ],
      "execution_count": 28,
      "outputs": [
        {
          "output_type": "execute_result",
          "data": {
            "text/plain": [
              "torch.Size([5923, 28, 28])"
            ]
          },
          "metadata": {
            "tags": []
          },
          "execution_count": 28
        }
      ]
    },
    {
      "cell_type": "code",
      "metadata": {
        "id": "4-ZOl74C-S5p",
        "colab": {
          "base_uri": "https://localhost:8080/"
        },
        "outputId": "c8d4f9ec-65f6-4718-87d5-572704640e61"
      },
      "source": [
        "train_x = torch.cat([ train_data[i] for i in numbers ]).view(-1, 28*28)\n",
        "train_x.shape"
      ],
      "execution_count": 29,
      "outputs": [
        {
          "output_type": "execute_result",
          "data": {
            "text/plain": [
              "torch.Size([60000, 784])"
            ]
          },
          "metadata": {
            "tags": []
          },
          "execution_count": 29
        }
      ]
    },
    {
      "cell_type": "code",
      "metadata": {
        "id": "WtclgeYV_JKM",
        "colab": {
          "base_uri": "https://localhost:8080/"
        },
        "outputId": "9f9360ee-59aa-4666-a779-336b563697c8"
      },
      "source": [
        "train_y = torch.cat([ tensor([i] * len(train_data[i])) for i in numbers ]).unsqueeze(1)\n",
        "train_y.shape"
      ],
      "execution_count": 30,
      "outputs": [
        {
          "output_type": "execute_result",
          "data": {
            "text/plain": [
              "torch.Size([60000, 1])"
            ]
          },
          "metadata": {
            "tags": []
          },
          "execution_count": 30
        }
      ]
    },
    {
      "cell_type": "code",
      "metadata": {
        "id": "_LfRpaMj_4PS"
      },
      "source": [
        "train_ds = list(zip(train_x,train_y))"
      ],
      "execution_count": 31,
      "outputs": []
    },
    {
      "cell_type": "code",
      "metadata": {
        "id": "fieT7RZzAnKY",
        "colab": {
          "base_uri": "https://localhost:8080/"
        },
        "outputId": "d3e92772-8fc6-4fce-8f30-8887c545a3bb"
      },
      "source": [
        "x,y = train_ds[0]\n",
        "x.shape,y.shape,y"
      ],
      "execution_count": 32,
      "outputs": [
        {
          "output_type": "execute_result",
          "data": {
            "text/plain": [
              "(torch.Size([784]), torch.Size([1]), tensor([0]))"
            ]
          },
          "metadata": {
            "tags": []
          },
          "execution_count": 32
        }
      ]
    },
    {
      "cell_type": "code",
      "metadata": {
        "id": "WlyroHAyAF-s"
      },
      "source": [
        "valid_x = torch.cat([valid_data[i] for i in numbers]).view(-1, 28*28)\n",
        "valid_y = torch.cat([ tensor([i] * len(valid_data[i])) for i in numbers ]).unsqueeze(1)\n",
        "valid_ds = list(zip(valid_x, valid_y))"
      ],
      "execution_count": 33,
      "outputs": []
    },
    {
      "cell_type": "code",
      "metadata": {
        "id": "Sa5r_ZN7BOPH",
        "colab": {
          "base_uri": "https://localhost:8080/",
          "height": 185
        },
        "outputId": "df6488b1-2186-405b-ec58-2618d7572e56"
      },
      "source": [
        "doc(DataLoader)"
      ],
      "execution_count": 34,
      "outputs": [
        {
          "output_type": "display_data",
          "data": {
            "text/html": [
              "<h2 id=\"DataLoader\" class=\"doc_header\"><code>class</code> <code>DataLoader</code><a href=\"https://github.com/fastai/fastai/tree/master/fastai/data/load.py#L65\" class=\"source_link\" style=\"float:right\">[source]</a></h2><blockquote><p><code>DataLoader</code>(<strong><code>dataset</code></strong>=<em><code>None</code></em>, <strong><code>bs</code></strong>=<em><code>None</code></em>, <strong><code>num_workers</code></strong>=<em><code>0</code></em>, <strong><code>pin_memory</code></strong>=<em><code>False</code></em>, <strong><code>timeout</code></strong>=<em><code>0</code></em>, <strong><code>batch_size</code></strong>=<em><code>None</code></em>, <strong><code>shuffle</code></strong>=<em><code>False</code></em>, <strong><code>drop_last</code></strong>=<em><code>False</code></em>, <strong><code>indexed</code></strong>=<em><code>None</code></em>, <strong><code>n</code></strong>=<em><code>None</code></em>, <strong><code>device</code></strong>=<em><code>None</code></em>, <strong><code>persistent_workers</code></strong>=<em><code>False</code></em>, <strong><code>wif</code></strong>=<em><code>None</code></em>, <strong><code>before_iter</code></strong>=<em><code>None</code></em>, <strong><code>after_item</code></strong>=<em><code>None</code></em>, <strong><code>before_batch</code></strong>=<em><code>None</code></em>, <strong><code>after_batch</code></strong>=<em><code>None</code></em>, <strong><code>after_iter</code></strong>=<em><code>None</code></em>, <strong><code>create_batches</code></strong>=<em><code>None</code></em>, <strong><code>create_item</code></strong>=<em><code>None</code></em>, <strong><code>create_batch</code></strong>=<em><code>None</code></em>, <strong><code>retain</code></strong>=<em><code>None</code></em>, <strong><code>get_idxs</code></strong>=<em><code>None</code></em>, <strong><code>sample</code></strong>=<em><code>None</code></em>, <strong><code>shuffle_fn</code></strong>=<em><code>None</code></em>, <strong><code>do_batch</code></strong>=<em><code>None</code></em>) :: <code>GetAttr</code></p>\n",
              "</blockquote>\n",
              "<p>API compatible with PyTorch DataLoader, with a lot more callbacks and flexibility</p>\n",
              "<p><a href=\"https://docs.fast.ai/data.load#DataLoader\" target=\"_blank\" rel=\"noreferrer noopener\">Show in docs</a></p>\n"
            ],
            "text/plain": [
              "<IPython.core.display.HTML object>"
            ]
          },
          "metadata": {
            "tags": []
          }
        }
      ]
    },
    {
      "cell_type": "code",
      "metadata": {
        "id": "cLEG6-4ZA5_C"
      },
      "source": [
        "train_dl = DataLoader(train_ds, batch_size=256, shuffle=True)\n",
        "valid_dl = DataLoader(valid_ds, batch_size=256)"
      ],
      "execution_count": 35,
      "outputs": []
    },
    {
      "cell_type": "code",
      "metadata": {
        "id": "Z1Rx11JwBbn4",
        "colab": {
          "base_uri": "https://localhost:8080/",
          "height": 151
        },
        "outputId": "33614e11-7770-4f99-f0a9-edfae5721633"
      },
      "source": [
        "doc(DataLoaders)"
      ],
      "execution_count": 36,
      "outputs": [
        {
          "output_type": "display_data",
          "data": {
            "text/html": [
              "<h2 id=\"DataLoaders\" class=\"doc_header\"><code>class</code> <code>DataLoaders</code><a href=\"https://github.com/fastai/fastai/tree/master/fastai/data/core.py#L137\" class=\"source_link\" style=\"float:right\">[source]</a></h2><blockquote><p><code>DataLoaders</code>(<strong>*<code>loaders</code></strong>, <strong><code>path</code></strong>=<em><code>'.'</code></em>, <strong><code>device</code></strong>=<em><code>None</code></em>) :: <code>GetAttr</code></p>\n",
              "</blockquote>\n",
              "<p>Basic wrapper around several <code>DataLoader</code>s.</p>\n",
              "<p><a href=\"https://docs.fast.ai/data.core#DataLoaders\" target=\"_blank\" rel=\"noreferrer noopener\">Show in docs</a></p>\n"
            ],
            "text/plain": [
              "<IPython.core.display.HTML object>"
            ]
          },
          "metadata": {
            "tags": []
          }
        }
      ]
    },
    {
      "cell_type": "code",
      "metadata": {
        "id": "A_CwhYJ6Bm0l"
      },
      "source": [
        "dls = DataLoaders(train_dl, valid_dl)"
      ],
      "execution_count": 37,
      "outputs": []
    },
    {
      "cell_type": "code",
      "metadata": {
        "id": "6ssXsKqnBuKX",
        "colab": {
          "base_uri": "https://localhost:8080/"
        },
        "outputId": "99d12b5d-fe98-4f4b-e3e7-238c878d6b54"
      },
      "source": [
        "len(dls.valid_ds)"
      ],
      "execution_count": 38,
      "outputs": [
        {
          "output_type": "execute_result",
          "data": {
            "text/plain": [
              "10000"
            ]
          },
          "metadata": {
            "tags": []
          },
          "execution_count": 38
        }
      ]
    },
    {
      "cell_type": "markdown",
      "metadata": {
        "id": "ktIGDQqRCyRn"
      },
      "source": [
        "### Build the model\n",
        "Here build the actual model and all the related stuff. There are a number of things to keep in mind:  \n",
        "1) similarly to above, 10 different \"output\" numbers, are needed, one for each category\n",
        "\n",
        "This means that the network will have 10 output units each representing the activation for each number. Here I want to use the same loss function as in the example, but some additional work is needed: first I encode the target in a 1-hot fashion and then use the same strategy as in the example.\n"
      ]
    },
    {
      "cell_type": "code",
      "metadata": {
        "id": "0KT52Yp9Exl-"
      },
      "source": [
        "def myloss(predictions, target):\n",
        "\n",
        "  predictions = predictions.sigmoid()\n",
        "\n",
        "  target_encoded = torch.nn.functional.one_hot(target, 10)\n",
        "\n",
        "  return torch.where( target_encoded==1, 1-predictions, predictions ).mean()"
      ],
      "execution_count": 39,
      "outputs": []
    },
    {
      "cell_type": "code",
      "metadata": {
        "id": "1wkdoC9G780k"
      },
      "source": [
        "def myloss2(predictions, targets):\n",
        "\n",
        "  sm = torch.softmax(predictions, dim=1)\n",
        "  idx = tensor(range(len(targets)))\n",
        "\n",
        "  return sm[idx, targets].mean()"
      ],
      "execution_count": 40,
      "outputs": []
    },
    {
      "cell_type": "code",
      "metadata": {
        "id": "yfAhcwUehAic"
      },
      "source": [
        "def myloss3(predictions, targets):\n",
        "\n",
        "  sm = torch.log_softmax(predictions, dim=1)\n",
        "  idx = tensor(range(len(targets)))\n",
        "\n",
        "  return F.nll_loss(sm, targets.squeeze())"
      ],
      "execution_count": 41,
      "outputs": []
    },
    {
      "cell_type": "code",
      "metadata": {
        "id": "j5MkfwWNBIuA"
      },
      "source": [
        "def mycrossentropy(predictions, targets):\n",
        "\n",
        "  if targets.ndim > 1:\n",
        "    targets = targets.squeeze()\n",
        "\n",
        "  return F.cross_entropy(predictions, targets)"
      ],
      "execution_count": 42,
      "outputs": []
    },
    {
      "cell_type": "code",
      "metadata": {
        "id": "a7TCNruCfHR6"
      },
      "source": [
        "#t = 3\n",
        "#pred = torch.tensor([0.1, 0.3, 0.2, 0.9, 0.1, 0.1, 0.2, 0.3, 0.2, 0.4])\n",
        "\n",
        "labels = [3,4,0]\n",
        "t = torch.tensor(labels)\n",
        "pred = torch.stack([\n",
        "                  torch.tensor([-2, -3.5, -2.3, 3.5, -2.5, -2.1, -3.1, -3.4, -4, -3]),\n",
        "                  torch.tensor([-2, -3.5, -2.3, -2.5, 3.5, -2.1, -3.1, -3.4, -4, -3]),\n",
        "                  torch.tensor([3.5, -3.5, -2.3, -3.5, -2.5, -2.1, -3.1, -3.4, -4, -3]),\n",
        "])"
      ],
      "execution_count": 43,
      "outputs": []
    },
    {
      "cell_type": "code",
      "metadata": {
        "id": "cYZkjJnAiBHi",
        "colab": {
          "base_uri": "https://localhost:8080/"
        },
        "outputId": "d57b1250-08f0-4f2f-f6cb-2712aa932a55"
      },
      "source": [
        "pred.shape, t.shape, t, len(t)"
      ],
      "execution_count": 44,
      "outputs": [
        {
          "output_type": "execute_result",
          "data": {
            "text/plain": [
              "(torch.Size([3, 10]), torch.Size([3]), tensor([3, 4, 0]), 3)"
            ]
          },
          "metadata": {
            "tags": []
          },
          "execution_count": 44
        }
      ]
    },
    {
      "cell_type": "code",
      "metadata": {
        "id": "kEYMZwf8zup3",
        "colab": {
          "base_uri": "https://localhost:8080/"
        },
        "outputId": "7789c19c-c0a6-435b-82c6-2a20e1c36a93"
      },
      "source": [
        "t[0].ndim, t[0].shape, t[0]"
      ],
      "execution_count": 45,
      "outputs": [
        {
          "output_type": "execute_result",
          "data": {
            "text/plain": [
              "(0, torch.Size([]), tensor(3))"
            ]
          },
          "metadata": {
            "tags": []
          },
          "execution_count": 45
        }
      ]
    },
    {
      "cell_type": "code",
      "metadata": {
        "id": "S2_A5Pi1YBdA",
        "outputId": "2fd8df00-d721-47e3-a21d-491dc64ab42c",
        "colab": {
          "base_uri": "https://localhost:8080/"
        }
      },
      "source": [
        "myloss(pred[1], t[0])"
      ],
      "execution_count": 46,
      "outputs": [
        {
          "output_type": "execute_result",
          "data": {
            "text/plain": [
              "tensor(0.2384)"
            ]
          },
          "metadata": {
            "tags": []
          },
          "execution_count": 46
        }
      ]
    },
    {
      "cell_type": "code",
      "metadata": {
        "id": "Fd2sQHVkgOSj",
        "colab": {
          "base_uri": "https://localhost:8080/"
        },
        "outputId": "0c5c5480-8b6e-473a-c321-61084edd9b85"
      },
      "source": [
        "myloss(pred, t)"
      ],
      "execution_count": 47,
      "outputs": [
        {
          "output_type": "execute_result",
          "data": {
            "text/plain": [
              "tensor(0.0565)"
            ]
          },
          "metadata": {
            "tags": []
          },
          "execution_count": 47
        }
      ]
    },
    {
      "cell_type": "code",
      "metadata": {
        "id": "z3fJJuuY-Apm",
        "colab": {
          "base_uri": "https://localhost:8080/"
        },
        "outputId": "c00e651b-adff-41ef-d488-6706addaf50e"
      },
      "source": [
        "sm = torch.softmax(pred, dim=1)\n",
        "sm"
      ],
      "execution_count": 48,
      "outputs": [
        {
          "output_type": "execute_result",
          "data": {
            "text/plain": [
              "tensor([[4.0120e-03, 8.9521e-04, 2.9722e-03, 9.8171e-01, 2.4334e-03, 3.6302e-03, 1.3355e-03, 9.8936e-04, 5.4297e-04, 1.4759e-03],\n",
              "        [4.0120e-03, 8.9521e-04, 2.9722e-03, 2.4334e-03, 9.8171e-01, 3.6302e-03, 1.3355e-03, 9.8936e-04, 5.4297e-04, 1.4759e-03],\n",
              "        [9.8478e-01, 8.9801e-04, 2.9815e-03, 8.9801e-04, 2.4410e-03, 3.6416e-03, 1.3397e-03, 9.9245e-04, 5.4467e-04, 1.4806e-03]])"
            ]
          },
          "metadata": {
            "tags": []
          },
          "execution_count": 48
        }
      ]
    },
    {
      "cell_type": "code",
      "metadata": {
        "id": "6-vNFQIg-OdT",
        "colab": {
          "base_uri": "https://localhost:8080/"
        },
        "outputId": "e38b4423-f70c-47e5-e5a0-c85df161c328"
      },
      "source": [
        "idx = range(len(t))\n",
        "idx"
      ],
      "execution_count": 49,
      "outputs": [
        {
          "output_type": "execute_result",
          "data": {
            "text/plain": [
              "range(0, 3)"
            ]
          },
          "metadata": {
            "tags": []
          },
          "execution_count": 49
        }
      ]
    },
    {
      "cell_type": "code",
      "metadata": {
        "id": "MGEDPj4I-fwi",
        "colab": {
          "base_uri": "https://localhost:8080/"
        },
        "outputId": "933577a9-ef3f-4f8c-cd20-5fb86c4809e2"
      },
      "source": [
        "t"
      ],
      "execution_count": 50,
      "outputs": [
        {
          "output_type": "execute_result",
          "data": {
            "text/plain": [
              "tensor([3, 4, 0])"
            ]
          },
          "metadata": {
            "tags": []
          },
          "execution_count": 50
        }
      ]
    },
    {
      "cell_type": "code",
      "metadata": {
        "id": "J40lwQ2b-X1W",
        "colab": {
          "base_uri": "https://localhost:8080/"
        },
        "outputId": "f05ea0ee-746a-4b7b-b1a3-d0abbbfd9806"
      },
      "source": [
        "sm[idx, t.T]"
      ],
      "execution_count": 51,
      "outputs": [
        {
          "output_type": "execute_result",
          "data": {
            "text/plain": [
              "tensor([0.9817, 0.9817, 0.9848])"
            ]
          },
          "metadata": {
            "tags": []
          },
          "execution_count": 51
        }
      ]
    },
    {
      "cell_type": "code",
      "metadata": {
        "id": "-fPlIoC99bgZ",
        "colab": {
          "base_uri": "https://localhost:8080/"
        },
        "outputId": "8ef78ec1-3f55-42ba-df4d-ef8819719029"
      },
      "source": [
        "myloss2(pred, t)"
      ],
      "execution_count": 52,
      "outputs": [
        {
          "output_type": "execute_result",
          "data": {
            "text/plain": [
              "tensor(0.9827)"
            ]
          },
          "metadata": {
            "tags": []
          },
          "execution_count": 52
        }
      ]
    },
    {
      "cell_type": "code",
      "metadata": {
        "id": "bh8vDXkXBbX0",
        "colab": {
          "base_uri": "https://localhost:8080/"
        },
        "outputId": "cccb6fb4-57cd-45af-dfc3-9676c6fa60a7"
      },
      "source": [
        "mycrossentropy(pred, t)"
      ],
      "execution_count": 53,
      "outputs": [
        {
          "output_type": "execute_result",
          "data": {
            "text/plain": [
              "tensor(0.0174)"
            ]
          },
          "metadata": {
            "tags": []
          },
          "execution_count": 53
        }
      ]
    },
    {
      "cell_type": "markdown",
      "metadata": {
        "id": "BGhacWy-jPNC"
      },
      "source": [
        "Similar to above, we have to define the accuracy. Follow the same idea as in the baseline model:"
      ]
    },
    {
      "cell_type": "code",
      "metadata": {
        "id": "wFxzBjwSjX1O"
      },
      "source": [
        "def myaccuracy(predictions, targets):\n",
        "\n",
        "  pred_nums = torch.argmax(predictions, axis=1)\n",
        "\n",
        "  return (pred_nums==targets.T).float().mean()"
      ],
      "execution_count": 54,
      "outputs": []
    },
    {
      "cell_type": "code",
      "metadata": {
        "id": "NKilbzBk0pkg",
        "colab": {
          "base_uri": "https://localhost:8080/"
        },
        "outputId": "fae3c59d-060a-4479-ea89-7aac16067bed"
      },
      "source": [
        "p = torch.argmax(pred, axis=1)\n",
        "p"
      ],
      "execution_count": 55,
      "outputs": [
        {
          "output_type": "execute_result",
          "data": {
            "text/plain": [
              "tensor([3, 4, 0])"
            ]
          },
          "metadata": {
            "tags": []
          },
          "execution_count": 55
        }
      ]
    },
    {
      "cell_type": "code",
      "metadata": {
        "id": "LXR-_-K801HF",
        "colab": {
          "base_uri": "https://localhost:8080/"
        },
        "outputId": "53d5051d-45fa-4bd0-8804-4f92933feb95"
      },
      "source": [
        "t"
      ],
      "execution_count": 56,
      "outputs": [
        {
          "output_type": "execute_result",
          "data": {
            "text/plain": [
              "tensor([3, 4, 0])"
            ]
          },
          "metadata": {
            "tags": []
          },
          "execution_count": 56
        }
      ]
    },
    {
      "cell_type": "code",
      "metadata": {
        "id": "A8F_6GyO0wgf",
        "colab": {
          "base_uri": "https://localhost:8080/"
        },
        "outputId": "a09599a9-8be5-4da6-d84a-fcd7600b5864"
      },
      "source": [
        "p==t.T"
      ],
      "execution_count": 57,
      "outputs": [
        {
          "output_type": "execute_result",
          "data": {
            "text/plain": [
              "tensor([True, True, True])"
            ]
          },
          "metadata": {
            "tags": []
          },
          "execution_count": 57
        }
      ]
    },
    {
      "cell_type": "code",
      "metadata": {
        "id": "Va98u2-6kERB",
        "colab": {
          "base_uri": "https://localhost:8080/"
        },
        "outputId": "a5a5be1d-0a34-4d81-907c-2ddef5d1f368"
      },
      "source": [
        "myaccuracy(pred, t)"
      ],
      "execution_count": 58,
      "outputs": [
        {
          "output_type": "execute_result",
          "data": {
            "text/plain": [
              "tensor(1.)"
            ]
          },
          "metadata": {
            "tags": []
          },
          "execution_count": 58
        }
      ]
    },
    {
      "cell_type": "code",
      "metadata": {
        "id": "bXkqGKg59Oz0"
      },
      "source": [
        "model1 = nn.Sequential(\n",
        "    nn.Linear(28*28, 50),\n",
        "    nn.ReLU(),\n",
        "    nn.Linear(50,10),\n",
        ")"
      ],
      "execution_count": 59,
      "outputs": []
    },
    {
      "cell_type": "code",
      "metadata": {
        "id": "0YW6ea35DNrg"
      },
      "source": [
        "learn1 = Learner(dls, model1, loss_func=myloss, opt_func=SGD, metrics=myaccuracy)"
      ],
      "execution_count": 60,
      "outputs": []
    },
    {
      "cell_type": "code",
      "metadata": {
        "id": "9LQdoaT_GPfp"
      },
      "source": [
        "model2 = nn.Sequential(\n",
        "    nn.Linear(28*28, 50),\n",
        "    nn.ReLU(),\n",
        "    nn.Linear(50,10),\n",
        ")"
      ],
      "execution_count": 61,
      "outputs": []
    },
    {
      "cell_type": "code",
      "metadata": {
        "id": "jM16Uh9JGTvN"
      },
      "source": [
        "learn2 = Learner(dls, model1, loss_func=myloss2, opt_func=SGD, metrics=myaccuracy)"
      ],
      "execution_count": 62,
      "outputs": []
    },
    {
      "cell_type": "code",
      "metadata": {
        "id": "jWECyK1DDrmc"
      },
      "source": [
        "model3 = nn.Sequential(\n",
        "    nn.Linear(28*28, 50),\n",
        "    nn.ReLU(),\n",
        "    nn.Linear(50,10),\n",
        ")"
      ],
      "execution_count": 64,
      "outputs": []
    },
    {
      "cell_type": "code",
      "metadata": {
        "id": "a2QazuhfBhXp"
      },
      "source": [
        "learn3 = Learner(dls, model3, loss_func=myloss3, opt_func=SGD, metrics=myaccuracy)"
      ],
      "execution_count": 65,
      "outputs": []
    },
    {
      "cell_type": "code",
      "metadata": {
        "id": "aP_PyMCAhlwS"
      },
      "source": [
        "model4 = nn.Sequential(\n",
        "    nn.Linear(28*28, 50),\n",
        "    nn.ReLU(),\n",
        "    nn.Linear(50,10),\n",
        ")"
      ],
      "execution_count": 66,
      "outputs": []
    },
    {
      "cell_type": "code",
      "metadata": {
        "id": "ZJ0aFtDvhnwL"
      },
      "source": [
        "learn4 = Learner(dls, model3, loss_func=mycrossentropy, opt_func=SGD, metrics=myaccuracy)"
      ],
      "execution_count": 67,
      "outputs": []
    },
    {
      "cell_type": "markdown",
      "metadata": {
        "id": "h7Y-qjzk6dW8"
      },
      "source": [
        "Test on a few examples from the actual data:"
      ]
    },
    {
      "cell_type": "code",
      "metadata": {
        "id": "53m6iT37CShu",
        "colab": {
          "base_uri": "https://localhost:8080/"
        },
        "outputId": "88b3f93a-c830-4e13-9c29-9b7ffc324f99"
      },
      "source": [
        "x, y = dls.one_batch()\n",
        "y.shape"
      ],
      "execution_count": 68,
      "outputs": [
        {
          "output_type": "execute_result",
          "data": {
            "text/plain": [
              "torch.Size([256, 1])"
            ]
          },
          "metadata": {
            "tags": []
          },
          "execution_count": 68
        }
      ]
    },
    {
      "cell_type": "code",
      "metadata": {
        "id": "0_5dH7N8CWHB",
        "colab": {
          "base_uri": "https://localhost:8080/",
          "height": 17
        },
        "outputId": "e3884839-1e43-4cee-cbd1-888692518ab9"
      },
      "source": [
        "preds1,_ = learn1.get_preds(dl=[(x,y)])"
      ],
      "execution_count": 69,
      "outputs": [
        {
          "output_type": "display_data",
          "data": {
            "text/html": [
              ""
            ],
            "text/plain": [
              "<IPython.core.display.HTML object>"
            ]
          },
          "metadata": {
            "tags": []
          }
        }
      ]
    },
    {
      "cell_type": "code",
      "metadata": {
        "id": "txZ-JhOKbsrn",
        "outputId": "e9fa8f2a-c898-4edb-b141-990cc15db278",
        "colab": {
          "base_uri": "https://localhost:8080/"
        }
      },
      "source": [
        "preds1.shape"
      ],
      "execution_count": 70,
      "outputs": [
        {
          "output_type": "execute_result",
          "data": {
            "text/plain": [
              "torch.Size([256, 10])"
            ]
          },
          "metadata": {
            "tags": []
          },
          "execution_count": 70
        }
      ]
    },
    {
      "cell_type": "code",
      "metadata": {
        "id": "H74i5V-DDbXy",
        "colab": {
          "base_uri": "https://localhost:8080/",
          "height": 17
        },
        "outputId": "a10e5352-445f-4cec-d3a6-7165755a4c10"
      },
      "source": [
        "preds2,_ = learn2.get_preds(dl=[(x,y)])"
      ],
      "execution_count": 71,
      "outputs": [
        {
          "output_type": "display_data",
          "data": {
            "text/html": [
              ""
            ],
            "text/plain": [
              "<IPython.core.display.HTML object>"
            ]
          },
          "metadata": {
            "tags": []
          }
        }
      ]
    },
    {
      "cell_type": "code",
      "metadata": {
        "id": "Oo0OWq0o7_zk",
        "colab": {
          "base_uri": "https://localhost:8080/"
        },
        "outputId": "cfa7c6ab-c0e7-4025-d786-2f466844bf35"
      },
      "source": [
        "myloss(preds1, y)"
      ],
      "execution_count": 72,
      "outputs": [
        {
          "output_type": "execute_result",
          "data": {
            "text/plain": [
              "tensor(0.5009)"
            ]
          },
          "metadata": {
            "tags": []
          },
          "execution_count": 72
        }
      ]
    },
    {
      "cell_type": "code",
      "metadata": {
        "id": "2an1MzmrDlcx",
        "colab": {
          "base_uri": "https://localhost:8080/"
        },
        "outputId": "3fd4bb06-9726-4e13-df5a-c7e4c833be2d"
      },
      "source": [
        "myloss(preds2, y)"
      ],
      "execution_count": 73,
      "outputs": [
        {
          "output_type": "execute_result",
          "data": {
            "text/plain": [
              "tensor(0.5009)"
            ]
          },
          "metadata": {
            "tags": []
          },
          "execution_count": 73
        }
      ]
    },
    {
      "cell_type": "code",
      "metadata": {
        "id": "vl9QoWr5Cqio",
        "colab": {
          "base_uri": "https://localhost:8080/"
        },
        "outputId": "a950cc3b-f7fb-49d0-9c29-da427c9bbf8f"
      },
      "source": [
        "mycrossentropy(preds1, y)"
      ],
      "execution_count": 74,
      "outputs": [
        {
          "output_type": "execute_result",
          "data": {
            "text/plain": [
              "tensor(2.3104)"
            ]
          },
          "metadata": {
            "tags": []
          },
          "execution_count": 74
        }
      ]
    },
    {
      "cell_type": "code",
      "metadata": {
        "id": "ut_OxRpp8F61",
        "colab": {
          "base_uri": "https://localhost:8080/"
        },
        "outputId": "cefb4c27-dfd2-48fb-a9dd-034852fd55bd"
      },
      "source": [
        "myaccuracy(preds1, y)"
      ],
      "execution_count": 75,
      "outputs": [
        {
          "output_type": "execute_result",
          "data": {
            "text/plain": [
              "tensor(0.1055)"
            ]
          },
          "metadata": {
            "tags": []
          },
          "execution_count": 75
        }
      ]
    },
    {
      "cell_type": "code",
      "metadata": {
        "id": "iHT2_MA31tdT"
      },
      "source": [
        "#doc(nn.Linear)"
      ],
      "execution_count": 76,
      "outputs": []
    },
    {
      "cell_type": "code",
      "metadata": {
        "id": "xNR_XaKJkhmN",
        "colab": {
          "base_uri": "https://localhost:8080/",
          "height": 1000
        },
        "outputId": "e7f19bbb-aa08-41fd-b78a-f0bbf70be226"
      },
      "source": [
        "learn1.fit(n_epoch=40, lr=0.05)"
      ],
      "execution_count": 77,
      "outputs": [
        {
          "output_type": "display_data",
          "data": {
            "text/html": [
              "<table border=\"1\" class=\"dataframe\">\n",
              "  <thead>\n",
              "    <tr style=\"text-align: left;\">\n",
              "      <th>epoch</th>\n",
              "      <th>train_loss</th>\n",
              "      <th>valid_loss</th>\n",
              "      <th>myaccuracy</th>\n",
              "      <th>time</th>\n",
              "    </tr>\n",
              "  </thead>\n",
              "  <tbody>\n",
              "    <tr>\n",
              "      <td>0</td>\n",
              "      <td>0.134375</td>\n",
              "      <td>0.113796</td>\n",
              "      <td>0.071000</td>\n",
              "      <td>00:02</td>\n",
              "    </tr>\n",
              "    <tr>\n",
              "      <td>1</td>\n",
              "      <td>0.106183</td>\n",
              "      <td>0.104651</td>\n",
              "      <td>0.060200</td>\n",
              "      <td>00:02</td>\n",
              "    </tr>\n",
              "    <tr>\n",
              "      <td>2</td>\n",
              "      <td>0.103227</td>\n",
              "      <td>0.102685</td>\n",
              "      <td>0.056500</td>\n",
              "      <td>00:02</td>\n",
              "    </tr>\n",
              "    <tr>\n",
              "      <td>3</td>\n",
              "      <td>0.102152</td>\n",
              "      <td>0.101861</td>\n",
              "      <td>0.057000</td>\n",
              "      <td>00:02</td>\n",
              "    </tr>\n",
              "    <tr>\n",
              "      <td>4</td>\n",
              "      <td>0.101624</td>\n",
              "      <td>0.101413</td>\n",
              "      <td>0.058200</td>\n",
              "      <td>00:02</td>\n",
              "    </tr>\n",
              "    <tr>\n",
              "      <td>5</td>\n",
              "      <td>0.101278</td>\n",
              "      <td>0.101135</td>\n",
              "      <td>0.060300</td>\n",
              "      <td>00:02</td>\n",
              "    </tr>\n",
              "    <tr>\n",
              "      <td>6</td>\n",
              "      <td>0.101083</td>\n",
              "      <td>0.100945</td>\n",
              "      <td>0.061700</td>\n",
              "      <td>00:02</td>\n",
              "    </tr>\n",
              "    <tr>\n",
              "      <td>7</td>\n",
              "      <td>0.100893</td>\n",
              "      <td>0.100809</td>\n",
              "      <td>0.063800</td>\n",
              "      <td>00:02</td>\n",
              "    </tr>\n",
              "    <tr>\n",
              "      <td>8</td>\n",
              "      <td>0.100788</td>\n",
              "      <td>0.100705</td>\n",
              "      <td>0.065300</td>\n",
              "      <td>00:02</td>\n",
              "    </tr>\n",
              "    <tr>\n",
              "      <td>9</td>\n",
              "      <td>0.100707</td>\n",
              "      <td>0.100625</td>\n",
              "      <td>0.067100</td>\n",
              "      <td>00:02</td>\n",
              "    </tr>\n",
              "    <tr>\n",
              "      <td>10</td>\n",
              "      <td>0.100637</td>\n",
              "      <td>0.100560</td>\n",
              "      <td>0.068200</td>\n",
              "      <td>00:02</td>\n",
              "    </tr>\n",
              "    <tr>\n",
              "      <td>11</td>\n",
              "      <td>0.100571</td>\n",
              "      <td>0.100508</td>\n",
              "      <td>0.068300</td>\n",
              "      <td>00:02</td>\n",
              "    </tr>\n",
              "    <tr>\n",
              "      <td>12</td>\n",
              "      <td>0.100513</td>\n",
              "      <td>0.100464</td>\n",
              "      <td>0.070200</td>\n",
              "      <td>00:02</td>\n",
              "    </tr>\n",
              "    <tr>\n",
              "      <td>13</td>\n",
              "      <td>0.100477</td>\n",
              "      <td>0.100427</td>\n",
              "      <td>0.071800</td>\n",
              "      <td>00:02</td>\n",
              "    </tr>\n",
              "    <tr>\n",
              "      <td>14</td>\n",
              "      <td>0.100431</td>\n",
              "      <td>0.100395</td>\n",
              "      <td>0.072800</td>\n",
              "      <td>00:02</td>\n",
              "    </tr>\n",
              "    <tr>\n",
              "      <td>15</td>\n",
              "      <td>0.100407</td>\n",
              "      <td>0.100367</td>\n",
              "      <td>0.073300</td>\n",
              "      <td>00:02</td>\n",
              "    </tr>\n",
              "    <tr>\n",
              "      <td>16</td>\n",
              "      <td>0.100384</td>\n",
              "      <td>0.100343</td>\n",
              "      <td>0.074700</td>\n",
              "      <td>00:02</td>\n",
              "    </tr>\n",
              "    <tr>\n",
              "      <td>17</td>\n",
              "      <td>0.100353</td>\n",
              "      <td>0.100322</td>\n",
              "      <td>0.075500</td>\n",
              "      <td>00:02</td>\n",
              "    </tr>\n",
              "    <tr>\n",
              "      <td>18</td>\n",
              "      <td>0.100343</td>\n",
              "      <td>0.100304</td>\n",
              "      <td>0.077100</td>\n",
              "      <td>00:02</td>\n",
              "    </tr>\n",
              "    <tr>\n",
              "      <td>19</td>\n",
              "      <td>0.100313</td>\n",
              "      <td>0.100287</td>\n",
              "      <td>0.077600</td>\n",
              "      <td>00:02</td>\n",
              "    </tr>\n",
              "    <tr>\n",
              "      <td>20</td>\n",
              "      <td>0.100304</td>\n",
              "      <td>0.100272</td>\n",
              "      <td>0.078700</td>\n",
              "      <td>00:02</td>\n",
              "    </tr>\n",
              "    <tr>\n",
              "      <td>21</td>\n",
              "      <td>0.100290</td>\n",
              "      <td>0.100258</td>\n",
              "      <td>0.079500</td>\n",
              "      <td>00:02</td>\n",
              "    </tr>\n",
              "    <tr>\n",
              "      <td>22</td>\n",
              "      <td>0.100276</td>\n",
              "      <td>0.100246</td>\n",
              "      <td>0.080200</td>\n",
              "      <td>00:02</td>\n",
              "    </tr>\n",
              "    <tr>\n",
              "      <td>23</td>\n",
              "      <td>0.100260</td>\n",
              "      <td>0.100235</td>\n",
              "      <td>0.080600</td>\n",
              "      <td>00:02</td>\n",
              "    </tr>\n",
              "    <tr>\n",
              "      <td>24</td>\n",
              "      <td>0.100249</td>\n",
              "      <td>0.100225</td>\n",
              "      <td>0.080600</td>\n",
              "      <td>00:02</td>\n",
              "    </tr>\n",
              "    <tr>\n",
              "      <td>25</td>\n",
              "      <td>0.100245</td>\n",
              "      <td>0.100215</td>\n",
              "      <td>0.080800</td>\n",
              "      <td>00:02</td>\n",
              "    </tr>\n",
              "    <tr>\n",
              "      <td>26</td>\n",
              "      <td>0.100230</td>\n",
              "      <td>0.100206</td>\n",
              "      <td>0.082000</td>\n",
              "      <td>00:02</td>\n",
              "    </tr>\n",
              "    <tr>\n",
              "      <td>27</td>\n",
              "      <td>0.100219</td>\n",
              "      <td>0.100198</td>\n",
              "      <td>0.082800</td>\n",
              "      <td>00:02</td>\n",
              "    </tr>\n",
              "    <tr>\n",
              "      <td>28</td>\n",
              "      <td>0.100215</td>\n",
              "      <td>0.100191</td>\n",
              "      <td>0.083200</td>\n",
              "      <td>00:02</td>\n",
              "    </tr>\n",
              "    <tr>\n",
              "      <td>29</td>\n",
              "      <td>0.100204</td>\n",
              "      <td>0.100184</td>\n",
              "      <td>0.083900</td>\n",
              "      <td>00:02</td>\n",
              "    </tr>\n",
              "    <tr>\n",
              "      <td>30</td>\n",
              "      <td>0.100193</td>\n",
              "      <td>0.100178</td>\n",
              "      <td>0.084000</td>\n",
              "      <td>00:02</td>\n",
              "    </tr>\n",
              "    <tr>\n",
              "      <td>31</td>\n",
              "      <td>0.100196</td>\n",
              "      <td>0.100172</td>\n",
              "      <td>0.084000</td>\n",
              "      <td>00:02</td>\n",
              "    </tr>\n",
              "    <tr>\n",
              "      <td>32</td>\n",
              "      <td>0.100183</td>\n",
              "      <td>0.100166</td>\n",
              "      <td>0.084400</td>\n",
              "      <td>00:02</td>\n",
              "    </tr>\n",
              "    <tr>\n",
              "      <td>33</td>\n",
              "      <td>0.100182</td>\n",
              "      <td>0.100161</td>\n",
              "      <td>0.084500</td>\n",
              "      <td>00:02</td>\n",
              "    </tr>\n",
              "    <tr>\n",
              "      <td>34</td>\n",
              "      <td>0.100174</td>\n",
              "      <td>0.100156</td>\n",
              "      <td>0.084700</td>\n",
              "      <td>00:02</td>\n",
              "    </tr>\n",
              "    <tr>\n",
              "      <td>35</td>\n",
              "      <td>0.100167</td>\n",
              "      <td>0.100151</td>\n",
              "      <td>0.085100</td>\n",
              "      <td>00:02</td>\n",
              "    </tr>\n",
              "    <tr>\n",
              "      <td>36</td>\n",
              "      <td>0.100161</td>\n",
              "      <td>0.100147</td>\n",
              "      <td>0.085500</td>\n",
              "      <td>00:02</td>\n",
              "    </tr>\n",
              "    <tr>\n",
              "      <td>37</td>\n",
              "      <td>0.100159</td>\n",
              "      <td>0.100142</td>\n",
              "      <td>0.085400</td>\n",
              "      <td>00:02</td>\n",
              "    </tr>\n",
              "    <tr>\n",
              "      <td>38</td>\n",
              "      <td>0.100153</td>\n",
              "      <td>0.100138</td>\n",
              "      <td>0.085700</td>\n",
              "      <td>00:02</td>\n",
              "    </tr>\n",
              "    <tr>\n",
              "      <td>39</td>\n",
              "      <td>0.100144</td>\n",
              "      <td>0.100135</td>\n",
              "      <td>0.085700</td>\n",
              "      <td>00:02</td>\n",
              "    </tr>\n",
              "  </tbody>\n",
              "</table>"
            ],
            "text/plain": [
              "<IPython.core.display.HTML object>"
            ]
          },
          "metadata": {
            "tags": []
          }
        }
      ]
    },
    {
      "cell_type": "code",
      "metadata": {
        "id": "MIMx7VQyBsnO",
        "colab": {
          "base_uri": "https://localhost:8080/",
          "height": 1000
        },
        "outputId": "e252995b-d51e-417a-e0dc-99ecc1dd7db2"
      },
      "source": [
        "learn2.fit(n_epoch=40, lr=0.05)"
      ],
      "execution_count": 78,
      "outputs": [
        {
          "output_type": "display_data",
          "data": {
            "text/html": [
              "<table border=\"1\" class=\"dataframe\">\n",
              "  <thead>\n",
              "    <tr style=\"text-align: left;\">\n",
              "      <th>epoch</th>\n",
              "      <th>train_loss</th>\n",
              "      <th>valid_loss</th>\n",
              "      <th>myaccuracy</th>\n",
              "      <th>time</th>\n",
              "    </tr>\n",
              "  </thead>\n",
              "  <tbody>\n",
              "    <tr>\n",
              "      <td>0</td>\n",
              "      <td>0.091312</td>\n",
              "      <td>0.088915</td>\n",
              "      <td>0.089200</td>\n",
              "      <td>00:01</td>\n",
              "    </tr>\n",
              "    <tr>\n",
              "      <td>1</td>\n",
              "      <td>0.089921</td>\n",
              "      <td>0.088928</td>\n",
              "      <td>0.089200</td>\n",
              "      <td>00:01</td>\n",
              "    </tr>\n",
              "    <tr>\n",
              "      <td>2</td>\n",
              "      <td>0.092741</td>\n",
              "      <td>0.088985</td>\n",
              "      <td>0.089200</td>\n",
              "      <td>00:01</td>\n",
              "    </tr>\n",
              "    <tr>\n",
              "      <td>3</td>\n",
              "      <td>0.090519</td>\n",
              "      <td>0.089021</td>\n",
              "      <td>0.089200</td>\n",
              "      <td>00:01</td>\n",
              "    </tr>\n",
              "    <tr>\n",
              "      <td>4</td>\n",
              "      <td>0.089870</td>\n",
              "      <td>0.089045</td>\n",
              "      <td>0.089200</td>\n",
              "      <td>00:01</td>\n",
              "    </tr>\n",
              "    <tr>\n",
              "      <td>5</td>\n",
              "      <td>0.090574</td>\n",
              "      <td>0.089062</td>\n",
              "      <td>0.089200</td>\n",
              "      <td>00:01</td>\n",
              "    </tr>\n",
              "    <tr>\n",
              "      <td>6</td>\n",
              "      <td>0.090089</td>\n",
              "      <td>0.089074</td>\n",
              "      <td>0.089200</td>\n",
              "      <td>00:01</td>\n",
              "    </tr>\n",
              "    <tr>\n",
              "      <td>7</td>\n",
              "      <td>0.088958</td>\n",
              "      <td>0.089084</td>\n",
              "      <td>0.089200</td>\n",
              "      <td>00:01</td>\n",
              "    </tr>\n",
              "    <tr>\n",
              "      <td>8</td>\n",
              "      <td>0.091514</td>\n",
              "      <td>0.089092</td>\n",
              "      <td>0.089200</td>\n",
              "      <td>00:01</td>\n",
              "    </tr>\n",
              "    <tr>\n",
              "      <td>9</td>\n",
              "      <td>0.090969</td>\n",
              "      <td>0.089099</td>\n",
              "      <td>0.089200</td>\n",
              "      <td>00:01</td>\n",
              "    </tr>\n",
              "    <tr>\n",
              "      <td>10</td>\n",
              "      <td>0.089610</td>\n",
              "      <td>0.089105</td>\n",
              "      <td>0.089200</td>\n",
              "      <td>00:01</td>\n",
              "    </tr>\n",
              "    <tr>\n",
              "      <td>11</td>\n",
              "      <td>0.090229</td>\n",
              "      <td>0.089110</td>\n",
              "      <td>0.089200</td>\n",
              "      <td>00:01</td>\n",
              "    </tr>\n",
              "    <tr>\n",
              "      <td>12</td>\n",
              "      <td>0.091387</td>\n",
              "      <td>0.089114</td>\n",
              "      <td>0.089200</td>\n",
              "      <td>00:01</td>\n",
              "    </tr>\n",
              "    <tr>\n",
              "      <td>13</td>\n",
              "      <td>0.089671</td>\n",
              "      <td>0.089117</td>\n",
              "      <td>0.089200</td>\n",
              "      <td>00:01</td>\n",
              "    </tr>\n",
              "    <tr>\n",
              "      <td>14</td>\n",
              "      <td>0.089237</td>\n",
              "      <td>0.089121</td>\n",
              "      <td>0.089200</td>\n",
              "      <td>00:01</td>\n",
              "    </tr>\n",
              "    <tr>\n",
              "      <td>15</td>\n",
              "      <td>0.089878</td>\n",
              "      <td>0.089124</td>\n",
              "      <td>0.089200</td>\n",
              "      <td>00:01</td>\n",
              "    </tr>\n",
              "    <tr>\n",
              "      <td>16</td>\n",
              "      <td>0.088183</td>\n",
              "      <td>0.089127</td>\n",
              "      <td>0.089200</td>\n",
              "      <td>00:01</td>\n",
              "    </tr>\n",
              "    <tr>\n",
              "      <td>17</td>\n",
              "      <td>0.091307</td>\n",
              "      <td>0.089129</td>\n",
              "      <td>0.089200</td>\n",
              "      <td>00:01</td>\n",
              "    </tr>\n",
              "    <tr>\n",
              "      <td>18</td>\n",
              "      <td>0.091134</td>\n",
              "      <td>0.089131</td>\n",
              "      <td>0.089200</td>\n",
              "      <td>00:01</td>\n",
              "    </tr>\n",
              "    <tr>\n",
              "      <td>19</td>\n",
              "      <td>0.090367</td>\n",
              "      <td>0.089133</td>\n",
              "      <td>0.089200</td>\n",
              "      <td>00:01</td>\n",
              "    </tr>\n",
              "    <tr>\n",
              "      <td>20</td>\n",
              "      <td>0.091898</td>\n",
              "      <td>0.089135</td>\n",
              "      <td>0.089200</td>\n",
              "      <td>00:01</td>\n",
              "    </tr>\n",
              "    <tr>\n",
              "      <td>21</td>\n",
              "      <td>0.089390</td>\n",
              "      <td>0.089137</td>\n",
              "      <td>0.089200</td>\n",
              "      <td>00:01</td>\n",
              "    </tr>\n",
              "    <tr>\n",
              "      <td>22</td>\n",
              "      <td>0.091664</td>\n",
              "      <td>0.089138</td>\n",
              "      <td>0.089200</td>\n",
              "      <td>00:01</td>\n",
              "    </tr>\n",
              "    <tr>\n",
              "      <td>23</td>\n",
              "      <td>0.094594</td>\n",
              "      <td>0.089140</td>\n",
              "      <td>0.089200</td>\n",
              "      <td>00:01</td>\n",
              "    </tr>\n",
              "    <tr>\n",
              "      <td>24</td>\n",
              "      <td>0.091264</td>\n",
              "      <td>0.089141</td>\n",
              "      <td>0.089200</td>\n",
              "      <td>00:01</td>\n",
              "    </tr>\n",
              "    <tr>\n",
              "      <td>25</td>\n",
              "      <td>0.088527</td>\n",
              "      <td>0.089143</td>\n",
              "      <td>0.089200</td>\n",
              "      <td>00:01</td>\n",
              "    </tr>\n",
              "    <tr>\n",
              "      <td>26</td>\n",
              "      <td>0.088575</td>\n",
              "      <td>0.089144</td>\n",
              "      <td>0.089200</td>\n",
              "      <td>00:01</td>\n",
              "    </tr>\n",
              "    <tr>\n",
              "      <td>27</td>\n",
              "      <td>0.088588</td>\n",
              "      <td>0.089145</td>\n",
              "      <td>0.089200</td>\n",
              "      <td>00:01</td>\n",
              "    </tr>\n",
              "    <tr>\n",
              "      <td>28</td>\n",
              "      <td>0.090186</td>\n",
              "      <td>0.089146</td>\n",
              "      <td>0.089200</td>\n",
              "      <td>00:01</td>\n",
              "    </tr>\n",
              "    <tr>\n",
              "      <td>29</td>\n",
              "      <td>0.090019</td>\n",
              "      <td>0.089147</td>\n",
              "      <td>0.089200</td>\n",
              "      <td>00:01</td>\n",
              "    </tr>\n",
              "    <tr>\n",
              "      <td>30</td>\n",
              "      <td>0.087928</td>\n",
              "      <td>0.089148</td>\n",
              "      <td>0.089200</td>\n",
              "      <td>00:01</td>\n",
              "    </tr>\n",
              "    <tr>\n",
              "      <td>31</td>\n",
              "      <td>0.092166</td>\n",
              "      <td>0.089149</td>\n",
              "      <td>0.089200</td>\n",
              "      <td>00:01</td>\n",
              "    </tr>\n",
              "    <tr>\n",
              "      <td>32</td>\n",
              "      <td>0.089187</td>\n",
              "      <td>0.089150</td>\n",
              "      <td>0.089200</td>\n",
              "      <td>00:01</td>\n",
              "    </tr>\n",
              "    <tr>\n",
              "      <td>33</td>\n",
              "      <td>0.090852</td>\n",
              "      <td>0.089151</td>\n",
              "      <td>0.089200</td>\n",
              "      <td>00:01</td>\n",
              "    </tr>\n",
              "    <tr>\n",
              "      <td>34</td>\n",
              "      <td>0.092273</td>\n",
              "      <td>0.089152</td>\n",
              "      <td>0.089200</td>\n",
              "      <td>00:01</td>\n",
              "    </tr>\n",
              "    <tr>\n",
              "      <td>35</td>\n",
              "      <td>0.088441</td>\n",
              "      <td>0.089153</td>\n",
              "      <td>0.089200</td>\n",
              "      <td>00:01</td>\n",
              "    </tr>\n",
              "    <tr>\n",
              "      <td>36</td>\n",
              "      <td>0.088422</td>\n",
              "      <td>0.089154</td>\n",
              "      <td>0.089200</td>\n",
              "      <td>00:01</td>\n",
              "    </tr>\n",
              "    <tr>\n",
              "      <td>37</td>\n",
              "      <td>0.090529</td>\n",
              "      <td>0.089154</td>\n",
              "      <td>0.089200</td>\n",
              "      <td>00:01</td>\n",
              "    </tr>\n",
              "    <tr>\n",
              "      <td>38</td>\n",
              "      <td>0.089572</td>\n",
              "      <td>0.089155</td>\n",
              "      <td>0.089200</td>\n",
              "      <td>00:01</td>\n",
              "    </tr>\n",
              "    <tr>\n",
              "      <td>39</td>\n",
              "      <td>0.089136</td>\n",
              "      <td>0.089156</td>\n",
              "      <td>0.089200</td>\n",
              "      <td>00:01</td>\n",
              "    </tr>\n",
              "  </tbody>\n",
              "</table>"
            ],
            "text/plain": [
              "<IPython.core.display.HTML object>"
            ]
          },
          "metadata": {
            "tags": []
          }
        }
      ]
    },
    {
      "cell_type": "code",
      "metadata": {
        "id": "Ee2QB_eQGqd0",
        "colab": {
          "base_uri": "https://localhost:8080/",
          "height": 1000
        },
        "outputId": "d5183b2f-4146-4a05-a7f9-b7221b6334e0"
      },
      "source": [
        "learn3.fit(n_epoch=40, lr=0.05)"
      ],
      "execution_count": 79,
      "outputs": [
        {
          "output_type": "display_data",
          "data": {
            "text/html": [
              "<table border=\"1\" class=\"dataframe\">\n",
              "  <thead>\n",
              "    <tr style=\"text-align: left;\">\n",
              "      <th>epoch</th>\n",
              "      <th>train_loss</th>\n",
              "      <th>valid_loss</th>\n",
              "      <th>myaccuracy</th>\n",
              "      <th>time</th>\n",
              "    </tr>\n",
              "  </thead>\n",
              "  <tbody>\n",
              "    <tr>\n",
              "      <td>0</td>\n",
              "      <td>0.620037</td>\n",
              "      <td>0.487414</td>\n",
              "      <td>0.873200</td>\n",
              "      <td>00:00</td>\n",
              "    </tr>\n",
              "    <tr>\n",
              "      <td>1</td>\n",
              "      <td>0.407402</td>\n",
              "      <td>0.363739</td>\n",
              "      <td>0.898600</td>\n",
              "      <td>00:01</td>\n",
              "    </tr>\n",
              "    <tr>\n",
              "      <td>2</td>\n",
              "      <td>0.353625</td>\n",
              "      <td>0.325559</td>\n",
              "      <td>0.909200</td>\n",
              "      <td>00:00</td>\n",
              "    </tr>\n",
              "    <tr>\n",
              "      <td>3</td>\n",
              "      <td>0.326249</td>\n",
              "      <td>0.301706</td>\n",
              "      <td>0.915200</td>\n",
              "      <td>00:00</td>\n",
              "    </tr>\n",
              "    <tr>\n",
              "      <td>4</td>\n",
              "      <td>0.303930</td>\n",
              "      <td>0.286530</td>\n",
              "      <td>0.919000</td>\n",
              "      <td>00:00</td>\n",
              "    </tr>\n",
              "    <tr>\n",
              "      <td>5</td>\n",
              "      <td>0.280336</td>\n",
              "      <td>0.272433</td>\n",
              "      <td>0.923000</td>\n",
              "      <td>00:01</td>\n",
              "    </tr>\n",
              "    <tr>\n",
              "      <td>6</td>\n",
              "      <td>0.277187</td>\n",
              "      <td>0.261398</td>\n",
              "      <td>0.926700</td>\n",
              "      <td>00:01</td>\n",
              "    </tr>\n",
              "    <tr>\n",
              "      <td>7</td>\n",
              "      <td>0.255687</td>\n",
              "      <td>0.250029</td>\n",
              "      <td>0.929300</td>\n",
              "      <td>00:00</td>\n",
              "    </tr>\n",
              "    <tr>\n",
              "      <td>8</td>\n",
              "      <td>0.242619</td>\n",
              "      <td>0.239863</td>\n",
              "      <td>0.933900</td>\n",
              "      <td>00:00</td>\n",
              "    </tr>\n",
              "    <tr>\n",
              "      <td>9</td>\n",
              "      <td>0.233474</td>\n",
              "      <td>0.231713</td>\n",
              "      <td>0.936900</td>\n",
              "      <td>00:00</td>\n",
              "    </tr>\n",
              "    <tr>\n",
              "      <td>10</td>\n",
              "      <td>0.225201</td>\n",
              "      <td>0.223512</td>\n",
              "      <td>0.937200</td>\n",
              "      <td>00:00</td>\n",
              "    </tr>\n",
              "    <tr>\n",
              "      <td>11</td>\n",
              "      <td>0.215558</td>\n",
              "      <td>0.215064</td>\n",
              "      <td>0.939300</td>\n",
              "      <td>00:00</td>\n",
              "    </tr>\n",
              "    <tr>\n",
              "      <td>12</td>\n",
              "      <td>0.209972</td>\n",
              "      <td>0.208561</td>\n",
              "      <td>0.940300</td>\n",
              "      <td>00:00</td>\n",
              "    </tr>\n",
              "    <tr>\n",
              "      <td>13</td>\n",
              "      <td>0.205196</td>\n",
              "      <td>0.201000</td>\n",
              "      <td>0.943000</td>\n",
              "      <td>00:00</td>\n",
              "    </tr>\n",
              "    <tr>\n",
              "      <td>14</td>\n",
              "      <td>0.196983</td>\n",
              "      <td>0.195440</td>\n",
              "      <td>0.945100</td>\n",
              "      <td>00:01</td>\n",
              "    </tr>\n",
              "    <tr>\n",
              "      <td>15</td>\n",
              "      <td>0.189450</td>\n",
              "      <td>0.190426</td>\n",
              "      <td>0.945500</td>\n",
              "      <td>00:00</td>\n",
              "    </tr>\n",
              "    <tr>\n",
              "      <td>16</td>\n",
              "      <td>0.186610</td>\n",
              "      <td>0.184017</td>\n",
              "      <td>0.947000</td>\n",
              "      <td>00:00</td>\n",
              "    </tr>\n",
              "    <tr>\n",
              "      <td>17</td>\n",
              "      <td>0.177230</td>\n",
              "      <td>0.179717</td>\n",
              "      <td>0.948500</td>\n",
              "      <td>00:00</td>\n",
              "    </tr>\n",
              "    <tr>\n",
              "      <td>18</td>\n",
              "      <td>0.173643</td>\n",
              "      <td>0.174131</td>\n",
              "      <td>0.950500</td>\n",
              "      <td>00:00</td>\n",
              "    </tr>\n",
              "    <tr>\n",
              "      <td>19</td>\n",
              "      <td>0.168118</td>\n",
              "      <td>0.169381</td>\n",
              "      <td>0.951800</td>\n",
              "      <td>00:00</td>\n",
              "    </tr>\n",
              "    <tr>\n",
              "      <td>20</td>\n",
              "      <td>0.165557</td>\n",
              "      <td>0.165892</td>\n",
              "      <td>0.951300</td>\n",
              "      <td>00:00</td>\n",
              "    </tr>\n",
              "    <tr>\n",
              "      <td>21</td>\n",
              "      <td>0.157412</td>\n",
              "      <td>0.161265</td>\n",
              "      <td>0.952800</td>\n",
              "      <td>00:00</td>\n",
              "    </tr>\n",
              "    <tr>\n",
              "      <td>22</td>\n",
              "      <td>0.159010</td>\n",
              "      <td>0.158133</td>\n",
              "      <td>0.953500</td>\n",
              "      <td>00:00</td>\n",
              "    </tr>\n",
              "    <tr>\n",
              "      <td>23</td>\n",
              "      <td>0.145820</td>\n",
              "      <td>0.155814</td>\n",
              "      <td>0.953800</td>\n",
              "      <td>00:00</td>\n",
              "    </tr>\n",
              "    <tr>\n",
              "      <td>24</td>\n",
              "      <td>0.146930</td>\n",
              "      <td>0.152489</td>\n",
              "      <td>0.955600</td>\n",
              "      <td>00:01</td>\n",
              "    </tr>\n",
              "    <tr>\n",
              "      <td>25</td>\n",
              "      <td>0.141118</td>\n",
              "      <td>0.149236</td>\n",
              "      <td>0.956900</td>\n",
              "      <td>00:00</td>\n",
              "    </tr>\n",
              "    <tr>\n",
              "      <td>26</td>\n",
              "      <td>0.137171</td>\n",
              "      <td>0.146179</td>\n",
              "      <td>0.957200</td>\n",
              "      <td>00:00</td>\n",
              "    </tr>\n",
              "    <tr>\n",
              "      <td>27</td>\n",
              "      <td>0.140137</td>\n",
              "      <td>0.143386</td>\n",
              "      <td>0.957900</td>\n",
              "      <td>00:00</td>\n",
              "    </tr>\n",
              "    <tr>\n",
              "      <td>28</td>\n",
              "      <td>0.141863</td>\n",
              "      <td>0.141859</td>\n",
              "      <td>0.957900</td>\n",
              "      <td>00:00</td>\n",
              "    </tr>\n",
              "    <tr>\n",
              "      <td>29</td>\n",
              "      <td>0.133198</td>\n",
              "      <td>0.140817</td>\n",
              "      <td>0.959200</td>\n",
              "      <td>00:00</td>\n",
              "    </tr>\n",
              "    <tr>\n",
              "      <td>30</td>\n",
              "      <td>0.126598</td>\n",
              "      <td>0.136151</td>\n",
              "      <td>0.960100</td>\n",
              "      <td>00:01</td>\n",
              "    </tr>\n",
              "    <tr>\n",
              "      <td>31</td>\n",
              "      <td>0.126882</td>\n",
              "      <td>0.134219</td>\n",
              "      <td>0.960500</td>\n",
              "      <td>00:01</td>\n",
              "    </tr>\n",
              "    <tr>\n",
              "      <td>32</td>\n",
              "      <td>0.126029</td>\n",
              "      <td>0.133430</td>\n",
              "      <td>0.960400</td>\n",
              "      <td>00:00</td>\n",
              "    </tr>\n",
              "    <tr>\n",
              "      <td>33</td>\n",
              "      <td>0.124431</td>\n",
              "      <td>0.130169</td>\n",
              "      <td>0.962300</td>\n",
              "      <td>00:01</td>\n",
              "    </tr>\n",
              "    <tr>\n",
              "      <td>34</td>\n",
              "      <td>0.114437</td>\n",
              "      <td>0.128412</td>\n",
              "      <td>0.962100</td>\n",
              "      <td>00:01</td>\n",
              "    </tr>\n",
              "    <tr>\n",
              "      <td>35</td>\n",
              "      <td>0.117095</td>\n",
              "      <td>0.125863</td>\n",
              "      <td>0.962900</td>\n",
              "      <td>00:00</td>\n",
              "    </tr>\n",
              "    <tr>\n",
              "      <td>36</td>\n",
              "      <td>0.119125</td>\n",
              "      <td>0.125638</td>\n",
              "      <td>0.963300</td>\n",
              "      <td>00:00</td>\n",
              "    </tr>\n",
              "    <tr>\n",
              "      <td>37</td>\n",
              "      <td>0.108516</td>\n",
              "      <td>0.123684</td>\n",
              "      <td>0.963100</td>\n",
              "      <td>00:01</td>\n",
              "    </tr>\n",
              "    <tr>\n",
              "      <td>38</td>\n",
              "      <td>0.109808</td>\n",
              "      <td>0.122489</td>\n",
              "      <td>0.964400</td>\n",
              "      <td>00:01</td>\n",
              "    </tr>\n",
              "    <tr>\n",
              "      <td>39</td>\n",
              "      <td>0.111898</td>\n",
              "      <td>0.121890</td>\n",
              "      <td>0.964300</td>\n",
              "      <td>00:00</td>\n",
              "    </tr>\n",
              "  </tbody>\n",
              "</table>"
            ],
            "text/plain": [
              "<IPython.core.display.HTML object>"
            ]
          },
          "metadata": {
            "tags": []
          }
        }
      ]
    },
    {
      "cell_type": "code",
      "metadata": {
        "id": "7qWF9jEqiVO3",
        "outputId": "c2e746b3-f386-448d-d18b-ca27bea210be",
        "colab": {
          "base_uri": "https://localhost:8080/",
          "height": 1000
        }
      },
      "source": [
        "learn4.fit(n_epoch=40, lr=0.05)"
      ],
      "execution_count": 80,
      "outputs": [
        {
          "output_type": "display_data",
          "data": {
            "text/html": [
              "<table border=\"1\" class=\"dataframe\">\n",
              "  <thead>\n",
              "    <tr style=\"text-align: left;\">\n",
              "      <th>epoch</th>\n",
              "      <th>train_loss</th>\n",
              "      <th>valid_loss</th>\n",
              "      <th>myaccuracy</th>\n",
              "      <th>time</th>\n",
              "    </tr>\n",
              "  </thead>\n",
              "  <tbody>\n",
              "    <tr>\n",
              "      <td>0</td>\n",
              "      <td>0.104063</td>\n",
              "      <td>0.120707</td>\n",
              "      <td>0.964600</td>\n",
              "      <td>00:01</td>\n",
              "    </tr>\n",
              "    <tr>\n",
              "      <td>1</td>\n",
              "      <td>0.103740</td>\n",
              "      <td>0.119069</td>\n",
              "      <td>0.965000</td>\n",
              "      <td>00:01</td>\n",
              "    </tr>\n",
              "    <tr>\n",
              "      <td>2</td>\n",
              "      <td>0.103925</td>\n",
              "      <td>0.118507</td>\n",
              "      <td>0.965100</td>\n",
              "      <td>00:00</td>\n",
              "    </tr>\n",
              "    <tr>\n",
              "      <td>3</td>\n",
              "      <td>0.103493</td>\n",
              "      <td>0.117882</td>\n",
              "      <td>0.965500</td>\n",
              "      <td>00:00</td>\n",
              "    </tr>\n",
              "    <tr>\n",
              "      <td>4</td>\n",
              "      <td>0.096752</td>\n",
              "      <td>0.114618</td>\n",
              "      <td>0.965700</td>\n",
              "      <td>00:00</td>\n",
              "    </tr>\n",
              "    <tr>\n",
              "      <td>5</td>\n",
              "      <td>0.096689</td>\n",
              "      <td>0.114006</td>\n",
              "      <td>0.966400</td>\n",
              "      <td>00:00</td>\n",
              "    </tr>\n",
              "    <tr>\n",
              "      <td>6</td>\n",
              "      <td>0.093131</td>\n",
              "      <td>0.113887</td>\n",
              "      <td>0.966800</td>\n",
              "      <td>00:01</td>\n",
              "    </tr>\n",
              "    <tr>\n",
              "      <td>7</td>\n",
              "      <td>0.097524</td>\n",
              "      <td>0.113035</td>\n",
              "      <td>0.965400</td>\n",
              "      <td>00:01</td>\n",
              "    </tr>\n",
              "    <tr>\n",
              "      <td>8</td>\n",
              "      <td>0.093232</td>\n",
              "      <td>0.111809</td>\n",
              "      <td>0.967300</td>\n",
              "      <td>00:00</td>\n",
              "    </tr>\n",
              "    <tr>\n",
              "      <td>9</td>\n",
              "      <td>0.089259</td>\n",
              "      <td>0.111261</td>\n",
              "      <td>0.967200</td>\n",
              "      <td>00:00</td>\n",
              "    </tr>\n",
              "    <tr>\n",
              "      <td>10</td>\n",
              "      <td>0.088384</td>\n",
              "      <td>0.110467</td>\n",
              "      <td>0.967600</td>\n",
              "      <td>00:00</td>\n",
              "    </tr>\n",
              "    <tr>\n",
              "      <td>11</td>\n",
              "      <td>0.088163</td>\n",
              "      <td>0.108585</td>\n",
              "      <td>0.967800</td>\n",
              "      <td>00:01</td>\n",
              "    </tr>\n",
              "    <tr>\n",
              "      <td>12</td>\n",
              "      <td>0.087686</td>\n",
              "      <td>0.108423</td>\n",
              "      <td>0.967800</td>\n",
              "      <td>00:00</td>\n",
              "    </tr>\n",
              "    <tr>\n",
              "      <td>13</td>\n",
              "      <td>0.085907</td>\n",
              "      <td>0.106987</td>\n",
              "      <td>0.968400</td>\n",
              "      <td>00:00</td>\n",
              "    </tr>\n",
              "    <tr>\n",
              "      <td>14</td>\n",
              "      <td>0.083745</td>\n",
              "      <td>0.106022</td>\n",
              "      <td>0.968500</td>\n",
              "      <td>00:00</td>\n",
              "    </tr>\n",
              "    <tr>\n",
              "      <td>15</td>\n",
              "      <td>0.082540</td>\n",
              "      <td>0.106015</td>\n",
              "      <td>0.968200</td>\n",
              "      <td>00:01</td>\n",
              "    </tr>\n",
              "    <tr>\n",
              "      <td>16</td>\n",
              "      <td>0.081363</td>\n",
              "      <td>0.106285</td>\n",
              "      <td>0.968800</td>\n",
              "      <td>00:00</td>\n",
              "    </tr>\n",
              "    <tr>\n",
              "      <td>17</td>\n",
              "      <td>0.084254</td>\n",
              "      <td>0.107326</td>\n",
              "      <td>0.968900</td>\n",
              "      <td>00:00</td>\n",
              "    </tr>\n",
              "    <tr>\n",
              "      <td>18</td>\n",
              "      <td>0.080418</td>\n",
              "      <td>0.103628</td>\n",
              "      <td>0.969800</td>\n",
              "      <td>00:00</td>\n",
              "    </tr>\n",
              "    <tr>\n",
              "      <td>19</td>\n",
              "      <td>0.082949</td>\n",
              "      <td>0.105178</td>\n",
              "      <td>0.968700</td>\n",
              "      <td>00:00</td>\n",
              "    </tr>\n",
              "    <tr>\n",
              "      <td>20</td>\n",
              "      <td>0.080442</td>\n",
              "      <td>0.102412</td>\n",
              "      <td>0.969400</td>\n",
              "      <td>00:01</td>\n",
              "    </tr>\n",
              "    <tr>\n",
              "      <td>21</td>\n",
              "      <td>0.076897</td>\n",
              "      <td>0.102533</td>\n",
              "      <td>0.970000</td>\n",
              "      <td>00:00</td>\n",
              "    </tr>\n",
              "    <tr>\n",
              "      <td>22</td>\n",
              "      <td>0.080424</td>\n",
              "      <td>0.101051</td>\n",
              "      <td>0.969700</td>\n",
              "      <td>00:00</td>\n",
              "    </tr>\n",
              "    <tr>\n",
              "      <td>23</td>\n",
              "      <td>0.077116</td>\n",
              "      <td>0.102201</td>\n",
              "      <td>0.970200</td>\n",
              "      <td>00:00</td>\n",
              "    </tr>\n",
              "    <tr>\n",
              "      <td>24</td>\n",
              "      <td>0.073928</td>\n",
              "      <td>0.099786</td>\n",
              "      <td>0.970800</td>\n",
              "      <td>00:00</td>\n",
              "    </tr>\n",
              "    <tr>\n",
              "      <td>25</td>\n",
              "      <td>0.077040</td>\n",
              "      <td>0.100053</td>\n",
              "      <td>0.970000</td>\n",
              "      <td>00:00</td>\n",
              "    </tr>\n",
              "    <tr>\n",
              "      <td>26</td>\n",
              "      <td>0.077143</td>\n",
              "      <td>0.100200</td>\n",
              "      <td>0.970100</td>\n",
              "      <td>00:00</td>\n",
              "    </tr>\n",
              "    <tr>\n",
              "      <td>27</td>\n",
              "      <td>0.070388</td>\n",
              "      <td>0.098487</td>\n",
              "      <td>0.970500</td>\n",
              "      <td>00:00</td>\n",
              "    </tr>\n",
              "    <tr>\n",
              "      <td>28</td>\n",
              "      <td>0.073233</td>\n",
              "      <td>0.099692</td>\n",
              "      <td>0.970400</td>\n",
              "      <td>00:00</td>\n",
              "    </tr>\n",
              "    <tr>\n",
              "      <td>29</td>\n",
              "      <td>0.070865</td>\n",
              "      <td>0.098950</td>\n",
              "      <td>0.970700</td>\n",
              "      <td>00:00</td>\n",
              "    </tr>\n",
              "    <tr>\n",
              "      <td>30</td>\n",
              "      <td>0.069254</td>\n",
              "      <td>0.098217</td>\n",
              "      <td>0.970500</td>\n",
              "      <td>00:00</td>\n",
              "    </tr>\n",
              "    <tr>\n",
              "      <td>31</td>\n",
              "      <td>0.071452</td>\n",
              "      <td>0.097235</td>\n",
              "      <td>0.970800</td>\n",
              "      <td>00:00</td>\n",
              "    </tr>\n",
              "    <tr>\n",
              "      <td>32</td>\n",
              "      <td>0.069103</td>\n",
              "      <td>0.098392</td>\n",
              "      <td>0.970800</td>\n",
              "      <td>00:00</td>\n",
              "    </tr>\n",
              "    <tr>\n",
              "      <td>33</td>\n",
              "      <td>0.068736</td>\n",
              "      <td>0.097194</td>\n",
              "      <td>0.971700</td>\n",
              "      <td>00:00</td>\n",
              "    </tr>\n",
              "    <tr>\n",
              "      <td>34</td>\n",
              "      <td>0.068113</td>\n",
              "      <td>0.097399</td>\n",
              "      <td>0.970600</td>\n",
              "      <td>00:00</td>\n",
              "    </tr>\n",
              "    <tr>\n",
              "      <td>35</td>\n",
              "      <td>0.066567</td>\n",
              "      <td>0.096811</td>\n",
              "      <td>0.971100</td>\n",
              "      <td>00:00</td>\n",
              "    </tr>\n",
              "    <tr>\n",
              "      <td>36</td>\n",
              "      <td>0.064057</td>\n",
              "      <td>0.096769</td>\n",
              "      <td>0.970200</td>\n",
              "      <td>00:00</td>\n",
              "    </tr>\n",
              "    <tr>\n",
              "      <td>37</td>\n",
              "      <td>0.066472</td>\n",
              "      <td>0.096551</td>\n",
              "      <td>0.970500</td>\n",
              "      <td>00:00</td>\n",
              "    </tr>\n",
              "    <tr>\n",
              "      <td>38</td>\n",
              "      <td>0.059917</td>\n",
              "      <td>0.096575</td>\n",
              "      <td>0.971200</td>\n",
              "      <td>00:00</td>\n",
              "    </tr>\n",
              "    <tr>\n",
              "      <td>39</td>\n",
              "      <td>0.062396</td>\n",
              "      <td>0.095692</td>\n",
              "      <td>0.971500</td>\n",
              "      <td>00:00</td>\n",
              "    </tr>\n",
              "  </tbody>\n",
              "</table>"
            ],
            "text/plain": [
              "<IPython.core.display.HTML object>"
            ]
          },
          "metadata": {
            "tags": []
          }
        }
      ]
    },
    {
      "cell_type": "code",
      "metadata": {
        "id": "kW7CdhDhkoAN",
        "colab": {
          "base_uri": "https://localhost:8080/",
          "height": 295
        },
        "outputId": "df414a1f-f090-447b-a51c-c201633ae990"
      },
      "source": [
        "plt.plot(L(learn1.recorder.values).itemgot(2), label='w/ myloss');\n",
        "plt.plot(L(learn4.recorder.values).itemgot(2), label='w/ cross entropy');\n",
        "plt.plot(L(learn2.recorder.values).itemgot(2), label='w/ soft max');\n",
        "plt.plot(L(learn3.recorder.values).itemgot(2), label='w/ log soft max');\n",
        "\n",
        "plt.title('accuracy');\n",
        "plt.legend(loc='best');\n",
        "plt.xlabel('epoch');"
      ],
      "execution_count": 83,
      "outputs": [
        {
          "output_type": "display_data",
          "data": {
            "image/png": "[encoded data removed]",
            "text/plain": [
              "<Figure size 432x288 with 1 Axes>"
            ]
          },
          "metadata": {
            "tags": [],
            "needs_background": "light"
          }
        }
      ]
    },
    {
      "cell_type": "markdown",
      "metadata": {
        "id": "dUIBoRofA9Be"
      },
      "source": [
        "Check what is going on:"
      ]
    },
    {
      "cell_type": "code",
      "metadata": {
        "id": "DDRPkRYjEzjT",
        "colab": {
          "base_uri": "https://localhost:8080/"
        },
        "outputId": "c95dfdec-4768-4410-f076-400bb9be3d73"
      },
      "source": [
        "y[:10]"
      ],
      "execution_count": null,
      "outputs": [
        {
          "output_type": "execute_result",
          "data": {
            "text/plain": [
              "tensor([[2],\n",
              "        [9],\n",
              "        [8],\n",
              "        [9],\n",
              "        [5],\n",
              "        [7],\n",
              "        [1],\n",
              "        [8],\n",
              "        [6],\n",
              "        [9]])"
            ]
          },
          "metadata": {
            "tags": []
          },
          "execution_count": 75
        }
      ]
    },
    {
      "cell_type": "code",
      "metadata": {
        "id": "9cMhWuspDXo3",
        "colab": {
          "base_uri": "https://localhost:8080/"
        },
        "outputId": "58324567-b660-4f9b-ea12-9063c6f215f2"
      },
      "source": [
        "model1(x)[:10]"
      ],
      "execution_count": null,
      "outputs": [
        {
          "output_type": "execute_result",
          "data": {
            "text/plain": [
              "tensor([[ -9.8640, -11.0454,  -9.8969, -10.4457,  -9.7931,  -1.5071,  -9.8108, -10.4491, -10.1455, -10.1718],\n",
              "        [-16.8133, -18.6285, -16.9269, -17.7767, -16.5083,  -2.1947, -16.8337, -17.4753, -17.0899, -16.9801],\n",
              "        [-16.9525, -18.5336, -17.1755, -17.7374, -16.6498,  -2.3775, -16.7050, -17.6002, -16.9246, -17.0249],\n",
              "        [-14.8662, -16.1482, -14.9750, -15.4761, -14.4842,  -2.0568, -14.8168, -15.3820, -14.8320, -14.9048],\n",
              "        [ -9.3540, -10.3193,  -9.3513,  -9.8576,  -9.1927,  -1.2718,  -9.4207,  -9.8332,  -9.5550,  -9.3158],\n",
              "        [-14.7759, -16.1772, -14.9486, -15.4993, -14.3933,  -1.9683, -14.6930, -15.2902, -14.8410, -14.8858],\n",
              "        [-11.3452, -11.7962, -11.3931, -11.7407, -10.9919,  -1.5600, -11.2280, -11.7747, -11.2566, -11.3160],\n",
              "        [-13.6086, -14.6461, -13.7140, -14.2363, -13.3499,  -1.8430, -13.5836, -14.2046, -13.6811, -13.5974],\n",
              "        [ -8.5894,  -9.1192,  -8.6295,  -8.8802,  -8.3171,  -1.3381,  -8.4340,  -8.9546,  -8.5424,  -8.5512],\n",
              "        [-14.7705, -16.4808, -14.9120, -15.5782, -14.5090,  -1.9573, -14.7850, -15.2647, -14.9020, -14.7998]], grad_fn=<SliceBackward>)"
            ]
          },
          "metadata": {
            "tags": []
          },
          "execution_count": 76
        }
      ]
    },
    {
      "cell_type": "code",
      "metadata": {
        "id": "7GQG2MEJDZ5a",
        "colab": {
          "base_uri": "https://localhost:8080/"
        },
        "outputId": "239c676c-b8ee-4b57-e7b7-617b63405bd0"
      },
      "source": [
        "model2(x)[:10]"
      ],
      "execution_count": null,
      "outputs": [
        {
          "output_type": "execute_result",
          "data": {
            "text/plain": [
              "tensor([[ 0.1619, -0.0360, -0.1199, -0.1117,  0.0694,  0.0686,  0.0189, -0.0908,  0.1384, -0.0090],\n",
              "        [ 0.1309, -0.1202, -0.1577, -0.0189,  0.1821,  0.0664,  0.1270, -0.1485,  0.1030, -0.0220],\n",
              "        [ 0.0209, -0.1107, -0.1262, -0.1209,  0.1990,  0.1974, -0.0095, -0.0382,  0.0401, -0.0145],\n",
              "        [ 0.0894, -0.0228, -0.0735, -0.1269,  0.1193,  0.0809,  0.0310, -0.0225, -0.0200, -0.0302],\n",
              "        [ 0.1838, -0.0943, -0.1444, -0.0231,  0.1328,  0.0142, -0.0612, -0.0643,  0.2222, -0.1297],\n",
              "        [ 0.1180,  0.0440, -0.0527, -0.1758,  0.1767,  0.0403,  0.1055, -0.1950,  0.1053, -0.0351],\n",
              "        [ 0.1041,  0.0062, -0.0677, -0.1852,  0.0444, -0.0252,  0.1826, -0.0451,  0.0237,  0.0402],\n",
              "        [ 0.0960,  0.0168, -0.1273, -0.1708,  0.1115,  0.0489,  0.0878, -0.0979,  0.0779,  0.0473],\n",
              "        [ 0.1389, -0.0117, -0.0859, -0.1711,  0.1123, -0.0639,  0.1292, -0.0502,  0.0610,  0.1162],\n",
              "        [ 0.1988, -0.0412, -0.0954, -0.1603,  0.1294, -0.0097,  0.0483, -0.1996,  0.0654,  0.0533]], grad_fn=<SliceBackward>)"
            ]
          },
          "metadata": {
            "tags": []
          },
          "execution_count": 77
        }
      ]
    },
    {
      "cell_type": "code",
      "metadata": {
        "id": "IWN6weleE4s_",
        "colab": {
          "base_uri": "https://localhost:8080/"
        },
        "outputId": "f7878a86-9e06-402a-f0c1-ee6d014d7294"
      },
      "source": [
        "model3(x)[:10]"
      ],
      "execution_count": null,
      "outputs": [
        {
          "output_type": "execute_result",
          "data": {
            "text/plain": [
              "tensor([[ 9.2641e-01, -1.3493e+00,  9.1575e+00,  9.5218e-01, -2.6480e+00, -9.9704e-01,  7.7690e-03, -4.2255e+00,  2.9355e+00, -3.1167e+00],\n",
              "        [-5.7643e+00, -9.4367e+00, -2.2383e+00,  1.4743e+00,  5.8213e+00,  4.7723e-01, -4.3476e+00,  3.0683e-01,  1.3864e+00,  1.1692e+01],\n",
              "        [-1.3033e+00, -3.7027e+00,  1.3828e+00, -2.1178e+00, -2.9977e+00,  1.9663e+00, -3.6108e+00, -4.2265e+00,  1.2103e+01,  3.1151e+00],\n",
              "        [-1.8915e+00, -7.3006e+00, -3.6108e+00,  2.4565e-01,  4.5291e+00,  1.4527e+00, -4.1009e+00,  2.1118e+00,  2.3572e+00,  9.0007e+00],\n",
              "        [ 2.4776e+00, -2.9190e-01, -1.4245e+00, -2.1205e+00, -1.2194e-01,  5.2222e+00,  9.3518e-01, -4.1542e+00,  3.1866e-03,  3.2518e-01],\n",
              "        [-1.8112e+00, -9.2234e+00,  3.6628e+00,  1.6166e+00,  3.7969e+00, -4.5066e+00, -3.8819e+00,  9.0627e+00, -7.5934e-01,  1.8746e+00],\n",
              "        [-6.6964e+00,  8.4582e+00,  2.2793e+00, -7.6333e-03, -2.9456e+00, -2.7841e+00, -1.7948e-01,  1.1540e+00,  2.4715e+00, -1.7950e+00],\n",
              "        [-5.3857e+00,  4.8322e+00, -2.9022e-01,  3.8643e+00, -5.3016e+00,  7.6950e-01, -3.0219e+00, -1.7362e-01,  6.1787e+00, -1.1840e+00],\n",
              "        [ 6.9302e-01, -3.2528e+00,  1.9308e+00,  4.8256e-01, -1.0080e+00,  4.8081e-01,  6.6493e+00, -2.6083e+00,  1.1170e+00, -3.2758e+00],\n",
              "        [-1.4908e+00, -9.8100e+00, -5.1373e+00,  1.1985e+00,  4.4401e+00,  1.9532e+00, -8.4543e+00,  4.8364e+00,  1.8613e+00,  9.9895e+00]], grad_fn=<SliceBackward>)"
            ]
          },
          "metadata": {
            "tags": []
          },
          "execution_count": 78
        }
      ]
    },
    {
      "cell_type": "code",
      "metadata": {
        "id": "jb0GMag1HqLe"
      },
      "source": [
        ""
      ],
      "execution_count": null,
      "outputs": []
    },
    {
      "cell_type": "markdown",
      "metadata": {
        "id": "jrINcY0WH4zZ"
      },
      "source": [
        "Models trained with `myloss` and `myloss2` (with `softmax` instead of `log_softmax`) have very bad performances: at the very start they have good and improving accuracy, but soon the accuracy starts dropping and saturates at a rather low value, while the loss keeps basically constant.\n",
        "\n",
        "After having tried several combinations, it is clear that the switch to good performances (i.e. the model being properly trained) happens when switchin from `softmax` to `log_softmax`, which is what is used in the `F.cross_entropy(...)`.\n",
        "\n",
        "Amazingly this little and simple model is already subject to precision-related issues!"
      ]
    },
    {
      "cell_type": "code",
      "metadata": {
        "id": "s_Y-v2YLIv5g"
      },
      "source": [
        ""
      ],
      "execution_count": null,
      "outputs": []
    }
  ]
}