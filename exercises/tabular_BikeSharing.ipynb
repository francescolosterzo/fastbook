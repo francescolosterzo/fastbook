{
  "nbformat": 4,
  "nbformat_minor": 0,
  "metadata": {
    "kernelspec": {
      "display_name": "Python 3",
      "language": "python",
      "name": "python3"
    },
    "language_info": {
      "codemirror_mode": {
        "name": "ipython",
        "version": 3
      },
      "file_extension": ".py",
      "mimetype": "text/x-python",
      "name": "python",
      "nbconvert_exporter": "python",
      "pygments_lexer": "ipython3",
      "version": "3.6.8"
    },
    "colab": {
      "name": "tabular_BikeSharing.ipynb",
      "provenance": []
    }
  },
  "cells": [
    {
      "cell_type": "markdown",
      "metadata": {
        "id": "glZ0BzigVlOJ"
      },
      "source": [
        "# Tabular data\n",
        "In the \"Further Research\" section of chapter 9 of the book, the 1st assignment is to pick a competition on Kaggle based on tabular data. I chose to join the [Bike Sharing Demand](https://www.kaggle.com/c/bike-sharing-demand/overview/description). This competion was closed years ago, but the open ones are all about predicting sales and I don't want to simply replicate what was in the book."
      ]
    },
    {
      "cell_type": "code",
      "metadata": {
        "id": "e5pKQQaYWEQW"
      },
      "source": [
        "#hide\n",
        "!pip install -Uqq fastbook kaggle waterfallcharts treeinterpreter dtreeviz\n",
        "import fastbook\n",
        "fastbook.setup_book()"
      ],
      "execution_count": 1,
      "outputs": []
    },
    {
      "cell_type": "code",
      "metadata": {
        "id": "rY5dtr3KZTxl"
      },
      "source": [
        "from fastbook import *\n",
        "from pandas.api.types import is_string_dtype, is_numeric_dtype, is_categorical_dtype\n",
        "from fastai.tabular.all import *\n",
        "from sklearn.ensemble import RandomForestRegressor\n",
        "from sklearn.tree import DecisionTreeRegressor\n",
        "from dtreeviz.trees import *\n",
        "from IPython.display import Image, display_svg, SVG\n",
        "\n",
        "pd.options.display.max_rows = 20\n",
        "pd.options.display.max_columns = 8"
      ],
      "execution_count": 2,
      "outputs": []
    },
    {
      "cell_type": "markdown",
      "metadata": {
        "id": "_lU2pbYAiTaV"
      },
      "source": [
        "Set up the Kaggle API and get the data:"
      ]
    },
    {
      "cell_type": "code",
      "metadata": {
        "id": "I2yNz0Q7ZalW"
      },
      "source": [
        "creds = '{\"username\":\"francescolost\",\"key\":\"b1cc19c1a43064e643fa0eabbc4ebffe\"}'"
      ],
      "execution_count": 3,
      "outputs": []
    },
    {
      "cell_type": "code",
      "metadata": {
        "id": "ZRz6lm0aZkPn",
        "outputId": "ea2f1033-e65f-41db-c2d0-4e9e28800004",
        "colab": {
          "base_uri": "https://localhost:8080/"
        }
      },
      "source": [
        "cred_path = Path('~/.kaggle/kaggle.json').expanduser()\n",
        "print(cred_path)\n",
        "if not cred_path.exists():\n",
        "    cred_path.parent.mkdir(exist_ok=True)\n",
        "    cred_path.write_text(creds)\n",
        "    cred_path.chmod(0o600)"
      ],
      "execution_count": 4,
      "outputs": [
        {
          "output_type": "stream",
          "text": [
            "/root/.kaggle/kaggle.json\n"
          ],
          "name": "stdout"
        }
      ]
    },
    {
      "cell_type": "code",
      "metadata": {
        "id": "FbyNCShbZtV8",
        "outputId": "18482f3a-b3ce-41ba-c67b-c42564b92e44",
        "colab": {
          "base_uri": "https://localhost:8080/"
        }
      },
      "source": [
        "path = URLs.path('tabularplayground')\n",
        "path"
      ],
      "execution_count": 5,
      "outputs": [
        {
          "output_type": "execute_result",
          "data": {
            "text/plain": [
              "Path('/root/.fastai/archive/tabularplayground')"
            ]
          },
          "metadata": {
            "tags": []
          },
          "execution_count": 5
        }
      ]
    },
    {
      "cell_type": "code",
      "metadata": {
        "id": "mKZOspl4aBKX"
      },
      "source": [
        "Path.BASE_PATH = path"
      ],
      "execution_count": 6,
      "outputs": []
    },
    {
      "cell_type": "code",
      "metadata": {
        "id": "cvW9g-u5hXf9"
      },
      "source": [
        "from kaggle import api"
      ],
      "execution_count": 7,
      "outputs": []
    },
    {
      "cell_type": "code",
      "metadata": {
        "id": "PLP_KVQuhFS1"
      },
      "source": [
        "if not path.exists():\n",
        "    path.mkdir(parents=True)"
      ],
      "execution_count": 8,
      "outputs": []
    },
    {
      "cell_type": "code",
      "metadata": {
        "id": "ryBjLpXohaqP",
        "outputId": "d1edab93-8d23-4886-c46d-d6cd68dc7ab8",
        "colab": {
          "base_uri": "https://localhost:8080/"
        }
      },
      "source": [
        "api.competition_download_cli('bike-sharing-demand', path=path)"
      ],
      "execution_count": 9,
      "outputs": [
        {
          "output_type": "stream",
          "text": [
            "bike-sharing-demand.zip: Skipping, found more recently modified local copy (use --force to force download)\n"
          ],
          "name": "stdout"
        }
      ]
    },
    {
      "cell_type": "code",
      "metadata": {
        "id": "oRE1dFRkjLij",
        "outputId": "eae11eb8-8bbe-4225-dcc4-e35d29faca81",
        "colab": {
          "base_uri": "https://localhost:8080/"
        }
      },
      "source": [
        "path.ls()"
      ],
      "execution_count": 10,
      "outputs": [
        {
          "output_type": "execute_result",
          "data": {
            "text/plain": [
              "(#6) [Path('test.csv'),Path('tabular-playground-series-feb-2021.zip'),Path('bike-sharing-demand.zip'),Path('train.csv'),Path('sampleSubmission.csv'),Path('sample_submission.csv')]"
            ]
          },
          "metadata": {
            "tags": []
          },
          "execution_count": 10
        }
      ]
    },
    {
      "cell_type": "code",
      "metadata": {
        "id": "syie17IDiFW8"
      },
      "source": [
        "file_extract(path/'bike-sharing-demand.zip')"
      ],
      "execution_count": 11,
      "outputs": []
    },
    {
      "cell_type": "code",
      "metadata": {
        "id": "YwKhejjsiBwY",
        "outputId": "5b3b3466-7d9a-4c98-fdda-5241630a28df",
        "colab": {
          "base_uri": "https://localhost:8080/"
        }
      },
      "source": [
        "path.ls(file_type='text')"
      ],
      "execution_count": 12,
      "outputs": [
        {
          "output_type": "execute_result",
          "data": {
            "text/plain": [
              "(#4) [Path('test.csv'),Path('train.csv'),Path('sampleSubmission.csv'),Path('sample_submission.csv')]"
            ]
          },
          "metadata": {
            "tags": []
          },
          "execution_count": 12
        }
      ]
    },
    {
      "cell_type": "code",
      "metadata": {
        "id": "FK_kpUCsiRnQ"
      },
      "source": [
        "df_train = pd.read_csv(path/'train.csv', low_memory=False)\n",
        "df_test = pd.read_csv(path/'test.csv', low_memory=False)"
      ],
      "execution_count": 13,
      "outputs": []
    },
    {
      "cell_type": "code",
      "metadata": {
        "id": "HgRus6eGjScu",
        "outputId": "e81a3d67-6321-4fc0-ec56-25ad192db183",
        "colab": {
          "base_uri": "https://localhost:8080/"
        }
      },
      "source": [
        "len(df_train.columns),len(df_test.columns)"
      ],
      "execution_count": 14,
      "outputs": [
        {
          "output_type": "execute_result",
          "data": {
            "text/plain": [
              "(12, 9)"
            ]
          },
          "metadata": {
            "tags": []
          },
          "execution_count": 14
        }
      ]
    },
    {
      "cell_type": "code",
      "metadata": {
        "id": "h2zBG0uojczw",
        "outputId": "a5e1480f-1a4c-4fe6-8c7b-9e010d018403",
        "colab": {
          "base_uri": "https://localhost:8080/"
        }
      },
      "source": [
        "df_train.columns"
      ],
      "execution_count": 15,
      "outputs": [
        {
          "output_type": "execute_result",
          "data": {
            "text/plain": [
              "Index(['datetime', 'season', 'holiday', 'workingday', 'weather', 'temp',\n",
              "       'atemp', 'humidity', 'windspeed', 'casual', 'registered', 'count'],\n",
              "      dtype='object')"
            ]
          },
          "metadata": {
            "tags": []
          },
          "execution_count": 15
        }
      ]
    },
    {
      "cell_type": "code",
      "metadata": {
        "id": "9LGiaA8tje1S",
        "outputId": "44cae5c8-66dd-4f6a-83b8-1ac7a6d347d4",
        "colab": {
          "base_uri": "https://localhost:8080/"
        }
      },
      "source": [
        "df_test.columns"
      ],
      "execution_count": 16,
      "outputs": [
        {
          "output_type": "execute_result",
          "data": {
            "text/plain": [
              "Index(['datetime', 'season', 'holiday', 'workingday', 'weather', 'temp',\n",
              "       'atemp', 'humidity', 'windspeed'],\n",
              "      dtype='object')"
            ]
          },
          "metadata": {
            "tags": []
          },
          "execution_count": 16
        }
      ]
    },
    {
      "cell_type": "code",
      "metadata": {
        "id": "EO4_EleTyZrd"
      },
      "source": [
        "df_train.drop(columns=['registered','casual'],inplace=True)"
      ],
      "execution_count": 17,
      "outputs": []
    },
    {
      "cell_type": "code",
      "metadata": {
        "id": "8pXxMesLlJLs",
        "outputId": "e1bf3c6f-15ef-4c3d-e8d4-99cfc9d1c0aa",
        "colab": {
          "base_uri": "https://localhost:8080/"
        }
      },
      "source": [
        "df_train.dtypes"
      ],
      "execution_count": 18,
      "outputs": [
        {
          "output_type": "execute_result",
          "data": {
            "text/plain": [
              "datetime       object\n",
              "season          int64\n",
              "holiday         int64\n",
              "workingday      int64\n",
              "weather         int64\n",
              "temp          float64\n",
              "atemp         float64\n",
              "humidity        int64\n",
              "windspeed     float64\n",
              "count           int64\n",
              "dtype: object"
            ]
          },
          "metadata": {
            "tags": []
          },
          "execution_count": 18
        }
      ]
    },
    {
      "cell_type": "markdown",
      "metadata": {
        "id": "uAKiUgRdMdKq"
      },
      "source": [
        "Merge in a single dataframe for better handling:"
      ]
    },
    {
      "cell_type": "code",
      "metadata": {
        "id": "CM4OfsnfMjPx"
      },
      "source": [
        "df = pd.concat([df_train, df_test], axis=0)"
      ],
      "execution_count": 19,
      "outputs": []
    },
    {
      "cell_type": "code",
      "metadata": {
        "id": "gTUcOfLhMxoi"
      },
      "source": [
        "df['is_test'] = 0\n",
        "df.loc[ df['count'].isna(), 'is_test' ] = 1"
      ],
      "execution_count": 22,
      "outputs": []
    },
    {
      "cell_type": "markdown",
      "metadata": {
        "id": "EciZiZF0mRGB"
      },
      "source": [
        "Get additional info out of `datetime`:\n"
      ]
    },
    {
      "cell_type": "code",
      "metadata": {
        "id": "bMiyO6_UzheF"
      },
      "source": [
        "add_datepart??"
      ],
      "execution_count": 20,
      "outputs": []
    },
    {
      "cell_type": "code",
      "metadata": {
        "id": "Pcd3yLlpyi7i"
      },
      "source": [
        "df = add_datepart(df, 'datetime', time=True)"
      ],
      "execution_count": 21,
      "outputs": []
    },
    {
      "cell_type": "code",
      "metadata": {
        "id": "30_5qmqnqhKB",
        "outputId": "c10fbae3-62e8-405e-e94b-7f4d7c8fa9d0",
        "colab": {
          "base_uri": "https://localhost:8080/"
        }
      },
      "source": [
        "for c in df.columns:\n",
        "  print(c,':', len(df[c].unique()), ':', df[c].unique())"
      ],
      "execution_count": 23,
      "outputs": [
        {
          "output_type": "stream",
          "text": [
            "season : 4 : [1 2 3 4]\n",
            "holiday : 2 : [0 1]\n",
            "datetimeWeek : 52 : <IntegerArray>\n",
            "[52,  1,  2,  3,  5,  6,  7,  9, 10, 11, 13, 14, 15, 16, 17, 18, 19, 20, 22,\n",
            " 23, 24, 26, 27, 28, 29, 31, 32, 33, 35, 36, 37, 38, 39, 40, 41, 42, 44, 45,\n",
            " 46, 48, 49, 50, 51, 12, 25, 47,  4,  8, 21, 30, 34, 43]\n",
            "Length: 52, dtype: UInt32\n",
            "workingday : 2 : [0 1]\n",
            "weather : 4 : [1 2 3 4]\n",
            "temp : 50 : [ 9.84  9.02  8.2  13.12 15.58 14.76 17.22 18.86 18.04 16.4  13.94 12.3  10.66  6.56  5.74  7.38  4.92 11.48  4.1   3.28  2.46 21.32 22.96 23.78 24.6  19.68 22.14 20.5  27.06 26.24 25.42 27.88 28.7\n",
            " 30.34 31.16 29.52 33.62 35.26 36.9  32.8  31.98 34.44 36.08 37.72 38.54  1.64  0.82 39.36 41.   40.18]\n",
            "atemp : 65 : [14.395 13.635 12.88  17.425 19.695 16.665 21.21  22.725 21.97  20.455 11.365 10.605  9.85   8.335  6.82   5.305  6.06   9.09  12.12   7.575 15.91   3.03   3.79   4.545 15.15  18.18  25.    26.515\n",
            " 27.275 29.545 23.485 25.76  31.06  30.305 24.24  18.94  31.82  32.575 33.335 28.79  34.85  35.605 37.12  40.15  41.665 40.91  39.395 34.09  28.03  36.365 37.88  42.425 43.94  38.635  1.515  0.76\n",
            "  2.275 43.18  44.695 45.455  0.    46.21  47.725 49.24  50.   ]\n",
            "humidity : 89 : [ 81  80  75  86  76  77  72  82  88  87  94 100  71  66  57  46  42  39  44  47  50  43  40  35  30  32  64  69  55  59  63  68  74  51  56  52  49  48  37  33  28  38  36  93  29  53  34  54  41\n",
            "  45  92  62  58  61  60  65  70  27  25  26  31  73  21  24  23  22  19  15  67  10   8  12  14  13  17  16  18  20  85   0  83  84  78  79  89  97  90  96  91]\n",
            "windspeed : 30 : [ 0.      6.0032 16.9979 19.0012 19.9995 12.998  15.0013  8.9981 11.0014 22.0028 30.0026 23.9994 27.9993 26.0027  7.0015 32.9975 36.9974 31.0009 35.0008 39.0007 43.9989 40.9973 51.9987 46.0022\n",
            " 50.0021 43.0006 56.9969 47.9988 54.002  55.9986]\n",
            "count : 823 : [ 16.  40.  32.  13.   1.   2.   3.   8.  14.  36.  56.  84.  94. 106. 110.  93.  67.  35.  37.  34.  28.  39.  17.   9.   6.  20.  53.  70.  75.  59.  74.  76.  65.  30.  22.  31.   5.  64. 154.\n",
            "  88.  44.  51.  61.  77.  72. 157.  52.  12.   4. 179. 100.  42.  57.  78.  97.  63.  83. 212. 182. 112.  54.  48.  11.  33. 195. 115.  46.  79.  71.  62.  89. 190. 169. 132.  43.  19.  95. 219.\n",
            " 122.  45.  86. 172. 163.  69.  23.   7. 210. 134.  73.  50.  87. 187. 123.  15.  25.  98. 102.  55.  10.  49.  82.  92.  41.  38. 188.  47. 178. 155.  24.  18.  27.  99. 217. 130. 136.  29. 128.\n",
            "  81.  68. 139. 137. 202.  60. 162. 144. 158. 117.  90. 159. 101. 118. 129.  26. 104.  91. 113. 105.  21.  80. 125. 133. 197. 109. 161. 135. 116. 176. 168. 108. 103. 175. 147.  96. 220. 127. 205.\n",
            " 174. 121. 230.  66. 114. 216. 243. 152. 199.  58. 166. 170. 165. 160. 140. 211. 120. 145. 256. 126. 223.  85. 206. 124. 255. 222. 285. 146. 274. 272. 185. 191. 232. 327. 224. 107. 119. 196. 171.\n",
            " 214. 242. 148. 268. 201. 150. 111. 167. 228. 198. 204. 164. 233. 257. 151. 248. 235. 141. 249. 194. 259. 156. 153. 244. 213. 181. 221. 250. 304. 241. 271. 282. 225. 253. 237. 299. 142. 313. 310.\n",
            " 207. 138. 280. 173. 332. 331. 149. 267. 301. 312. 278. 281. 184. 215. 367. 349. 292. 303. 339. 143. 189. 366. 386. 273. 325. 356. 314. 343. 333. 226. 203. 177. 263. 297. 288. 236. 240. 131. 452.\n",
            " 383. 284. 291. 309. 321. 193. 337. 388. 300. 200. 180. 209. 354. 361. 306. 277. 428. 362. 286. 351. 192. 411. 421. 276. 264. 238. 266. 371. 269. 537. 518. 218. 265. 459. 186. 517. 544. 365. 290.\n",
            " 410. 396. 296. 440. 533. 520. 258. 450. 246. 260. 344. 553. 470. 298. 347. 373. 436. 378. 342. 289. 340. 382. 390. 358. 385. 239. 374. 598. 524. 384. 425. 611. 550. 434. 318. 442. 401. 234. 594.\n",
            " 527. 364. 387. 491. 398. 270. 279. 294. 295. 322. 456. 437. 392. 231. 394. 453. 308. 604. 480. 283. 565. 489. 487. 183. 302. 547. 513. 454. 486. 467. 572. 525. 379. 502. 558. 564. 391. 293. 247.\n",
            " 317. 369. 420. 451. 404. 341. 251. 335. 417. 363. 357. 438. 579. 556. 407. 336. 334. 477. 539. 551. 424. 346. 353. 481. 506. 432. 409. 466. 326. 254. 463. 380. 275. 311. 315. 360. 350. 252. 328.\n",
            " 476. 227. 601. 586. 423. 330. 569. 538. 370. 498. 638. 607. 416. 261. 355. 552. 208. 468. 449. 381. 377. 397. 492. 427. 461. 422. 305. 375. 376. 414. 447. 408. 418. 457. 545. 496. 368. 245. 596.\n",
            " 563. 443. 562. 229. 316. 402. 287. 372. 514. 472. 511. 488. 419. 595. 578. 400. 348. 587. 497. 433. 475. 406. 430. 324. 262. 323. 412. 530. 543. 413. 435. 555. 523. 441. 529. 532. 585. 399. 584.\n",
            " 559. 307. 582. 571. 426. 516. 465. 329. 483. 600. 570. 628. 531. 455. 389. 505. 359. 431. 460. 590. 429. 599. 338. 566. 482. 568. 540. 495. 345. 591. 593. 446. 485. 393. 500. 473. 352. 320. 479.\n",
            " 444. 462. 405. 620. 499. 625. 395. 528. 319. 519. 445. 512. 471. 508. 526. 509. 484. 448. 515. 549. 501. 612. 597. 464. 644. 712. 676. 734. 662. 782. 749. 623. 713. 746. 651. 686. 690. 679. 685.\n",
            " 648. 560. 503. 521. 554. 541. 721. 801. 561. 573. 589. 729. 618. 494. 757. 800. 684. 744. 759. 822. 698. 490. 536. 655. 643. 626. 615. 567. 617. 632. 646. 692. 704. 624. 656. 610. 738. 671. 678.\n",
            " 660. 658. 635. 681. 616. 522. 673. 781. 775. 576. 677. 748. 776. 557. 743. 666. 813. 504. 627. 706. 641. 575. 639. 769. 680. 546. 717. 710. 458. 622. 705. 630. 732. 770. 439. 779. 659. 602. 478.\n",
            " 733. 650. 873. 846. 474. 634. 852. 868. 745. 812. 669. 642. 730. 672. 645. 694. 493. 668. 647. 702. 665. 834. 850. 790. 415. 724. 869. 700. 793. 723. 534. 831. 613. 653. 857. 719. 867. 823. 403.\n",
            " 693. 603. 583. 542. 614. 580. 811. 795. 747. 581. 722. 689. 849. 872. 631. 649. 819. 674. 830. 814. 633. 825. 629. 835. 667. 755. 794. 661. 772. 657. 771. 777. 837. 891. 652. 739. 865. 767. 741.\n",
            " 469. 605. 858. 843. 640. 737. 862. 810. 577. 818. 854. 682. 851. 848. 897. 832. 791. 654. 856. 839. 725. 863. 808. 792. 696. 701. 871. 968. 750. 970. 877. 925. 977. 758. 884. 766. 894. 715. 783.\n",
            " 683. 842. 774. 797. 886. 892. 784. 687. 809. 917. 901. 887. 785. 900. 761. 806. 507. 948. 844. 798. 827. 670. 637. 619. 592. 943. 838. 817. 888. 890. 788. 588. 606. 608. 691. 711. 663. 731. 708.\n",
            " 609. 688. 636.  nan]\n",
            "datetimeYear : 2 : [2011 2012]\n",
            "datetimeMonth : 12 : [ 1  2  3  4  5  6  7  8  9 10 11 12]\n",
            "datetimeDay : 31 : [ 1  2  3  4  5  6  7  8  9 10 11 12 13 14 15 16 17 18 19 20 21 22 23 24 25 26 27 28 29 30 31]\n",
            "datetimeDayofweek : 7 : [5 6 0 1 2 3 4]\n",
            "datetimeDayofyear : 366 : [  1   2   3   4   5   6   7   8   9  10  11  12  13  14  15  16  17  18  19  32  33  34  35  36  37  38  39  40  41  42  43  44  45  46  47  48  49  50  60  61  62  63  64  65  66  67  68  69  70\n",
            "  71  72  73  74  75  76  77  78  91  92  93  94  95  96  97  98  99 100 101 102 103 104 105 106 107 108 109 121 122 123 124 125 126 127 128 129 130 131 132 133 134 135 136 137 138 139 152 153 154\n",
            " 155 156 157 158 159 160 161 162 163 164 165 166 167 168 169 170 182 183 184 185 186 187 188 189 190 191 192 193 194 195 196 197 198 199 200 213 214 215 216 217 218 219 220 221 222 223 224 225 226\n",
            " 227 228 229 230 231 244 245 246 247 248 249 250 251 252 253 254 255 256 257 258 259 260 261 262 274 275 276 277 278 279 280 281 282 283 284 285 286 287 288 289 290 291 292 305 306 307 308 309 310\n",
            " 311 312 313 314 315 316 317 318 319 320 321 322 323 335 336 337 338 339 340 341 342 343 344 345 346 347 348 349 350 351 352 353  79 110 140 171 201 232 263 293 324 354  20  21  22  23  24  25  26\n",
            "  27  28  29  30  31  51  52  53  54  55  56  57  58  59  80  81  82  83  84  85  86  87  88  89  90 111 112 113 114 115 116 117 118 119 120 141 142 143 144 145 146 147 148 149 150 151 172 173 174\n",
            " 175 176 177 178 179 180 181 202 203 204 205 206 207 208 209 210 211 212 233 234 235 236 237 238 239 240 241 242 243 264 265 266 267 268 269 270 271 272 273 294 295 296 297 298 299 300 301 302 303\n",
            " 304 325 326 327 328 329 330 331 332 333 334 355 356 357 358 359 360 361 362 363 364 365 366]\n",
            "datetimeIs_month_end : 2 : [False  True]\n",
            "datetimeIs_month_start : 2 : [ True False]\n",
            "datetimeIs_quarter_end : 2 : [False  True]\n",
            "datetimeIs_quarter_start : 2 : [ True False]\n",
            "datetimeIs_year_end : 2 : [False  True]\n",
            "datetimeIs_year_start : 2 : [ True False]\n",
            "datetimeHour : 24 : [ 0  1  2  3  4  5  6  7  8  9 10 11 12 13 14 15 16 17 18 19 20 21 22 23]\n",
            "datetimeMinute : 1 : [0]\n",
            "datetimeSecond : 1 : [0]\n",
            "datetimeElapsed : 17379 : [1293840000 1293843600 1293847200 ... 1356987600 1356991200 1356994800]\n",
            "is_test : 2 : [0 1]\n"
          ],
          "name": "stdout"
        }
      ]
    },
    {
      "cell_type": "code",
      "metadata": {
        "id": "ObQ8fXGNz7oM"
      },
      "source": [
        "df.drop(columns=['datetimeMinute','datetimeSecond'], inplace=True)"
      ],
      "execution_count": 25,
      "outputs": []
    },
    {
      "cell_type": "markdown",
      "metadata": {
        "id": "mW8vt_64-LaE"
      },
      "source": [
        "Create a validation set here: use the first 13 days of the month as training set and the days from 15th to 20th as validation set. The days from the 21st to the end of the month are already in the test set."
      ]
    },
    {
      "cell_type": "code",
      "metadata": {
        "id": "3C2DSc-x-m8z"
      },
      "source": [
        "df['is_valid'] = 0\n",
        "df.loc[ df['datetimeDay'] > 13, 'is_valid' ] = 1"
      ],
      "execution_count": 26,
      "outputs": []
    },
    {
      "cell_type": "code",
      "metadata": {
        "id": "ntID130l5tcw"
      },
      "source": [
        "df = df.astype({'datetimeWeek' : 'uint32'})"
      ],
      "execution_count": 27,
      "outputs": []
    },
    {
      "cell_type": "markdown",
      "metadata": {
        "id": "UwTRW5m8y3zf"
      },
      "source": [
        "Probably it's better to treat `season` and `weather` as ordinal categories:"
      ]
    },
    {
      "cell_type": "code",
      "metadata": {
        "id": "-4PxS6uK0xco"
      },
      "source": [
        "df['season'] = df['season'].astype('category')\n",
        "df['season'].cat.set_categories([1,2,3,4], ordered=True, inplace=True)"
      ],
      "execution_count": 28,
      "outputs": []
    },
    {
      "cell_type": "code",
      "metadata": {
        "id": "oCcOyKTg1gRy"
      },
      "source": [
        "df['weather'] = df['weather'].astype('category')\n",
        "df['weather'].cat.set_categories([1,2,3,4], ordered=True, inplace=True)"
      ],
      "execution_count": 29,
      "outputs": []
    },
    {
      "cell_type": "markdown",
      "metadata": {
        "id": "7jy5UM6f10aJ"
      },
      "source": [
        "The model is evaluated on the RMSLE:\n",
        "$ \\sqrt{\\frac{1}{n} \\sum_{i=1}^n (\\log(p_i + 1) - \\log(a_i+1))^2 } $"
      ]
    },
    {
      "cell_type": "code",
      "metadata": {
        "id": "n_-_m4Ee4TDq"
      },
      "source": [
        "targetVar = 'count'"
      ],
      "execution_count": 30,
      "outputs": []
    },
    {
      "cell_type": "code",
      "metadata": {
        "id": "2rulV3rS2MFy",
        "outputId": "bd8eefd7-535c-4c9a-8343-b94d292166b5",
        "colab": {
          "base_uri": "https://localhost:8080/"
        }
      },
      "source": [
        "df[ df['is_test']==0 ][targetVar].min(),df[ df['is_test']==0 ][targetVar].max()"
      ],
      "execution_count": 33,
      "outputs": [
        {
          "output_type": "execute_result",
          "data": {
            "text/plain": [
              "(1.0, 977.0)"
            ]
          },
          "metadata": {
            "tags": []
          },
          "execution_count": 33
        }
      ]
    },
    {
      "cell_type": "code",
      "metadata": {
        "id": "5-0Axi8e2PQE",
        "outputId": "61744282-cdfa-4ffd-bfc3-a65bdbe2dccb",
        "colab": {
          "base_uri": "https://localhost:8080/"
        }
      },
      "source": [
        "preds = np.random.random_integers(1,1000,len(df[df['is_valid']==1]))"
      ],
      "execution_count": 34,
      "outputs": [
        {
          "output_type": "stream",
          "text": [
            "/usr/local/lib/python3.6/dist-packages/ipykernel_launcher.py:1: DeprecationWarning: This function is deprecated. Please call randint(1, 1000 + 1) instead\n",
            "  \"\"\"Entry point for launching an IPython kernel.\n"
          ],
          "name": "stderr"
        }
      ]
    },
    {
      "cell_type": "code",
      "metadata": {
        "id": "37WxjAYU2lCj",
        "outputId": "c20180a5-1597-46b0-db93-7cc8ac8e0975",
        "colab": {
          "base_uri": "https://localhost:8080/"
        }
      },
      "source": [
        "L(list(preds))"
      ],
      "execution_count": 35,
      "outputs": [
        {
          "output_type": "execute_result",
          "data": {
            "text/plain": [
              "(#9927) [971,111,338,123,705,447,611,291,671,412...]"
            ]
          },
          "metadata": {
            "tags": []
          },
          "execution_count": 35
        }
      ]
    },
    {
      "cell_type": "code",
      "metadata": {
        "id": "t6anIp2d2psO"
      },
      "source": [
        "def rmsle(p,a):\n",
        "  return np.sqrt( ((np.log(p+1) - np.log(a+1))**2).mean() )"
      ],
      "execution_count": 36,
      "outputs": []
    },
    {
      "cell_type": "code",
      "metadata": {
        "id": "lCffgqq44FGN"
      },
      "source": [
        "def m_rmsle(m, xs, y): return rmsle(m.predict(xs), y)"
      ],
      "execution_count": 37,
      "outputs": []
    },
    {
      "cell_type": "code",
      "metadata": {
        "id": "BL6Gazo93DuJ",
        "outputId": "eef37121-1bfa-4b4f-f8cd-840c91c62214",
        "colab": {
          "base_uri": "https://localhost:8080/"
        }
      },
      "source": [
        "rmsle(preds, df[ df['is_valid']==1 ][targetVar])"
      ],
      "execution_count": 38,
      "outputs": [
        {
          "output_type": "execute_result",
          "data": {
            "text/plain": [
              "2.125231281916073"
            ]
          },
          "metadata": {
            "tags": []
          },
          "execution_count": 38
        }
      ]
    },
    {
      "cell_type": "markdown",
      "metadata": {
        "id": "4iPaNanV3nVI"
      },
      "source": [
        "Build a `TabularPandas` object:"
      ]
    },
    {
      "cell_type": "code",
      "metadata": {
        "id": "y3CNn0Xx4ho6"
      },
      "source": [
        "df_train = df[ df['is_test']==0 ]\n",
        "\n",
        "cond = df_train['is_valid']==0\n",
        "train_idx = np.where( cond)[0]\n",
        "valid_idx = np.where(~cond)[0]\n",
        "\n",
        "splits = (list(train_idx),list(valid_idx))"
      ],
      "execution_count": 48,
      "outputs": []
    },
    {
      "cell_type": "code",
      "metadata": {
        "id": "RpSPa5hr5X5Q",
        "outputId": "00b8c8dd-7c34-4b26-c5fa-11e593fea531",
        "colab": {
          "base_uri": "https://localhost:8080/"
        }
      },
      "source": [
        "[ (c,df[c].dtype) for c in df.columns ]"
      ],
      "execution_count": 49,
      "outputs": [
        {
          "output_type": "execute_result",
          "data": {
            "text/plain": [
              "[('season', CategoricalDtype(categories=[1, 2, 3, 4], ordered=True)),\n",
              " ('holiday', dtype('int64')),\n",
              " ('datetimeWeek', dtype('uint32')),\n",
              " ('workingday', dtype('int64')),\n",
              " ('weather', CategoricalDtype(categories=[1, 2, 3, 4], ordered=True)),\n",
              " ('temp', dtype('float64')),\n",
              " ('atemp', dtype('float64')),\n",
              " ('humidity', dtype('int64')),\n",
              " ('windspeed', dtype('float64')),\n",
              " ('count', dtype('float64')),\n",
              " ('datetimeYear', dtype('int64')),\n",
              " ('datetimeMonth', dtype('int64')),\n",
              " ('datetimeDay', dtype('int64')),\n",
              " ('datetimeDayofweek', dtype('int64')),\n",
              " ('datetimeDayofyear', dtype('int64')),\n",
              " ('datetimeIs_month_end', dtype('bool')),\n",
              " ('datetimeIs_month_start', dtype('bool')),\n",
              " ('datetimeIs_quarter_end', dtype('bool')),\n",
              " ('datetimeIs_quarter_start', dtype('bool')),\n",
              " ('datetimeIs_year_end', dtype('bool')),\n",
              " ('datetimeIs_year_start', dtype('bool')),\n",
              " ('datetimeHour', dtype('int64')),\n",
              " ('datetimeElapsed', dtype('O')),\n",
              " ('is_test', dtype('int64')),\n",
              " ('is_valid', dtype('int64'))]"
            ]
          },
          "metadata": {
            "tags": []
          },
          "execution_count": 49
        }
      ]
    },
    {
      "cell_type": "code",
      "metadata": {
        "id": "swyVHz1H5UaC"
      },
      "source": [
        "def cont_cat_split(df, max_card=20, dep_var=None):\n",
        "    cont_names, cat_names = [], []\n",
        "    for label in df:\n",
        "        if label in L(dep_var): continue\n",
        "        \n",
        "        # mod to detect ProductSize type properly\n",
        "        if (df[label].dtype.name == 'category'):\n",
        "          cat_names.append(label)\n",
        "          continue\n",
        "\n",
        "        if (np.issubdtype(df[label].dtype, np.integer) and\n",
        "            df[label].unique().shape[0] > max_card or\n",
        "            np.issubdtype(df[label].dtype, np.floating)):\n",
        "            cont_names.append(label)\n",
        "        else: cat_names.append(label)\n",
        "    return cont_names, cat_names"
      ],
      "execution_count": 50,
      "outputs": []
    },
    {
      "cell_type": "code",
      "metadata": {
        "id": "OfWS0s-O4xBM"
      },
      "source": [
        "cont,cat = cont_cat_split(df, max_card=100, dep_var=targetVar)"
      ],
      "execution_count": 51,
      "outputs": []
    },
    {
      "cell_type": "markdown",
      "metadata": {
        "id": "tuGQGMMT6M3g"
      },
      "source": [
        "`Categorify` is not used as there are no string-typed columns"
      ]
    },
    {
      "cell_type": "code",
      "metadata": {
        "id": "-ne8YqHW5-om"
      },
      "source": [
        "procs = [FillMissing]"
      ],
      "execution_count": 52,
      "outputs": []
    },
    {
      "cell_type": "code",
      "metadata": {
        "id": "sekMJTOp5Ba3"
      },
      "source": [
        "to = TabularPandas(df_train, procs=procs, cat_names=cat, cont_names=cont, y_names=targetVar, splits=splits)"
      ],
      "execution_count": 53,
      "outputs": []
    },
    {
      "cell_type": "code",
      "metadata": {
        "id": "czDnvE6R6c08",
        "outputId": "67e8ff2b-09c3-4663-9ad2-0c6bb44fa4ab",
        "colab": {
          "base_uri": "https://localhost:8080/",
          "height": 224
        }
      },
      "source": [
        "to.show(5)"
      ],
      "execution_count": 54,
      "outputs": [
        {
          "output_type": "display_data",
          "data": {
            "text/html": [
              "<table border=\"1\" class=\"dataframe\">\n",
              "  <thead>\n",
              "    <tr style=\"text-align: right;\">\n",
              "      <th></th>\n",
              "      <th>season</th>\n",
              "      <th>holiday</th>\n",
              "      <th>datetimeWeek</th>\n",
              "      <th>workingday</th>\n",
              "      <th>weather</th>\n",
              "      <th>humidity</th>\n",
              "      <th>datetimeYear</th>\n",
              "      <th>datetimeMonth</th>\n",
              "      <th>datetimeDay</th>\n",
              "      <th>datetimeDayofweek</th>\n",
              "      <th>datetimeIs_month_end</th>\n",
              "      <th>datetimeIs_month_start</th>\n",
              "      <th>datetimeIs_quarter_end</th>\n",
              "      <th>datetimeIs_quarter_start</th>\n",
              "      <th>datetimeIs_year_end</th>\n",
              "      <th>datetimeIs_year_start</th>\n",
              "      <th>datetimeHour</th>\n",
              "      <th>datetimeElapsed</th>\n",
              "      <th>is_test</th>\n",
              "      <th>is_valid</th>\n",
              "      <th>temp</th>\n",
              "      <th>atemp</th>\n",
              "      <th>windspeed</th>\n",
              "      <th>datetimeDayofyear</th>\n",
              "      <th>count</th>\n",
              "    </tr>\n",
              "  </thead>\n",
              "  <tbody>\n",
              "    <tr>\n",
              "      <th>0</th>\n",
              "      <td>1</td>\n",
              "      <td>0</td>\n",
              "      <td>52</td>\n",
              "      <td>0</td>\n",
              "      <td>1</td>\n",
              "      <td>81</td>\n",
              "      <td>2011</td>\n",
              "      <td>1</td>\n",
              "      <td>1</td>\n",
              "      <td>5</td>\n",
              "      <td>False</td>\n",
              "      <td>True</td>\n",
              "      <td>False</td>\n",
              "      <td>True</td>\n",
              "      <td>False</td>\n",
              "      <td>True</td>\n",
              "      <td>0</td>\n",
              "      <td>1293840000</td>\n",
              "      <td>0</td>\n",
              "      <td>0</td>\n",
              "      <td>9.84</td>\n",
              "      <td>14.395</td>\n",
              "      <td>0.0</td>\n",
              "      <td>1</td>\n",
              "      <td>16.0</td>\n",
              "    </tr>\n",
              "    <tr>\n",
              "      <th>1</th>\n",
              "      <td>1</td>\n",
              "      <td>0</td>\n",
              "      <td>52</td>\n",
              "      <td>0</td>\n",
              "      <td>1</td>\n",
              "      <td>80</td>\n",
              "      <td>2011</td>\n",
              "      <td>1</td>\n",
              "      <td>1</td>\n",
              "      <td>5</td>\n",
              "      <td>False</td>\n",
              "      <td>True</td>\n",
              "      <td>False</td>\n",
              "      <td>True</td>\n",
              "      <td>False</td>\n",
              "      <td>True</td>\n",
              "      <td>1</td>\n",
              "      <td>1293843600</td>\n",
              "      <td>0</td>\n",
              "      <td>0</td>\n",
              "      <td>9.02</td>\n",
              "      <td>13.635</td>\n",
              "      <td>0.0</td>\n",
              "      <td>1</td>\n",
              "      <td>40.0</td>\n",
              "    </tr>\n",
              "    <tr>\n",
              "      <th>2</th>\n",
              "      <td>1</td>\n",
              "      <td>0</td>\n",
              "      <td>52</td>\n",
              "      <td>0</td>\n",
              "      <td>1</td>\n",
              "      <td>80</td>\n",
              "      <td>2011</td>\n",
              "      <td>1</td>\n",
              "      <td>1</td>\n",
              "      <td>5</td>\n",
              "      <td>False</td>\n",
              "      <td>True</td>\n",
              "      <td>False</td>\n",
              "      <td>True</td>\n",
              "      <td>False</td>\n",
              "      <td>True</td>\n",
              "      <td>2</td>\n",
              "      <td>1293847200</td>\n",
              "      <td>0</td>\n",
              "      <td>0</td>\n",
              "      <td>9.02</td>\n",
              "      <td>13.635</td>\n",
              "      <td>0.0</td>\n",
              "      <td>1</td>\n",
              "      <td>32.0</td>\n",
              "    </tr>\n",
              "    <tr>\n",
              "      <th>3</th>\n",
              "      <td>1</td>\n",
              "      <td>0</td>\n",
              "      <td>52</td>\n",
              "      <td>0</td>\n",
              "      <td>1</td>\n",
              "      <td>75</td>\n",
              "      <td>2011</td>\n",
              "      <td>1</td>\n",
              "      <td>1</td>\n",
              "      <td>5</td>\n",
              "      <td>False</td>\n",
              "      <td>True</td>\n",
              "      <td>False</td>\n",
              "      <td>True</td>\n",
              "      <td>False</td>\n",
              "      <td>True</td>\n",
              "      <td>3</td>\n",
              "      <td>1293850800</td>\n",
              "      <td>0</td>\n",
              "      <td>0</td>\n",
              "      <td>9.84</td>\n",
              "      <td>14.395</td>\n",
              "      <td>0.0</td>\n",
              "      <td>1</td>\n",
              "      <td>13.0</td>\n",
              "    </tr>\n",
              "    <tr>\n",
              "      <th>4</th>\n",
              "      <td>1</td>\n",
              "      <td>0</td>\n",
              "      <td>52</td>\n",
              "      <td>0</td>\n",
              "      <td>1</td>\n",
              "      <td>75</td>\n",
              "      <td>2011</td>\n",
              "      <td>1</td>\n",
              "      <td>1</td>\n",
              "      <td>5</td>\n",
              "      <td>False</td>\n",
              "      <td>True</td>\n",
              "      <td>False</td>\n",
              "      <td>True</td>\n",
              "      <td>False</td>\n",
              "      <td>True</td>\n",
              "      <td>4</td>\n",
              "      <td>1293854400</td>\n",
              "      <td>0</td>\n",
              "      <td>0</td>\n",
              "      <td>9.84</td>\n",
              "      <td>14.395</td>\n",
              "      <td>0.0</td>\n",
              "      <td>1</td>\n",
              "      <td>1.0</td>\n",
              "    </tr>\n",
              "  </tbody>\n",
              "</table>"
            ],
            "text/plain": [
              "<IPython.core.display.HTML object>"
            ]
          },
          "metadata": {
            "tags": []
          }
        }
      ]
    },
    {
      "cell_type": "code",
      "metadata": {
        "id": "dbjHkIHo6fPr"
      },
      "source": [
        "xs,y = to.train.xs,to.train.y\n",
        "valid_xs,valid_y = to.valid.xs,to.valid.y"
      ],
      "execution_count": 55,
      "outputs": []
    },
    {
      "cell_type": "markdown",
      "metadata": {
        "id": "nd58PiVa7AZP"
      },
      "source": [
        "Use a function to quickly build a Random Forest:"
      ]
    },
    {
      "cell_type": "code",
      "metadata": {
        "id": "NU3_cMBj7sTV"
      },
      "source": [
        "def rf(xs,y,n_estimators=40,max_samples=5000,max_features=0.5,min_samples_leaf=10,**kwargs):\n",
        "  return RandomForestRegressor(n_jobs=-1,\n",
        "                               n_estimators=n_estimators,max_samples=max_samples,max_features=max_features,\n",
        "                               min_samples_leaf=min_samples_leaf,oob_score=True).fit(xs,y)"
      ],
      "execution_count": 59,
      "outputs": []
    },
    {
      "cell_type": "code",
      "metadata": {
        "id": "I0J8vt7t8YFi"
      },
      "source": [
        "m = rf(xs,y)"
      ],
      "execution_count": 60,
      "outputs": []
    },
    {
      "cell_type": "code",
      "metadata": {
        "id": "totf3qWl8aw1",
        "outputId": "437c8528-df01-4509-eb39-4fe4935c1bd0",
        "colab": {
          "base_uri": "https://localhost:8080/"
        }
      },
      "source": [
        "m_rmsle(m, xs, y),m_rmsle(m, valid_xs, valid_y)"
      ],
      "execution_count": 61,
      "outputs": [
        {
          "output_type": "execute_result",
          "data": {
            "text/plain": [
              "(0.4517481229492313, 0.4861685296972013)"
            ]
          },
          "metadata": {
            "tags": []
          },
          "execution_count": 61
        }
      ]
    },
    {
      "cell_type": "code",
      "metadata": {
        "id": "zuJnsctI8vZ7"
      },
      "source": [
        ""
      ],
      "execution_count": null,
      "outputs": []
    }
  ]
}