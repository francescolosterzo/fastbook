{
  "nbformat": 4,
  "nbformat_minor": 0,
  "metadata": {
    "kernelspec": {
      "display_name": "Python 3",
      "language": "python",
      "name": "python3"
    },
    "language_info": {
      "codemirror_mode": {
        "name": "ipython",
        "version": 3
      },
      "file_extension": ".py",
      "mimetype": "text/x-python",
      "name": "python",
      "nbconvert_exporter": "python",
      "pygments_lexer": "ipython3",
      "version": "3.6.8"
    },
    "colab": {
      "name": "tabular_BikeSharing.ipynb",
      "provenance": [],
      "toc_visible": true
    },
    "accelerator": "GPU"
  },
  "cells": [
    {
      "cell_type": "markdown",
      "metadata": {
        "id": "glZ0BzigVlOJ"
      },
      "source": [
        "# Tabular data\n",
        "In the \"Further Research\" section of chapter 9 of the book, the 1st assignment is to pick a competition on Kaggle based on tabular data. I chose to join the [Bike Sharing Demand](https://www.kaggle.com/c/bike-sharing-demand/overview/description). This competion was closed years ago, but the open ones are all about predicting sales and I don't want to simply replicate what was in the book."
      ]
    },
    {
      "cell_type": "code",
      "metadata": {
        "id": "e5pKQQaYWEQW"
      },
      "source": [
        "#hide\n",
        "!pip install -Uqq fastbook kaggle waterfallcharts treeinterpreter dtreeviz\n",
        "import fastbook\n",
        "fastbook.setup_book()"
      ],
      "execution_count": 1,
      "outputs": []
    },
    {
      "cell_type": "code",
      "metadata": {
        "id": "rY5dtr3KZTxl"
      },
      "source": [
        "from fastbook import *\n",
        "from pandas.api.types import is_string_dtype, is_numeric_dtype, is_categorical_dtype\n",
        "from fastai.tabular.all import *\n",
        "from sklearn.ensemble import RandomForestRegressor\n",
        "from sklearn.tree import DecisionTreeRegressor\n",
        "from dtreeviz.trees import *\n",
        "from IPython.display import Image, display_svg, SVG\n",
        "\n",
        "import matplotlib.pyplot as plt\n",
        "\n",
        "pd.options.display.max_rows = 20\n",
        "pd.options.display.max_columns = 8"
      ],
      "execution_count": 2,
      "outputs": []
    },
    {
      "cell_type": "markdown",
      "metadata": {
        "id": "_lU2pbYAiTaV"
      },
      "source": [
        "Set up the Kaggle API and get the data:"
      ]
    },
    {
      "cell_type": "code",
      "metadata": {
        "id": "I2yNz0Q7ZalW"
      },
      "source": [
        "creds = '{\"username\":\"francescolost\",\"key\":\"b1cc19c1a43064e643fa0eabbc4ebffe\"}'"
      ],
      "execution_count": 3,
      "outputs": []
    },
    {
      "cell_type": "code",
      "metadata": {
        "id": "ZRz6lm0aZkPn",
        "colab": {
          "base_uri": "https://localhost:8080/"
        },
        "outputId": "8004f932-6bf0-43c7-fd61-8ffdfbdf68c5"
      },
      "source": [
        "cred_path = Path('~/.kaggle/kaggle.json').expanduser()\n",
        "print(cred_path)\n",
        "if not cred_path.exists():\n",
        "    cred_path.parent.mkdir(exist_ok=True)\n",
        "    cred_path.write_text(creds)\n",
        "    cred_path.chmod(0o600)"
      ],
      "execution_count": 4,
      "outputs": [
        {
          "output_type": "stream",
          "text": [
            "/root/.kaggle/kaggle.json\n"
          ],
          "name": "stdout"
        }
      ]
    },
    {
      "cell_type": "code",
      "metadata": {
        "id": "FbyNCShbZtV8",
        "colab": {
          "base_uri": "https://localhost:8080/"
        },
        "outputId": "a17c062e-c772-4f41-d352-b57811d4f376"
      },
      "source": [
        "path = URLs.path('tabularplayground')\n",
        "path"
      ],
      "execution_count": 5,
      "outputs": [
        {
          "output_type": "execute_result",
          "data": {
            "text/plain": [
              "Path('/root/.fastai/archive/tabularplayground')"
            ]
          },
          "metadata": {
            "tags": []
          },
          "execution_count": 5
        }
      ]
    },
    {
      "cell_type": "code",
      "metadata": {
        "id": "mKZOspl4aBKX"
      },
      "source": [
        "Path.BASE_PATH = path"
      ],
      "execution_count": 6,
      "outputs": []
    },
    {
      "cell_type": "code",
      "metadata": {
        "id": "cvW9g-u5hXf9"
      },
      "source": [
        "from kaggle import api"
      ],
      "execution_count": 7,
      "outputs": []
    },
    {
      "cell_type": "code",
      "metadata": {
        "id": "PLP_KVQuhFS1"
      },
      "source": [
        "if not path.exists():\n",
        "    path.mkdir(parents=True)"
      ],
      "execution_count": 8,
      "outputs": []
    },
    {
      "cell_type": "code",
      "metadata": {
        "id": "ryBjLpXohaqP",
        "colab": {
          "base_uri": "https://localhost:8080/"
        },
        "outputId": "b74a59b9-a494-45c7-8cbf-9bee0dfbc204"
      },
      "source": [
        "api.competition_download_cli('bike-sharing-demand', path=path)"
      ],
      "execution_count": 9,
      "outputs": [
        {
          "output_type": "stream",
          "text": [
            "bike-sharing-demand.zip: Skipping, found more recently modified local copy (use --force to force download)\n"
          ],
          "name": "stdout"
        }
      ]
    },
    {
      "cell_type": "code",
      "metadata": {
        "id": "oRE1dFRkjLij",
        "colab": {
          "base_uri": "https://localhost:8080/"
        },
        "outputId": "67dadef3-4d6c-4447-f4df-7a6e943beb22"
      },
      "source": [
        "path.ls()"
      ],
      "execution_count": 10,
      "outputs": [
        {
          "output_type": "execute_result",
          "data": {
            "text/plain": [
              "(#4) [Path('sampleSubmission.csv'),Path('test.csv'),Path('train.csv'),Path('bike-sharing-demand.zip')]"
            ]
          },
          "metadata": {
            "tags": []
          },
          "execution_count": 10
        }
      ]
    },
    {
      "cell_type": "code",
      "metadata": {
        "id": "syie17IDiFW8"
      },
      "source": [
        "file_extract(path/'bike-sharing-demand.zip')"
      ],
      "execution_count": 11,
      "outputs": []
    },
    {
      "cell_type": "code",
      "metadata": {
        "id": "YwKhejjsiBwY",
        "colab": {
          "base_uri": "https://localhost:8080/"
        },
        "outputId": "ac58c085-3f62-414a-cb30-d8cf0d5ba067"
      },
      "source": [
        "path.ls(file_type='text')"
      ],
      "execution_count": 12,
      "outputs": [
        {
          "output_type": "execute_result",
          "data": {
            "text/plain": [
              "(#3) [Path('sampleSubmission.csv'),Path('test.csv'),Path('train.csv')]"
            ]
          },
          "metadata": {
            "tags": []
          },
          "execution_count": 12
        }
      ]
    },
    {
      "cell_type": "code",
      "metadata": {
        "id": "FK_kpUCsiRnQ"
      },
      "source": [
        "df_train = pd.read_csv(path/'train.csv', low_memory=False)\n",
        "df_test = pd.read_csv(path/'test.csv', low_memory=False)"
      ],
      "execution_count": 13,
      "outputs": []
    },
    {
      "cell_type": "code",
      "metadata": {
        "id": "HgRus6eGjScu",
        "colab": {
          "base_uri": "https://localhost:8080/"
        },
        "outputId": "0a350cdd-2e92-4748-ca29-ac53fbd3d4c5"
      },
      "source": [
        "len(df_train.columns),len(df_test.columns)"
      ],
      "execution_count": 14,
      "outputs": [
        {
          "output_type": "execute_result",
          "data": {
            "text/plain": [
              "(12, 9)"
            ]
          },
          "metadata": {
            "tags": []
          },
          "execution_count": 14
        }
      ]
    },
    {
      "cell_type": "code",
      "metadata": {
        "id": "h2zBG0uojczw",
        "colab": {
          "base_uri": "https://localhost:8080/"
        },
        "outputId": "ab34c0d9-acab-4132-cd2d-cc3da7e2cf10"
      },
      "source": [
        "df_train.columns"
      ],
      "execution_count": 15,
      "outputs": [
        {
          "output_type": "execute_result",
          "data": {
            "text/plain": [
              "Index(['datetime', 'season', 'holiday', 'workingday', 'weather', 'temp',\n",
              "       'atemp', 'humidity', 'windspeed', 'casual', 'registered', 'count'],\n",
              "      dtype='object')"
            ]
          },
          "metadata": {
            "tags": []
          },
          "execution_count": 15
        }
      ]
    },
    {
      "cell_type": "code",
      "metadata": {
        "id": "9LGiaA8tje1S",
        "colab": {
          "base_uri": "https://localhost:8080/"
        },
        "outputId": "5c05f8fe-24a5-4161-8137-08e771ca3baf"
      },
      "source": [
        "df_test.columns"
      ],
      "execution_count": 16,
      "outputs": [
        {
          "output_type": "execute_result",
          "data": {
            "text/plain": [
              "Index(['datetime', 'season', 'holiday', 'workingday', 'weather', 'temp',\n",
              "       'atemp', 'humidity', 'windspeed'],\n",
              "      dtype='object')"
            ]
          },
          "metadata": {
            "tags": []
          },
          "execution_count": 16
        }
      ]
    },
    {
      "cell_type": "code",
      "metadata": {
        "id": "EO4_EleTyZrd"
      },
      "source": [
        "df_train.drop(columns=['registered','casual'],inplace=True)"
      ],
      "execution_count": 17,
      "outputs": []
    },
    {
      "cell_type": "code",
      "metadata": {
        "id": "8pXxMesLlJLs",
        "colab": {
          "base_uri": "https://localhost:8080/"
        },
        "outputId": "096b7c5d-4a71-437c-f0da-a0bf50b3121d"
      },
      "source": [
        "df_train.dtypes"
      ],
      "execution_count": 18,
      "outputs": [
        {
          "output_type": "execute_result",
          "data": {
            "text/plain": [
              "datetime       object\n",
              "season          int64\n",
              "holiday         int64\n",
              "workingday      int64\n",
              "weather         int64\n",
              "temp          float64\n",
              "atemp         float64\n",
              "humidity        int64\n",
              "windspeed     float64\n",
              "count           int64\n",
              "dtype: object"
            ]
          },
          "metadata": {
            "tags": []
          },
          "execution_count": 18
        }
      ]
    },
    {
      "cell_type": "markdown",
      "metadata": {
        "id": "uAKiUgRdMdKq"
      },
      "source": [
        "Merge in a single dataframe for better handling:"
      ]
    },
    {
      "cell_type": "code",
      "metadata": {
        "id": "CM4OfsnfMjPx"
      },
      "source": [
        "df = pd.concat([df_train, df_test], axis=0)"
      ],
      "execution_count": 19,
      "outputs": []
    },
    {
      "cell_type": "code",
      "metadata": {
        "id": "gTUcOfLhMxoi"
      },
      "source": [
        "df['is_test'] = 0\n",
        "df.loc[ df['count'].isna(), 'is_test' ] = 1"
      ],
      "execution_count": 20,
      "outputs": []
    },
    {
      "cell_type": "markdown",
      "metadata": {
        "id": "EciZiZF0mRGB"
      },
      "source": [
        "Get additional info out of `datetime`:\n"
      ]
    },
    {
      "cell_type": "code",
      "metadata": {
        "id": "bMiyO6_UzheF"
      },
      "source": [
        "add_datepart??"
      ],
      "execution_count": 21,
      "outputs": []
    },
    {
      "cell_type": "code",
      "metadata": {
        "id": "Pcd3yLlpyi7i"
      },
      "source": [
        "df = add_datepart(df, 'datetime', time=True)"
      ],
      "execution_count": 22,
      "outputs": []
    },
    {
      "cell_type": "code",
      "metadata": {
        "id": "30_5qmqnqhKB",
        "colab": {
          "base_uri": "https://localhost:8080/"
        },
        "outputId": "97c738c8-1445-4735-84d2-d0fb12dc5ffa"
      },
      "source": [
        "for c in df.columns:\n",
        "  print(c,':', len(df[c].unique()), ':', df[c].unique())"
      ],
      "execution_count": 23,
      "outputs": [
        {
          "output_type": "stream",
          "text": [
            "season : 4 : [1 2 3 4]\n",
            "holiday : 2 : [0 1]\n",
            "workingday : 2 : [0 1]\n",
            "weather : 4 : [1 2 3 4]\n",
            "temp : 50 : [ 9.84  9.02  8.2  13.12 15.58 14.76 17.22 18.86 18.04 16.4  13.94 12.3  10.66  6.56  5.74  7.38  4.92 11.48  4.1   3.28  2.46 21.32 22.96 23.78 24.6  19.68 22.14 20.5  27.06 26.24 25.42 27.88 28.7\n",
            " 30.34 31.16 29.52 33.62 35.26 36.9  32.8  31.98 34.44 36.08 37.72 38.54  1.64  0.82 39.36 41.   40.18]\n",
            "atemp : 65 : [14.395 13.635 12.88  17.425 19.695 16.665 21.21  22.725 21.97  20.455 11.365 10.605  9.85   8.335  6.82   5.305  6.06   9.09  12.12   7.575 15.91   3.03   3.79   4.545 15.15  18.18  25.    26.515\n",
            " 27.275 29.545 23.485 25.76  31.06  30.305 24.24  18.94  31.82  32.575 33.335 28.79  34.85  35.605 37.12  40.15  41.665 40.91  39.395 34.09  28.03  36.365 37.88  42.425 43.94  38.635  1.515  0.76\n",
            "  2.275 43.18  44.695 45.455  0.    46.21  47.725 49.24  50.   ]\n",
            "humidity : 89 : [ 81  80  75  86  76  77  72  82  88  87  94 100  71  66  57  46  42  39  44  47  50  43  40  35  30  32  64  69  55  59  63  68  74  51  56  52  49  48  37  33  28  38  36  93  29  53  34  54  41\n",
            "  45  92  62  58  61  60  65  70  27  25  26  31  73  21  24  23  22  19  15  67  10   8  12  14  13  17  16  18  20  85   0  83  84  78  79  89  97  90  96  91]\n",
            "windspeed : 30 : [ 0.      6.0032 16.9979 19.0012 19.9995 12.998  15.0013  8.9981 11.0014 22.0028 30.0026 23.9994 27.9993 26.0027  7.0015 32.9975 36.9974 31.0009 35.0008 39.0007 43.9989 40.9973 51.9987 46.0022\n",
            " 50.0021 43.0006 56.9969 47.9988 54.002  55.9986]\n",
            "count : 823 : [ 16.  40.  32.  13.   1.   2.   3.   8.  14.  36.  56.  84.  94. 106. 110.  93.  67.  35.  37.  34.  28.  39.  17.   9.   6.  20.  53.  70.  75.  59.  74.  76.  65.  30.  22.  31.   5.  64. 154.\n",
            "  88.  44.  51.  61.  77.  72. 157.  52.  12.   4. 179. 100.  42.  57.  78.  97.  63.  83. 212. 182. 112.  54.  48.  11.  33. 195. 115.  46.  79.  71.  62.  89. 190. 169. 132.  43.  19.  95. 219.\n",
            " 122.  45.  86. 172. 163.  69.  23.   7. 210. 134.  73.  50.  87. 187. 123.  15.  25.  98. 102.  55.  10.  49.  82.  92.  41.  38. 188.  47. 178. 155.  24.  18.  27.  99. 217. 130. 136.  29. 128.\n",
            "  81.  68. 139. 137. 202.  60. 162. 144. 158. 117.  90. 159. 101. 118. 129.  26. 104.  91. 113. 105.  21.  80. 125. 133. 197. 109. 161. 135. 116. 176. 168. 108. 103. 175. 147.  96. 220. 127. 205.\n",
            " 174. 121. 230.  66. 114. 216. 243. 152. 199.  58. 166. 170. 165. 160. 140. 211. 120. 145. 256. 126. 223.  85. 206. 124. 255. 222. 285. 146. 274. 272. 185. 191. 232. 327. 224. 107. 119. 196. 171.\n",
            " 214. 242. 148. 268. 201. 150. 111. 167. 228. 198. 204. 164. 233. 257. 151. 248. 235. 141. 249. 194. 259. 156. 153. 244. 213. 181. 221. 250. 304. 241. 271. 282. 225. 253. 237. 299. 142. 313. 310.\n",
            " 207. 138. 280. 173. 332. 331. 149. 267. 301. 312. 278. 281. 184. 215. 367. 349. 292. 303. 339. 143. 189. 366. 386. 273. 325. 356. 314. 343. 333. 226. 203. 177. 263. 297. 288. 236. 240. 131. 452.\n",
            " 383. 284. 291. 309. 321. 193. 337. 388. 300. 200. 180. 209. 354. 361. 306. 277. 428. 362. 286. 351. 192. 411. 421. 276. 264. 238. 266. 371. 269. 537. 518. 218. 265. 459. 186. 517. 544. 365. 290.\n",
            " 410. 396. 296. 440. 533. 520. 258. 450. 246. 260. 344. 553. 470. 298. 347. 373. 436. 378. 342. 289. 340. 382. 390. 358. 385. 239. 374. 598. 524. 384. 425. 611. 550. 434. 318. 442. 401. 234. 594.\n",
            " 527. 364. 387. 491. 398. 270. 279. 294. 295. 322. 456. 437. 392. 231. 394. 453. 308. 604. 480. 283. 565. 489. 487. 183. 302. 547. 513. 454. 486. 467. 572. 525. 379. 502. 558. 564. 391. 293. 247.\n",
            " 317. 369. 420. 451. 404. 341. 251. 335. 417. 363. 357. 438. 579. 556. 407. 336. 334. 477. 539. 551. 424. 346. 353. 481. 506. 432. 409. 466. 326. 254. 463. 380. 275. 311. 315. 360. 350. 252. 328.\n",
            " 476. 227. 601. 586. 423. 330. 569. 538. 370. 498. 638. 607. 416. 261. 355. 552. 208. 468. 449. 381. 377. 397. 492. 427. 461. 422. 305. 375. 376. 414. 447. 408. 418. 457. 545. 496. 368. 245. 596.\n",
            " 563. 443. 562. 229. 316. 402. 287. 372. 514. 472. 511. 488. 419. 595. 578. 400. 348. 587. 497. 433. 475. 406. 430. 324. 262. 323. 412. 530. 543. 413. 435. 555. 523. 441. 529. 532. 585. 399. 584.\n",
            " 559. 307. 582. 571. 426. 516. 465. 329. 483. 600. 570. 628. 531. 455. 389. 505. 359. 431. 460. 590. 429. 599. 338. 566. 482. 568. 540. 495. 345. 591. 593. 446. 485. 393. 500. 473. 352. 320. 479.\n",
            " 444. 462. 405. 620. 499. 625. 395. 528. 319. 519. 445. 512. 471. 508. 526. 509. 484. 448. 515. 549. 501. 612. 597. 464. 644. 712. 676. 734. 662. 782. 749. 623. 713. 746. 651. 686. 690. 679. 685.\n",
            " 648. 560. 503. 521. 554. 541. 721. 801. 561. 573. 589. 729. 618. 494. 757. 800. 684. 744. 759. 822. 698. 490. 536. 655. 643. 626. 615. 567. 617. 632. 646. 692. 704. 624. 656. 610. 738. 671. 678.\n",
            " 660. 658. 635. 681. 616. 522. 673. 781. 775. 576. 677. 748. 776. 557. 743. 666. 813. 504. 627. 706. 641. 575. 639. 769. 680. 546. 717. 710. 458. 622. 705. 630. 732. 770. 439. 779. 659. 602. 478.\n",
            " 733. 650. 873. 846. 474. 634. 852. 868. 745. 812. 669. 642. 730. 672. 645. 694. 493. 668. 647. 702. 665. 834. 850. 790. 415. 724. 869. 700. 793. 723. 534. 831. 613. 653. 857. 719. 867. 823. 403.\n",
            " 693. 603. 583. 542. 614. 580. 811. 795. 747. 581. 722. 689. 849. 872. 631. 649. 819. 674. 830. 814. 633. 825. 629. 835. 667. 755. 794. 661. 772. 657. 771. 777. 837. 891. 652. 739. 865. 767. 741.\n",
            " 469. 605. 858. 843. 640. 737. 862. 810. 577. 818. 854. 682. 851. 848. 897. 832. 791. 654. 856. 839. 725. 863. 808. 792. 696. 701. 871. 968. 750. 970. 877. 925. 977. 758. 884. 766. 894. 715. 783.\n",
            " 683. 842. 774. 797. 886. 892. 784. 687. 809. 917. 901. 887. 785. 900. 761. 806. 507. 948. 844. 798. 827. 670. 637. 619. 592. 943. 838. 817. 888. 890. 788. 588. 606. 608. 691. 711. 663. 731. 708.\n",
            " 609. 688. 636.  nan]\n",
            "is_test : 2 : [0 1]\n",
            "datetimeYear : 2 : [2011 2012]\n",
            "datetimeMonth : 12 : [ 1  2  3  4  5  6  7  8  9 10 11 12]\n",
            "datetimeWeek : 52 : [52  1  2  3  5  6  7  9 10 11 13 14 15 16 17 18 19 20 22 23 24 26 27 28 29 31 32 33 35 36 37 38 39 40 41 42 44 45 46 48 49 50 51 12 25 47  4  8 21 30 34 43]\n",
            "datetimeDay : 31 : [ 1  2  3  4  5  6  7  8  9 10 11 12 13 14 15 16 17 18 19 20 21 22 23 24 25 26 27 28 29 30 31]\n",
            "datetimeDayofweek : 7 : [5 6 0 1 2 3 4]\n",
            "datetimeDayofyear : 366 : [  1   2   3   4   5   6   7   8   9  10  11  12  13  14  15  16  17  18  19  32  33  34  35  36  37  38  39  40  41  42  43  44  45  46  47  48  49  50  60  61  62  63  64  65  66  67  68  69  70\n",
            "  71  72  73  74  75  76  77  78  91  92  93  94  95  96  97  98  99 100 101 102 103 104 105 106 107 108 109 121 122 123 124 125 126 127 128 129 130 131 132 133 134 135 136 137 138 139 152 153 154\n",
            " 155 156 157 158 159 160 161 162 163 164 165 166 167 168 169 170 182 183 184 185 186 187 188 189 190 191 192 193 194 195 196 197 198 199 200 213 214 215 216 217 218 219 220 221 222 223 224 225 226\n",
            " 227 228 229 230 231 244 245 246 247 248 249 250 251 252 253 254 255 256 257 258 259 260 261 262 274 275 276 277 278 279 280 281 282 283 284 285 286 287 288 289 290 291 292 305 306 307 308 309 310\n",
            " 311 312 313 314 315 316 317 318 319 320 321 322 323 335 336 337 338 339 340 341 342 343 344 345 346 347 348 349 350 351 352 353  79 110 140 171 201 232 263 293 324 354  20  21  22  23  24  25  26\n",
            "  27  28  29  30  31  51  52  53  54  55  56  57  58  59  80  81  82  83  84  85  86  87  88  89  90 111 112 113 114 115 116 117 118 119 120 141 142 143 144 145 146 147 148 149 150 151 172 173 174\n",
            " 175 176 177 178 179 180 181 202 203 204 205 206 207 208 209 210 211 212 233 234 235 236 237 238 239 240 241 242 243 264 265 266 267 268 269 270 271 272 273 294 295 296 297 298 299 300 301 302 303\n",
            " 304 325 326 327 328 329 330 331 332 333 334 355 356 357 358 359 360 361 362 363 364 365 366]\n",
            "datetimeIs_month_end : 2 : [False  True]\n",
            "datetimeIs_month_start : 2 : [ True False]\n",
            "datetimeIs_quarter_end : 2 : [False  True]\n",
            "datetimeIs_quarter_start : 2 : [ True False]\n",
            "datetimeIs_year_end : 2 : [False  True]\n",
            "datetimeIs_year_start : 2 : [ True False]\n",
            "datetimeHour : 24 : [ 0  1  2  3  4  5  6  7  8  9 10 11 12 13 14 15 16 17 18 19 20 21 22 23]\n",
            "datetimeMinute : 1 : [0]\n",
            "datetimeSecond : 1 : [0]\n",
            "datetimeElapsed : 17379 : [1.2938400e+09 1.2938436e+09 1.2938472e+09 ... 1.3569876e+09 1.3569912e+09 1.3569948e+09]\n"
          ],
          "name": "stdout"
        }
      ]
    },
    {
      "cell_type": "code",
      "metadata": {
        "id": "ObQ8fXGNz7oM"
      },
      "source": [
        "df.drop(columns=['datetimeMinute','datetimeSecond'], inplace=True)"
      ],
      "execution_count": 24,
      "outputs": []
    },
    {
      "cell_type": "markdown",
      "metadata": {
        "id": "mW8vt_64-LaE"
      },
      "source": [
        "Create a validation set here: use the first 13 days of the month as training set and the days from 14th to 20th as validation set. The days from the 21st to the end of the month are already in the test set."
      ]
    },
    {
      "cell_type": "code",
      "metadata": {
        "id": "3C2DSc-x-m8z"
      },
      "source": [
        "df['is_valid'] = 0\n",
        "df.loc[ (df['datetimeDay'] > 13) & (df['is_test']==0), 'is_valid' ] = 1"
      ],
      "execution_count": 25,
      "outputs": []
    },
    {
      "cell_type": "code",
      "metadata": {
        "id": "ntID130l5tcw"
      },
      "source": [
        "df = df.astype({'datetimeWeek' : 'uint32'})"
      ],
      "execution_count": 26,
      "outputs": []
    },
    {
      "cell_type": "markdown",
      "metadata": {
        "id": "UwTRW5m8y3zf"
      },
      "source": [
        "Probably it's better to treat `season` and `weather` as ordinal categories:"
      ]
    },
    {
      "cell_type": "code",
      "metadata": {
        "id": "-4PxS6uK0xco"
      },
      "source": [
        "df['season'] = df['season'].astype('category')\n",
        "df['season'].cat.set_categories([1,2,3,4], ordered=True, inplace=True)"
      ],
      "execution_count": 27,
      "outputs": []
    },
    {
      "cell_type": "code",
      "metadata": {
        "id": "lQtJVRFSWc6p",
        "outputId": "e39944f5-c660-4d49-8388-4810770d6eb5",
        "colab": {
          "base_uri": "https://localhost:8080/",
          "height": 265
        }
      },
      "source": [
        "df['season'].hist();"
      ],
      "execution_count": 28,
      "outputs": [
        {
          "output_type": "display_data",
          "data": {
            "image/png": "[encoded data removed]",
            "text/plain": [
              "<Figure size 432x288 with 1 Axes>"
            ]
          },
          "metadata": {
            "tags": [],
            "needs_background": "light"
          }
        }
      ]
    },
    {
      "cell_type": "code",
      "metadata": {
        "id": "oCcOyKTg1gRy"
      },
      "source": [
        "df['weather'] = df['weather'].astype('category')\n",
        "df['weather'].cat.set_categories([1,2,3,4], ordered=True, inplace=True)"
      ],
      "execution_count": 29,
      "outputs": []
    },
    {
      "cell_type": "markdown",
      "metadata": {
        "id": "7jy5UM6f10aJ"
      },
      "source": [
        "The model is evaluated on the RMSLE:\n",
        "$ \\sqrt{\\frac{1}{n} \\sum_{i=1}^n (\\log(p_i + 1) - \\log(a_i+1))^2 } $"
      ]
    },
    {
      "cell_type": "code",
      "metadata": {
        "id": "n_-_m4Ee4TDq"
      },
      "source": [
        "targetVar = 'count'"
      ],
      "execution_count": 30,
      "outputs": []
    },
    {
      "cell_type": "code",
      "metadata": {
        "id": "2rulV3rS2MFy",
        "colab": {
          "base_uri": "https://localhost:8080/"
        },
        "outputId": "03462243-153d-4256-835d-f376a094e324"
      },
      "source": [
        "df[ df['is_test']==0 ][targetVar].min(),df[ df['is_test']==0 ][targetVar].max()"
      ],
      "execution_count": 31,
      "outputs": [
        {
          "output_type": "execute_result",
          "data": {
            "text/plain": [
              "(1.0, 977.0)"
            ]
          },
          "metadata": {
            "tags": []
          },
          "execution_count": 31
        }
      ]
    },
    {
      "cell_type": "code",
      "metadata": {
        "id": "5-0Axi8e2PQE",
        "colab": {
          "base_uri": "https://localhost:8080/"
        },
        "outputId": "d4111f14-b699-46b3-d6fc-7bdec205162d"
      },
      "source": [
        "preds = np.random.random_integers(1,1000,len(df[df['is_valid']==1]))"
      ],
      "execution_count": 32,
      "outputs": [
        {
          "output_type": "stream",
          "text": [
            "/usr/local/lib/python3.7/dist-packages/ipykernel_launcher.py:1: DeprecationWarning: This function is deprecated. Please call randint(1, 1000 + 1) instead\n",
            "  \"\"\"Entry point for launching an IPython kernel.\n"
          ],
          "name": "stderr"
        }
      ]
    },
    {
      "cell_type": "code",
      "metadata": {
        "id": "em-5OGUUuhHY",
        "outputId": "b4b499ef-8ab2-4b95-8774-a42b25c6a003",
        "colab": {
          "base_uri": "https://localhost:8080/"
        }
      },
      "source": [
        "preds.min(),preds.max()"
      ],
      "execution_count": 33,
      "outputs": [
        {
          "output_type": "execute_result",
          "data": {
            "text/plain": [
              "(1, 999)"
            ]
          },
          "metadata": {
            "tags": []
          },
          "execution_count": 33
        }
      ]
    },
    {
      "cell_type": "code",
      "metadata": {
        "id": "37WxjAYU2lCj",
        "colab": {
          "base_uri": "https://localhost:8080/"
        },
        "outputId": "0078833c-6933-47a7-a2e1-f2d4b8b82e46"
      },
      "source": [
        "L(list(preds))"
      ],
      "execution_count": 34,
      "outputs": [
        {
          "output_type": "execute_result",
          "data": {
            "text/plain": [
              "(#3434) [103,436,861,271,107,72,701,21,615,122...]"
            ]
          },
          "metadata": {
            "tags": []
          },
          "execution_count": 34
        }
      ]
    },
    {
      "cell_type": "code",
      "metadata": {
        "id": "t6anIp2d2psO"
      },
      "source": [
        "def rmsle(p,a):\n",
        "  return np.sqrt( ((np.log(p+1) - np.log(a+1))**2).mean() )"
      ],
      "execution_count": 35,
      "outputs": []
    },
    {
      "cell_type": "code",
      "metadata": {
        "id": "lCffgqq44FGN"
      },
      "source": [
        "def m_rmsle(m, xs, y): return rmsle(m.predict(xs), y)"
      ],
      "execution_count": 36,
      "outputs": []
    },
    {
      "cell_type": "code",
      "metadata": {
        "id": "BL6Gazo93DuJ",
        "colab": {
          "base_uri": "https://localhost:8080/"
        },
        "outputId": "ecbd0412-d603-4ae5-e1e9-183b0cfeb163"
      },
      "source": [
        "rmsle(preds, df[ df['is_valid']==1 ][targetVar])"
      ],
      "execution_count": 37,
      "outputs": [
        {
          "output_type": "execute_result",
          "data": {
            "text/plain": [
              "2.144815193903836"
            ]
          },
          "metadata": {
            "tags": []
          },
          "execution_count": 37
        }
      ]
    },
    {
      "cell_type": "code",
      "metadata": {
        "id": "6RLGvIJSs7Rj",
        "outputId": "8befbb4c-98aa-4b3b-adf6-06e6dd682a10",
        "colab": {
          "base_uri": "https://localhost:8080/"
        }
      },
      "source": [
        "preds.shape,df[ df['is_valid']==1 ][targetVar].shape"
      ],
      "execution_count": 38,
      "outputs": [
        {
          "output_type": "execute_result",
          "data": {
            "text/plain": [
              "((3434,), (3434,))"
            ]
          },
          "metadata": {
            "tags": []
          },
          "execution_count": 38
        }
      ]
    },
    {
      "cell_type": "code",
      "metadata": {
        "id": "8i0oD7Y2sgDw",
        "outputId": "1c595ae2-1962-46d3-cfe1-04e07303dcb3",
        "colab": {
          "base_uri": "https://localhost:8080/"
        }
      },
      "source": [
        "#F.mse_loss( np.log(preds), np.log(df[ df['is_valid']==1 ][targetVar].values) )\n",
        "math.sqrt(F.mse_loss( torch.tensor(np.log(preds+1)), torch.tensor(np.log(df[ df['is_valid']==1 ][targetVar].values+1)) ))"
      ],
      "execution_count": 39,
      "outputs": [
        {
          "output_type": "execute_result",
          "data": {
            "text/plain": [
              "2.144815193903836"
            ]
          },
          "metadata": {
            "tags": []
          },
          "execution_count": 39
        }
      ]
    },
    {
      "cell_type": "markdown",
      "metadata": {
        "id": "fKsVHVhpvSHj"
      },
      "source": [
        "The same metric can be easily obtained using \"standard\" torch functions :)"
      ]
    },
    {
      "cell_type": "markdown",
      "metadata": {
        "id": "4iPaNanV3nVI"
      },
      "source": [
        "Build a `TabularPandas` object:"
      ]
    },
    {
      "cell_type": "code",
      "metadata": {
        "id": "y3CNn0Xx4ho6"
      },
      "source": [
        "df_train = df[ df['is_test']==0 ]\n",
        "\n",
        "cond = df_train['is_valid']==0\n",
        "train_idx = np.where( cond)[0]\n",
        "valid_idx = np.where(~cond)[0]\n",
        "\n",
        "splits = (list(train_idx),list(valid_idx))"
      ],
      "execution_count": 40,
      "outputs": []
    },
    {
      "cell_type": "code",
      "metadata": {
        "id": "RpSPa5hr5X5Q",
        "colab": {
          "base_uri": "https://localhost:8080/"
        },
        "outputId": "15fb51ae-6f2c-4aa5-c0c1-4232e15841f5"
      },
      "source": [
        "[ (c,df[c].dtype) for c in df.columns ]"
      ],
      "execution_count": 41,
      "outputs": [
        {
          "output_type": "execute_result",
          "data": {
            "text/plain": [
              "[('season', CategoricalDtype(categories=[1, 2, 3, 4], ordered=True)),\n",
              " ('holiday', dtype('int64')),\n",
              " ('workingday', dtype('int64')),\n",
              " ('weather', CategoricalDtype(categories=[1, 2, 3, 4], ordered=True)),\n",
              " ('temp', dtype('float64')),\n",
              " ('atemp', dtype('float64')),\n",
              " ('humidity', dtype('int64')),\n",
              " ('windspeed', dtype('float64')),\n",
              " ('count', dtype('float64')),\n",
              " ('is_test', dtype('int64')),\n",
              " ('datetimeYear', dtype('int64')),\n",
              " ('datetimeMonth', dtype('int64')),\n",
              " ('datetimeWeek', dtype('uint32')),\n",
              " ('datetimeDay', dtype('int64')),\n",
              " ('datetimeDayofweek', dtype('int64')),\n",
              " ('datetimeDayofyear', dtype('int64')),\n",
              " ('datetimeIs_month_end', dtype('bool')),\n",
              " ('datetimeIs_month_start', dtype('bool')),\n",
              " ('datetimeIs_quarter_end', dtype('bool')),\n",
              " ('datetimeIs_quarter_start', dtype('bool')),\n",
              " ('datetimeIs_year_end', dtype('bool')),\n",
              " ('datetimeIs_year_start', dtype('bool')),\n",
              " ('datetimeHour', dtype('int64')),\n",
              " ('datetimeElapsed', dtype('float64')),\n",
              " ('is_valid', dtype('int64'))]"
            ]
          },
          "metadata": {
            "tags": []
          },
          "execution_count": 41
        }
      ]
    },
    {
      "cell_type": "markdown",
      "metadata": {
        "id": "hOhWzeaickIT"
      },
      "source": [
        "Convert boolean features to numeric:"
      ]
    },
    {
      "cell_type": "code",
      "metadata": {
        "id": "t0xBJZDmcoGf"
      },
      "source": [
        "for c in [ i for i in df.columns if 'Is' in i ]:\n",
        "  df[c] = df[c].astype(int)"
      ],
      "execution_count": 42,
      "outputs": []
    },
    {
      "cell_type": "code",
      "metadata": {
        "id": "swyVHz1H5UaC"
      },
      "source": [
        "def cont_cat_split(df, max_card=20, dep_var=None):\n",
        "    cont_names, cat_names = [], []\n",
        "    for label in df:\n",
        "        if label in L(dep_var): continue\n",
        "        \n",
        "        # mod to detect ProductSize type properly\n",
        "        if (df[label].dtype.name == 'category'):\n",
        "          cat_names.append(label)\n",
        "          continue\n",
        "\n",
        "        if (np.issubdtype(df[label].dtype, np.integer) and\n",
        "            df[label].unique().shape[0] > max_card or\n",
        "            np.issubdtype(df[label].dtype, np.floating)):\n",
        "            cont_names.append(label)\n",
        "        else: cat_names.append(label)\n",
        "    return cont_names, cat_names"
      ],
      "execution_count": 43,
      "outputs": []
    },
    {
      "cell_type": "code",
      "metadata": {
        "id": "OfWS0s-O4xBM"
      },
      "source": [
        "cont,cat = cont_cat_split(df, max_card=100, dep_var=targetVar)"
      ],
      "execution_count": 44,
      "outputs": []
    },
    {
      "cell_type": "markdown",
      "metadata": {
        "id": "tuGQGMMT6M3g"
      },
      "source": [
        "`Categorify` is not used as there are no string-typed columns"
      ]
    },
    {
      "cell_type": "code",
      "metadata": {
        "id": "-ne8YqHW5-om"
      },
      "source": [
        "procs = [Categorify,FillMissing]"
      ],
      "execution_count": 45,
      "outputs": []
    },
    {
      "cell_type": "code",
      "metadata": {
        "id": "sekMJTOp5Ba3"
      },
      "source": [
        "to = TabularPandas(df_train, procs=procs, cat_names=cat, cont_names=cont, y_names=targetVar, splits=splits)"
      ],
      "execution_count": 46,
      "outputs": []
    },
    {
      "cell_type": "code",
      "metadata": {
        "id": "czDnvE6R6c08",
        "colab": {
          "base_uri": "https://localhost:8080/",
          "height": 224
        },
        "outputId": "dab60d64-e231-4c78-f311-df8ae575e36f"
      },
      "source": [
        "to.show(5)"
      ],
      "execution_count": 47,
      "outputs": [
        {
          "output_type": "display_data",
          "data": {
            "text/html": [
              "<table border=\"1\" class=\"dataframe\">\n",
              "  <thead>\n",
              "    <tr style=\"text-align: right;\">\n",
              "      <th></th>\n",
              "      <th>season</th>\n",
              "      <th>holiday</th>\n",
              "      <th>workingday</th>\n",
              "      <th>weather</th>\n",
              "      <th>humidity</th>\n",
              "      <th>is_test</th>\n",
              "      <th>datetimeYear</th>\n",
              "      <th>datetimeMonth</th>\n",
              "      <th>datetimeWeek</th>\n",
              "      <th>datetimeDay</th>\n",
              "      <th>datetimeDayofweek</th>\n",
              "      <th>datetimeIs_month_end</th>\n",
              "      <th>datetimeIs_month_start</th>\n",
              "      <th>datetimeIs_quarter_end</th>\n",
              "      <th>datetimeIs_quarter_start</th>\n",
              "      <th>datetimeIs_year_end</th>\n",
              "      <th>datetimeIs_year_start</th>\n",
              "      <th>datetimeHour</th>\n",
              "      <th>is_valid</th>\n",
              "      <th>temp</th>\n",
              "      <th>atemp</th>\n",
              "      <th>windspeed</th>\n",
              "      <th>datetimeDayofyear</th>\n",
              "      <th>datetimeElapsed</th>\n",
              "      <th>count</th>\n",
              "    </tr>\n",
              "  </thead>\n",
              "  <tbody>\n",
              "    <tr>\n",
              "      <th>0</th>\n",
              "      <td>1</td>\n",
              "      <td>0</td>\n",
              "      <td>0</td>\n",
              "      <td>1</td>\n",
              "      <td>81</td>\n",
              "      <td>0</td>\n",
              "      <td>2011</td>\n",
              "      <td>1</td>\n",
              "      <td>52</td>\n",
              "      <td>1</td>\n",
              "      <td>5</td>\n",
              "      <td>False</td>\n",
              "      <td>True</td>\n",
              "      <td>False</td>\n",
              "      <td>True</td>\n",
              "      <td>False</td>\n",
              "      <td>True</td>\n",
              "      <td>0</td>\n",
              "      <td>0</td>\n",
              "      <td>9.84</td>\n",
              "      <td>14.395</td>\n",
              "      <td>0.0</td>\n",
              "      <td>1</td>\n",
              "      <td>1.293840e+09</td>\n",
              "      <td>16.0</td>\n",
              "    </tr>\n",
              "    <tr>\n",
              "      <th>1</th>\n",
              "      <td>1</td>\n",
              "      <td>0</td>\n",
              "      <td>0</td>\n",
              "      <td>1</td>\n",
              "      <td>80</td>\n",
              "      <td>0</td>\n",
              "      <td>2011</td>\n",
              "      <td>1</td>\n",
              "      <td>52</td>\n",
              "      <td>1</td>\n",
              "      <td>5</td>\n",
              "      <td>False</td>\n",
              "      <td>True</td>\n",
              "      <td>False</td>\n",
              "      <td>True</td>\n",
              "      <td>False</td>\n",
              "      <td>True</td>\n",
              "      <td>1</td>\n",
              "      <td>0</td>\n",
              "      <td>9.02</td>\n",
              "      <td>13.635</td>\n",
              "      <td>0.0</td>\n",
              "      <td>1</td>\n",
              "      <td>1.293844e+09</td>\n",
              "      <td>40.0</td>\n",
              "    </tr>\n",
              "    <tr>\n",
              "      <th>2</th>\n",
              "      <td>1</td>\n",
              "      <td>0</td>\n",
              "      <td>0</td>\n",
              "      <td>1</td>\n",
              "      <td>80</td>\n",
              "      <td>0</td>\n",
              "      <td>2011</td>\n",
              "      <td>1</td>\n",
              "      <td>52</td>\n",
              "      <td>1</td>\n",
              "      <td>5</td>\n",
              "      <td>False</td>\n",
              "      <td>True</td>\n",
              "      <td>False</td>\n",
              "      <td>True</td>\n",
              "      <td>False</td>\n",
              "      <td>True</td>\n",
              "      <td>2</td>\n",
              "      <td>0</td>\n",
              "      <td>9.02</td>\n",
              "      <td>13.635</td>\n",
              "      <td>0.0</td>\n",
              "      <td>1</td>\n",
              "      <td>1.293847e+09</td>\n",
              "      <td>32.0</td>\n",
              "    </tr>\n",
              "    <tr>\n",
              "      <th>3</th>\n",
              "      <td>1</td>\n",
              "      <td>0</td>\n",
              "      <td>0</td>\n",
              "      <td>1</td>\n",
              "      <td>75</td>\n",
              "      <td>0</td>\n",
              "      <td>2011</td>\n",
              "      <td>1</td>\n",
              "      <td>52</td>\n",
              "      <td>1</td>\n",
              "      <td>5</td>\n",
              "      <td>False</td>\n",
              "      <td>True</td>\n",
              "      <td>False</td>\n",
              "      <td>True</td>\n",
              "      <td>False</td>\n",
              "      <td>True</td>\n",
              "      <td>3</td>\n",
              "      <td>0</td>\n",
              "      <td>9.84</td>\n",
              "      <td>14.395</td>\n",
              "      <td>0.0</td>\n",
              "      <td>1</td>\n",
              "      <td>1.293851e+09</td>\n",
              "      <td>13.0</td>\n",
              "    </tr>\n",
              "    <tr>\n",
              "      <th>4</th>\n",
              "      <td>1</td>\n",
              "      <td>0</td>\n",
              "      <td>0</td>\n",
              "      <td>1</td>\n",
              "      <td>75</td>\n",
              "      <td>0</td>\n",
              "      <td>2011</td>\n",
              "      <td>1</td>\n",
              "      <td>52</td>\n",
              "      <td>1</td>\n",
              "      <td>5</td>\n",
              "      <td>False</td>\n",
              "      <td>True</td>\n",
              "      <td>False</td>\n",
              "      <td>True</td>\n",
              "      <td>False</td>\n",
              "      <td>True</td>\n",
              "      <td>4</td>\n",
              "      <td>0</td>\n",
              "      <td>9.84</td>\n",
              "      <td>14.395</td>\n",
              "      <td>0.0</td>\n",
              "      <td>1</td>\n",
              "      <td>1.293854e+09</td>\n",
              "      <td>1.0</td>\n",
              "    </tr>\n",
              "  </tbody>\n",
              "</table>"
            ],
            "text/plain": [
              "<IPython.core.display.HTML object>"
            ]
          },
          "metadata": {
            "tags": []
          }
        }
      ]
    },
    {
      "cell_type": "code",
      "metadata": {
        "id": "dbjHkIHo6fPr"
      },
      "source": [
        "xs,y = to.train.xs,to.train.y\n",
        "valid_xs,valid_y = to.valid.xs,to.valid.y"
      ],
      "execution_count": 48,
      "outputs": []
    },
    {
      "cell_type": "markdown",
      "metadata": {
        "id": "nd58PiVa7AZP"
      },
      "source": [
        "Use a function to quickly build a Random Forest:"
      ]
    },
    {
      "cell_type": "code",
      "metadata": {
        "id": "NU3_cMBj7sTV"
      },
      "source": [
        "def rf(xs,y,n_estimators=40,max_samples=5000,max_features=0.5,min_samples_leaf=10,**kwargs):\n",
        "  return RandomForestRegressor(n_jobs=-1,\n",
        "                               n_estimators=n_estimators,max_samples=max_samples,max_features=max_features,\n",
        "                               min_samples_leaf=min_samples_leaf,oob_score=True).fit(xs,y)"
      ],
      "execution_count": 49,
      "outputs": []
    },
    {
      "cell_type": "code",
      "metadata": {
        "id": "I0J8vt7t8YFi"
      },
      "source": [
        "m = rf(xs,y)"
      ],
      "execution_count": 50,
      "outputs": []
    },
    {
      "cell_type": "code",
      "metadata": {
        "id": "totf3qWl8aw1",
        "colab": {
          "base_uri": "https://localhost:8080/"
        },
        "outputId": "246ea9f7-a533-4a8d-fcd7-5050498d2c89"
      },
      "source": [
        "m_rmsle(m, xs, y),m_rmsle(m, valid_xs, valid_y)"
      ],
      "execution_count": 51,
      "outputs": [
        {
          "output_type": "execute_result",
          "data": {
            "text/plain": [
              "(0.45392649585848865, 0.4831370897451352)"
            ]
          },
          "metadata": {
            "tags": []
          },
          "execution_count": 51
        }
      ]
    },
    {
      "cell_type": "code",
      "metadata": {
        "id": "zuJnsctI8vZ7",
        "outputId": "4fcb6a9f-ceab-4d61-e0d9-bc4ef350f605",
        "colab": {
          "base_uri": "https://localhost:8080/"
        }
      },
      "source": [
        "rmsle(m.oob_prediction_,y)"
      ],
      "execution_count": 52,
      "outputs": [
        {
          "output_type": "execute_result",
          "data": {
            "text/plain": [
              "0.49482989043274356"
            ]
          },
          "metadata": {
            "tags": []
          },
          "execution_count": 52
        }
      ]
    },
    {
      "cell_type": "markdown",
      "metadata": {
        "id": "Roc0sKVkTGI6"
      },
      "source": [
        "Interestingly the OOB error is slightly *higher* than the validation error!"
      ]
    },
    {
      "cell_type": "markdown",
      "metadata": {
        "id": "BCnquz8HS0uE"
      },
      "source": [
        "Let's check the variance of the predictions:"
      ]
    },
    {
      "cell_type": "code",
      "metadata": {
        "id": "FU9IrmZ_ThL4",
        "outputId": "008f285a-9582-4a3a-836b-153c56c57303",
        "colab": {
          "base_uri": "https://localhost:8080/"
        }
      },
      "source": [
        "valid_xs.shape"
      ],
      "execution_count": 53,
      "outputs": [
        {
          "output_type": "execute_result",
          "data": {
            "text/plain": [
              "(3434, 24)"
            ]
          },
          "metadata": {
            "tags": []
          },
          "execution_count": 53
        }
      ]
    },
    {
      "cell_type": "code",
      "metadata": {
        "id": "dt_x6gmATSlT",
        "outputId": "19e1a005-431c-418b-af53-87a94e7262cf",
        "colab": {
          "base_uri": "https://localhost:8080/"
        }
      },
      "source": [
        "preds = np.stack([ t.predict(valid_xs) for t in m.estimators_ ])\n",
        "preds.shape"
      ],
      "execution_count": 54,
      "outputs": [
        {
          "output_type": "execute_result",
          "data": {
            "text/plain": [
              "(40, 3434)"
            ]
          },
          "metadata": {
            "tags": []
          },
          "execution_count": 54
        }
      ]
    },
    {
      "cell_type": "markdown",
      "metadata": {
        "id": "3LSwy2_ETZ13"
      },
      "source": [
        "A row for each estimator, a column for each element in the validation set"
      ]
    },
    {
      "cell_type": "code",
      "metadata": {
        "id": "H0qxYDOjTwRu",
        "outputId": "48be1ff7-b38f-4290-da10-b26b623e7d58",
        "colab": {
          "base_uri": "https://localhost:8080/"
        }
      },
      "source": [
        "preds_std = preds.std(0)\n",
        "preds_std.shape"
      ],
      "execution_count": 55,
      "outputs": [
        {
          "output_type": "execute_result",
          "data": {
            "text/plain": [
              "(3434,)"
            ]
          },
          "metadata": {
            "tags": []
          },
          "execution_count": 55
        }
      ]
    },
    {
      "cell_type": "code",
      "metadata": {
        "id": "1J1zxeMkT1_L",
        "outputId": "2b3b630d-994f-4c1f-9444-fe7429124fa6",
        "colab": {
          "base_uri": "https://localhost:8080/",
          "height": 295
        }
      },
      "source": [
        "plt.figure()\n",
        "plt.title('std of predictions');\n",
        "plt.hist(preds_std);\n",
        "\n",
        "plt.xlabel('std.dev.');\n",
        "plt.ylabel('entries');"
      ],
      "execution_count": 56,
      "outputs": [
        {
          "output_type": "display_data",
          "data": {
            "image/png": "[encoded data removed]",
            "text/plain": [
              "<Figure size 432x288 with 1 Axes>"
            ]
          },
          "metadata": {
            "tags": [],
            "needs_background": "light"
          }
        }
      ]
    },
    {
      "cell_type": "markdown",
      "metadata": {
        "id": "1P8DE-NPT63y"
      },
      "source": [
        "Feature importance"
      ]
    },
    {
      "cell_type": "code",
      "metadata": {
        "id": "ZRYKnYedU8FA"
      },
      "source": [
        "def rf_feature_importance(m, df):\n",
        "  return pd.DataFrame({'cols':df.columns, 'imp':m.feature_importances_}).sort_values('imp',ascending=False)"
      ],
      "execution_count": 57,
      "outputs": []
    },
    {
      "cell_type": "code",
      "metadata": {
        "id": "ygFB3xMOVT3M",
        "outputId": "eb2731b5-f558-4537-bc0c-cc0ef647fb5d",
        "colab": {
          "base_uri": "https://localhost:8080/",
          "height": 359
        }
      },
      "source": [
        "fi = rf_feature_importance(m, xs)\n",
        "fi[:10]"
      ],
      "execution_count": 58,
      "outputs": [
        {
          "output_type": "execute_result",
          "data": {
            "text/html": [
              "<div>\n",
              "<style scoped>\n",
              "    .dataframe tbody tr th:only-of-type {\n",
              "        vertical-align: middle;\n",
              "    }\n",
              "\n",
              "    .dataframe tbody tr th {\n",
              "        vertical-align: top;\n",
              "    }\n",
              "\n",
              "    .dataframe thead th {\n",
              "        text-align: right;\n",
              "    }\n",
              "</style>\n",
              "<table border=\"1\" class=\"dataframe\">\n",
              "  <thead>\n",
              "    <tr style=\"text-align: right;\">\n",
              "      <th></th>\n",
              "      <th>cols</th>\n",
              "      <th>imp</th>\n",
              "    </tr>\n",
              "  </thead>\n",
              "  <tbody>\n",
              "    <tr>\n",
              "      <th>17</th>\n",
              "      <td>datetimeHour</td>\n",
              "      <td>0.570839</td>\n",
              "    </tr>\n",
              "    <tr>\n",
              "      <th>23</th>\n",
              "      <td>datetimeElapsed</td>\n",
              "      <td>0.116983</td>\n",
              "    </tr>\n",
              "    <tr>\n",
              "      <th>20</th>\n",
              "      <td>atemp</td>\n",
              "      <td>0.080792</td>\n",
              "    </tr>\n",
              "    <tr>\n",
              "      <th>19</th>\n",
              "      <td>temp</td>\n",
              "      <td>0.047741</td>\n",
              "    </tr>\n",
              "    <tr>\n",
              "      <th>4</th>\n",
              "      <td>humidity</td>\n",
              "      <td>0.041366</td>\n",
              "    </tr>\n",
              "    <tr>\n",
              "      <th>6</th>\n",
              "      <td>datetimeYear</td>\n",
              "      <td>0.030669</td>\n",
              "    </tr>\n",
              "    <tr>\n",
              "      <th>10</th>\n",
              "      <td>datetimeDayofweek</td>\n",
              "      <td>0.030259</td>\n",
              "    </tr>\n",
              "    <tr>\n",
              "      <th>2</th>\n",
              "      <td>workingday</td>\n",
              "      <td>0.027248</td>\n",
              "    </tr>\n",
              "    <tr>\n",
              "      <th>22</th>\n",
              "      <td>datetimeDayofyear</td>\n",
              "      <td>0.020830</td>\n",
              "    </tr>\n",
              "    <tr>\n",
              "      <th>3</th>\n",
              "      <td>weather</td>\n",
              "      <td>0.009987</td>\n",
              "    </tr>\n",
              "  </tbody>\n",
              "</table>\n",
              "</div>"
            ],
            "text/plain": [
              "                 cols       imp\n",
              "17       datetimeHour  0.570839\n",
              "23    datetimeElapsed  0.116983\n",
              "20              atemp  0.080792\n",
              "19               temp  0.047741\n",
              "4            humidity  0.041366\n",
              "6        datetimeYear  0.030669\n",
              "10  datetimeDayofweek  0.030259\n",
              "2          workingday  0.027248\n",
              "22  datetimeDayofyear  0.020830\n",
              "3             weather  0.009987"
            ]
          },
          "metadata": {
            "tags": []
          },
          "execution_count": 58
        }
      ]
    },
    {
      "cell_type": "code",
      "metadata": {
        "id": "7ErGgsxGVdAb",
        "outputId": "00d9548d-fdb9-49db-d3fc-496b2ce86582",
        "colab": {
          "base_uri": "https://localhost:8080/",
          "height": 428
        }
      },
      "source": [
        "def plot_fi(fi):\n",
        "    return fi.plot('cols', 'imp', 'barh', figsize=(12,7), legend=False)\n",
        "\n",
        "plot_fi(fi[:15]);"
      ],
      "execution_count": 59,
      "outputs": [
        {
          "output_type": "display_data",
          "data": {
            "image/png": "[encoded data removed]",
            "text/plain": [
              "<Figure size 864x504 with 1 Axes>"
            ]
          },
          "metadata": {
            "tags": [],
            "needs_background": "light"
          }
        }
      ]
    },
    {
      "cell_type": "markdown",
      "metadata": {
        "id": "vwnPDRJEVooT"
      },
      "source": [
        "Filter out low-importance features:"
      ]
    },
    {
      "cell_type": "code",
      "metadata": {
        "id": "P87WG5-5WHQy",
        "outputId": "3afc7459-84a0-4f1e-b77e-67cf9803ca44",
        "colab": {
          "base_uri": "https://localhost:8080/"
        }
      },
      "source": [
        "to_keep = fi[ fi['imp'] > 0.005 ].cols.tolist()\n",
        "len(fi), len(to_keep)"
      ],
      "execution_count": 60,
      "outputs": [
        {
          "output_type": "execute_result",
          "data": {
            "text/plain": [
              "(24, 12)"
            ]
          },
          "metadata": {
            "tags": []
          },
          "execution_count": 60
        }
      ]
    },
    {
      "cell_type": "code",
      "metadata": {
        "id": "fWgT0WD4WNZm"
      },
      "source": [
        "xs_imp = xs[to_keep]\n",
        "valid_xs_imp = valid_xs[to_keep]"
      ],
      "execution_count": 61,
      "outputs": []
    },
    {
      "cell_type": "code",
      "metadata": {
        "id": "bu0j6swYXmT3"
      },
      "source": [
        "m = rf(xs_imp, y)"
      ],
      "execution_count": 62,
      "outputs": []
    },
    {
      "cell_type": "code",
      "metadata": {
        "id": "_fvoi3qmXx_Q",
        "outputId": "a799754e-7ba0-44e4-939d-9e6b1a9c9745",
        "colab": {
          "base_uri": "https://localhost:8080/"
        }
      },
      "source": [
        "m_rmsle(m, xs_imp, y), m_rmsle(m, valid_xs_imp, valid_y)"
      ],
      "execution_count": 63,
      "outputs": [
        {
          "output_type": "execute_result",
          "data": {
            "text/plain": [
              "(0.4472790882731053, 0.46951513111532195)"
            ]
          },
          "metadata": {
            "tags": []
          },
          "execution_count": 63
        }
      ]
    },
    {
      "cell_type": "code",
      "metadata": {
        "id": "25haiRhRYILU",
        "outputId": "4d1939cf-c11f-4b9b-9984-5a629916067d",
        "colab": {
          "base_uri": "https://localhost:8080/",
          "height": 428
        }
      },
      "source": [
        "plot_fi(rf_feature_importance(m, xs_imp));"
      ],
      "execution_count": 64,
      "outputs": [
        {
          "output_type": "display_data",
          "data": {
            "image/png": "[encoded data removed]",
            "text/plain": [
              "<Figure size 864x504 with 1 Axes>"
            ]
          },
          "metadata": {
            "tags": [],
            "needs_background": "light"
          }
        }
      ]
    },
    {
      "cell_type": "markdown",
      "metadata": {
        "id": "Wu2UGxrIYR_l"
      },
      "source": [
        "Remove redundant features"
      ]
    },
    {
      "cell_type": "code",
      "metadata": {
        "id": "UBmYaj2ceGgT"
      },
      "source": [
        "discarded = list(set(xs.columns) - set(to_keep))"
      ],
      "execution_count": 65,
      "outputs": []
    },
    {
      "cell_type": "code",
      "metadata": {
        "id": "GpBxFmGYerlW",
        "outputId": "e86a0f89-feea-42f8-c4e9-bba47d1ee83e",
        "colab": {
          "base_uri": "https://localhost:8080/"
        }
      },
      "source": [
        "discarded"
      ],
      "execution_count": 66,
      "outputs": [
        {
          "output_type": "execute_result",
          "data": {
            "text/plain": [
              "['datetimeIs_month_end',\n",
              " 'datetimeIs_year_end',\n",
              " 'is_test',\n",
              " 'datetimeIs_year_start',\n",
              " 'datetimeIs_quarter_end',\n",
              " 'holiday',\n",
              " 'datetimeIs_quarter_start',\n",
              " 'is_valid',\n",
              " 'datetimeMonth',\n",
              " 'datetimeDay',\n",
              " 'datetimeIs_month_start',\n",
              " 'datetimeWeek']"
            ]
          },
          "metadata": {
            "tags": []
          },
          "execution_count": 66
        }
      ]
    },
    {
      "cell_type": "code",
      "metadata": {
        "id": "xA1-Uvyuegeo",
        "outputId": "116328f3-799a-4426-c11f-c1bfd5d46692",
        "colab": {
          "base_uri": "https://localhost:8080/"
        }
      },
      "source": [
        "to_keep + [discarded[0]]"
      ],
      "execution_count": 67,
      "outputs": [
        {
          "output_type": "execute_result",
          "data": {
            "text/plain": [
              "['datetimeHour',\n",
              " 'datetimeElapsed',\n",
              " 'atemp',\n",
              " 'temp',\n",
              " 'humidity',\n",
              " 'datetimeYear',\n",
              " 'datetimeDayofweek',\n",
              " 'workingday',\n",
              " 'datetimeDayofyear',\n",
              " 'weather',\n",
              " 'windspeed',\n",
              " 'season',\n",
              " 'datetimeIs_month_end']"
            ]
          },
          "metadata": {
            "tags": []
          },
          "execution_count": 67
        }
      ]
    },
    {
      "cell_type": "code",
      "metadata": {
        "id": "8HO4Rwo_fSx3",
        "outputId": "ba2f893b-4e8c-4b01-907d-897a5f8a7276",
        "colab": {
          "base_uri": "https://localhost:8080/"
        }
      },
      "source": [
        "[ i for i in discarded if not (('Is' in i) or ('is' in i)) ]"
      ],
      "execution_count": 68,
      "outputs": [
        {
          "output_type": "execute_result",
          "data": {
            "text/plain": [
              "['holiday', 'datetimeMonth', 'datetimeDay', 'datetimeWeek']"
            ]
          },
          "metadata": {
            "tags": []
          },
          "execution_count": 68
        }
      ]
    },
    {
      "cell_type": "code",
      "metadata": {
        "id": "mqVO2hXke_jY",
        "outputId": "f1368b21-e79a-4505-d37e-eb08a7a6bc9a",
        "colab": {
          "base_uri": "https://localhost:8080/"
        }
      },
      "source": [
        "xs['datetimeIs_month_end'].unique()"
      ],
      "execution_count": 69,
      "outputs": [
        {
          "output_type": "execute_result",
          "data": {
            "text/plain": [
              "array([1], dtype=int8)"
            ]
          },
          "metadata": {
            "tags": []
          },
          "execution_count": 69
        }
      ]
    },
    {
      "cell_type": "code",
      "metadata": {
        "id": "TQoAaR8kYgJA",
        "outputId": "c94b7a68-79fb-4cf2-92cb-dd945b59865b",
        "colab": {
          "base_uri": "https://localhost:8080/",
          "height": 374
        }
      },
      "source": [
        "cluster_columns(xs[to_keep + [ i for i in discarded if not (('Is' in i) or ('is' in i)) ]])"
      ],
      "execution_count": 70,
      "outputs": [
        {
          "output_type": "display_data",
          "data": {
            "image/png": "[encoded data removed]",
            "text/plain": [
              "<Figure size 720x432 with 1 Axes>"
            ]
          },
          "metadata": {
            "tags": [],
            "needs_background": "light"
          }
        }
      ]
    },
    {
      "cell_type": "code",
      "metadata": {
        "id": "CsqLNiqHYgjC",
        "outputId": "900a2d6a-27dd-44a0-f67d-42492bee6c39",
        "colab": {
          "base_uri": "https://localhost:8080/",
          "height": 374
        }
      },
      "source": [
        "cluster_columns(xs_imp)"
      ],
      "execution_count": 71,
      "outputs": [
        {
          "output_type": "display_data",
          "data": {
            "image/png": "[encoded data removed]",
            "text/plain": [
              "<Figure size 720x432 with 1 Axes>"
            ]
          },
          "metadata": {
            "tags": [],
            "needs_background": "light"
          }
        }
      ]
    },
    {
      "cell_type": "code",
      "metadata": {
        "id": "B0gWi1PZfw7x"
      },
      "source": [
        "to_drop = ['temp']\n",
        "xs_final = xs_imp.drop(to_drop, axis=1)\n",
        "valid_xs_final = valid_xs_imp.drop(to_drop, axis=1)"
      ],
      "execution_count": 72,
      "outputs": []
    },
    {
      "cell_type": "code",
      "metadata": {
        "id": "_BGLgNmvf-iY"
      },
      "source": [
        "m = rf(xs_final, y)"
      ],
      "execution_count": 73,
      "outputs": []
    },
    {
      "cell_type": "code",
      "metadata": {
        "id": "Jv_HcK2WgBrD",
        "outputId": "8962d239-4399-463d-b57f-e4fdf42e066a",
        "colab": {
          "base_uri": "https://localhost:8080/"
        }
      },
      "source": [
        "m_rmsle(m, xs_final, y), m_rmsle(m, valid_xs_final, valid_y)"
      ],
      "execution_count": 74,
      "outputs": [
        {
          "output_type": "execute_result",
          "data": {
            "text/plain": [
              "(0.46629821285923345, 0.48872751778609774)"
            ]
          },
          "metadata": {
            "tags": []
          },
          "execution_count": 74
        }
      ]
    },
    {
      "cell_type": "markdown",
      "metadata": {
        "id": "Uq9n35rngHKJ"
      },
      "source": [
        "Check out of domain data"
      ]
    },
    {
      "cell_type": "code",
      "metadata": {
        "id": "KuusmM7ppAnq"
      },
      "source": [
        "df_dom = pd.concat([xs_final, valid_xs_final])\n",
        "is_valid = np.array([0]*len(xs_final) + [1]*len(valid_xs_final))"
      ],
      "execution_count": 75,
      "outputs": []
    },
    {
      "cell_type": "code",
      "metadata": {
        "id": "zExoplZupbt9",
        "outputId": "ec52e476-99ec-44a6-8bc3-de7c35226715",
        "colab": {
          "base_uri": "https://localhost:8080/",
          "height": 390
        }
      },
      "source": [
        "m = rf(df_dom, is_valid)\n",
        "rf_feature_importance(m, df_dom)"
      ],
      "execution_count": 76,
      "outputs": [
        {
          "output_type": "execute_result",
          "data": {
            "text/html": [
              "<div>\n",
              "<style scoped>\n",
              "    .dataframe tbody tr th:only-of-type {\n",
              "        vertical-align: middle;\n",
              "    }\n",
              "\n",
              "    .dataframe tbody tr th {\n",
              "        vertical-align: top;\n",
              "    }\n",
              "\n",
              "    .dataframe thead th {\n",
              "        text-align: right;\n",
              "    }\n",
              "</style>\n",
              "<table border=\"1\" class=\"dataframe\">\n",
              "  <thead>\n",
              "    <tr style=\"text-align: right;\">\n",
              "      <th></th>\n",
              "      <th>cols</th>\n",
              "      <th>imp</th>\n",
              "    </tr>\n",
              "  </thead>\n",
              "  <tbody>\n",
              "    <tr>\n",
              "      <th>7</th>\n",
              "      <td>datetimeDayofyear</td>\n",
              "      <td>0.567100</td>\n",
              "    </tr>\n",
              "    <tr>\n",
              "      <th>1</th>\n",
              "      <td>datetimeElapsed</td>\n",
              "      <td>0.273541</td>\n",
              "    </tr>\n",
              "    <tr>\n",
              "      <th>2</th>\n",
              "      <td>atemp</td>\n",
              "      <td>0.045467</td>\n",
              "    </tr>\n",
              "    <tr>\n",
              "      <th>10</th>\n",
              "      <td>season</td>\n",
              "      <td>0.040753</td>\n",
              "    </tr>\n",
              "    <tr>\n",
              "      <th>3</th>\n",
              "      <td>humidity</td>\n",
              "      <td>0.024823</td>\n",
              "    </tr>\n",
              "    <tr>\n",
              "      <th>5</th>\n",
              "      <td>datetimeDayofweek</td>\n",
              "      <td>0.012444</td>\n",
              "    </tr>\n",
              "    <tr>\n",
              "      <th>9</th>\n",
              "      <td>windspeed</td>\n",
              "      <td>0.010953</td>\n",
              "    </tr>\n",
              "    <tr>\n",
              "      <th>4</th>\n",
              "      <td>datetimeYear</td>\n",
              "      <td>0.010541</td>\n",
              "    </tr>\n",
              "    <tr>\n",
              "      <th>0</th>\n",
              "      <td>datetimeHour</td>\n",
              "      <td>0.007052</td>\n",
              "    </tr>\n",
              "    <tr>\n",
              "      <th>8</th>\n",
              "      <td>weather</td>\n",
              "      <td>0.003813</td>\n",
              "    </tr>\n",
              "    <tr>\n",
              "      <th>6</th>\n",
              "      <td>workingday</td>\n",
              "      <td>0.003513</td>\n",
              "    </tr>\n",
              "  </tbody>\n",
              "</table>\n",
              "</div>"
            ],
            "text/plain": [
              "                 cols       imp\n",
              "7   datetimeDayofyear  0.567100\n",
              "1     datetimeElapsed  0.273541\n",
              "2               atemp  0.045467\n",
              "10             season  0.040753\n",
              "3            humidity  0.024823\n",
              "5   datetimeDayofweek  0.012444\n",
              "9           windspeed  0.010953\n",
              "4        datetimeYear  0.010541\n",
              "0        datetimeHour  0.007052\n",
              "8             weather  0.003813\n",
              "6          workingday  0.003513"
            ]
          },
          "metadata": {
            "tags": []
          },
          "execution_count": 76
        }
      ]
    },
    {
      "cell_type": "code",
      "metadata": {
        "id": "3EDZgx87po3l",
        "outputId": "3c4319ed-9544-43ad-b987-1d2f71e0539f",
        "colab": {
          "base_uri": "https://localhost:8080/"
        }
      },
      "source": [
        "m = rf(xs_final, y)\n",
        "print('orig', m_rmsle(m, valid_xs_final, valid_y))\n",
        "\n",
        "for c in ('datetimeDayofyear','datetimeElapsed','atemp'):\n",
        "    m = rf(xs_final.drop(c,axis=1), y)\n",
        "    print(c, m_rmsle(m, valid_xs_final.drop(c,axis=1), valid_y))"
      ],
      "execution_count": 77,
      "outputs": [
        {
          "output_type": "stream",
          "text": [
            "orig 0.5098673737086222\n",
            "datetimeDayofyear 0.4513123335683874\n",
            "datetimeElapsed 0.46432538948655305\n",
            "atemp 0.47006218924465276\n"
          ],
          "name": "stdout"
        }
      ]
    },
    {
      "cell_type": "markdown",
      "metadata": {
        "id": "t2oGxuKDqGHD"
      },
      "source": [
        "Use a neural newtork!"
      ]
    },
    {
      "cell_type": "code",
      "metadata": {
        "id": "xFNBvP1SqU_x"
      },
      "source": [
        "df_train = pd.read_csv(path/'train.csv', low_memory=False)\n",
        "df_test = pd.read_csv(path/'test.csv', low_memory=False)\n",
        "\n",
        "df_train.drop(columns=['registered','casual'],inplace=True)\n",
        "\n",
        "df_nn = pd.concat([df_train, df_test], axis=0)\n",
        "\n",
        "df_nn = add_datepart(df_nn, 'datetime', time=True)\n",
        "df_nn.drop(columns=['datetimeMinute','datetimeSecond'], inplace=True)\n",
        "\n",
        "df_nn['is_test'] = 0\n",
        "df_nn.loc[ df_nn['count'].isna(), 'is_test' ] = 1\n",
        "\n",
        "df_nn['is_valid'] = 0\n",
        "df_nn.loc[ (df_nn['datetimeDay'] > 13) & (df_nn['is_test']==0), 'is_valid' ] = 1\n",
        "\n",
        "df_nn['season'] = df_nn['season'].astype('category')\n",
        "df_nn['season'].cat.set_categories([1,2,3,4], ordered=True, inplace=True)\n",
        "\n",
        "df_nn['weather'] = df_nn['weather'].astype('category')\n",
        "df_nn['weather'].cat.set_categories([1,2,3,4], ordered=True, inplace=True)"
      ],
      "execution_count": 78,
      "outputs": []
    },
    {
      "cell_type": "code",
      "metadata": {
        "id": "e1AOT90rw6um"
      },
      "source": [
        "df_nn[targetVar] = np.log(df_nn[targetVar]+1)"
      ],
      "execution_count": 79,
      "outputs": []
    },
    {
      "cell_type": "code",
      "metadata": {
        "id": "RZ_lTn5_7NM6"
      },
      "source": [
        "df_input = df_nn[ df_nn['is_test']==0 ].reset_index()\n",
        "cond = df_input['is_valid']==0\n",
        "train_idx = np.where( cond)[0]\n",
        "valid_idx = np.where(~cond)[0]\n",
        "\n",
        "splits = (list(train_idx),list(valid_idx))"
      ],
      "execution_count": 80,
      "outputs": []
    },
    {
      "cell_type": "code",
      "metadata": {
        "id": "oqOf1WC5rV-K"
      },
      "source": [
        "df_nn_final = df_input[list(xs_final.columns) + [targetVar]]"
      ],
      "execution_count": 81,
      "outputs": []
    },
    {
      "cell_type": "code",
      "metadata": {
        "id": "000lFn8xrccG"
      },
      "source": [
        "cont_nn,cat_nn = cont_cat_split(df_nn_final, max_card=9000, dep_var=targetVar)"
      ],
      "execution_count": 82,
      "outputs": []
    },
    {
      "cell_type": "code",
      "metadata": {
        "id": "u5FyGwWvrqLP",
        "outputId": "88487728-a6ba-41a0-ae33-11bc7deb8f69",
        "colab": {
          "base_uri": "https://localhost:8080/"
        }
      },
      "source": [
        "df_nn_final[cat_nn].nunique()"
      ],
      "execution_count": 83,
      "outputs": [
        {
          "output_type": "execute_result",
          "data": {
            "text/plain": [
              "datetimeHour          24\n",
              "humidity              89\n",
              "datetimeYear           2\n",
              "datetimeDayofweek      7\n",
              "workingday             2\n",
              "datetimeDayofyear    238\n",
              "weather                4\n",
              "season                 4\n",
              "dtype: int64"
            ]
          },
          "metadata": {
            "tags": []
          },
          "execution_count": 83
        }
      ]
    },
    {
      "cell_type": "code",
      "metadata": {
        "id": "MCa1e8CWr69H"
      },
      "source": [
        "procs_nn = [Categorify, FillMissing, Normalize]\n",
        "to_nn = TabularPandas(df_nn_final, procs_nn, cat_nn, cont_nn,\n",
        "                      splits=splits, y_names=targetVar)"
      ],
      "execution_count": 84,
      "outputs": []
    },
    {
      "cell_type": "code",
      "metadata": {
        "id": "HKi90wv16YSq",
        "outputId": "341179ed-8f99-4df8-c5e7-e28887804d79",
        "colab": {
          "base_uri": "https://localhost:8080/",
          "height": 379
        }
      },
      "source": [
        "to_nn.show()"
      ],
      "execution_count": 85,
      "outputs": [
        {
          "output_type": "display_data",
          "data": {
            "text/html": [
              "<table border=\"1\" class=\"dataframe\">\n",
              "  <thead>\n",
              "    <tr style=\"text-align: right;\">\n",
              "      <th></th>\n",
              "      <th>datetimeHour</th>\n",
              "      <th>humidity</th>\n",
              "      <th>datetimeYear</th>\n",
              "      <th>datetimeDayofweek</th>\n",
              "      <th>workingday</th>\n",
              "      <th>datetimeDayofyear</th>\n",
              "      <th>weather</th>\n",
              "      <th>season</th>\n",
              "      <th>datetimeElapsed</th>\n",
              "      <th>atemp</th>\n",
              "      <th>windspeed</th>\n",
              "      <th>count</th>\n",
              "    </tr>\n",
              "  </thead>\n",
              "  <tbody>\n",
              "    <tr>\n",
              "      <th>0</th>\n",
              "      <td>0</td>\n",
              "      <td>81</td>\n",
              "      <td>2011</td>\n",
              "      <td>5</td>\n",
              "      <td>0</td>\n",
              "      <td>1</td>\n",
              "      <td>1</td>\n",
              "      <td>1</td>\n",
              "      <td>1.293840e+09</td>\n",
              "      <td>14.395000</td>\n",
              "      <td>0.0000</td>\n",
              "      <td>2.833213</td>\n",
              "    </tr>\n",
              "    <tr>\n",
              "      <th>1</th>\n",
              "      <td>1</td>\n",
              "      <td>80</td>\n",
              "      <td>2011</td>\n",
              "      <td>5</td>\n",
              "      <td>0</td>\n",
              "      <td>1</td>\n",
              "      <td>1</td>\n",
              "      <td>1</td>\n",
              "      <td>1.293844e+09</td>\n",
              "      <td>13.635000</td>\n",
              "      <td>0.0000</td>\n",
              "      <td>3.713572</td>\n",
              "    </tr>\n",
              "    <tr>\n",
              "      <th>2</th>\n",
              "      <td>2</td>\n",
              "      <td>80</td>\n",
              "      <td>2011</td>\n",
              "      <td>5</td>\n",
              "      <td>0</td>\n",
              "      <td>1</td>\n",
              "      <td>1</td>\n",
              "      <td>1</td>\n",
              "      <td>1.293847e+09</td>\n",
              "      <td>13.635000</td>\n",
              "      <td>0.0000</td>\n",
              "      <td>3.496508</td>\n",
              "    </tr>\n",
              "    <tr>\n",
              "      <th>3</th>\n",
              "      <td>3</td>\n",
              "      <td>75</td>\n",
              "      <td>2011</td>\n",
              "      <td>5</td>\n",
              "      <td>0</td>\n",
              "      <td>1</td>\n",
              "      <td>1</td>\n",
              "      <td>1</td>\n",
              "      <td>1.293851e+09</td>\n",
              "      <td>14.395000</td>\n",
              "      <td>0.0000</td>\n",
              "      <td>2.639057</td>\n",
              "    </tr>\n",
              "    <tr>\n",
              "      <th>4</th>\n",
              "      <td>4</td>\n",
              "      <td>75</td>\n",
              "      <td>2011</td>\n",
              "      <td>5</td>\n",
              "      <td>0</td>\n",
              "      <td>1</td>\n",
              "      <td>1</td>\n",
              "      <td>1</td>\n",
              "      <td>1.293854e+09</td>\n",
              "      <td>14.395000</td>\n",
              "      <td>0.0000</td>\n",
              "      <td>0.693147</td>\n",
              "    </tr>\n",
              "    <tr>\n",
              "      <th>5</th>\n",
              "      <td>5</td>\n",
              "      <td>75</td>\n",
              "      <td>2011</td>\n",
              "      <td>5</td>\n",
              "      <td>0</td>\n",
              "      <td>1</td>\n",
              "      <td>2</td>\n",
              "      <td>1</td>\n",
              "      <td>1.293858e+09</td>\n",
              "      <td>12.880000</td>\n",
              "      <td>6.0032</td>\n",
              "      <td>0.693147</td>\n",
              "    </tr>\n",
              "    <tr>\n",
              "      <th>6</th>\n",
              "      <td>6</td>\n",
              "      <td>80</td>\n",
              "      <td>2011</td>\n",
              "      <td>5</td>\n",
              "      <td>0</td>\n",
              "      <td>1</td>\n",
              "      <td>1</td>\n",
              "      <td>1</td>\n",
              "      <td>1.293862e+09</td>\n",
              "      <td>13.635000</td>\n",
              "      <td>0.0000</td>\n",
              "      <td>1.098612</td>\n",
              "    </tr>\n",
              "    <tr>\n",
              "      <th>7</th>\n",
              "      <td>7</td>\n",
              "      <td>86</td>\n",
              "      <td>2011</td>\n",
              "      <td>5</td>\n",
              "      <td>0</td>\n",
              "      <td>1</td>\n",
              "      <td>1</td>\n",
              "      <td>1</td>\n",
              "      <td>1.293865e+09</td>\n",
              "      <td>12.880000</td>\n",
              "      <td>0.0000</td>\n",
              "      <td>1.386294</td>\n",
              "    </tr>\n",
              "    <tr>\n",
              "      <th>8</th>\n",
              "      <td>8</td>\n",
              "      <td>75</td>\n",
              "      <td>2011</td>\n",
              "      <td>5</td>\n",
              "      <td>0</td>\n",
              "      <td>1</td>\n",
              "      <td>1</td>\n",
              "      <td>1</td>\n",
              "      <td>1.293869e+09</td>\n",
              "      <td>14.395000</td>\n",
              "      <td>0.0000</td>\n",
              "      <td>2.197225</td>\n",
              "    </tr>\n",
              "    <tr>\n",
              "      <th>9</th>\n",
              "      <td>9</td>\n",
              "      <td>76</td>\n",
              "      <td>2011</td>\n",
              "      <td>5</td>\n",
              "      <td>0</td>\n",
              "      <td>1</td>\n",
              "      <td>1</td>\n",
              "      <td>1</td>\n",
              "      <td>1.293872e+09</td>\n",
              "      <td>17.424999</td>\n",
              "      <td>0.0000</td>\n",
              "      <td>2.708050</td>\n",
              "    </tr>\n",
              "  </tbody>\n",
              "</table>"
            ],
            "text/plain": [
              "<IPython.core.display.HTML object>"
            ]
          },
          "metadata": {
            "tags": []
          }
        }
      ]
    },
    {
      "cell_type": "code",
      "metadata": {
        "id": "k1TmwoUmsBWf"
      },
      "source": [
        "dls = to_nn.dataloaders(1024)"
      ],
      "execution_count": 86,
      "outputs": []
    },
    {
      "cell_type": "code",
      "metadata": {
        "id": "JVGpBc71sDpD",
        "outputId": "9cf5ad85-91c4-4d64-fbe3-5f0043a5fae0",
        "colab": {
          "base_uri": "https://localhost:8080/"
        }
      },
      "source": [
        "y = to_nn.train.y\n",
        "y.min(),y.max()"
      ],
      "execution_count": 87,
      "outputs": [
        {
          "output_type": "execute_result",
          "data": {
            "text/plain": [
              "(0.6931471824645996, 6.885509490966797)"
            ]
          },
          "metadata": {
            "tags": []
          },
          "execution_count": 87
        }
      ]
    },
    {
      "cell_type": "code",
      "metadata": {
        "id": "Bw63wXJR3f21",
        "outputId": "a58df9d5-e762-4c7b-f424-8b2d38df4301",
        "colab": {
          "base_uri": "https://localhost:8080/"
        }
      },
      "source": [
        "preds = torch.tensor(np.random.uniform(0,7,len(y)))\n",
        "preds.shape"
      ],
      "execution_count": 88,
      "outputs": [
        {
          "output_type": "execute_result",
          "data": {
            "text/plain": [
              "torch.Size([7452])"
            ]
          },
          "metadata": {
            "tags": []
          },
          "execution_count": 88
        }
      ]
    },
    {
      "cell_type": "code",
      "metadata": {
        "id": "PdjTXrQB32DA",
        "outputId": "fa58eb2b-46af-4879-d805-413cd09246f7",
        "colab": {
          "base_uri": "https://localhost:8080/"
        }
      },
      "source": [
        "rmse(preds,torch.tensor(y.values))"
      ],
      "execution_count": 89,
      "outputs": [
        {
          "output_type": "execute_result",
          "data": {
            "text/plain": [
              "TensorBase(2.7091)"
            ]
          },
          "metadata": {
            "tags": []
          },
          "execution_count": 89
        }
      ]
    },
    {
      "cell_type": "code",
      "metadata": {
        "id": "pNhsiTWc_vjs",
        "outputId": "bfd75689-4694-48a9-de55-0a088029fda1",
        "colab": {
          "base_uri": "https://localhost:8080/"
        }
      },
      "source": [
        "torch.sqrt(F.mse_loss(preds,torch.tensor(y.values)))"
      ],
      "execution_count": 93,
      "outputs": [
        {
          "output_type": "execute_result",
          "data": {
            "text/plain": [
              "tensor(2.7091, dtype=torch.float64)"
            ]
          },
          "metadata": {
            "tags": []
          },
          "execution_count": 93
        }
      ]
    },
    {
      "cell_type": "code",
      "metadata": {
        "id": "_YxflvC0_3LT"
      },
      "source": [
        "def myrmse(preds, targs):\n",
        "  return torch.sqrt(F.mse_loss(preds,targs))"
      ],
      "execution_count": 98,
      "outputs": []
    },
    {
      "cell_type": "code",
      "metadata": {
        "id": "jG7aVtiVAQMm",
        "outputId": "397ab07d-4b93-4275-8064-3cc512026b05",
        "colab": {
          "base_uri": "https://localhost:8080/"
        }
      },
      "source": [
        "myrmse(preds, torch.tensor(y.values))"
      ],
      "execution_count": 99,
      "outputs": [
        {
          "output_type": "execute_result",
          "data": {
            "text/plain": [
              "tensor(2.7091, dtype=torch.float64)"
            ]
          },
          "metadata": {
            "tags": []
          },
          "execution_count": 99
        }
      ]
    },
    {
      "cell_type": "code",
      "metadata": {
        "id": "DGFMXWbxsI_3"
      },
      "source": [
        "learn = tabular_learner(dls, y_range=(0,7), layers=[500,250],\n",
        "                        n_out=1, loss_func=myrmse)"
      ],
      "execution_count": 100,
      "outputs": []
    },
    {
      "cell_type": "code",
      "metadata": {
        "id": "DSEJ-UbjsRNZ",
        "outputId": "db45173b-3e3a-4095-d873-7e28a92fae6a",
        "colab": {
          "base_uri": "https://localhost:8080/",
          "height": 300
        }
      },
      "source": [
        "learn.lr_find()"
      ],
      "execution_count": 101,
      "outputs": [
        {
          "output_type": "display_data",
          "data": {
            "text/html": [
              ""
            ],
            "text/plain": [
              "<IPython.core.display.HTML object>"
            ]
          },
          "metadata": {
            "tags": []
          }
        },
        {
          "output_type": "execute_result",
          "data": {
            "text/plain": [
              "SuggestedLRs(lr_min=0.005754399299621582, lr_steep=0.0008317637839354575)"
            ]
          },
          "metadata": {
            "tags": []
          },
          "execution_count": 101
        },
        {
          "output_type": "display_data",
          "data": {
            "image/png": "[encoded data removed]",
            "text/plain": [
              "<Figure size 432x288 with 1 Axes>"
            ]
          },
          "metadata": {
            "tags": [],
            "needs_background": "light"
          }
        }
      ]
    },
    {
      "cell_type": "code",
      "metadata": {
        "id": "y9or5JNfsXR8",
        "outputId": "4ea0beb9-d227-47d2-8ea5-bfc2ed8be1b7",
        "colab": {
          "base_uri": "https://localhost:8080/",
          "height": 204
        }
      },
      "source": [
        "learn.fit_one_cycle(5, 2e-3)"
      ],
      "execution_count": 102,
      "outputs": [
        {
          "output_type": "display_data",
          "data": {
            "text/html": [
              "<table border=\"1\" class=\"dataframe\">\n",
              "  <thead>\n",
              "    <tr style=\"text-align: left;\">\n",
              "      <th>epoch</th>\n",
              "      <th>train_loss</th>\n",
              "      <th>valid_loss</th>\n",
              "      <th>time</th>\n",
              "    </tr>\n",
              "  </thead>\n",
              "  <tbody>\n",
              "    <tr>\n",
              "      <td>0</td>\n",
              "      <td>1.539838</td>\n",
              "      <td>1.730491</td>\n",
              "      <td>00:00</td>\n",
              "    </tr>\n",
              "    <tr>\n",
              "      <td>1</td>\n",
              "      <td>1.103575</td>\n",
              "      <td>1.469885</td>\n",
              "      <td>00:00</td>\n",
              "    </tr>\n",
              "    <tr>\n",
              "      <td>2</td>\n",
              "      <td>0.861155</td>\n",
              "      <td>1.296496</td>\n",
              "      <td>00:00</td>\n",
              "    </tr>\n",
              "    <tr>\n",
              "      <td>3</td>\n",
              "      <td>0.701637</td>\n",
              "      <td>1.273910</td>\n",
              "      <td>00:00</td>\n",
              "    </tr>\n",
              "    <tr>\n",
              "      <td>4</td>\n",
              "      <td>0.594699</td>\n",
              "      <td>1.271471</td>\n",
              "      <td>00:00</td>\n",
              "    </tr>\n",
              "  </tbody>\n",
              "</table>"
            ],
            "text/plain": [
              "<IPython.core.display.HTML object>"
            ]
          },
          "metadata": {
            "tags": []
          }
        }
      ]
    },
    {
      "cell_type": "code",
      "metadata": {
        "id": "1FcllM4hAcTU"
      },
      "source": [
        ""
      ],
      "execution_count": null,
      "outputs": []
    }
  ]
}