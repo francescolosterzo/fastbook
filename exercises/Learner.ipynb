{
  "nbformat": 4,
  "nbformat_minor": 0,
  "metadata": {
    "kernelspec": {
      "display_name": "Python 3",
      "language": "python",
      "name": "python3"
    },
    "language_info": {
      "codemirror_mode": {
        "name": "ipython",
        "version": 3
      },
      "file_extension": ".py",
      "mimetype": "text/x-python",
      "name": "python",
      "nbconvert_exporter": "python",
      "pygments_lexer": "ipython3",
      "version": "3.6.8"
    },
    "colab": {
      "name": "Learner.ipynb",
      "provenance": []
    }
  },
  "cells": [
    {
      "cell_type": "code",
      "metadata": {
        "id": "1mnZYkesbKn1"
      },
      "source": [
        "class Learner:\n",
        "  def __init__(self, dataLoaders, model, optFunc, lossFunc, metricFunc):\n",
        "    self.dataLoaders = dataLoaders\n",
        "    self.model = model\n",
        "    self.optFunc = optFunc\n",
        "    self.lossFunc = lossFunc\n",
        "    self.metricFunc = metricFunc\n",
        "  \n",
        "  def fit(nEpochs, learningRate):\n",
        "\n",
        "    for i in range(nEpochs):\n",
        "\n",
        "      for xb,yb in self.dataLoaders:\n",
        "\n",
        "        ## get predictions and compute the gradient\n",
        "        preds = self.model.predict(xb)\n",
        "        loss = self.lossFunc(preds, yb)\n",
        "        loss.backward()\n",
        "\n",
        "        ## print partial results\n",
        "        print(f'epoch: {i} train loss: {loss}')\n",
        "\n",
        "        ## step\n",
        "        model.parameters().data -= self.learningRate * model.parameters().grad\n",
        "        model.parameters().grad = None"
      ],
      "execution_count": 1,
      "outputs": []
    },
    {
      "cell_type": "code",
      "metadata": {
        "id": "gZw1S8GhfMh_"
      },
      "source": [
        ""
      ],
      "execution_count": null,
      "outputs": []
    }
  ]
}